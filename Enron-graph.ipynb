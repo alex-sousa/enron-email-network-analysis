{
 "cells": [
  {
   "cell_type": "code",
   "execution_count": 1,
   "metadata": {
    "collapsed": true
   },
   "outputs": [],
   "source": [
    "import pandas as pd\n",
    "from matplotlib import pyplot as plt\n",
    "%matplotlib inline"
   ]
  },
  {
   "cell_type": "code",
   "execution_count": 2,
   "metadata": {
    "collapsed": true
   },
   "outputs": [],
   "source": [
    "links = pd.read_csv('email-links-all.csv')"
   ]
  },
  {
   "cell_type": "code",
   "execution_count": 3,
   "metadata": {
    "collapsed": false
   },
   "outputs": [
    {
     "data": {
      "text/plain": [
       "(614586, 3)"
      ]
     },
     "execution_count": 3,
     "metadata": {},
     "output_type": "execute_result"
    }
   ],
   "source": [
    "links.shape"
   ]
  },
  {
   "cell_type": "code",
   "execution_count": 4,
   "metadata": {
    "collapsed": false,
    "scrolled": true
   },
   "outputs": [
    {
     "data": {
      "text/html": [
       "<div>\n",
       "<style scoped>\n",
       "    .dataframe tbody tr th:only-of-type {\n",
       "        vertical-align: middle;\n",
       "    }\n",
       "\n",
       "    .dataframe tbody tr th {\n",
       "        vertical-align: top;\n",
       "    }\n",
       "\n",
       "    .dataframe thead th {\n",
       "        text-align: right;\n",
       "    }\n",
       "</style>\n",
       "<table border=\"1\" class=\"dataframe\">\n",
       "  <thead>\n",
       "    <tr style=\"text-align: right;\">\n",
       "      <th></th>\n",
       "      <th>Date</th>\n",
       "      <th>From</th>\n",
       "      <th>To</th>\n",
       "    </tr>\n",
       "  </thead>\n",
       "  <tbody>\n",
       "    <tr>\n",
       "      <th>0</th>\n",
       "      <td>2001-05-14 23:39:00</td>\n",
       "      <td>phillip.allen@enron.com</td>\n",
       "      <td>tim.belden@enron.com</td>\n",
       "    </tr>\n",
       "    <tr>\n",
       "      <th>1</th>\n",
       "      <td>2001-05-04 20:51:00</td>\n",
       "      <td>phillip.allen@enron.com</td>\n",
       "      <td>john.lavorato@enron.com</td>\n",
       "    </tr>\n",
       "    <tr>\n",
       "      <th>2</th>\n",
       "      <td>2000-10-18 10:00:00</td>\n",
       "      <td>phillip.allen@enron.com</td>\n",
       "      <td>leah.arsdall@enron.com</td>\n",
       "    </tr>\n",
       "    <tr>\n",
       "      <th>3</th>\n",
       "      <td>2000-10-23 13:13:00</td>\n",
       "      <td>phillip.allen@enron.com</td>\n",
       "      <td>randall.gay@enron.com</td>\n",
       "    </tr>\n",
       "    <tr>\n",
       "      <th>4</th>\n",
       "      <td>2000-08-31 12:07:00</td>\n",
       "      <td>phillip.allen@enron.com</td>\n",
       "      <td>greg.piper@enron.com</td>\n",
       "    </tr>\n",
       "  </tbody>\n",
       "</table>\n",
       "</div>"
      ],
      "text/plain": [
       "                  Date                     From                       To\n",
       "0  2001-05-14 23:39:00  phillip.allen@enron.com     tim.belden@enron.com\n",
       "1  2001-05-04 20:51:00  phillip.allen@enron.com  john.lavorato@enron.com\n",
       "2  2000-10-18 10:00:00  phillip.allen@enron.com   leah.arsdall@enron.com\n",
       "3  2000-10-23 13:13:00  phillip.allen@enron.com    randall.gay@enron.com\n",
       "4  2000-08-31 12:07:00  phillip.allen@enron.com     greg.piper@enron.com"
      ]
     },
     "execution_count": 4,
     "metadata": {},
     "output_type": "execute_result"
    }
   ],
   "source": [
    "links.head()"
   ]
  },
  {
   "cell_type": "markdown",
   "metadata": {},
   "source": [
    "Count the number of contact events between emails"
   ]
  },
  {
   "cell_type": "code",
   "execution_count": 5,
   "metadata": {
    "collapsed": false
   },
   "outputs": [],
   "source": [
    "weight_counts = links.groupby(['From', 'To']).size().reset_index(name = 'Count')\n",
    "weight_counts.to_csv('weighted_links.csv', index=False)"
   ]
  },
  {
   "cell_type": "code",
   "execution_count": 6,
   "metadata": {
    "collapsed": false
   },
   "outputs": [
    {
     "data": {
      "text/plain": [
       "(83777, 3)"
      ]
     },
     "execution_count": 6,
     "metadata": {},
     "output_type": "execute_result"
    }
   ],
   "source": [
    "weight_counts.shape"
   ]
  },
  {
   "cell_type": "code",
   "execution_count": 7,
   "metadata": {
    "collapsed": false
   },
   "outputs": [
    {
     "data": {
      "text/html": [
       "<div>\n",
       "<style scoped>\n",
       "    .dataframe tbody tr th:only-of-type {\n",
       "        vertical-align: middle;\n",
       "    }\n",
       "\n",
       "    .dataframe tbody tr th {\n",
       "        vertical-align: top;\n",
       "    }\n",
       "\n",
       "    .dataframe thead th {\n",
       "        text-align: right;\n",
       "    }\n",
       "</style>\n",
       "<table border=\"1\" class=\"dataframe\">\n",
       "  <thead>\n",
       "    <tr style=\"text-align: right;\">\n",
       "      <th></th>\n",
       "      <th>From</th>\n",
       "      <th>To</th>\n",
       "      <th>Count</th>\n",
       "    </tr>\n",
       "  </thead>\n",
       "  <tbody>\n",
       "    <tr>\n",
       "      <th>0</th>\n",
       "      <td>101qi@msn.com</td>\n",
       "      <td>enlvwvz@msn.com</td>\n",
       "      <td>1</td>\n",
       "    </tr>\n",
       "    <tr>\n",
       "      <th>39637</th>\n",
       "      <td>karen.snow@enron.com</td>\n",
       "      <td>karen.snow@enron.com</td>\n",
       "      <td>1</td>\n",
       "    </tr>\n",
       "    <tr>\n",
       "      <th>39639</th>\n",
       "      <td>karen.snow@enron.com</td>\n",
       "      <td>victor.lamadrid@enron.com</td>\n",
       "      <td>1</td>\n",
       "    </tr>\n",
       "    <tr>\n",
       "      <th>39647</th>\n",
       "      <td>karen.white@csfb.com</td>\n",
       "      <td>klay@enron.com</td>\n",
       "      <td>1</td>\n",
       "    </tr>\n",
       "    <tr>\n",
       "      <th>39648</th>\n",
       "      <td>karen@mpenner.com</td>\n",
       "      <td>jarnold@enron.com</td>\n",
       "      <td>1</td>\n",
       "    </tr>\n",
       "  </tbody>\n",
       "</table>\n",
       "</div>"
      ],
      "text/plain": [
       "                       From                         To  Count\n",
       "0             101qi@msn.com            enlvwvz@msn.com      1\n",
       "39637  karen.snow@enron.com       karen.snow@enron.com      1\n",
       "39639  karen.snow@enron.com  victor.lamadrid@enron.com      1\n",
       "39647  karen.white@csfb.com             klay@enron.com      1\n",
       "39648     karen@mpenner.com          jarnold@enron.com      1"
      ]
     },
     "execution_count": 7,
     "metadata": {},
     "output_type": "execute_result"
    }
   ],
   "source": [
    "weight_counts.sort_values('Count').head()"
   ]
  },
  {
   "cell_type": "code",
   "execution_count": 8,
   "metadata": {
    "collapsed": false
   },
   "outputs": [],
   "source": [
    "thresholded = weight_counts.loc[weight_counts['Count'] > 10]"
   ]
  },
  {
   "cell_type": "code",
   "execution_count": 9,
   "metadata": {
    "collapsed": false
   },
   "outputs": [
    {
     "data": {
      "image/png": "[encoded data removed]",
      "text/plain": [
       "<matplotlib.figure.Figure at 0x7feb82548490>"
      ]
     },
     "metadata": {},
     "output_type": "display_data"
    }
   ],
   "source": [
    "fig, ax = plt.subplots()\n",
    "thresholded.hist(ax=ax, column='Count', bins=1000)\n",
    "ax.set_xscale('log')\n",
    "ax.set_yscale('log')"
   ]
  },
  {
   "cell_type": "markdown",
   "metadata": {},
   "source": [
    "Count From messages per email"
   ]
  },
  {
   "cell_type": "code",
   "execution_count": 10,
   "metadata": {
    "collapsed": false
   },
   "outputs": [
    {
     "data": {
      "text/plain": [
       "(12661, 2)"
      ]
     },
     "execution_count": 10,
     "metadata": {},
     "output_type": "execute_result"
    }
   ],
   "source": [
    "from_counts = links.groupby(['From']).size().reset_index(name = 'CountFrom')\n",
    "from_counts.sort_values('CountFrom').shape"
   ]
  },
  {
   "cell_type": "code",
   "execution_count": 11,
   "metadata": {
    "collapsed": false
   },
   "outputs": [
    {
     "data": {
      "text/plain": [
       "12661"
      ]
     },
     "execution_count": 11,
     "metadata": {},
     "output_type": "execute_result"
    }
   ],
   "source": [
    "from_spikes = links.groupby('From')['Date'].apply(list)\n",
    "from_spikes.size"
   ]
  },
  {
   "cell_type": "code",
   "execution_count": 12,
   "metadata": {
    "collapsed": false
   },
   "outputs": [
    {
     "data": {
      "text/plain": [
       "6601"
      ]
     },
     "execution_count": 12,
     "metadata": {},
     "output_type": "execute_result"
    }
   ],
   "source": [
    "from_spikes = from_spikes[from_spikes.str.len() > 3]\n",
    "from_spikes.size"
   ]
  },
  {
   "cell_type": "code",
   "execution_count": 13,
   "metadata": {
    "collapsed": false
   },
   "outputs": [
    {
     "data": {
      "text/plain": [
       "From\n",
       "1800flowers@shop2u.com                         [2000-11-21 01:21:00, 2000-11-21 01:21:00, 200...\n",
       "2000greetings@postalmanager.com                [2002-01-08 18:25:48, 2002-01-22 17:53:03, 200...\n",
       "2740741@skytel.com                             [2000-09-06 15:34:00, 2000-09-06 16:33:00, 200...\n",
       "40ees@enron.com                                [2001-10-05 18:45:16, 2001-10-05 18:45:16, 200...\n",
       "40enron@enron.com                              [2001-06-06 18:08:58, 2001-05-03 19:48:48, 200...\n",
       "7409949@skytel.com                             [2001-06-26 17:07:00, 2001-07-18 21:04:00, 200...\n",
       "7409950@skytel.com                             [2001-11-25 20:17:03, 2001-11-25 20:22:26, 200...\n",
       "8774754543@skytel.com                          [2001-11-17 17:51:21, 2002-01-17 15:34:43, 200...\n",
       "8777865122@skytel.com                          [2002-01-10 19:10:59, 2002-01-10 19:00:10, 200...\n",
       "9069761@skytel.com                             [2001-07-18 20:20:00, 2000-11-07 13:47:00, 200...\n",
       "9069876@skytel.com                             [2001-05-15 13:51:00, 2001-05-22 11:25:00, 200...\n",
       "Alan.Comnes@enron.com                          [2000-12-12 12:41:00, 2000-12-12 13:14:00, 200...\n",
       "Amy_Pittman@timeinc.com                        [2000-10-27 08:51:00, 2000-10-27 08:51:00, 200...\n",
       "BEARBennett1@aol.com                           [2001-11-10 06:08:05, 2001-11-10 06:08:05, 200...\n",
       "Benjamin.Rogers@enron.com                      [2000-03-07 20:04:00, 2000-03-06 12:03:00, 200...\n",
       "Betsy.Carr@dynegy.com                          [2001-08-21 22:46:29, 2001-08-21 22:46:29, 200...\n",
       "Bill.Williams@enron.com                        [2001-04-26 17:09:00, 2001-04-26 17:09:00, 200...\n",
       "Bill@bkspeaks.com                              [2001-10-26 18:40:59, 2001-10-19 14:27:37, 200...\n",
       "Bmspeckman@aol.com                             [2000-06-21 05:45:00, 2000-06-21 05:45:00, 200...\n",
       "CRAWFNE@kellyservices.com                      [2001-04-20 12:44:00, 2001-04-20 12:44:00, 200...\n",
       "Case.Admin@sce.com                             [2001-09-10 21:26:51, 2001-09-10 21:26:51, 200...\n",
       "Chris.Germany@enron.com                        [2000-09-05 19:44:00, 2000-08-30 13:23:00, 200...\n",
       "Clint.Dean@enron.com                           [2000-08-29 09:55:00, 2000-10-12 07:18:00, 200...\n",
       "CoganJA@aol.com                                [2001-10-18 16:56:48, 2001-09-24 19:05:38, 200...\n",
       "Dale.Rasmussen@enron.com                       [2001-03-12 17:17:00, 2001-03-12 17:17:00, 200...\n",
       "Dana.Davis@enron.com                           [2000-11-30 13:04:00, 2000-10-17 11:42:00, 200...\n",
       "David_Trice@westsidelexus.com                  [2001-11-19 13:58:32, 2001-11-19 13:58:32, 200...\n",
       "Deborah.Fiorito@dynegy.com                     [2001-11-26 11:57:06, 2001-11-26 11:57:06, 200...\n",
       "Don.Baughman@enron.com                         [2001-03-26 14:32:00, 2001-03-26 14:32:00, 200...\n",
       "Drew.Fossum@enron.com                          [2000-11-22 09:47:00, 2000-11-30 08:33:00, 200...\n",
       "                                                                     ...                        \n",
       "ygoldfeder@swidlaw.com                         [2000-07-28 18:22:00, 2000-07-28 18:22:00, 200...\n",
       "ying.liu@enron.com                             [2000-11-30 10:34:00, 2001-01-31 12:08:00, 200...\n",
       "yolanda.ford@enron.com                         [2000-10-25 17:01:00, 2000-10-25 17:01:00, 200...\n",
       "yolanda.pena@enron.com                         [2000-10-25 08:46:00, 2000-10-25 08:46:00, 200...\n",
       "yolanda.roberts@enron.com                      [2000-09-08 13:07:00, 2000-09-13 08:56:00, 200...\n",
       "youyi.feng@enron.com                           [2001-01-12 09:28:00, 2000-09-08 17:18:00, 200...\n",
       "ypoforumsurvey@ypoforumdiagnosticsurvey.com    [2001-08-20 15:29:51, 2001-09-26 05:10:29, 200...\n",
       "yuan.tian@enron.com                            [2001-12-12 00:09:07, 2001-12-12 00:09:07, 200...\n",
       "yumi.takei@enron.com                           [2000-12-11 10:25:00, 2000-12-11 10:25:00, 200...\n",
       "yvan.chaxel@enron.com                          [2000-05-10 09:00:00, 2000-04-04 14:34:00, 200...\n",
       "yvette.connevey@enron.com                      [2000-08-16 10:08:00, 2000-08-02 15:16:00, 200...\n",
       "yvette.parker@enron.com                        [2000-09-20 11:08:00, 2000-09-20 11:08:00, 200...\n",
       "yvonne.acosta@enron.com                        [2000-03-23 15:37:00, 2000-03-23 15:37:00, 200...\n",
       "yxg4@pge.com                                   [2000-05-05 16:05:00, 2000-05-05 16:05:00, 200...\n",
       "zachary.mccarroll@enron.com                    [2001-11-20 19:52:33, 2002-01-02 21:11:37, 200...\n",
       "zaeza@unplace.com                              [2001-10-20 15:42:56, 2002-01-23 18:52:13, 200...\n",
       "zakia.mcclure@enron.com                        [2001-11-30 20:56:40, 2001-11-30 20:56:40, 200...\n",
       "zakiyyah.mcclure@enron.com                     [2001-10-18 20:39:29, 2001-10-18 20:39:29, 200...\n",
       "zangeles@sempra.com                            [2000-09-06 17:27:00, 2000-09-06 17:27:00, 200...\n",
       "zarin.imam@enron.com                           [2001-06-25 21:50:02, 2001-06-13 18:47:10, 200...\n",
       "zelda.paschal@enron.com                        [2001-10-26 19:31:36, 2001-10-26 19:31:36, 200...\n",
       "zhiyong.wei@enron.com                          [2001-02-06 15:22:00, 2001-02-06 15:22:00, 200...\n",
       "zhiyun.yang@enron.com                          [2001-10-08 18:54:13, 2001-10-08 18:54:13, 200...\n",
       "zimin.lu@enron.com                             [2001-04-17 13:22:00, 2001-05-03 16:18:00, 200...\n",
       "zimmerman@enron.com                            [2001-06-04 19:36:45, 2001-06-04 19:36:45, 200...\n",
       "zionette.vincent@enron.com                     [2001-04-30 13:01:00, 2001-05-11 13:34:00, 200...\n",
       "zipper@enron.com                               [2001-06-04 14:26:30, 2001-05-25 18:26:49, 200...\n",
       "zistlerf@wallacegarcia.com                     [2002-02-12 19:26:35, 2002-03-01 15:34:11, 200...\n",
       "zulie.flores@enron.com                         [2001-11-19 23:11:20, 2001-11-19 23:11:20, 200...\n",
       "zwharton@dawray.com                            [2000-11-09 10:51:00, 2000-10-17 09:47:00, 200...\n",
       "Name: Date, Length: 6601, dtype: object"
      ]
     },
     "execution_count": 13,
     "metadata": {},
     "output_type": "execute_result"
    }
   ],
   "source": [
    "from_spikes"
   ]
  },
  {
   "cell_type": "code",
   "execution_count": null,
   "metadata": {
    "collapsed": true
   },
   "outputs": [],
   "source": []
  }
 ],
 "metadata": {
  "kernelspec": {
   "display_name": "Python 2",
   "language": "python",
   "name": "python2"
  },
  "language_info": {
   "codemirror_mode": {
    "name": "ipython",
    "version": 2
   },
   "file_extension": ".py",
   "mimetype": "text/x-python",
   "name": "python",
   "nbconvert_exporter": "python",
   "pygments_lexer": "ipython2",
   "version": "2.7.15rc1"
  }
 },
 "nbformat": 4,
 "nbformat_minor": 1
}
