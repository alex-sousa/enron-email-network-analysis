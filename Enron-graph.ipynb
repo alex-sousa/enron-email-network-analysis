{
 "cells": [
  {
   "cell_type": "code",
   "execution_count": 1,
   "metadata": {
    "collapsed": true
   },
   "outputs": [],
   "source": [
    "import pandas as pd\n",
    "from matplotlib import pyplot as plt\n",
    "from datetime import datetime\n",
    "import numpy as np\n",
    "# %matplotlib inline"
   ]
  },
  {
   "cell_type": "code",
   "execution_count": 2,
   "metadata": {
    "collapsed": false
   },
   "outputs": [
    {
     "name": "stdout",
     "output_type": "stream",
     "text": [
      "[u'seaborn-darkgrid', u'seaborn-notebook', u'classic', u'seaborn-ticks', u'grayscale', u'bmh', u'seaborn-talk', u'dark_background', u'ggplot', u'fivethirtyeight', u'seaborn-colorblind', u'seaborn-deep', u'seaborn-whitegrid', u'seaborn-bright', u'seaborn-poster', u'seaborn-muted', u'seaborn-paper', u'seaborn-white', u'seaborn-pastel', u'seaborn-dark', u'seaborn-dark-palette']\n"
     ]
    }
   ],
   "source": [
    " print(plt.style.available)"
   ]
  },
  {
   "cell_type": "code",
   "execution_count": 3,
   "metadata": {
    "collapsed": true
   },
   "outputs": [],
   "source": [
    "# plt.style.use(['dark_background', 'seaborn-talk'])\n",
    "# plt.style.use(['fivethirtyeight'])"
   ]
  },
  {
   "cell_type": "code",
   "execution_count": 4,
   "metadata": {
    "collapsed": true
   },
   "outputs": [],
   "source": [
    "links = pd.read_csv('email-links-all.csv')"
   ]
  },
  {
   "cell_type": "code",
   "execution_count": 5,
   "metadata": {
    "collapsed": false
   },
   "outputs": [
    {
     "data": {
      "text/plain": [
       "(614586, 3)"
      ]
     },
     "execution_count": 5,
     "metadata": {},
     "output_type": "execute_result"
    }
   ],
   "source": [
    "links.shape"
   ]
  },
  {
   "cell_type": "code",
   "execution_count": 6,
   "metadata": {
    "collapsed": false
   },
   "outputs": [
    {
     "name": "stderr",
     "output_type": "stream",
     "text": [
      "/usr/local/lib/python2.7/dist-packages/ipykernel/__main__.py:1: UserWarning: Boolean Series key will be reindexed to match DataFrame index.\n",
      "  if __name__ == '__main__':\n"
     ]
    }
   ],
   "source": [
    "links = links[links.Date > '1999-01-01 00:00:00'][links.Date < '2002-7-31 00:00:00']"
   ]
  },
  {
   "cell_type": "code",
   "execution_count": 7,
   "metadata": {
    "collapsed": false,
    "scrolled": true
   },
   "outputs": [
    {
     "data": {
      "text/html": [
       "<div>\n",
       "<style scoped>\n",
       "    .dataframe tbody tr th:only-of-type {\n",
       "        vertical-align: middle;\n",
       "    }\n",
       "\n",
       "    .dataframe tbody tr th {\n",
       "        vertical-align: top;\n",
       "    }\n",
       "\n",
       "    .dataframe thead th {\n",
       "        text-align: right;\n",
       "    }\n",
       "</style>\n",
       "<table border=\"1\" class=\"dataframe\">\n",
       "  <thead>\n",
       "    <tr style=\"text-align: right;\">\n",
       "      <th></th>\n",
       "      <th>Date</th>\n",
       "      <th>From</th>\n",
       "      <th>To</th>\n",
       "    </tr>\n",
       "  </thead>\n",
       "  <tbody>\n",
       "    <tr>\n",
       "      <th>0</th>\n",
       "      <td>2001-05-14 23:39:00</td>\n",
       "      <td>phillip.allen@enron.com</td>\n",
       "      <td>tim.belden@enron.com</td>\n",
       "    </tr>\n",
       "    <tr>\n",
       "      <th>1</th>\n",
       "      <td>2001-05-04 20:51:00</td>\n",
       "      <td>phillip.allen@enron.com</td>\n",
       "      <td>john.lavorato@enron.com</td>\n",
       "    </tr>\n",
       "    <tr>\n",
       "      <th>2</th>\n",
       "      <td>2000-10-18 10:00:00</td>\n",
       "      <td>phillip.allen@enron.com</td>\n",
       "      <td>leah.arsdall@enron.com</td>\n",
       "    </tr>\n",
       "    <tr>\n",
       "      <th>3</th>\n",
       "      <td>2000-10-23 13:13:00</td>\n",
       "      <td>phillip.allen@enron.com</td>\n",
       "      <td>randall.gay@enron.com</td>\n",
       "    </tr>\n",
       "    <tr>\n",
       "      <th>4</th>\n",
       "      <td>2000-08-31 12:07:00</td>\n",
       "      <td>phillip.allen@enron.com</td>\n",
       "      <td>greg.piper@enron.com</td>\n",
       "    </tr>\n",
       "  </tbody>\n",
       "</table>\n",
       "</div>"
      ],
      "text/plain": [
       "                  Date                     From                       To\n",
       "0  2001-05-14 23:39:00  phillip.allen@enron.com     tim.belden@enron.com\n",
       "1  2001-05-04 20:51:00  phillip.allen@enron.com  john.lavorato@enron.com\n",
       "2  2000-10-18 10:00:00  phillip.allen@enron.com   leah.arsdall@enron.com\n",
       "3  2000-10-23 13:13:00  phillip.allen@enron.com    randall.gay@enron.com\n",
       "4  2000-08-31 12:07:00  phillip.allen@enron.com     greg.piper@enron.com"
      ]
     },
     "execution_count": 7,
     "metadata": {},
     "output_type": "execute_result"
    }
   ],
   "source": [
    "links.head()"
   ]
  },
  {
   "cell_type": "markdown",
   "metadata": {},
   "source": [
    "Count the number of contact events between emails. Here, we consider the number of interactions as weights."
   ]
  },
  {
   "cell_type": "code",
   "execution_count": 8,
   "metadata": {
    "collapsed": false
   },
   "outputs": [],
   "source": [
    "weight_counts = links.groupby(['From', 'To']).size().reset_index(name = 'Count')\n",
    "# weight_counts.to_csv('weighted_links.csv', index=False)"
   ]
  },
  {
   "cell_type": "code",
   "execution_count": 9,
   "metadata": {
    "collapsed": false,
    "scrolled": true
   },
   "outputs": [
    {
     "data": {
      "text/plain": [
       "(83679, 3)"
      ]
     },
     "execution_count": 9,
     "metadata": {},
     "output_type": "execute_result"
    }
   ],
   "source": [
    "weight_counts.shape"
   ]
  },
  {
   "cell_type": "code",
   "execution_count": 10,
   "metadata": {
    "collapsed": false
   },
   "outputs": [
    {
     "data": {
      "text/html": [
       "<div>\n",
       "<style scoped>\n",
       "    .dataframe tbody tr th:only-of-type {\n",
       "        vertical-align: middle;\n",
       "    }\n",
       "\n",
       "    .dataframe tbody tr th {\n",
       "        vertical-align: top;\n",
       "    }\n",
       "\n",
       "    .dataframe thead th {\n",
       "        text-align: right;\n",
       "    }\n",
       "</style>\n",
       "<table border=\"1\" class=\"dataframe\">\n",
       "  <thead>\n",
       "    <tr style=\"text-align: right;\">\n",
       "      <th></th>\n",
       "      <th>From</th>\n",
       "      <th>To</th>\n",
       "      <th>Count</th>\n",
       "    </tr>\n",
       "  </thead>\n",
       "  <tbody>\n",
       "    <tr>\n",
       "      <th>0</th>\n",
       "      <td>101qi@msn.com</td>\n",
       "      <td>enlvwvz@msn.com</td>\n",
       "      <td>1</td>\n",
       "    </tr>\n",
       "    <tr>\n",
       "      <th>39592</th>\n",
       "      <td>karen@mpenner.com</td>\n",
       "      <td>kenneth.lay@enron.com</td>\n",
       "      <td>1</td>\n",
       "    </tr>\n",
       "    <tr>\n",
       "      <th>39601</th>\n",
       "      <td>kari.oquinn@enron.com</td>\n",
       "      <td>amy.fitzpatrick@enron.com</td>\n",
       "      <td>1</td>\n",
       "    </tr>\n",
       "    <tr>\n",
       "      <th>39602</th>\n",
       "      <td>kari.oquinn@enron.com</td>\n",
       "      <td>david.oxley@enron.com</td>\n",
       "      <td>1</td>\n",
       "    </tr>\n",
       "    <tr>\n",
       "      <th>39603</th>\n",
       "      <td>kari.oquinn@enron.com</td>\n",
       "      <td>jeanie.slone@enron.com</td>\n",
       "      <td>1</td>\n",
       "    </tr>\n",
       "  </tbody>\n",
       "</table>\n",
       "</div>"
      ],
      "text/plain": [
       "                        From                         To  Count\n",
       "0              101qi@msn.com            enlvwvz@msn.com      1\n",
       "39592      karen@mpenner.com      kenneth.lay@enron.com      1\n",
       "39601  kari.oquinn@enron.com  amy.fitzpatrick@enron.com      1\n",
       "39602  kari.oquinn@enron.com      david.oxley@enron.com      1\n",
       "39603  kari.oquinn@enron.com     jeanie.slone@enron.com      1"
      ]
     },
     "execution_count": 10,
     "metadata": {},
     "output_type": "execute_result"
    }
   ],
   "source": [
    "weight_counts.sort_values('Count').head()"
   ]
  },
  {
   "cell_type": "code",
   "execution_count": 11,
   "metadata": {
    "collapsed": false
   },
   "outputs": [],
   "source": [
    "thresholded_weight_counts = weight_counts.loc[weight_counts['Count'] > 10]"
   ]
  },
  {
   "cell_type": "code",
   "execution_count": 12,
   "metadata": {
    "collapsed": false
   },
   "outputs": [],
   "source": [
    "# fig, ax = plt.subplots()\n",
    "# thresholded_weight_counts.hist(ax=ax, column='Count', bins=1000)\n",
    "# ax.set_xscale('log')\n",
    "# ax.set_yscale('log')"
   ]
  },
  {
   "cell_type": "markdown",
   "metadata": {},
   "source": [
    "Count From messages per email"
   ]
  },
  {
   "cell_type": "code",
   "execution_count": 13,
   "metadata": {
    "collapsed": false
   },
   "outputs": [
    {
     "data": {
      "text/plain": [
       "(12641, 2)"
      ]
     },
     "execution_count": 13,
     "metadata": {},
     "output_type": "execute_result"
    }
   ],
   "source": [
    "from_counts = links.groupby(['From']).size().reset_index(name = 'CountFrom')\n",
    "from_counts.sort_values('CountFrom').shape"
   ]
  },
  {
   "cell_type": "markdown",
   "metadata": {},
   "source": [
    "Get timestamps for each From email"
   ]
  },
  {
   "cell_type": "code",
   "execution_count": 14,
   "metadata": {
    "collapsed": false
   },
   "outputs": [
    {
     "data": {
      "text/plain": [
       "12641"
      ]
     },
     "execution_count": 14,
     "metadata": {},
     "output_type": "execute_result"
    }
   ],
   "source": [
    "from_spikes = links.groupby('From')['Date'].apply(list)\n",
    "from_spikes.size"
   ]
  },
  {
   "cell_type": "markdown",
   "metadata": {},
   "source": [
    "Threshold. Discard emails that are note active"
   ]
  },
  {
   "cell_type": "code",
   "execution_count": 15,
   "metadata": {
    "collapsed": false
   },
   "outputs": [
    {
     "data": {
      "text/plain": [
       "6600"
      ]
     },
     "execution_count": 15,
     "metadata": {},
     "output_type": "execute_result"
    }
   ],
   "source": [
    "from_spikes = from_spikes[from_spikes.str.len() > 3]\n",
    "from_spikes.size"
   ]
  },
  {
   "cell_type": "code",
   "execution_count": 16,
   "metadata": {
    "collapsed": false
   },
   "outputs": [
    {
     "data": {
      "text/plain": [
       "From\n",
       "1800flowers@shop2u.com             [2000-11-21 01:21:00, 2000-11-21 01:21:00, 200...\n",
       "2000greetings@postalmanager.com    [2002-01-08 18:25:48, 2002-01-22 17:53:03, 200...\n",
       "2740741@skytel.com                 [2000-09-06 15:34:00, 2000-09-06 16:33:00, 200...\n",
       "40ees@enron.com                    [2001-10-05 18:45:16, 2001-10-05 18:45:16, 200...\n",
       "40enron@enron.com                  [2001-06-06 18:08:58, 2001-05-03 19:48:48, 200...\n",
       "7409949@skytel.com                 [2001-06-26 17:07:00, 2001-07-18 21:04:00, 200...\n",
       "7409950@skytel.com                 [2001-11-25 20:17:03, 2001-11-25 20:22:26, 200...\n",
       "8774754543@skytel.com              [2001-11-17 17:51:21, 2002-01-17 15:34:43, 200...\n",
       "8777865122@skytel.com              [2002-01-10 19:10:59, 2002-01-10 19:00:10, 200...\n",
       "9069761@skytel.com                 [2001-07-18 20:20:00, 2000-11-07 13:47:00, 200...\n",
       "Name: Date, dtype: object"
      ]
     },
     "execution_count": 16,
     "metadata": {},
     "output_type": "execute_result"
    }
   ],
   "source": [
    "from_spikes[:10]"
   ]
  },
  {
   "cell_type": "markdown",
   "metadata": {},
   "source": [
    "Timerange in the dataset"
   ]
  },
  {
   "cell_type": "code",
   "execution_count": 17,
   "metadata": {
    "collapsed": false
   },
   "outputs": [
    {
     "data": {
      "text/plain": [
       "166219"
      ]
     },
     "execution_count": 17,
     "metadata": {},
     "output_type": "execute_result"
    }
   ],
   "source": [
    "timestamps = list(set(links.Date.tolist()))\n",
    "timestamps = [datetime.strptime(date, '%Y-%m-%d %H:%M:%S') for date in timestamps]\n",
    "len(timestamps)"
   ]
  },
  {
   "cell_type": "code",
   "execution_count": 18,
   "metadata": {
    "collapsed": false
   },
   "outputs": [],
   "source": [
    "#extract the earliest and the latest dates in the dataset\n",
    "start_time = min(timestamps)\n",
    "end_time = max(timestamps)"
   ]
  },
  {
   "cell_type": "code",
   "execution_count": 19,
   "metadata": {
    "collapsed": false
   },
   "outputs": [
    {
     "data": {
      "text/plain": [
       "'04 Jan 1999'"
      ]
     },
     "execution_count": 19,
     "metadata": {},
     "output_type": "execute_result"
    }
   ],
   "source": [
    "start_time.strftime(\"%d %b %Y\")"
   ]
  },
  {
   "cell_type": "code",
   "execution_count": 20,
   "metadata": {
    "collapsed": false
   },
   "outputs": [
    {
     "data": {
      "text/plain": [
       "'21 Dec 2002'"
      ]
     },
     "execution_count": 20,
     "metadata": {},
     "output_type": "execute_result"
    }
   ],
   "source": [
    "end_time.strftime(\"%d %b %Y\")"
   ]
  },
  {
   "cell_type": "markdown",
   "metadata": {},
   "source": [
    "Extracting spikes"
   ]
  },
  {
   "cell_type": "code",
   "execution_count": 21,
   "metadata": {
    "collapsed": false,
    "scrolled": false
   },
   "outputs": [],
   "source": [
    "#visualize timeline. Assign random number to each timestamp\n",
    "# n = 10\n",
    "# # for label, time in zip(from_spikes.keys[:n], from_spikes.values[:n]):\n",
    "# for label, time in from_spikes[:].iteritems():\n",
    "#     unique_elements, counts_elements = np.unique(time, return_counts=True)\n",
    "# #     time = list(set(time))\n",
    "#     time = unique_elements\n",
    "#     plt.plot_date(time, counts_elements)\n",
    "#     plt.legend()"
   ]
  },
  {
   "cell_type": "code",
   "execution_count": 22,
   "metadata": {
    "collapsed": false
   },
   "outputs": [
    {
     "name": "stdout",
     "output_type": "stream",
     "text": [
      "(1448,)\n"
     ]
    }
   ],
   "source": [
    "activations = pd.DataFrame(columns=['address', 'activations'])\n",
    "activations_series = pd.Series()\n",
    "i = 0\n",
    "for label, time in from_spikes[:].iteritems():\n",
    "    unique_elements, counts_elements = np.unique(time, return_counts=True)\n",
    "    counts_elements = np.append(counts_elements, 0)\n",
    "    counts_elements = np.insert(counts_elements, 0, 0)\n",
    "    unique_elements = np.append(unique_elements, end_time)\n",
    "    unique_elements = np.insert(unique_elements, 0, start_time)\n",
    "    d = {'Counts': counts_elements}\n",
    "    df = pd.DataFrame(data = d, index = pd.to_datetime(unique_elements))\n",
    "    df = df.Counts.resample('D').sum()\n",
    "    t = df.values.shape\n",
    "    vals = {k:x for k,x in enumerate(df.values) if x != 0}\n",
    "    activations.loc[i] = [label, vals]\n",
    "    activations_series[label] = vals\n",
    "    i += 1\n",
    "print(t) # length of a time-series"
   ]
  },
  {
   "cell_type": "code",
   "execution_count": 23,
   "metadata": {
    "collapsed": true
   },
   "outputs": [],
   "source": [
    "dates = list(df.keys())"
   ]
  },
  {
   "cell_type": "code",
   "execution_count": 24,
   "metadata": {
    "collapsed": false,
    "scrolled": false
   },
   "outputs": [],
   "source": [
    "#December\n",
    "\n",
    "# series = activations_series[6056]\n",
    "# zeros = np.zeros(t[0])\n",
    "\n",
    "# for k,v in series.iteritems():\n",
    "#     zeros[k] = v\n",
    "\n",
    "# # plt.bar(list(df.keys())[359 + 365 - 31 : 359 + 365], zeros[359 + 365 - 31 : 359 + 365])\n",
    "# plt.bar(dates, zeros)\n",
    "# plt.axvline(x= '1999-12-01 00:00:00', color='r', linewidth=1)\n",
    "# plt.axvline(x= '1999-12-31 00:00:00', color='r', linewidth=1)"
   ]
  },
  {
   "cell_type": "code",
   "execution_count": 25,
   "metadata": {
    "collapsed": false
   },
   "outputs": [],
   "source": [
    "#August\n",
    "\n",
    "# series = activations_series[2720]\n",
    "# zeros = np.zeros(t[0])\n",
    "\n",
    "# for k,v in series.iteritems():\n",
    "#     zeros[k] = v\n",
    "\n",
    "# # plt.bar(list(df.keys())[359 + 365 + 366 + 213 : 359 + 365 + 366 + 244], zeros[359 + 365 + 366 + 213 : 359 + 365 + 366 + 244])\n",
    "# plt.bar(dates, zeros)\n",
    "# plt.axvline(x= '2001-08-01 00:00:00', color='r', linewidth=1)\n",
    "# plt.axvline(x= '2001-08-31 00:00:00', color='r', linewidth=1)"
   ]
  },
  {
   "cell_type": "code",
   "execution_count": 26,
   "metadata": {
    "collapsed": false
   },
   "outputs": [],
   "source": [
    "summary_all = np.zeros(t[0])\n",
    "for series in activations_series:\n",
    "    for k,v in series.items():\n",
    "        summary_all[k] += v"
   ]
  },
  {
   "cell_type": "code",
   "execution_count": 27,
   "metadata": {
    "collapsed": false
   },
   "outputs": [],
   "source": [
    "# plt.plot(dates, summary_all)"
   ]
  },
  {
   "cell_type": "code",
   "execution_count": 28,
   "metadata": {
    "collapsed": false
   },
   "outputs": [],
   "source": [
    "# activations_series.to_csv('activations-enron.csv')"
   ]
  },
  {
   "cell_type": "code",
   "execution_count": 29,
   "metadata": {
    "collapsed": false
   },
   "outputs": [],
   "source": [
    "emails_activated = list(activations_series.index)"
   ]
  },
  {
   "cell_type": "code",
   "execution_count": 30,
   "metadata": {
    "collapsed": false
   },
   "outputs": [],
   "source": [
    "weight_counts = weight_counts[weight_counts.From.isin(emails_activated)]"
   ]
  },
  {
   "cell_type": "code",
   "execution_count": 31,
   "metadata": {
    "collapsed": false
   },
   "outputs": [],
   "source": [
    "weight_counts = weight_counts[weight_counts.To.isin(emails_activated)]"
   ]
  },
  {
   "cell_type": "code",
   "execution_count": 32,
   "metadata": {
    "collapsed": false
   },
   "outputs": [
    {
     "data": {
      "text/plain": [
       "(50897, 3)"
      ]
     },
     "execution_count": 32,
     "metadata": {},
     "output_type": "execute_result"
    }
   ],
   "source": [
    "weight_counts.shape"
   ]
  },
  {
   "cell_type": "code",
   "execution_count": 33,
   "metadata": {
    "collapsed": true
   },
   "outputs": [],
   "source": [
    "# weight_counts.to_csv('weighted_links_activated.csv', index=False)"
   ]
  },
  {
   "cell_type": "markdown",
   "metadata": {},
   "source": [
    "Assign IDs to emails"
   ]
  },
  {
   "cell_type": "code",
   "execution_count": 34,
   "metadata": {
    "collapsed": true
   },
   "outputs": [],
   "source": [
    "email_id = {x:i for i,x in enumerate(emails_activated)}"
   ]
  },
  {
   "cell_type": "code",
   "execution_count": 35,
   "metadata": {
    "collapsed": true
   },
   "outputs": [],
   "source": [
    "id_email = {i:x for i,x in enumerate(emails_activated)}"
   ]
  },
  {
   "cell_type": "code",
   "execution_count": 36,
   "metadata": {
    "collapsed": false
   },
   "outputs": [],
   "source": [
    "# import csv\n",
    "# with open('id-email.csv', 'wb') as csv_file:\n",
    "#     writer = csv.writer(csv_file)\n",
    "#     for key, value in id_email.items():\n",
    "#         writer.writerow([key, value])"
   ]
  },
  {
   "cell_type": "code",
   "execution_count": 37,
   "metadata": {
    "collapsed": false
   },
   "outputs": [],
   "source": [
    "activations = pd.DataFrame(columns=['address', 'activations'])\n",
    "activations_series = pd.Series()\n",
    "i = 0\n",
    "for label, time in from_spikes[:].iteritems():\n",
    "    unique_elements, counts_elements = np.unique(time, return_counts=True)\n",
    "    counts_elements = np.append(counts_elements, 0)\n",
    "    counts_elements = np.insert(counts_elements, 0, 0)\n",
    "    unique_elements = np.append(unique_elements, end_time)\n",
    "    unique_elements = np.insert(unique_elements, 0, start_time)\n",
    "    d = {'Counts': counts_elements}\n",
    "    df = pd.DataFrame(data = d, index = pd.to_datetime(unique_elements))\n",
    "    df = df.Counts.resample('D').sum()\n",
    "    t = df.values.shape\n",
    "    vals = {k:x for k,x in enumerate(df.values) if x != 0}\n",
    "    activations.loc[i] = [label, vals]\n",
    "    activations_series.loc[email_id[label]] = vals\n",
    "    i += 1"
   ]
  },
  {
   "cell_type": "code",
   "execution_count": 38,
   "metadata": {
    "collapsed": false
   },
   "outputs": [],
   "source": [
    "# for i, row in weight_counts.iterrows():\n",
    "#     weight_counts.loc[i] = [email_id[row.From], email_id[row.To], row.Count]"
   ]
  },
  {
   "cell_type": "code",
   "execution_count": 39,
   "metadata": {
    "collapsed": false
   },
   "outputs": [],
   "source": [
    "# weight_counts.head()"
   ]
  },
  {
   "cell_type": "code",
   "execution_count": 40,
   "metadata": {
    "collapsed": true
   },
   "outputs": [],
   "source": [
    "# weight_counts.to_csv('weighted_links_activated_id_1999_2002.csv', index=False)"
   ]
  },
  {
   "cell_type": "code",
   "execution_count": 41,
   "metadata": {
    "collapsed": true
   },
   "outputs": [],
   "source": [
    "# activations_series.to_csv('activations-enron_id_1999_2002.csv')"
   ]
  },
  {
   "cell_type": "code",
   "execution_count": 42,
   "metadata": {
    "collapsed": false
   },
   "outputs": [],
   "source": [
    "# id_email.get(6056)"
   ]
  },
  {
   "cell_type": "markdown",
   "metadata": {},
   "source": [
    "Compute summary statistics for the events"
   ]
  },
  {
   "cell_type": "code",
   "execution_count": 43,
   "metadata": {
    "collapsed": true
   },
   "outputs": [],
   "source": [
    "apr01 = pd.read_csv('./events/apr01.csv', header=None)\n",
    "aug01 = pd.read_csv('./events/aug01.csv', header=None)\n",
    "dec99 = pd.read_csv('./events/dec99.csv', header=None)\n",
    "may01 = pd.read_csv('./events/may01.csv', header=None)\n",
    "may01STD = pd.read_csv('./events/may01STD.csv', header=None)\n",
    "apr01STD = pd.read_csv('./events/apr01STD.csv', header=None)\n",
    "aug01STD = pd.read_csv('./events/aug01STD.csv', header=None)\n",
    "dec99STD = pd.read_csv('./events/dec99STD.csv', header=None)\n",
    "apr01STD_99_02 = pd.read_csv('./events/apr01STD_99_02.csv', header=None)\n",
    "may01STD_99_02 = pd.read_csv('./events/may01STD_99_02.csv', header=None)\n",
    "aug01STD_99_02 = pd.read_csv('./events/aug01STD_99_02.csv', header=None)\n",
    "dec99STD_99_02 = pd.read_csv('./events/dec99STD_99_02.csv', header=None)"
   ]
  },
  {
   "cell_type": "code",
   "execution_count": 44,
   "metadata": {
    "collapsed": false
   },
   "outputs": [],
   "source": [
    "apr01_cluster = [v[0] for v in apr01.values]\n",
    "aug01_cluster = [v[0] for v in aug01.values]\n",
    "dec99_cluster = [v[0] for v in dec99.values]\n",
    "may01_cluster = [v[0] for v in may01.values]\n",
    "may01STD_cluster = [v[0] for v in may01STD.values]\n",
    "apr01STD_cluster = [v[0] for v in apr01STD.values]\n",
    "aug01STD_cluster = [v[0] for v in aug01STD.values]\n",
    "dec99STD_cluster = [v[0] for v in dec99STD.values]\n",
    "apr01STD_99_02_cluster = [v[0] for v in apr01STD_99_02.values]\n",
    "may01STD_99_02_cluster = [v[0] for v in may01STD_99_02.values]\n",
    "aug01STD_99_02_cluster = [v[0] for v in aug01STD_99_02.values]\n",
    "dec99STD_99_02_cluster = [v[0] for v in dec99STD_99_02.values]"
   ]
  },
  {
   "cell_type": "code",
   "execution_count": 45,
   "metadata": {
    "collapsed": true
   },
   "outputs": [],
   "source": [
    "def compute_summary(cluster):\n",
    "    summary = np.zeros(t[0])\n",
    "    for addr in cluster:\n",
    "        series = activations_series[addr]\n",
    "        for k,v in series.items():\n",
    "            summary[k] += v\n",
    "    return summary"
   ]
  },
  {
   "cell_type": "code",
   "execution_count": 46,
   "metadata": {
    "collapsed": true
   },
   "outputs": [],
   "source": [
    "summary_apr = compute_summary(apr01_cluster)\n",
    "summary_aug = compute_summary(aug01_cluster)\n",
    "summary_dec = compute_summary(dec99_cluster)\n",
    "summary_may = compute_summary(may01_cluster)\n",
    "summary_may_std = compute_summary(may01STD_cluster)\n",
    "summary_apr_std = compute_summary(apr01STD_cluster)\n",
    "summary_aug_std = compute_summary(aug01STD_cluster)\n",
    "summary_dec_std = compute_summary(dec99STD_cluster)\n",
    "summary_apr_99_02_std = compute_summary(apr01STD_99_02_cluster)\n",
    "summary_may_99_02_std = compute_summary(may01STD_99_02_cluster)\n",
    "summary_aug_99_02_std = compute_summary(aug01STD_99_02_cluster)\n",
    "summary_dec_99_02_std = compute_summary(dec99STD_99_02_cluster)"
   ]
  },
  {
   "cell_type": "code",
   "execution_count": 47,
   "metadata": {
    "collapsed": false
   },
   "outputs": [],
   "source": [
    "# import numpy as np\n",
    "# import matplotlib.pyplot as plt\n",
    "\n",
    "# t = np.arange(0.0, 2.0, 0.01)\n",
    "# s = np.sin(2 * np.pi * t)\n",
    "\n",
    "# upper = 0\n",
    "# lower = 0\n",
    "\n",
    "\n",
    "# s = summary_aug_99_02_std * 100 / max(summary_aug_99_02_std) - summary_all * 100 / max(summary_all)\n",
    "# supper = np.ma.masked_where(s < upper, s)\n",
    "# slower = np.ma.masked_where(s > lower, s)\n",
    "# smiddle = np.ma.masked_where(np.logical_or(s < lower, s > upper), s)\n",
    "\n",
    "# fig, ax = plt.subplots()\n",
    "# # ax.plot(dates, summary_apr_99_02_std * 100.0 / max(summary_apr_99_02_std) - summary_all * 100 / max(summary_all))\n",
    "# ax.plot(dates, smiddle, dates, slower, dates, supper)\n",
    "# plt.show()"
   ]
  },
  {
   "cell_type": "code",
   "execution_count": 48,
   "metadata": {
    "collapsed": true
   },
   "outputs": [],
   "source": [
    "def keep_positive_numbers(l):\n",
    "    return map(lambda x: 0 if x<0 else x, l)"
   ]
  },
  {
   "cell_type": "code",
   "execution_count": 49,
   "metadata": {
    "collapsed": false
   },
   "outputs": [],
   "source": [
    "# from pylab import rcParams\n",
    "# rcParams['font.family'] = 'sans-serif'\n",
    "# rcParams['font.sans-serif'] = ['Arial']\n",
    "# rcParams['xtick.labelsize'] = 27\n",
    "# rcParams['ytick.labelsize'] = 27\n",
    "# font = 30\n",
    "# color = '#0099FF'\n",
    "# fig, ax = plt.subplots(nrows=2, ncols=2, figsize=(20, 10))\n",
    "# # fig.suptitle(\"Detected events in the Enron email network\", fontsize=20)\n",
    "\n",
    "# # ax[0][0].plot(dates, summary_all * 100 / max(summary_all))\n",
    "# s = summary_apr_99_02_std * 100.0 / max(summary_apr_99_02_std) - summary_all * 100 / max(summary_all)\n",
    "# ax[0][0].plot(dates, keep_positive_numbers(s), color)\n",
    "# # ax[0][0].axvline(x= '2001-04-01 00:00:00', color='r', linewidth=1)\n",
    "# # ax[0][0].axvline(x= '2001-04-30 00:00:00', color='r', linewidth=1)\n",
    "# ax[0][0].axvspan('2001-04-01 00:00:00', '2001-04-30 00:00:00', color='red', alpha=0.5)\n",
    "# # ax[0][0].axvspan('2002-01-01 00:00:00', '2002-01-31 00:00:00', color='green', alpha=0.5)\n",
    "# ax[0][0].set_title('April 2001', fontsize=font)\n",
    "# xmin, xmax = ax[0][0].get_xlim()\n",
    "# ax[0][0].set_xticks(np.round(np.linspace(xmin, xmax, 4), 2))\n",
    "# ax[0][0].set_ylabel('Anomaly rate', fontsize=font)\n",
    "\n",
    "# # ax[0][1].plot(dates, summary_all * 100 / max(summary_all))\n",
    "# s = summary_may_99_02_std * 100 / max(summary_may_99_02_std) - summary_all * 100 / max(summary_all)\n",
    "# ax[0][1].plot(dates, keep_positive_numbers(s), color)\n",
    "# # ax[0][1].axvline(x= '2001-05-01 00:00:00', color='r', linewidth=1)\n",
    "# # ax[0][1].axvline(x= '2001-06-15 00:00:00', color='r', linewidth=1)\n",
    "# ax[0][1].axvspan('2001-05-01 00:00:00', '2001-05-31 00:00:00', color='red', alpha=0.5)\n",
    "# ax[0][1].set_title('May 2001', fontsize=font)\n",
    "# ax[0][1].set_xticks(np.round(np.linspace(xmin, xmax, 4), 2))\n",
    "# ax[0][1].set_ylabel('Anomaly rate', fontsize=font)\n",
    "\n",
    "# # ax[1][1].plot(dates, summary_all * 100 / max(summary_all))\n",
    "# s = summary_aug_99_02_std * 100 / max(summary_aug_99_02_std) - summary_all * 100 / max(summary_all)\n",
    "# ax[1][1].plot(dates, keep_positive_numbers(s), color)\n",
    "# # ax[1][1].axvline(x= '2001-08-01 00:00:00', color='r', linewidth=1)\n",
    "# # ax[1][1].axvline(x= '2001-08-31 00:00:00', color='r', linewidth=1)\n",
    "# ax[1][1].axvspan('2001-08-01 00:00:00', '2001-08-31 00:00:00', color='red', alpha=0.5)\n",
    "# ax[1][1].set_title('August 2001', fontsize=font)\n",
    "# ax[1][1].set_xticks(np.round(np.linspace(xmin, xmax, 4), 2))\n",
    "# ax[1][1].set_ylabel('Anomaly rate', fontsize=font)\n",
    "\n",
    "# # ax[1][0].plot(dates, summary_all * 100 / max(summary_all))\n",
    "# s = summary_dec_99_02_std * 100 / max(summary_dec_99_02_std) - summary_all * 100 / max(summary_all)\n",
    "# ax[1][0].plot(dates, keep_positive_numbers(s), color)\n",
    "# # ax[1][0].axvline(x= '1999-12-01 00:00:00', color='r', linewidth=1)\n",
    "# # ax[1][0].axvline(x= '1999-12-31 00:00:00', color='r', linewidth=1)\n",
    "# ax[1][0].axvspan('1999-12-01 00:00:00', '1999-12-31 00:00:00', color='red', alpha=0.5)\n",
    "# ax[1][0].set_title('December 1999', fontsize=font)\n",
    "# ax[1][0].set_xticks(np.round(np.linspace(xmin, xmax, 4), 2))\n",
    "# ax[1][0].set_ylabel('Anomaly rate', fontsize=font)\n",
    "\n",
    "# # ax[0][2].plot(dates, summary_all * 100 / max(summary_all))\n",
    "# # ax[0][2].set_title('Overall activity')\n",
    "# # ax[0][2].set_xticks(np.round(np.linspace(xmin, xmax, 4), 2))\n",
    "\n",
    "# # ax[-1][-1].axis('off')"
   ]
  },
  {
   "cell_type": "code",
   "execution_count": 50,
   "metadata": {
    "collapsed": false
   },
   "outputs": [
    {
     "data": {
      "text/plain": [
       "<matplotlib.text.Text at 0x7f1dc8690690>"
      ]
     },
     "execution_count": 50,
     "metadata": {},
     "output_type": "execute_result"
    }
   ],
   "source": [
    "from pylab import rcParams\n",
    "rcParams['font.family'] = 'sans-serif'\n",
    "rcParams['font.sans-serif'] = ['Arial']\n",
    "rcParams['xtick.labelsize'] = 27\n",
    "rcParams['ytick.labelsize'] = 27\n",
    "font = 30\n",
    "color = '#0099FF'\n",
    "ylabel = \"Normalized activity\"\n",
    "fig, ax = plt.subplots(nrows=2, ncols=2, figsize=(20, 10))\n",
    "# fig.suptitle(\"Detected events in the Enron email network\", fontsize=20)\n",
    "\n",
    "# ax[0][0].plot(dates, summary_all * 100 / max(summary_all))\n",
    "s = summary_apr_99_02_std * 100.0 / max(summary_apr_99_02_std)\n",
    "ax[0][0].plot(dates, keep_positive_numbers(s), color)\n",
    "# ax[0][0].axvline(x= '2001-04-01 00:00:00', color='r', linewidth=1)\n",
    "# ax[0][0].axvline(x= '2001-04-30 00:00:00', color='r', linewidth=1)\n",
    "ax[0][0].axvspan('2001-04-01 00:00:00', '2001-04-30 00:00:00', color='red', alpha=0.5)\n",
    "# ax[0][0].axvspan('2002-01-01 00:00:00', '2002-01-31 00:00:00', color='green', alpha=0.5)\n",
    "ax[0][0].set_title('April 2001', fontsize=font)\n",
    "xmin, xmax = ax[0][0].get_xlim()\n",
    "ax[0][0].set_xticks(np.round(np.linspace(xmin, xmax, 4), 2))\n",
    "ax[0][0].set_ylabel(ylabel, fontsize=font)\n",
    "\n",
    "# ax[0][1].plot(dates, summary_all * 100 / max(summary_all))\n",
    "s = summary_may_99_02_std * 100 / max(summary_may_99_02_std)\n",
    "ax[0][1].plot(dates, keep_positive_numbers(s), color)\n",
    "# ax[0][1].axvline(x= '2001-05-01 00:00:00', color='r', linewidth=1)\n",
    "# ax[0][1].axvline(x= '2001-06-15 00:00:00', color='r', linewidth=1)\n",
    "ax[0][1].axvspan('2001-05-01 00:00:00', '2001-05-31 00:00:00', color='red', alpha=0.5)\n",
    "ax[0][1].set_title('May 2001', fontsize=font)\n",
    "ax[0][1].set_xticks(np.round(np.linspace(xmin, xmax, 4), 2))\n",
    "ax[0][1].set_ylabel(ylabel, fontsize=font)\n",
    "\n",
    "# ax[1][1].plot(dates, summary_all * 100 / max(summary_all))\n",
    "s = summary_aug_99_02_std * 100 / max(summary_aug_99_02_std)\n",
    "ax[1][1].plot(dates, keep_positive_numbers(s), color)\n",
    "# ax[1][1].axvline(x= '2001-08-01 00:00:00', color='r', linewidth=1)\n",
    "# ax[1][1].axvline(x= '2001-08-31 00:00:00', color='r', linewidth=1)\n",
    "ax[1][1].axvspan('2001-08-01 00:00:00', '2001-08-31 00:00:00', color='red', alpha=0.5)\n",
    "ax[1][1].set_title('August 2001', fontsize=font)\n",
    "ax[1][1].set_xticks(np.round(np.linspace(xmin, xmax, 4), 2))\n",
    "ax[1][1].set_ylabel(ylabel, fontsize=font)\n",
    "\n",
    "# ax[1][0].plot(dates, summary_all * 100 / max(summary_all))\n",
    "s = summary_dec_99_02_std * 100 / max(summary_dec_99_02_std)\n",
    "ax[1][0].plot(dates, keep_positive_numbers(s), color)\n",
    "# ax[1][0].axvline(x= '1999-12-01 00:00:00', color='r', linewidth=1)\n",
    "# ax[1][0].axvline(x= '1999-12-31 00:00:00', color='r', linewidth=1)\n",
    "ax[1][0].axvspan('1999-12-01 00:00:00', '1999-12-31 00:00:00', color='red', alpha=0.5)\n",
    "ax[1][0].set_title('December 1999', fontsize=font)\n",
    "ax[1][0].set_xticks(np.round(np.linspace(xmin, xmax, 4), 2))\n",
    "ax[1][0].set_ylabel(ylabel, fontsize=font)\n",
    "\n",
    "# ax[0][2].plot(dates, summary_all * 100 / max(summary_all))\n",
    "# ax[0][2].set_title('Overall activity')\n",
    "# ax[0][2].set_xticks(np.round(np.linspace(xmin, xmax, 4), 2))\n",
    "\n",
    "# ax[-1][-1].axis('off')"
   ]
  },
  {
   "cell_type": "code",
   "execution_count": 51,
   "metadata": {
    "collapsed": true
   },
   "outputs": [],
   "source": [
    "plt.savefig(\"enron.pdf\", format='pdf', dpi=200)"
   ]
  },
  {
   "cell_type": "markdown",
   "metadata": {},
   "source": [
    "Queries"
   ]
  },
  {
   "cell_type": "code",
   "execution_count": 52,
   "metadata": {
    "collapsed": false
   },
   "outputs": [
    {
     "name": "stdout",
     "output_type": "stream",
     "text": [
      "(709, 'day of the peak overa all time (16 December 2000)')\n"
     ]
    }
   ],
   "source": [
    "print(list(summary_all).index(max(summary_all)), \"day of the peak overa all time (16 December 2000)\")"
   ]
  },
  {
   "cell_type": "code",
   "execution_count": 53,
   "metadata": {
    "collapsed": true
   },
   "outputs": [],
   "source": [
    "apr01STD_99_02_cluster = [v[0] for v in apr01STD_99_02.values]\n",
    "may01STD_99_02_cluster = [v[0] for v in may01STD_99_02.values]\n",
    "aug01STD_99_02_cluster = [v[0] for v in aug01STD_99_02.values]\n",
    "dec99STD_99_02_cluster = [v[0] for v in dec99STD_99_02.values]"
   ]
  },
  {
   "cell_type": "code",
   "execution_count": 54,
   "metadata": {
    "collapsed": false
   },
   "outputs": [
    {
     "name": "stdout",
     "output_type": "stream",
     "text": [
      "(25, 'April 2001')\n",
      "(126, 'May 2001')\n",
      "(28, 'August 2001')\n",
      "(29, 'December 1999')\n"
     ]
    }
   ],
   "source": [
    "print(len(apr01STD_99_02_cluster), \"April 2001\")\n",
    "print(len(may01STD_99_02_cluster), \"May 2001\")\n",
    "print(len(aug01STD_99_02_cluster), \"August 2001\")\n",
    "print(len(dec99STD_99_02_cluster), \"December 1999\")"
   ]
  },
  {
   "cell_type": "code",
   "execution_count": 55,
   "metadata": {
    "collapsed": false
   },
   "outputs": [
    {
     "name": "stdout",
     "output_type": "stream",
     "text": [
      "(844, 'day of the peak in april (April 26)')\n"
     ]
    }
   ],
   "source": [
    "print(list(summary_apr_99_02_std).index(max(summary_apr_99_02_std)), \"day of the peak in april (April 26)\")"
   ]
  },
  {
   "cell_type": "code",
   "execution_count": 56,
   "metadata": {
    "collapsed": false
   },
   "outputs": [
    {
     "name": "stdout",
     "output_type": "stream",
     "text": [
      "('April 2001', ['virginia.thompson@enron.com', 'bill.iii@enron.com', 'geir.solberg@enron.com', 'eric.linder@enron.com', 'grace.rodriguez@enron.com', 'mark.palmer@enron.com', 'amy.fitzpatrick@enron.com', 'reagan.rorschach@enron.com', 'jennifer.rudolph@enron.com', 'mark.confer@enron.com', 'pete.davis@enron.com', 'david.fairley@enron.com', 'crystal.hyde@enron.com', 'steve.hall@enron.com', 'donna.johnson@enron.com', 'sean.crandall@enron.com', 'brian.redmond@enron.com', 'david.porter@enron.com', 'cara.semperger@enron.com', 'richard.lydecker@enron.com', 'greg.wolfe@enron.com', 'robert.neustaedter@enron.com', 'scott.stoness@enron.com', 'janel.guerrero@enron.com', 'jbennett@gmssr.com'])\n"
     ]
    }
   ],
   "source": [
    "print(\"April 2001\", map(lambda x: id_email[x], apr01STD_99_02_cluster))"
   ]
  },
  {
   "cell_type": "code",
   "execution_count": 57,
   "metadata": {
    "collapsed": false,
    "scrolled": true
   },
   "outputs": [
    {
     "name": "stdout",
     "output_type": "stream",
     "text": [
      "('May 2001', ['kevin.presto@enron.com', 'steve.hall@enron.com', 'greg.krause@enron.com', 'eric.thode@enron.com', 'steven.krimsky@enron.com', 'ben.jacoby@enron.com', 'geir.solberg@enron.com', 'nicole.hunter@enron.com', 'shase@aesc.com', 'james.keller@enron.com', 'lisa.bills@enron.com', 'robert.williams@enron.com', 'lisa.yoho@enron.com', 'ryan.seleznov@enron.com', 'mary.gray@enron.com', 'john.shelk@enron.com', 'kortney.brown@enron.com', 'wes.colwell@enron.com', 'reagan.rorschach@enron.com', 'janet.moore@enron.com', 'cheryl.nelson@enron.com', 'simone.la@enron.com', 'kristin.walsh@enron.com', 'lavorato@enron.com', 'paul.kaufman@enron.com', 'chris.walker@enron.com', 'ibuyit.payables@enron.com', 'kitchen@enron.com', 'cindy.stark@enron.com', 'referrals@referrals.com', 'john.rigby@enron.com', 'chris.hyde@enron.com', 'john.llodra@enron.com', 'tom.may@enron.com', 'rebecca.cantrell@enron.com', 'julia.murray@enron.com', 'colin.tonks@enron.com', 'kathleen.carnahan@enron.com', 'majed.nachawati@enron.com', 'queen28cmh@aol.com', 'jkeffer@kslaw.com', 'mreuter@kslaw.com', 'jake.staffel@enron.com', 'teresa.bosien@enron.com', 'shari_stack@reliantenergy.com', 'gerald.nemec@enron.com', 'karen.buckley@enron.com', 'carlos.sole@enron.com', 'suzanne.adams@enron.com', 'simone.rose@enron.com', 'scott.dieball@enron.com', 'kaminski@enron.com', 'doug.leach@enron.com', 'peggy.mccurley@enron.com', 'keegan.farrell@enron.com', 'brad.mckay@enron.com', 'marcus.nettelton@enron.com', 'rob.walls@enron.com', 'billy.lemmons@enron.com', 'anne.bike@enron.com', 'jklauber@llgm.com', 'paul.dawson@enron.com', 'david.fairley@enron.com', 'laurie.mayer@enron.com', 'eddie.zhang@enron.com', 'medleyb@gtlaw.com', 'rebecca.walker@enron.com', 'pthompson@akllp.com', 'matthew.lenhart@enron.com', 'eric.booth@enron.com', 'tlenhart@corealty.com', 'ann.white@enron.com', 'presto@enron.com', 'elizabeth.sager@enron.com', 'sylvia.hu@enron.com', 'adam.johnson@enron.com', 'justin.rostant@enron.com', 'eserver@enron.com', 'outlook.team@enron.com', 'info@coolsavings.com', 'chrisboehler@akllp.com', 'jennifer.thome@enron.com', 'rae.meadows@enron.com', 'cooper.richey@enron.com', 'scott.dozier@enron.com', 'chris.booth@enron.com', 'michael.bridges@enron.com', 'holly.keiser@enron.com', 'bobby.eberle@gopusa.com', 'tara.piazze@enron.com', 'mike.haney@enron.com', 'barbara.waldrop@cox.com', 'horton@enron.com', 'wade.stubblefield@enron.com', 'wendi.lebrocq@enron.com', 'enron.announcements@enron.com', 'ginger.dernehl@enron.com', 'amr.ibrahim@enron.com', 'andy.zipper@enron.com', 'andrew.edison@enron.com', 'bruce.lundstrom@enron.com', 'charles.weldon@enron.com', 'kate.cole@enron.com', 'peter.styles@enron.com', 'paul.hennemeyer@enron.com', 'howard@wrightlaw.com', 'luiz.maurer@enron.com', 'hgovenar@govadv.com', 'rex.shelby@enron.com', 'john.cummings@enron.com', 'richard.lydecker@enron.com', 'esmeralda.gonzalez@enron.com', 'sgovenar@govadv.com', 'jennifer.mcquade@enron.com', 'greg.piper@enron.com', 'gus.perez@enron.com', 'jim.piro@enron.com', 'richard.deming@enron.com', 'fred.mitro@enron.com', 'tom.moran@enron.com', 'john.allario@enron.com', 'stanley.horton@enron.com', 'perfmgmt@enron.com', 'carmen.perez@enron.com', 'greg.brazaitis@enron.com', 'genia.fitzgerald@enron.com'])\n"
     ]
    }
   ],
   "source": [
    "print(\"May 2001\", map(lambda x: id_email[x], may01STD_99_02_cluster))"
   ]
  },
  {
   "cell_type": "code",
   "execution_count": 58,
   "metadata": {
    "collapsed": false,
    "scrolled": false
   },
   "outputs": [
    {
     "name": "stdout",
     "output_type": "stream",
     "text": [
      "('August 2001', ['40enron@enron.com', 'john.sturn@enron.com', 'gretchen.hardeway@enron.com', 'greg.mann@enron.com', 'j.kaminski@enron.com', 'dave.perrino@enron.com', 'kimberly.watson@enron.com', 'larry.pavlou@enron.com', 'ron.matthews@enron.com', 'greg.frers@enron.com', 'ken.powers@enron.com', 'magdelena.cruz@enron.com', 'john.zufferli@enron.com', 'paul.donnelly@bakeratlas.com', 'ketchekl@bp.com', 'diana.scholtes@enron.com', 'jean.mrha@enron.com', 'eric.faucheaux@enron.com', 'bill.williams@enron.com', 'payables.ibuyit@enron.com', 'jeanie.slone@enron.com', 'monika.causholli@enron.com', 'tuckiejeff@hotmail.com', 'chris.stokley@enron.com', 'holden.salisbury@enron.com', 'jonathan.mckay@enron.com', 'dee.espinoza@travelpark.com', 'margaret.daffin@enron.com'])\n"
     ]
    }
   ],
   "source": [
    "print(\"August 2001\", map(lambda x: id_email[x], aug01STD_99_02_cluster))"
   ]
  },
  {
   "cell_type": "code",
   "execution_count": 59,
   "metadata": {
    "collapsed": false,
    "scrolled": true
   },
   "outputs": [
    {
     "name": "stdout",
     "output_type": "stream",
     "text": [
      "('December 1999', ['vince.kaminski@enron.com', 'sgilles@columbiaenergygroup.com', 'chris.germany@enron.com', 'lauri.allen@enron.com', 'kevin.moore@enron.com', 'mandy.mackinnon@enron.com', 'clayton.vernon@enron.com', 'drew.fossum@enron.com', 'david.dupre@enron.com', 'daren.farmer@enron.com', 'stella.morris@enron.com', 'charlotte.hawkins@enron.com', 'brenda.herod@enron.com', 'howard.camp@enron.com', 'dale.neuner@enron.com', 'eric.bass@enron.com', 'julie.meyers@enron.com', 'kimberly.vaughn@enron.com', 'peter.keavey@enron.com', 'john.lavorato@enron.com', 'ami.chokshi@enron.com', 'christi.nicolay@enron.com', 'sally.beck@enron.com', 'gary.hanks@enron.com', 'randall.gay@enron.com', 'pdrexel@columbiaenergygroup.com', 'twanda.sweet@enron.com', 'mark.haedicke@enron.com', 'carrie.hollomon@enron.com'])\n"
     ]
    }
   ],
   "source": [
    "print(\"December 1999\", map(lambda x: id_email[x], dec99STD_99_02_cluster))"
   ]
  },
  {
   "cell_type": "code",
   "execution_count": 60,
   "metadata": {
    "collapsed": false,
    "scrolled": true
   },
   "outputs": [],
   "source": [
    "max_per_month = []\n",
    "for i in xrange(0, len(summary_all), 31):\n",
    "    max_per_month.append(max(summary_all[i:i+30]))\n",
    "#     print list(summary_all).index(max(summary_all[i:i+30]))"
   ]
  },
  {
   "cell_type": "code",
   "execution_count": 61,
   "metadata": {
    "collapsed": true
   },
   "outputs": [],
   "source": [
    "daterange = pd.date_range('1999-01-01','2002-10-31' , freq='1M') \n",
    "daterange = daterange.union([daterange[-1] + 1])  \n",
    "daterange = [d for d in daterange]"
   ]
  },
  {
   "cell_type": "code",
   "execution_count": 62,
   "metadata": {
    "collapsed": false
   },
   "outputs": [],
   "source": [
    "# plt.plot(daterange, max_per_month)\n",
    "# plt.axvspan('1999-12-01 00:00:00', '1999-12-31 00:00:00', color='red', alpha=0.5)\n",
    "# plt.xticks(np.round(np.linspace(xmin, xmax, 4), 2))\n",
    "# plt.title(\"Max per month\")"
   ]
  },
  {
   "cell_type": "code",
   "execution_count": null,
   "metadata": {
    "collapsed": true
   },
   "outputs": [],
   "source": []
  }
 ],
 "metadata": {
  "kernelspec": {
   "display_name": "Python 2",
   "language": "python",
   "name": "python2"
  },
  "language_info": {
   "codemirror_mode": {
    "name": "ipython",
    "version": 2
   },
   "file_extension": ".py",
   "mimetype": "text/x-python",
   "name": "python",
   "nbconvert_exporter": "python",
   "pygments_lexer": "ipython2",
   "version": "2.7.15rc1"
  }
 },
 "nbformat": 4,
 "nbformat_minor": 2
}
