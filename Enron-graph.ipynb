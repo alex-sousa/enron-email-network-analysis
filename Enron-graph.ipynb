{
 "cells": [
  {
   "cell_type": "code",
   "execution_count": 1,
   "metadata": {
    "collapsed": true
   },
   "outputs": [],
   "source": [
    "import pandas as pd\n",
    "from matplotlib import pyplot as plt\n",
    "%matplotlib inline"
   ]
  },
  {
   "cell_type": "code",
   "execution_count": 2,
   "metadata": {
    "collapsed": true
   },
   "outputs": [],
   "source": [
    "links = pd.read_csv('email-links-all.csv')"
   ]
  },
  {
   "cell_type": "code",
   "execution_count": 3,
   "metadata": {
    "collapsed": false
   },
   "outputs": [
    {
     "data": {
      "text/plain": [
       "(614586, 3)"
      ]
     },
     "execution_count": 3,
     "metadata": {},
     "output_type": "execute_result"
    }
   ],
   "source": [
    "links.shape"
   ]
  },
  {
   "cell_type": "code",
   "execution_count": 4,
   "metadata": {
    "collapsed": false,
    "scrolled": true
   },
   "outputs": [
    {
     "data": {
      "text/html": [
       "<div>\n",
       "<style scoped>\n",
       "    .dataframe tbody tr th:only-of-type {\n",
       "        vertical-align: middle;\n",
       "    }\n",
       "\n",
       "    .dataframe tbody tr th {\n",
       "        vertical-align: top;\n",
       "    }\n",
       "\n",
       "    .dataframe thead th {\n",
       "        text-align: right;\n",
       "    }\n",
       "</style>\n",
       "<table border=\"1\" class=\"dataframe\">\n",
       "  <thead>\n",
       "    <tr style=\"text-align: right;\">\n",
       "      <th></th>\n",
       "      <th>Date</th>\n",
       "      <th>From</th>\n",
       "      <th>To</th>\n",
       "    </tr>\n",
       "  </thead>\n",
       "  <tbody>\n",
       "    <tr>\n",
       "      <th>0</th>\n",
       "      <td>2001-05-14 23:39:00</td>\n",
       "      <td>phillip.allen@enron.com</td>\n",
       "      <td>tim.belden@enron.com</td>\n",
       "    </tr>\n",
       "    <tr>\n",
       "      <th>1</th>\n",
       "      <td>2001-05-04 20:51:00</td>\n",
       "      <td>phillip.allen@enron.com</td>\n",
       "      <td>john.lavorato@enron.com</td>\n",
       "    </tr>\n",
       "    <tr>\n",
       "      <th>2</th>\n",
       "      <td>2000-10-18 10:00:00</td>\n",
       "      <td>phillip.allen@enron.com</td>\n",
       "      <td>leah.arsdall@enron.com</td>\n",
       "    </tr>\n",
       "    <tr>\n",
       "      <th>3</th>\n",
       "      <td>2000-10-23 13:13:00</td>\n",
       "      <td>phillip.allen@enron.com</td>\n",
       "      <td>randall.gay@enron.com</td>\n",
       "    </tr>\n",
       "    <tr>\n",
       "      <th>4</th>\n",
       "      <td>2000-08-31 12:07:00</td>\n",
       "      <td>phillip.allen@enron.com</td>\n",
       "      <td>greg.piper@enron.com</td>\n",
       "    </tr>\n",
       "  </tbody>\n",
       "</table>\n",
       "</div>"
      ],
      "text/plain": [
       "                  Date                     From                       To\n",
       "0  2001-05-14 23:39:00  phillip.allen@enron.com     tim.belden@enron.com\n",
       "1  2001-05-04 20:51:00  phillip.allen@enron.com  john.lavorato@enron.com\n",
       "2  2000-10-18 10:00:00  phillip.allen@enron.com   leah.arsdall@enron.com\n",
       "3  2000-10-23 13:13:00  phillip.allen@enron.com    randall.gay@enron.com\n",
       "4  2000-08-31 12:07:00  phillip.allen@enron.com     greg.piper@enron.com"
      ]
     },
     "execution_count": 4,
     "metadata": {},
     "output_type": "execute_result"
    }
   ],
   "source": [
    "links.head()"
   ]
  },
  {
   "cell_type": "markdown",
   "metadata": {},
   "source": [
    "Count the number of contact events between emails"
   ]
  },
  {
   "cell_type": "code",
   "execution_count": 5,
   "metadata": {
    "collapsed": false
   },
   "outputs": [],
   "source": [
    "weight_counts = links.groupby(['From', 'To']).size().reset_index(name = 'Count')\n",
    "weight_counts.to_csv('weighted_links.csv', index=False)"
   ]
  },
  {
   "cell_type": "code",
   "execution_count": 7,
   "metadata": {
    "collapsed": false
   },
   "outputs": [
    {
     "data": {
      "text/plain": [
       "(83777, 3)"
      ]
     },
     "execution_count": 7,
     "metadata": {},
     "output_type": "execute_result"
    }
   ],
   "source": [
    "weight_counts.shape"
   ]
  },
  {
   "cell_type": "code",
   "execution_count": 13,
   "metadata": {
    "collapsed": false
   },
   "outputs": [
    {
     "data": {
      "text/html": [
       "<div>\n",
       "<style scoped>\n",
       "    .dataframe tbody tr th:only-of-type {\n",
       "        vertical-align: middle;\n",
       "    }\n",
       "\n",
       "    .dataframe tbody tr th {\n",
       "        vertical-align: top;\n",
       "    }\n",
       "\n",
       "    .dataframe thead th {\n",
       "        text-align: right;\n",
       "    }\n",
       "</style>\n",
       "<table border=\"1\" class=\"dataframe\">\n",
       "  <thead>\n",
       "    <tr style=\"text-align: right;\">\n",
       "      <th></th>\n",
       "      <th>From</th>\n",
       "      <th>To</th>\n",
       "      <th>Count</th>\n",
       "    </tr>\n",
       "  </thead>\n",
       "  <tbody>\n",
       "    <tr>\n",
       "      <th>0</th>\n",
       "      <td>101qi@msn.com</td>\n",
       "      <td>enlvwvz@msn.com</td>\n",
       "      <td>1</td>\n",
       "    </tr>\n",
       "    <tr>\n",
       "      <th>39637</th>\n",
       "      <td>karen.snow@enron.com</td>\n",
       "      <td>karen.snow@enron.com</td>\n",
       "      <td>1</td>\n",
       "    </tr>\n",
       "    <tr>\n",
       "      <th>39639</th>\n",
       "      <td>karen.snow@enron.com</td>\n",
       "      <td>victor.lamadrid@enron.com</td>\n",
       "      <td>1</td>\n",
       "    </tr>\n",
       "    <tr>\n",
       "      <th>39647</th>\n",
       "      <td>karen.white@csfb.com</td>\n",
       "      <td>klay@enron.com</td>\n",
       "      <td>1</td>\n",
       "    </tr>\n",
       "    <tr>\n",
       "      <th>39648</th>\n",
       "      <td>karen@mpenner.com</td>\n",
       "      <td>jarnold@enron.com</td>\n",
       "      <td>1</td>\n",
       "    </tr>\n",
       "  </tbody>\n",
       "</table>\n",
       "</div>"
      ],
      "text/plain": [
       "                       From                         To  Count\n",
       "0             101qi@msn.com            enlvwvz@msn.com      1\n",
       "39637  karen.snow@enron.com       karen.snow@enron.com      1\n",
       "39639  karen.snow@enron.com  victor.lamadrid@enron.com      1\n",
       "39647  karen.white@csfb.com             klay@enron.com      1\n",
       "39648     karen@mpenner.com          jarnold@enron.com      1"
      ]
     },
     "execution_count": 13,
     "metadata": {},
     "output_type": "execute_result"
    }
   ],
   "source": [
    "weight_counts.sort_values('Count').head()"
   ]
  },
  {
   "cell_type": "code",
   "execution_count": 9,
   "metadata": {
    "collapsed": false
   },
   "outputs": [],
   "source": [
    "thresholded = weight_counts.loc[weight_counts['Count'] > 10]"
   ]
  },
  {
   "cell_type": "code",
   "execution_count": 10,
   "metadata": {
    "collapsed": false
   },
   "outputs": [
    {
     "data": {
      "image/png": "[encoded data removed]",
      "text/plain": [
       "<matplotlib.figure.Figure at 0x7f360ab5a250>"
      ]
     },
     "metadata": {},
     "output_type": "display_data"
    }
   ],
   "source": [
    "fig, ax = plt.subplots()\n",
    "thresholded.hist(ax=ax, column='Count', bins=1000)\n",
    "ax.set_xscale('log')\n",
    "ax.set_yscale('log')"
   ]
  },
  {
   "cell_type": "markdown",
   "metadata": {},
   "source": [
    "Count From messages per email"
   ]
  },
  {
   "cell_type": "code",
   "execution_count": 14,
   "metadata": {
    "collapsed": false
   },
   "outputs": [
    {
     "data": {
      "text/html": [
       "<div>\n",
       "<style scoped>\n",
       "    .dataframe tbody tr th:only-of-type {\n",
       "        vertical-align: middle;\n",
       "    }\n",
       "\n",
       "    .dataframe tbody tr th {\n",
       "        vertical-align: top;\n",
       "    }\n",
       "\n",
       "    .dataframe thead th {\n",
       "        text-align: right;\n",
       "    }\n",
       "</style>\n",
       "<table border=\"1\" class=\"dataframe\">\n",
       "  <thead>\n",
       "    <tr style=\"text-align: right;\">\n",
       "      <th></th>\n",
       "      <th>From</th>\n",
       "      <th>CountFrom</th>\n",
       "    </tr>\n",
       "  </thead>\n",
       "  <tbody>\n",
       "    <tr>\n",
       "      <th>0</th>\n",
       "      <td>101qi@msn.com</td>\n",
       "      <td>1</td>\n",
       "    </tr>\n",
       "    <tr>\n",
       "      <th>2213</th>\n",
       "      <td>civella644@yahoo.com</td>\n",
       "      <td>1</td>\n",
       "    </tr>\n",
       "    <tr>\n",
       "      <th>2214</th>\n",
       "      <td>cjackson1@txu.com</td>\n",
       "      <td>1</td>\n",
       "    </tr>\n",
       "    <tr>\n",
       "      <th>8396</th>\n",
       "      <td>mischiefandmagic@aol.com</td>\n",
       "      <td>1</td>\n",
       "    </tr>\n",
       "    <tr>\n",
       "      <th>8395</th>\n",
       "      <td>miriam.brabham@enron.com</td>\n",
       "      <td>1</td>\n",
       "    </tr>\n",
       "  </tbody>\n",
       "</table>\n",
       "</div>"
      ],
      "text/plain": [
       "                          From  CountFrom\n",
       "0                101qi@msn.com          1\n",
       "2213      civella644@yahoo.com          1\n",
       "2214         cjackson1@txu.com          1\n",
       "8396  mischiefandmagic@aol.com          1\n",
       "8395  miriam.brabham@enron.com          1"
      ]
     },
     "execution_count": 14,
     "metadata": {},
     "output_type": "execute_result"
    }
   ],
   "source": [
    "from_counts = links.groupby(['From']).size().reset_index(name = 'CountFrom')\n",
    "from_counts.sort_values('CountFrom').head()"
   ]
  },
  {
   "cell_type": "markdown",
   "metadata": {
    "collapsed": true
   },
   "source": [
    "Group by day"
   ]
  },
  {
   "cell_type": "code",
   "execution_count": 20,
   "metadata": {
    "collapsed": true
   },
   "outputs": [],
   "source": [
    "times = pd.DatetimeIndex(links.Date)"
   ]
  },
  {
   "cell_type": "code",
   "execution_count": 32,
   "metadata": {
    "collapsed": false,
    "scrolled": true
   },
   "outputs": [
    {
     "data": {
      "text/html": [
       "<div>\n",
       "<style scoped>\n",
       "    .dataframe tbody tr th:only-of-type {\n",
       "        vertical-align: middle;\n",
       "    }\n",
       "\n",
       "    .dataframe tbody tr th {\n",
       "        vertical-align: top;\n",
       "    }\n",
       "\n",
       "    .dataframe thead th {\n",
       "        text-align: right;\n",
       "    }\n",
       "</style>\n",
       "<table border=\"1\" class=\"dataframe\">\n",
       "  <thead>\n",
       "    <tr style=\"text-align: right;\">\n",
       "      <th></th>\n",
       "      <th>Date</th>\n",
       "      <th>From</th>\n",
       "      <th>To</th>\n",
       "    </tr>\n",
       "    <tr>\n",
       "      <th>Date</th>\n",
       "      <th></th>\n",
       "      <th></th>\n",
       "      <th></th>\n",
       "    </tr>\n",
       "  </thead>\n",
       "  <tbody>\n",
       "    <tr>\n",
       "      <th>1</th>\n",
       "      <td>2000-09-01 13:08:002000-09-01 13:08:002001-05-...</td>\n",
       "      <td>phillip.allen@enron.comphillip.allen@enron.com...</td>\n",
       "      <td>mike.grigsby@enron.comfrank.ermis@enron.comala...</td>\n",
       "    </tr>\n",
       "    <tr>\n",
       "      <th>2</th>\n",
       "      <td>2000-10-02 09:19:002001-05-02 19:36:002001-05-...</td>\n",
       "      <td>phillip.allen@enron.comphillip.allen@enron.com...</td>\n",
       "      <td>bs_stone@yahoo.comjames.steffes@enron.comtori....</td>\n",
       "    </tr>\n",
       "    <tr>\n",
       "      <th>3</th>\n",
       "      <td>2000-10-03 16:30:002000-10-03 16:15:002000-10-...</td>\n",
       "      <td>phillip.allen@enron.comphillip.allen@enron.com...</td>\n",
       "      <td>pallen70@hotmail.comina.rangel@enron.combs_sto...</td>\n",
       "    </tr>\n",
       "    <tr>\n",
       "      <th>4</th>\n",
       "      <td>2001-05-04 20:51:002000-10-04 16:23:002001-05-...</td>\n",
       "      <td>phillip.allen@enron.comphillip.allen@enron.com...</td>\n",
       "      <td>john.lavorato@enron.comina.rangel@enron.comtim...</td>\n",
       "    </tr>\n",
       "    <tr>\n",
       "      <th>5</th>\n",
       "      <td>2000-10-05 13:26:002000-10-05 12:55:002000-09-...</td>\n",
       "      <td>phillip.allen@enron.comphillip.allen@enron.com...</td>\n",
       "      <td>david.delainey@enron.compaula.harris@enron.com...</td>\n",
       "    </tr>\n",
       "    <tr>\n",
       "      <th>6</th>\n",
       "      <td>2000-09-06 15:54:002000-09-06 14:02:002000-09-...</td>\n",
       "      <td>phillip.allen@enron.comphillip.allen@enron.com...</td>\n",
       "      <td>pallen70@hotmail.comina.rangel@enron.comina.ra...</td>\n",
       "    </tr>\n",
       "    <tr>\n",
       "      <th>7</th>\n",
       "      <td>2000-08-07 12:43:002000-08-07 09:14:002000-08-...</td>\n",
       "      <td>phillip.allen@enron.comphillip.allen@enron.com...</td>\n",
       "      <td>matt.smith@enron.comstagecoachmama@hotmail.com...</td>\n",
       "    </tr>\n",
       "    <tr>\n",
       "      <th>8</th>\n",
       "      <td>2000-09-08 12:30:002000-09-08 12:29:002000-08-...</td>\n",
       "      <td>phillip.allen@enron.comphillip.allen@enron.com...</td>\n",
       "      <td>pallen70@hotmail.compallen70@hotmail.comina.ra...</td>\n",
       "    </tr>\n",
       "    <tr>\n",
       "      <th>9</th>\n",
       "      <td>2000-10-09 14:16:002000-10-09 14:00:002000-08-...</td>\n",
       "      <td>phillip.allen@enron.comphillip.allen@enron.com...</td>\n",
       "      <td>keith.holst@enron.comkeith.holst@enron.comkeit...</td>\n",
       "    </tr>\n",
       "    <tr>\n",
       "      <th>10</th>\n",
       "      <td>2000-08-10 22:02:002000-08-10 12:36:002000-08-...</td>\n",
       "      <td>phillip.allen@enron.comphillip.allen@enron.com...</td>\n",
       "      <td>stephanie.sever@enron.comstephen.harrington@en...</td>\n",
       "    </tr>\n",
       "    <tr>\n",
       "      <th>11</th>\n",
       "      <td>2000-09-11 16:57:002000-09-11 16:30:002000-09-...</td>\n",
       "      <td>phillip.allen@enron.comphillip.allen@enron.com...</td>\n",
       "      <td>keith.holst@enron.comjsmith@austintx.comjohn.l...</td>\n",
       "    </tr>\n",
       "    <tr>\n",
       "      <th>12</th>\n",
       "      <td>2000-09-12 13:42:002000-09-12 13:06:002000-09-...</td>\n",
       "      <td>phillip.allen@enron.comphillip.allen@enron.com...</td>\n",
       "      <td>bs_stone@yahoo.comstagecoachmama@hotmail.compa...</td>\n",
       "    </tr>\n",
       "    <tr>\n",
       "      <th>13</th>\n",
       "      <td>2000-10-13 13:45:002000-09-13 13:02:002000-07-...</td>\n",
       "      <td>phillip.allen@enron.comphillip.allen@enron.com...</td>\n",
       "      <td>stagecoachmama@hotmail.comstagecoachmama@hotma...</td>\n",
       "    </tr>\n",
       "    <tr>\n",
       "      <th>14</th>\n",
       "      <td>2001-05-14 23:39:002000-07-14 13:59:002001-05-...</td>\n",
       "      <td>phillip.allen@enron.comphillip.allen@enron.com...</td>\n",
       "      <td>tim.belden@enron.comjoyce.teixeira@enron.comou...</td>\n",
       "    </tr>\n",
       "    <tr>\n",
       "      <th>15</th>\n",
       "      <td>2000-08-15 12:37:002000-03-15 12:44:002000-03-...</td>\n",
       "      <td>phillip.allen@enron.comphillip.allen@enron.com...</td>\n",
       "      <td>cooper.richey@enron.comfletcher.sturm@enron.co...</td>\n",
       "    </tr>\n",
       "    <tr>\n",
       "      <th>16</th>\n",
       "      <td>2000-10-16 13:44:002000-10-16 13:42:002000-08-...</td>\n",
       "      <td>phillip.allen@enron.comphillip.allen@enron.com...</td>\n",
       "      <td>zimam@enron.combuck.buckner@honeywell.comcoope...</td>\n",
       "    </tr>\n",
       "    <tr>\n",
       "      <th>17</th>\n",
       "      <td>2000-10-17 09:26:002000-07-17 10:46:002000-02-...</td>\n",
       "      <td>phillip.allen@enron.comphillip.allen@enron.com...</td>\n",
       "      <td>mark.scott@enron.compaul.lucci@enron.comtara.s...</td>\n",
       "    </tr>\n",
       "    <tr>\n",
       "      <th>18</th>\n",
       "      <td>2000-10-18 10:00:002000-09-18 09:34:002000-07-...</td>\n",
       "      <td>phillip.allen@enron.comphillip.allen@enron.com...</td>\n",
       "      <td>leah.arsdall@enron.comjsmith@austintx.comal.po...</td>\n",
       "    </tr>\n",
       "    <tr>\n",
       "      <th>19</th>\n",
       "      <td>2000-09-19 16:35:002000-09-19 10:15:002000-07-...</td>\n",
       "      <td>phillip.allen@enron.comphillip.allen@enron.com...</td>\n",
       "      <td>pallen70@hotmail.comjsmith@austintx.comhunter....</td>\n",
       "    </tr>\n",
       "    <tr>\n",
       "      <th>20</th>\n",
       "      <td>2000-09-20 15:06:002000-08-20 17:39:002000-08-...</td>\n",
       "      <td>phillip.allen@enron.comphillip.allen@enron.com...</td>\n",
       "      <td>john.lavorato@enron.compallen70@hotmail.compal...</td>\n",
       "    </tr>\n",
       "    <tr>\n",
       "      <th>21</th>\n",
       "      <td>2000-03-21 13:26:002000-02-21 08:07:002001-02-...</td>\n",
       "      <td>phillip.allen@enron.comphillip.allen@enron.com...</td>\n",
       "      <td>keith.holst@enron.commike.grigsby@enron.compal...</td>\n",
       "    </tr>\n",
       "    <tr>\n",
       "      <th>22</th>\n",
       "      <td>2000-09-22 07:06:002000-08-22 15:22:002000-06-...</td>\n",
       "      <td>phillip.allen@enron.comphillip.allen@enron.com...</td>\n",
       "      <td>kathy.moore@enron.comstagecoachmama@hotmail.co...</td>\n",
       "    </tr>\n",
       "    <tr>\n",
       "      <th>23</th>\n",
       "      <td>2000-10-23 13:13:002000-08-23 15:23:002000-08-...</td>\n",
       "      <td>phillip.allen@enron.comphillip.allen@enron.com...</td>\n",
       "      <td>randall.gay@enron.comina.rangel@enron.comstage...</td>\n",
       "    </tr>\n",
       "    <tr>\n",
       "      <th>24</th>\n",
       "      <td>2000-08-24 09:48:002000-05-24 16:00:002000-04-...</td>\n",
       "      <td>phillip.allen@enron.comphillip.allen@enron.com...</td>\n",
       "      <td>stagecoachmama@hotmail.comstagecoachmama@hotma...</td>\n",
       "    </tr>\n",
       "    <tr>\n",
       "      <th>25</th>\n",
       "      <td>2000-09-25 14:04:002000-09-25 14:01:002000-09-...</td>\n",
       "      <td>phillip.allen@enron.comphillip.allen@enron.com...</td>\n",
       "      <td>christopher.calger@enron.comina.rangel@enron.c...</td>\n",
       "    </tr>\n",
       "    <tr>\n",
       "      <th>26</th>\n",
       "      <td>2000-09-26 16:28:002000-09-26 16:26:002000-09-...</td>\n",
       "      <td>phillip.allen@enron.comphillip.allen@enron.com...</td>\n",
       "      <td>kholst@enron.compallen70@hotmail.comina.rangel...</td>\n",
       "    </tr>\n",
       "    <tr>\n",
       "      <th>27</th>\n",
       "      <td>2001-04-27 20:37:002001-04-27 20:02:002001-04-...</td>\n",
       "      <td>phillip.allen@enron.comphillip.allen@enron.com...</td>\n",
       "      <td>lisa.jones@enron.comtim.heizenrader@enron.comj...</td>\n",
       "    </tr>\n",
       "    <tr>\n",
       "      <th>28</th>\n",
       "      <td>2000-09-28 13:17:002000-09-28 12:56:002000-08-...</td>\n",
       "      <td>phillip.allen@enron.comphillip.allen@enron.com...</td>\n",
       "      <td>lkuch@mh.comjeffrey.hodge@enron.combs_stone@ya...</td>\n",
       "    </tr>\n",
       "    <tr>\n",
       "      <th>29</th>\n",
       "      <td>2000-08-29 16:20:002000-08-29 12:38:002001-03-...</td>\n",
       "      <td>phillip.allen@enron.comphillip.allen@enron.com...</td>\n",
       "      <td>mark@intelligencepress.commark@intelligencepre...</td>\n",
       "    </tr>\n",
       "    <tr>\n",
       "      <th>30</th>\n",
       "      <td>2000-08-30 15:14:002000-08-30 13:20:002001-04-...</td>\n",
       "      <td>phillip.allen@enron.comphillip.allen@enron.com...</td>\n",
       "      <td>muller@thedoghousemail.comcindy.long@enron.com...</td>\n",
       "    </tr>\n",
       "    <tr>\n",
       "      <th>31</th>\n",
       "      <td>2000-08-31 12:07:002000-08-31 11:17:002000-08-...</td>\n",
       "      <td>phillip.allen@enron.comphillip.allen@enron.com...</td>\n",
       "      <td>greg.piper@enron.comgreg.piper@enron.comrich@p...</td>\n",
       "    </tr>\n",
       "  </tbody>\n",
       "</table>\n",
       "</div>"
      ],
      "text/plain": [
       "                                                   Date  \\\n",
       "Date                                                      \n",
       "1     2000-09-01 13:08:002000-09-01 13:08:002001-05-...   \n",
       "2     2000-10-02 09:19:002001-05-02 19:36:002001-05-...   \n",
       "3     2000-10-03 16:30:002000-10-03 16:15:002000-10-...   \n",
       "4     2001-05-04 20:51:002000-10-04 16:23:002001-05-...   \n",
       "5     2000-10-05 13:26:002000-10-05 12:55:002000-09-...   \n",
       "6     2000-09-06 15:54:002000-09-06 14:02:002000-09-...   \n",
       "7     2000-08-07 12:43:002000-08-07 09:14:002000-08-...   \n",
       "8     2000-09-08 12:30:002000-09-08 12:29:002000-08-...   \n",
       "9     2000-10-09 14:16:002000-10-09 14:00:002000-08-...   \n",
       "10    2000-08-10 22:02:002000-08-10 12:36:002000-08-...   \n",
       "11    2000-09-11 16:57:002000-09-11 16:30:002000-09-...   \n",
       "12    2000-09-12 13:42:002000-09-12 13:06:002000-09-...   \n",
       "13    2000-10-13 13:45:002000-09-13 13:02:002000-07-...   \n",
       "14    2001-05-14 23:39:002000-07-14 13:59:002001-05-...   \n",
       "15    2000-08-15 12:37:002000-03-15 12:44:002000-03-...   \n",
       "16    2000-10-16 13:44:002000-10-16 13:42:002000-08-...   \n",
       "17    2000-10-17 09:26:002000-07-17 10:46:002000-02-...   \n",
       "18    2000-10-18 10:00:002000-09-18 09:34:002000-07-...   \n",
       "19    2000-09-19 16:35:002000-09-19 10:15:002000-07-...   \n",
       "20    2000-09-20 15:06:002000-08-20 17:39:002000-08-...   \n",
       "21    2000-03-21 13:26:002000-02-21 08:07:002001-02-...   \n",
       "22    2000-09-22 07:06:002000-08-22 15:22:002000-06-...   \n",
       "23    2000-10-23 13:13:002000-08-23 15:23:002000-08-...   \n",
       "24    2000-08-24 09:48:002000-05-24 16:00:002000-04-...   \n",
       "25    2000-09-25 14:04:002000-09-25 14:01:002000-09-...   \n",
       "26    2000-09-26 16:28:002000-09-26 16:26:002000-09-...   \n",
       "27    2001-04-27 20:37:002001-04-27 20:02:002001-04-...   \n",
       "28    2000-09-28 13:17:002000-09-28 12:56:002000-08-...   \n",
       "29    2000-08-29 16:20:002000-08-29 12:38:002001-03-...   \n",
       "30    2000-08-30 15:14:002000-08-30 13:20:002001-04-...   \n",
       "31    2000-08-31 12:07:002000-08-31 11:17:002000-08-...   \n",
       "\n",
       "                                                   From  \\\n",
       "Date                                                      \n",
       "1     phillip.allen@enron.comphillip.allen@enron.com...   \n",
       "2     phillip.allen@enron.comphillip.allen@enron.com...   \n",
       "3     phillip.allen@enron.comphillip.allen@enron.com...   \n",
       "4     phillip.allen@enron.comphillip.allen@enron.com...   \n",
       "5     phillip.allen@enron.comphillip.allen@enron.com...   \n",
       "6     phillip.allen@enron.comphillip.allen@enron.com...   \n",
       "7     phillip.allen@enron.comphillip.allen@enron.com...   \n",
       "8     phillip.allen@enron.comphillip.allen@enron.com...   \n",
       "9     phillip.allen@enron.comphillip.allen@enron.com...   \n",
       "10    phillip.allen@enron.comphillip.allen@enron.com...   \n",
       "11    phillip.allen@enron.comphillip.allen@enron.com...   \n",
       "12    phillip.allen@enron.comphillip.allen@enron.com...   \n",
       "13    phillip.allen@enron.comphillip.allen@enron.com...   \n",
       "14    phillip.allen@enron.comphillip.allen@enron.com...   \n",
       "15    phillip.allen@enron.comphillip.allen@enron.com...   \n",
       "16    phillip.allen@enron.comphillip.allen@enron.com...   \n",
       "17    phillip.allen@enron.comphillip.allen@enron.com...   \n",
       "18    phillip.allen@enron.comphillip.allen@enron.com...   \n",
       "19    phillip.allen@enron.comphillip.allen@enron.com...   \n",
       "20    phillip.allen@enron.comphillip.allen@enron.com...   \n",
       "21    phillip.allen@enron.comphillip.allen@enron.com...   \n",
       "22    phillip.allen@enron.comphillip.allen@enron.com...   \n",
       "23    phillip.allen@enron.comphillip.allen@enron.com...   \n",
       "24    phillip.allen@enron.comphillip.allen@enron.com...   \n",
       "25    phillip.allen@enron.comphillip.allen@enron.com...   \n",
       "26    phillip.allen@enron.comphillip.allen@enron.com...   \n",
       "27    phillip.allen@enron.comphillip.allen@enron.com...   \n",
       "28    phillip.allen@enron.comphillip.allen@enron.com...   \n",
       "29    phillip.allen@enron.comphillip.allen@enron.com...   \n",
       "30    phillip.allen@enron.comphillip.allen@enron.com...   \n",
       "31    phillip.allen@enron.comphillip.allen@enron.com...   \n",
       "\n",
       "                                                     To  \n",
       "Date                                                     \n",
       "1     mike.grigsby@enron.comfrank.ermis@enron.comala...  \n",
       "2     bs_stone@yahoo.comjames.steffes@enron.comtori....  \n",
       "3     pallen70@hotmail.comina.rangel@enron.combs_sto...  \n",
       "4     john.lavorato@enron.comina.rangel@enron.comtim...  \n",
       "5     david.delainey@enron.compaula.harris@enron.com...  \n",
       "6     pallen70@hotmail.comina.rangel@enron.comina.ra...  \n",
       "7     matt.smith@enron.comstagecoachmama@hotmail.com...  \n",
       "8     pallen70@hotmail.compallen70@hotmail.comina.ra...  \n",
       "9     keith.holst@enron.comkeith.holst@enron.comkeit...  \n",
       "10    stephanie.sever@enron.comstephen.harrington@en...  \n",
       "11    keith.holst@enron.comjsmith@austintx.comjohn.l...  \n",
       "12    bs_stone@yahoo.comstagecoachmama@hotmail.compa...  \n",
       "13    stagecoachmama@hotmail.comstagecoachmama@hotma...  \n",
       "14    tim.belden@enron.comjoyce.teixeira@enron.comou...  \n",
       "15    cooper.richey@enron.comfletcher.sturm@enron.co...  \n",
       "16    zimam@enron.combuck.buckner@honeywell.comcoope...  \n",
       "17    mark.scott@enron.compaul.lucci@enron.comtara.s...  \n",
       "18    leah.arsdall@enron.comjsmith@austintx.comal.po...  \n",
       "19    pallen70@hotmail.comjsmith@austintx.comhunter....  \n",
       "20    john.lavorato@enron.compallen70@hotmail.compal...  \n",
       "21    keith.holst@enron.commike.grigsby@enron.compal...  \n",
       "22    kathy.moore@enron.comstagecoachmama@hotmail.co...  \n",
       "23    randall.gay@enron.comina.rangel@enron.comstage...  \n",
       "24    stagecoachmama@hotmail.comstagecoachmama@hotma...  \n",
       "25    christopher.calger@enron.comina.rangel@enron.c...  \n",
       "26    kholst@enron.compallen70@hotmail.comina.rangel...  \n",
       "27    lisa.jones@enron.comtim.heizenrader@enron.comj...  \n",
       "28    lkuch@mh.comjeffrey.hodge@enron.combs_stone@ya...  \n",
       "29    mark@intelligencepress.commark@intelligencepre...  \n",
       "30    muller@thedoghousemail.comcindy.long@enron.com...  \n",
       "31    greg.piper@enron.comgreg.piper@enron.comrich@p...  "
      ]
     },
     "execution_count": 32,
     "metadata": {},
     "output_type": "execute_result"
    }
   ],
   "source": [
    "links.groupby([times.day]).sum()"
   ]
  },
  {
   "cell_type": "code",
   "execution_count": 33,
   "metadata": {
    "collapsed": false
   },
   "outputs": [
    {
     "ename": "TypeError",
     "evalue": "Only valid with DatetimeIndex, TimedeltaIndex or PeriodIndex, but got an instance of 'RangeIndex'",
     "output_type": "error",
     "traceback": [
      "\u001b[1;31m---------------------------------------------------------------------------\u001b[0m",
      "\u001b[1;31mTypeError\u001b[0m                                 Traceback (most recent call last)",
      "\u001b[1;32m<ipython-input-33-c42ffca6054c>\u001b[0m in \u001b[0;36m<module>\u001b[1;34m()\u001b[0m\n\u001b[1;32m----> 1\u001b[1;33m \u001b[0mlinks\u001b[0m\u001b[1;33m.\u001b[0m\u001b[0mresample\u001b[0m\u001b[1;33m(\u001b[0m\u001b[1;34m'D'\u001b[0m\u001b[1;33m)\u001b[0m\u001b[1;33m\u001b[0m\u001b[0m\n\u001b[0m",
      "\u001b[1;32m/usr/lib/python2.7/dist-packages/pandas/core/generic.pyc\u001b[0m in \u001b[0;36mresample\u001b[1;34m(self, rule, how, axis, fill_method, closed, label, convention, kind, loffset, limit, base, on, level)\u001b[0m\n\u001b[0;32m   5520\u001b[0m                      \u001b[0maxis\u001b[0m\u001b[1;33m=\u001b[0m\u001b[0maxis\u001b[0m\u001b[1;33m,\u001b[0m \u001b[0mkind\u001b[0m\u001b[1;33m=\u001b[0m\u001b[0mkind\u001b[0m\u001b[1;33m,\u001b[0m \u001b[0mloffset\u001b[0m\u001b[1;33m=\u001b[0m\u001b[0mloffset\u001b[0m\u001b[1;33m,\u001b[0m\u001b[1;33m\u001b[0m\u001b[0m\n\u001b[0;32m   5521\u001b[0m                      \u001b[0mconvention\u001b[0m\u001b[1;33m=\u001b[0m\u001b[0mconvention\u001b[0m\u001b[1;33m,\u001b[0m\u001b[1;33m\u001b[0m\u001b[0m\n\u001b[1;32m-> 5522\u001b[1;33m                      base=base, key=on, level=level)\n\u001b[0m\u001b[0;32m   5523\u001b[0m         return _maybe_process_deprecations(r,\n\u001b[0;32m   5524\u001b[0m                                            \u001b[0mhow\u001b[0m\u001b[1;33m=\u001b[0m\u001b[0mhow\u001b[0m\u001b[1;33m,\u001b[0m\u001b[1;33m\u001b[0m\u001b[0m\n",
      "\u001b[1;32m/usr/lib/python2.7/dist-packages/pandas/core/resample.pyc\u001b[0m in \u001b[0;36mresample\u001b[1;34m(obj, kind, **kwds)\u001b[0m\n\u001b[0;32m    997\u001b[0m     \u001b[1;34m\"\"\" create a TimeGrouper and return our resampler \"\"\"\u001b[0m\u001b[1;33m\u001b[0m\u001b[0m\n\u001b[0;32m    998\u001b[0m     \u001b[0mtg\u001b[0m \u001b[1;33m=\u001b[0m \u001b[0mTimeGrouper\u001b[0m\u001b[1;33m(\u001b[0m\u001b[1;33m**\u001b[0m\u001b[0mkwds\u001b[0m\u001b[1;33m)\u001b[0m\u001b[1;33m\u001b[0m\u001b[0m\n\u001b[1;32m--> 999\u001b[1;33m     \u001b[1;32mreturn\u001b[0m \u001b[0mtg\u001b[0m\u001b[1;33m.\u001b[0m\u001b[0m_get_resampler\u001b[0m\u001b[1;33m(\u001b[0m\u001b[0mobj\u001b[0m\u001b[1;33m,\u001b[0m \u001b[0mkind\u001b[0m\u001b[1;33m=\u001b[0m\u001b[0mkind\u001b[0m\u001b[1;33m)\u001b[0m\u001b[1;33m\u001b[0m\u001b[0m\n\u001b[0m\u001b[0;32m   1000\u001b[0m \u001b[1;33m\u001b[0m\u001b[0m\n\u001b[0;32m   1001\u001b[0m \u001b[1;33m\u001b[0m\u001b[0m\n",
      "\u001b[1;32m/usr/lib/python2.7/dist-packages/pandas/core/resample.pyc\u001b[0m in \u001b[0;36m_get_resampler\u001b[1;34m(self, obj, kind)\u001b[0m\n\u001b[0;32m   1114\u001b[0m         raise TypeError(\"Only valid with DatetimeIndex, \"\n\u001b[0;32m   1115\u001b[0m                         \u001b[1;34m\"TimedeltaIndex or PeriodIndex, \"\u001b[0m\u001b[1;33m\u001b[0m\u001b[0m\n\u001b[1;32m-> 1116\u001b[1;33m                         \"but got an instance of %r\" % type(ax).__name__)\n\u001b[0m\u001b[0;32m   1117\u001b[0m \u001b[1;33m\u001b[0m\u001b[0m\n\u001b[0;32m   1118\u001b[0m     \u001b[1;32mdef\u001b[0m \u001b[0m_get_grouper\u001b[0m\u001b[1;33m(\u001b[0m\u001b[0mself\u001b[0m\u001b[1;33m,\u001b[0m \u001b[0mobj\u001b[0m\u001b[1;33m,\u001b[0m \u001b[0mvalidate\u001b[0m\u001b[1;33m=\u001b[0m\u001b[0mTrue\u001b[0m\u001b[1;33m)\u001b[0m\u001b[1;33m:\u001b[0m\u001b[1;33m\u001b[0m\u001b[0m\n",
      "\u001b[1;31mTypeError\u001b[0m: Only valid with DatetimeIndex, TimedeltaIndex or PeriodIndex, but got an instance of 'RangeIndex'"
     ]
    }
   ],
   "source": [
    "links.resample('D')"
   ]
  },
  {
   "cell_type": "code",
   "execution_count": null,
   "metadata": {
    "collapsed": true
   },
   "outputs": [],
   "source": []
  }
 ],
 "metadata": {
  "kernelspec": {
   "display_name": "Python 2",
   "language": "python",
   "name": "python2"
  },
  "language_info": {
   "codemirror_mode": {
    "name": "ipython",
    "version": 2
   },
   "file_extension": ".py",
   "mimetype": "text/x-python",
   "name": "python",
   "nbconvert_exporter": "python",
   "pygments_lexer": "ipython2",
   "version": "2.7.15rc1"
  }
 },
 "nbformat": 4,
 "nbformat_minor": 1
}
