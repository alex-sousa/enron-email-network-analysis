{
 "cells": [
  {
   "cell_type": "code",
   "execution_count": 3,
   "metadata": {
    "collapsed": true
   },
   "outputs": [],
   "source": [
    "import pandas as pd\n",
    "from matplotlib import pyplot as plt\n",
    "from datetime import datetime\n",
    "import numpy as np\n",
    "%matplotlib inline"
   ]
  },
  {
   "cell_type": "code",
   "execution_count": 4,
   "metadata": {
    "collapsed": true
   },
   "outputs": [],
   "source": [
    "plt.style.use(['dark_background', 'seaborn-talk'])"
   ]
  },
  {
   "cell_type": "code",
   "execution_count": 5,
   "metadata": {
    "collapsed": true
   },
   "outputs": [],
   "source": [
    "links = pd.read_csv('email-links-all.csv')"
   ]
  },
  {
   "cell_type": "code",
   "execution_count": 6,
   "metadata": {
    "collapsed": false
   },
   "outputs": [
    {
     "data": {
      "text/plain": [
       "(614586, 3)"
      ]
     },
     "execution_count": 6,
     "metadata": {},
     "output_type": "execute_result"
    }
   ],
   "source": [
    "links.shape"
   ]
  },
  {
   "cell_type": "code",
   "execution_count": 7,
   "metadata": {
    "collapsed": false
   },
   "outputs": [
    {
     "name": "stderr",
     "output_type": "stream",
     "text": [
      "/usr/local/lib/python2.7/dist-packages/ipykernel/__main__.py:1: UserWarning: Boolean Series key will be reindexed to match DataFrame index.\n",
      "  if __name__ == '__main__':\n"
     ]
    }
   ],
   "source": [
    "links = links[links.Date > '1980-01-01 00:00:00'][links.Date < '2043-12-28 19:34:12']"
   ]
  },
  {
   "cell_type": "code",
   "execution_count": 8,
   "metadata": {
    "collapsed": false,
    "scrolled": true
   },
   "outputs": [
    {
     "data": {
      "text/html": [
       "<div>\n",
       "<style scoped>\n",
       "    .dataframe tbody tr th:only-of-type {\n",
       "        vertical-align: middle;\n",
       "    }\n",
       "\n",
       "    .dataframe tbody tr th {\n",
       "        vertical-align: top;\n",
       "    }\n",
       "\n",
       "    .dataframe thead th {\n",
       "        text-align: right;\n",
       "    }\n",
       "</style>\n",
       "<table border=\"1\" class=\"dataframe\">\n",
       "  <thead>\n",
       "    <tr style=\"text-align: right;\">\n",
       "      <th></th>\n",
       "      <th>Date</th>\n",
       "      <th>From</th>\n",
       "      <th>To</th>\n",
       "    </tr>\n",
       "  </thead>\n",
       "  <tbody>\n",
       "    <tr>\n",
       "      <th>0</th>\n",
       "      <td>2001-05-14 23:39:00</td>\n",
       "      <td>phillip.allen@enron.com</td>\n",
       "      <td>tim.belden@enron.com</td>\n",
       "    </tr>\n",
       "    <tr>\n",
       "      <th>1</th>\n",
       "      <td>2001-05-04 20:51:00</td>\n",
       "      <td>phillip.allen@enron.com</td>\n",
       "      <td>john.lavorato@enron.com</td>\n",
       "    </tr>\n",
       "    <tr>\n",
       "      <th>2</th>\n",
       "      <td>2000-10-18 10:00:00</td>\n",
       "      <td>phillip.allen@enron.com</td>\n",
       "      <td>leah.arsdall@enron.com</td>\n",
       "    </tr>\n",
       "    <tr>\n",
       "      <th>3</th>\n",
       "      <td>2000-10-23 13:13:00</td>\n",
       "      <td>phillip.allen@enron.com</td>\n",
       "      <td>randall.gay@enron.com</td>\n",
       "    </tr>\n",
       "    <tr>\n",
       "      <th>4</th>\n",
       "      <td>2000-08-31 12:07:00</td>\n",
       "      <td>phillip.allen@enron.com</td>\n",
       "      <td>greg.piper@enron.com</td>\n",
       "    </tr>\n",
       "  </tbody>\n",
       "</table>\n",
       "</div>"
      ],
      "text/plain": [
       "                  Date                     From                       To\n",
       "0  2001-05-14 23:39:00  phillip.allen@enron.com     tim.belden@enron.com\n",
       "1  2001-05-04 20:51:00  phillip.allen@enron.com  john.lavorato@enron.com\n",
       "2  2000-10-18 10:00:00  phillip.allen@enron.com   leah.arsdall@enron.com\n",
       "3  2000-10-23 13:13:00  phillip.allen@enron.com    randall.gay@enron.com\n",
       "4  2000-08-31 12:07:00  phillip.allen@enron.com     greg.piper@enron.com"
      ]
     },
     "execution_count": 8,
     "metadata": {},
     "output_type": "execute_result"
    }
   ],
   "source": [
    "links.head()"
   ]
  },
  {
   "cell_type": "markdown",
   "metadata": {},
   "source": [
    "Count the number of contact events between emails. Here, we consider the number of interactions as weights."
   ]
  },
  {
   "cell_type": "code",
   "execution_count": 9,
   "metadata": {
    "collapsed": false
   },
   "outputs": [],
   "source": [
    "weight_counts = links.groupby(['From', 'To']).size().reset_index(name = 'Count')\n",
    "weight_counts.to_csv('weighted_links.csv', index=False)"
   ]
  },
  {
   "cell_type": "code",
   "execution_count": 10,
   "metadata": {
    "collapsed": false,
    "scrolled": true
   },
   "outputs": [
    {
     "data": {
      "text/plain": [
       "(83714, 3)"
      ]
     },
     "execution_count": 10,
     "metadata": {},
     "output_type": "execute_result"
    }
   ],
   "source": [
    "weight_counts.shape"
   ]
  },
  {
   "cell_type": "code",
   "execution_count": 11,
   "metadata": {
    "collapsed": false
   },
   "outputs": [
    {
     "data": {
      "text/html": [
       "<div>\n",
       "<style scoped>\n",
       "    .dataframe tbody tr th:only-of-type {\n",
       "        vertical-align: middle;\n",
       "    }\n",
       "\n",
       "    .dataframe tbody tr th {\n",
       "        vertical-align: top;\n",
       "    }\n",
       "\n",
       "    .dataframe thead th {\n",
       "        text-align: right;\n",
       "    }\n",
       "</style>\n",
       "<table border=\"1\" class=\"dataframe\">\n",
       "  <thead>\n",
       "    <tr style=\"text-align: right;\">\n",
       "      <th></th>\n",
       "      <th>From</th>\n",
       "      <th>To</th>\n",
       "      <th>Count</th>\n",
       "    </tr>\n",
       "  </thead>\n",
       "  <tbody>\n",
       "    <tr>\n",
       "      <th>0</th>\n",
       "      <td>101qi@msn.com</td>\n",
       "      <td>enlvwvz@msn.com</td>\n",
       "      <td>1</td>\n",
       "    </tr>\n",
       "    <tr>\n",
       "      <th>39614</th>\n",
       "      <td>karen.white@csfb.com</td>\n",
       "      <td>klay@enron.com</td>\n",
       "      <td>1</td>\n",
       "    </tr>\n",
       "    <tr>\n",
       "      <th>39615</th>\n",
       "      <td>karen@mpenner.com</td>\n",
       "      <td>jarnold@enron.com</td>\n",
       "      <td>1</td>\n",
       "    </tr>\n",
       "    <tr>\n",
       "      <th>39616</th>\n",
       "      <td>karen@mpenner.com</td>\n",
       "      <td>kenneth.lay@enron.com</td>\n",
       "      <td>1</td>\n",
       "    </tr>\n",
       "    <tr>\n",
       "      <th>39625</th>\n",
       "      <td>kari.oquinn@enron.com</td>\n",
       "      <td>amy.fitzpatrick@enron.com</td>\n",
       "      <td>1</td>\n",
       "    </tr>\n",
       "  </tbody>\n",
       "</table>\n",
       "</div>"
      ],
      "text/plain": [
       "                        From                         To  Count\n",
       "0              101qi@msn.com            enlvwvz@msn.com      1\n",
       "39614   karen.white@csfb.com             klay@enron.com      1\n",
       "39615      karen@mpenner.com          jarnold@enron.com      1\n",
       "39616      karen@mpenner.com      kenneth.lay@enron.com      1\n",
       "39625  kari.oquinn@enron.com  amy.fitzpatrick@enron.com      1"
      ]
     },
     "execution_count": 11,
     "metadata": {},
     "output_type": "execute_result"
    }
   ],
   "source": [
    "weight_counts.sort_values('Count').head()"
   ]
  },
  {
   "cell_type": "code",
   "execution_count": 12,
   "metadata": {
    "collapsed": false
   },
   "outputs": [],
   "source": [
    "thresholded_weight_counts = weight_counts.loc[weight_counts['Count'] > 10]"
   ]
  },
  {
   "cell_type": "code",
   "execution_count": 13,
   "metadata": {
    "collapsed": false
   },
   "outputs": [],
   "source": [
    "# fig, ax = plt.subplots()\n",
    "# thresholded_weight_counts.hist(ax=ax, column='Count', bins=1000)\n",
    "# ax.set_xscale('log')\n",
    "# ax.set_yscale('log')"
   ]
  },
  {
   "cell_type": "markdown",
   "metadata": {},
   "source": [
    "Count From messages per email"
   ]
  },
  {
   "cell_type": "code",
   "execution_count": 14,
   "metadata": {
    "collapsed": false
   },
   "outputs": [
    {
     "data": {
      "text/plain": [
       "(12661, 2)"
      ]
     },
     "execution_count": 14,
     "metadata": {},
     "output_type": "execute_result"
    }
   ],
   "source": [
    "from_counts = links.groupby(['From']).size().reset_index(name = 'CountFrom')\n",
    "from_counts.sort_values('CountFrom').shape"
   ]
  },
  {
   "cell_type": "markdown",
   "metadata": {},
   "source": [
    "Get timestamps for each From email"
   ]
  },
  {
   "cell_type": "code",
   "execution_count": 15,
   "metadata": {
    "collapsed": false
   },
   "outputs": [
    {
     "data": {
      "text/plain": [
       "12661"
      ]
     },
     "execution_count": 15,
     "metadata": {},
     "output_type": "execute_result"
    }
   ],
   "source": [
    "from_spikes = links.groupby('From')['Date'].apply(list)\n",
    "from_spikes.size"
   ]
  },
  {
   "cell_type": "markdown",
   "metadata": {},
   "source": [
    "Threshold. Discard emails that are note active"
   ]
  },
  {
   "cell_type": "code",
   "execution_count": 16,
   "metadata": {
    "collapsed": false
   },
   "outputs": [
    {
     "data": {
      "text/plain": [
       "6601"
      ]
     },
     "execution_count": 16,
     "metadata": {},
     "output_type": "execute_result"
    }
   ],
   "source": [
    "from_spikes = from_spikes[from_spikes.str.len() > 3]\n",
    "from_spikes.size"
   ]
  },
  {
   "cell_type": "code",
   "execution_count": 17,
   "metadata": {
    "collapsed": false
   },
   "outputs": [
    {
     "data": {
      "text/plain": [
       "From\n",
       "1800flowers@shop2u.com             [2000-11-21 01:21:00, 2000-11-21 01:21:00, 200...\n",
       "2000greetings@postalmanager.com    [2002-01-08 18:25:48, 2002-01-22 17:53:03, 200...\n",
       "2740741@skytel.com                 [2000-09-06 15:34:00, 2000-09-06 16:33:00, 200...\n",
       "40ees@enron.com                    [2001-10-05 18:45:16, 2001-10-05 18:45:16, 200...\n",
       "40enron@enron.com                  [2001-06-06 18:08:58, 2001-05-03 19:48:48, 200...\n",
       "7409949@skytel.com                 [2001-06-26 17:07:00, 2001-07-18 21:04:00, 200...\n",
       "7409950@skytel.com                 [2001-11-25 20:17:03, 2001-11-25 20:22:26, 200...\n",
       "8774754543@skytel.com              [2001-11-17 17:51:21, 2002-01-17 15:34:43, 200...\n",
       "8777865122@skytel.com              [2002-01-10 19:10:59, 2002-01-10 19:00:10, 200...\n",
       "9069761@skytel.com                 [2001-07-18 20:20:00, 2000-11-07 13:47:00, 200...\n",
       "Name: Date, dtype: object"
      ]
     },
     "execution_count": 17,
     "metadata": {},
     "output_type": "execute_result"
    }
   ],
   "source": [
    "from_spikes[:10]"
   ]
  },
  {
   "cell_type": "markdown",
   "metadata": {},
   "source": [
    "Timerange in the dataset"
   ]
  },
  {
   "cell_type": "code",
   "execution_count": 18,
   "metadata": {
    "collapsed": false
   },
   "outputs": [
    {
     "data": {
      "text/plain": [
       "166316"
      ]
     },
     "execution_count": 18,
     "metadata": {},
     "output_type": "execute_result"
    }
   ],
   "source": [
    "timestamps = list(set(links.Date.tolist()))\n",
    "timestamps = [datetime.strptime(date, '%Y-%m-%d %H:%M:%S') for date in timestamps]\n",
    "len(timestamps)"
   ]
  },
  {
   "cell_type": "code",
   "execution_count": 19,
   "metadata": {
    "collapsed": false
   },
   "outputs": [],
   "source": [
    "#extract the earliest and the latest dates in the dataset\n",
    "start_time = min(timestamps)\n",
    "end_time = max(timestamps)"
   ]
  },
  {
   "cell_type": "code",
   "execution_count": 20,
   "metadata": {
    "collapsed": false
   },
   "outputs": [
    {
     "data": {
      "text/plain": [
       "'06 Jan 1998'"
      ]
     },
     "execution_count": 20,
     "metadata": {},
     "output_type": "execute_result"
    }
   ],
   "source": [
    "start_time.strftime(\"%d %b %Y\")"
   ]
  },
  {
   "cell_type": "code",
   "execution_count": 21,
   "metadata": {
    "collapsed": false
   },
   "outputs": [
    {
     "data": {
      "text/plain": [
       "'04 Feb 2004'"
      ]
     },
     "execution_count": 21,
     "metadata": {},
     "output_type": "execute_result"
    }
   ],
   "source": [
    "end_time.strftime(\"%d %b %Y\")"
   ]
  },
  {
   "cell_type": "markdown",
   "metadata": {},
   "source": [
    "Extracting spikes"
   ]
  },
  {
   "cell_type": "code",
   "execution_count": 22,
   "metadata": {
    "collapsed": false,
    "scrolled": false
   },
   "outputs": [],
   "source": [
    "#visualize timeline. Assign random number to each timestamp\n",
    "# n = 10\n",
    "# # for label, time in zip(from_spikes.keys[:n], from_spikes.values[:n]):\n",
    "# for label, time in from_spikes[:].iteritems():\n",
    "#     unique_elements, counts_elements = np.unique(time, return_counts=True)\n",
    "# #     time = list(set(time))\n",
    "#     time = unique_elements\n",
    "#     plt.plot_date(time, counts_elements)\n",
    "#     plt.legend()"
   ]
  },
  {
   "cell_type": "code",
   "execution_count": 23,
   "metadata": {
    "collapsed": false
   },
   "outputs": [
    {
     "name": "stdout",
     "output_type": "stream",
     "text": [
      "(2221,)\n"
     ]
    }
   ],
   "source": [
    "activations = pd.DataFrame(columns=['address', 'activations'])\n",
    "activations_series = pd.Series()\n",
    "i = 0\n",
    "for label, time in from_spikes[:].iteritems():\n",
    "    unique_elements, counts_elements = np.unique(time, return_counts=True)\n",
    "    counts_elements = np.append(counts_elements, 0)\n",
    "    counts_elements = np.insert(counts_elements, 0, 0)\n",
    "    unique_elements = np.append(unique_elements, end_time)\n",
    "    unique_elements = np.insert(unique_elements, 0, start_time)\n",
    "    d = {'Counts': counts_elements}\n",
    "    df = pd.DataFrame(data = d, index = pd.to_datetime(unique_elements))\n",
    "    df = df.Counts.resample('D').sum()\n",
    "    t = df.values.shape\n",
    "    vals = {k:x for k,x in enumerate(df.values) if x != 0}\n",
    "    activations.loc[i] = [label, vals]\n",
    "    activations_series[label] = vals\n",
    "    i += 1\n",
    "print(t) # length of a time-series"
   ]
  },
  {
   "cell_type": "code",
   "execution_count": 24,
   "metadata": {
    "collapsed": true
   },
   "outputs": [],
   "source": [
    "dates = list(df.keys())"
   ]
  },
  {
   "cell_type": "code",
   "execution_count": 25,
   "metadata": {
    "collapsed": false,
    "scrolled": false
   },
   "outputs": [],
   "source": [
    "#December\n",
    "\n",
    "# series = activations_series[6056]\n",
    "# zeros = np.zeros(t[0])\n",
    "\n",
    "# for k,v in series.iteritems():\n",
    "#     zeros[k] = v\n",
    "\n",
    "# # plt.bar(list(df.keys())[359 + 365 - 31 : 359 + 365], zeros[359 + 365 - 31 : 359 + 365])\n",
    "# plt.bar(dates, zeros)\n",
    "# plt.axvline(x= '1999-12-01 00:00:00', color='r', linewidth=1)\n",
    "# plt.axvline(x= '1999-12-31 00:00:00', color='r', linewidth=1)"
   ]
  },
  {
   "cell_type": "code",
   "execution_count": 26,
   "metadata": {
    "collapsed": false
   },
   "outputs": [],
   "source": [
    "#August\n",
    "\n",
    "# series = activations_series[2720]\n",
    "# zeros = np.zeros(t[0])\n",
    "\n",
    "# for k,v in series.iteritems():\n",
    "#     zeros[k] = v\n",
    "\n",
    "# # plt.bar(list(df.keys())[359 + 365 + 366 + 213 : 359 + 365 + 366 + 244], zeros[359 + 365 + 366 + 213 : 359 + 365 + 366 + 244])\n",
    "# plt.bar(dates, zeros)\n",
    "# plt.axvline(x= '2001-08-01 00:00:00', color='r', linewidth=1)\n",
    "# plt.axvline(x= '2001-08-31 00:00:00', color='r', linewidth=1)"
   ]
  },
  {
   "cell_type": "code",
   "execution_count": 27,
   "metadata": {
    "collapsed": false
   },
   "outputs": [],
   "source": [
    "summary_all = np.zeros(t[0])\n",
    "for series in activations_series:\n",
    "    for k,v in series.items():\n",
    "        summary_all[k] += v"
   ]
  },
  {
   "cell_type": "code",
   "execution_count": 28,
   "metadata": {
    "collapsed": false
   },
   "outputs": [],
   "source": [
    "# plt.plot(dates, summary_all)"
   ]
  },
  {
   "cell_type": "code",
   "execution_count": 29,
   "metadata": {
    "collapsed": false
   },
   "outputs": [],
   "source": [
    "# activations_series.to_csv('activations-enron.csv')"
   ]
  },
  {
   "cell_type": "code",
   "execution_count": 30,
   "metadata": {
    "collapsed": false
   },
   "outputs": [],
   "source": [
    "emails_activated = list(activations_series.index)"
   ]
  },
  {
   "cell_type": "code",
   "execution_count": 31,
   "metadata": {
    "collapsed": false
   },
   "outputs": [],
   "source": [
    "weight_counts = weight_counts[weight_counts.From.isin(emails_activated)]"
   ]
  },
  {
   "cell_type": "code",
   "execution_count": 32,
   "metadata": {
    "collapsed": false
   },
   "outputs": [],
   "source": [
    "weight_counts = weight_counts[weight_counts.To.isin(emails_activated)]"
   ]
  },
  {
   "cell_type": "code",
   "execution_count": 33,
   "metadata": {
    "collapsed": false
   },
   "outputs": [
    {
     "data": {
      "text/plain": [
       "(50904, 3)"
      ]
     },
     "execution_count": 33,
     "metadata": {},
     "output_type": "execute_result"
    }
   ],
   "source": [
    "weight_counts.shape"
   ]
  },
  {
   "cell_type": "code",
   "execution_count": 34,
   "metadata": {
    "collapsed": true
   },
   "outputs": [],
   "source": [
    "# weight_counts.to_csv('weighted_links_activated.csv', index=False)"
   ]
  },
  {
   "cell_type": "markdown",
   "metadata": {},
   "source": [
    "Assign IDs to emails"
   ]
  },
  {
   "cell_type": "code",
   "execution_count": 35,
   "metadata": {
    "collapsed": true
   },
   "outputs": [],
   "source": [
    "email_id = {x:i for i,x in enumerate(emails_activated)}"
   ]
  },
  {
   "cell_type": "code",
   "execution_count": 36,
   "metadata": {
    "collapsed": true
   },
   "outputs": [],
   "source": [
    "id_email = {i:x for i,x in enumerate(emails_activated)}"
   ]
  },
  {
   "cell_type": "code",
   "execution_count": 37,
   "metadata": {
    "collapsed": false
   },
   "outputs": [],
   "source": [
    "activations = pd.DataFrame(columns=['address', 'activations'])\n",
    "activations_series = pd.Series()\n",
    "i = 0\n",
    "for label, time in from_spikes[:].iteritems():\n",
    "    unique_elements, counts_elements = np.unique(time, return_counts=True)\n",
    "    counts_elements = np.append(counts_elements, 0)\n",
    "    counts_elements = np.insert(counts_elements, 0, 0)\n",
    "    unique_elements = np.append(unique_elements, end_time)\n",
    "    unique_elements = np.insert(unique_elements, 0, start_time)\n",
    "    d = {'Counts': counts_elements}\n",
    "    df = pd.DataFrame(data = d, index = pd.to_datetime(unique_elements))\n",
    "    df = df.Counts.resample('D').sum()\n",
    "    t = df.values.shape\n",
    "    vals = {k:x for k,x in enumerate(df.values) if x != 0}\n",
    "    activations.loc[i] = [label, vals]\n",
    "    activations_series.loc[email_id[label]] = vals\n",
    "    i += 1"
   ]
  },
  {
   "cell_type": "code",
   "execution_count": 38,
   "metadata": {
    "collapsed": false
   },
   "outputs": [],
   "source": [
    "# for i, row in weight_counts.iterrows():\n",
    "#     weight_counts.loc[i] = [email_id[row.From], email_id[row.To], row.Count]"
   ]
  },
  {
   "cell_type": "code",
   "execution_count": 39,
   "metadata": {
    "collapsed": false
   },
   "outputs": [],
   "source": [
    "# weight_counts.head()"
   ]
  },
  {
   "cell_type": "code",
   "execution_count": 40,
   "metadata": {
    "collapsed": true
   },
   "outputs": [],
   "source": [
    "# weight_counts.to_csv('weighted_links_activated_id.csv', index=False)"
   ]
  },
  {
   "cell_type": "code",
   "execution_count": 41,
   "metadata": {
    "collapsed": true
   },
   "outputs": [],
   "source": [
    "# activations_series.to_csv('activations-enron_id.csv')"
   ]
  },
  {
   "cell_type": "code",
   "execution_count": 42,
   "metadata": {
    "collapsed": false
   },
   "outputs": [],
   "source": [
    "# id_email.get(6056)"
   ]
  },
  {
   "cell_type": "markdown",
   "metadata": {},
   "source": [
    "Compute summary statistics for the events"
   ]
  },
  {
   "cell_type": "code",
   "execution_count": 43,
   "metadata": {
    "collapsed": true
   },
   "outputs": [],
   "source": [
    "apr01 = pd.read_csv('./events/apr01.csv', header=None)\n",
    "aug01 = pd.read_csv('./events/aug01.csv', header=None)\n",
    "dec99 = pd.read_csv('./events/dec99.csv', header=None)\n",
    "may01 = pd.read_csv('./events/may01.csv', header=None)\n",
    "may01STD = pd.read_csv('./events/may01STD.csv', header=None)\n",
    "apr01STD = pd.read_csv('./events/apr01STD.csv', header=None)\n",
    "aug01STD = pd.read_csv('./events/aug01STD.csv', header=None)\n",
    "dec99STD = pd.read_csv('./events/dec99STD.csv', header=None)"
   ]
  },
  {
   "cell_type": "code",
   "execution_count": 44,
   "metadata": {
    "collapsed": false
   },
   "outputs": [],
   "source": [
    "apr01_cluster = [v[0] for v in apr01.values]\n",
    "aug01_cluster = [v[0] for v in aug01.values]\n",
    "dec99_cluster = [v[0] for v in dec99.values]\n",
    "may01_cluster = [v[0] for v in may01.values]\n",
    "may01STD_cluster = [v[0] for v in may01STD.values]\n",
    "apr01STD_cluster = [v[0] for v in apr01STD.values]\n",
    "aug01STD_cluster = [v[0] for v in aug01STD.values]\n",
    "dec99STD_cluster = [v[0] for v in dec99STD.values]"
   ]
  },
  {
   "cell_type": "code",
   "execution_count": 45,
   "metadata": {
    "collapsed": true
   },
   "outputs": [],
   "source": [
    "def compute_summary(cluster):\n",
    "    summary = np.zeros(t[0])\n",
    "    for addr in cluster:\n",
    "        series = activations_series[addr]\n",
    "        for k,v in series.items():\n",
    "            summary[k] += v\n",
    "    return summary"
   ]
  },
  {
   "cell_type": "code",
   "execution_count": 46,
   "metadata": {
    "collapsed": true
   },
   "outputs": [],
   "source": [
    "summary_apr = compute_summary(apr01_cluster)\n",
    "summary_aug = compute_summary(aug01_cluster)\n",
    "summary_dec = compute_summary(dec99_cluster)\n",
    "summary_may = compute_summary(may01_cluster)\n",
    "summary_may_std = compute_summary(may01STD_cluster)\n",
    "summary_apr_std = compute_summary(apr01STD_cluster)\n",
    "summary_aug_std = compute_summary(aug01STD_cluster)\n",
    "summary_dec_std = compute_summary(dec99STD_cluster)"
   ]
  },
  {
   "cell_type": "code",
   "execution_count": 47,
   "metadata": {
    "collapsed": false
   },
   "outputs": [],
   "source": [
    "# fig, ax = plt.subplots(nrows=2, ncols=3)\n",
    "# for row in ax:\n",
    "#     for col, s in zip(row, [summary_apr, summary_aug, summary_dec, summary_may, summary_may_std]):\n",
    "#         col.plot(dates, s)"
   ]
  },
  {
   "cell_type": "code",
   "execution_count": 53,
   "metadata": {
    "collapsed": false
   },
   "outputs": [
    {
     "data": {
      "text/plain": [
       "<matplotlib.text.Text at 0x7f2524a36650>"
      ]
     },
     "execution_count": 53,
     "metadata": {},
     "output_type": "execute_result"
    },
    {
     "data": {
      "image/png": "[encoded data removed]",
      "text/plain": [
       "<matplotlib.figure.Figure at 0x7f2524384710>"
      ]
     },
     "metadata": {},
     "output_type": "display_data"
    }
   ],
   "source": [
    "plt.plot(dates, summary_all)\n",
    "plt.title('All emails')"
   ]
  },
  {
   "cell_type": "code",
   "execution_count": 54,
   "metadata": {
    "collapsed": false
   },
   "outputs": [
    {
     "data": {
      "text/plain": [
       "<matplotlib.text.Text at 0x7f24f861fa50>"
      ]
     },
     "execution_count": 54,
     "metadata": {},
     "output_type": "execute_result"
    },
    {
     "data": {
      "image/png": "[encoded data removed]",
      "text/plain": [
       "<matplotlib.figure.Figure at 0x7f2524ac0dd0>"
      ]
     },
     "metadata": {},
     "output_type": "display_data"
    }
   ],
   "source": [
    "plt.plot(dates, summary_may_std)\n",
    "plt.axvline(x= '2001-05-01 00:00:00', color='r', linewidth=1)\n",
    "plt.axvline(x= '2001-06-15 00:00:00', color='r', linewidth=1)\n",
    "plt.title('May 2001')"
   ]
  },
  {
   "cell_type": "code",
   "execution_count": 55,
   "metadata": {
    "collapsed": false
   },
   "outputs": [
    {
     "data": {
      "text/plain": [
       "<matplotlib.text.Text at 0x7f2524b5c3d0>"
      ]
     },
     "execution_count": 55,
     "metadata": {},
     "output_type": "execute_result"
    },
    {
     "data": {
      "image/png": "[encoded data removed]",
      "text/plain": [
       "<matplotlib.figure.Figure at 0x7f24f8611550>"
      ]
     },
     "metadata": {},
     "output_type": "display_data"
    }
   ],
   "source": [
    "plt.plot(dates, summary_aug_std)\n",
    "plt.axvline(x= '2001-08-01 00:00:00', color='r', linewidth=1)\n",
    "plt.axvline(x= '2001-08-31 00:00:00', color='r', linewidth=1)\n",
    "plt.title('August 2001')"
   ]
  },
  {
   "cell_type": "code",
   "execution_count": 56,
   "metadata": {
    "collapsed": false
   },
   "outputs": [
    {
     "data": {
      "text/plain": [
       "<matplotlib.text.Text at 0x7f24f85e57d0>"
      ]
     },
     "execution_count": 56,
     "metadata": {},
     "output_type": "execute_result"
    },
    {
     "data": {
      "image/png": "[encoded data removed]",
      "text/plain": [
       "<matplotlib.figure.Figure at 0x7f2524a6dfd0>"
      ]
     },
     "metadata": {},
     "output_type": "display_data"
    }
   ],
   "source": [
    "plt.plot(dates, summary_dec_std)\n",
    "plt.axvline(x= '1999-12-01 00:00:00', color='r', linewidth=1)\n",
    "plt.axvline(x= '1999-12-31 00:00:00', color='r', linewidth=1)\n",
    "plt.title('December 1999')"
   ]
  },
  {
   "cell_type": "code",
   "execution_count": 57,
   "metadata": {
    "collapsed": false
   },
   "outputs": [
    {
     "data": {
      "text/plain": [
       "<matplotlib.text.Text at 0x7f24f8521e50>"
      ]
     },
     "execution_count": 57,
     "metadata": {},
     "output_type": "execute_result"
    },
    {
     "data": {
      "image/png": "[encoded data removed]",
      "text/plain": [
       "<matplotlib.figure.Figure at 0x7f24f8560390>"
      ]
     },
     "metadata": {},
     "output_type": "display_data"
    }
   ],
   "source": [
    "plt.plot(dates, summary_apr_std)\n",
    "plt.axvline(x= '2001-04-01 00:00:00', color='r', linewidth=1)\n",
    "plt.axvline(x= '2001-04-30 00:00:00', color='r', linewidth=1)\n",
    "plt.title('April 2001')"
   ]
  },
  {
   "cell_type": "code",
   "execution_count": null,
   "metadata": {
    "collapsed": true
   },
   "outputs": [],
   "source": []
  }
 ],
 "metadata": {
  "kernelspec": {
   "display_name": "Python 2",
   "language": "python",
   "name": "python2"
  },
  "language_info": {
   "codemirror_mode": {
    "name": "ipython",
    "version": 2
   },
   "file_extension": ".py",
   "mimetype": "text/x-python",
   "name": "python",
   "nbconvert_exporter": "python",
   "pygments_lexer": "ipython2",
   "version": "2.7.15rc1"
  }
 },
 "nbformat": 4,
 "nbformat_minor": 2
}
