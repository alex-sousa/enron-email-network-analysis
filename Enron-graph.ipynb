{
 "cells": [
  {
   "cell_type": "code",
   "execution_count": 1,
   "metadata": {
    "collapsed": true
   },
   "outputs": [],
   "source": [
    "import pandas as pd\n",
    "from matplotlib import pyplot as plt\n",
    "from datetime import datetime\n",
    "import numpy as np\n",
    "%matplotlib inline"
   ]
  },
  {
   "cell_type": "code",
   "execution_count": 2,
   "metadata": {
    "collapsed": true
   },
   "outputs": [],
   "source": [
    "plt.style.use(['dark_background', 'seaborn-talk'])"
   ]
  },
  {
   "cell_type": "code",
   "execution_count": 3,
   "metadata": {
    "collapsed": true
   },
   "outputs": [],
   "source": [
    "links = pd.read_csv('email-links-all.csv')"
   ]
  },
  {
   "cell_type": "code",
   "execution_count": 4,
   "metadata": {
    "collapsed": false
   },
   "outputs": [
    {
     "data": {
      "text/plain": [
       "(614586, 3)"
      ]
     },
     "execution_count": 4,
     "metadata": {},
     "output_type": "execute_result"
    }
   ],
   "source": [
    "links.shape"
   ]
  },
  {
   "cell_type": "code",
   "execution_count": 5,
   "metadata": {
    "collapsed": false
   },
   "outputs": [
    {
     "name": "stderr",
     "output_type": "stream",
     "text": [
      "/usr/local/lib/python2.7/dist-packages/ipykernel/__main__.py:1: UserWarning: Boolean Series key will be reindexed to match DataFrame index.\n",
      "  if __name__ == '__main__':\n"
     ]
    }
   ],
   "source": [
    "links = links[links.Date > '1980-01-01 00:00:00'][links.Date < '2043-12-28 19:34:12']"
   ]
  },
  {
   "cell_type": "code",
   "execution_count": 6,
   "metadata": {
    "collapsed": false,
    "scrolled": true
   },
   "outputs": [
    {
     "data": {
      "text/html": [
       "<div>\n",
       "<style scoped>\n",
       "    .dataframe tbody tr th:only-of-type {\n",
       "        vertical-align: middle;\n",
       "    }\n",
       "\n",
       "    .dataframe tbody tr th {\n",
       "        vertical-align: top;\n",
       "    }\n",
       "\n",
       "    .dataframe thead th {\n",
       "        text-align: right;\n",
       "    }\n",
       "</style>\n",
       "<table border=\"1\" class=\"dataframe\">\n",
       "  <thead>\n",
       "    <tr style=\"text-align: right;\">\n",
       "      <th></th>\n",
       "      <th>Date</th>\n",
       "      <th>From</th>\n",
       "      <th>To</th>\n",
       "    </tr>\n",
       "  </thead>\n",
       "  <tbody>\n",
       "    <tr>\n",
       "      <th>0</th>\n",
       "      <td>2001-05-14 23:39:00</td>\n",
       "      <td>phillip.allen@enron.com</td>\n",
       "      <td>tim.belden@enron.com</td>\n",
       "    </tr>\n",
       "    <tr>\n",
       "      <th>1</th>\n",
       "      <td>2001-05-04 20:51:00</td>\n",
       "      <td>phillip.allen@enron.com</td>\n",
       "      <td>john.lavorato@enron.com</td>\n",
       "    </tr>\n",
       "    <tr>\n",
       "      <th>2</th>\n",
       "      <td>2000-10-18 10:00:00</td>\n",
       "      <td>phillip.allen@enron.com</td>\n",
       "      <td>leah.arsdall@enron.com</td>\n",
       "    </tr>\n",
       "    <tr>\n",
       "      <th>3</th>\n",
       "      <td>2000-10-23 13:13:00</td>\n",
       "      <td>phillip.allen@enron.com</td>\n",
       "      <td>randall.gay@enron.com</td>\n",
       "    </tr>\n",
       "    <tr>\n",
       "      <th>4</th>\n",
       "      <td>2000-08-31 12:07:00</td>\n",
       "      <td>phillip.allen@enron.com</td>\n",
       "      <td>greg.piper@enron.com</td>\n",
       "    </tr>\n",
       "  </tbody>\n",
       "</table>\n",
       "</div>"
      ],
      "text/plain": [
       "                  Date                     From                       To\n",
       "0  2001-05-14 23:39:00  phillip.allen@enron.com     tim.belden@enron.com\n",
       "1  2001-05-04 20:51:00  phillip.allen@enron.com  john.lavorato@enron.com\n",
       "2  2000-10-18 10:00:00  phillip.allen@enron.com   leah.arsdall@enron.com\n",
       "3  2000-10-23 13:13:00  phillip.allen@enron.com    randall.gay@enron.com\n",
       "4  2000-08-31 12:07:00  phillip.allen@enron.com     greg.piper@enron.com"
      ]
     },
     "execution_count": 6,
     "metadata": {},
     "output_type": "execute_result"
    }
   ],
   "source": [
    "links.head()"
   ]
  },
  {
   "cell_type": "markdown",
   "metadata": {},
   "source": [
    "Count the number of contact events between emails. Here, we consider the number of interactions as weights."
   ]
  },
  {
   "cell_type": "code",
   "execution_count": 7,
   "metadata": {
    "collapsed": false
   },
   "outputs": [],
   "source": [
    "weight_counts = links.groupby(['From', 'To']).size().reset_index(name = 'Count')\n",
    "weight_counts.to_csv('weighted_links.csv', index=False)"
   ]
  },
  {
   "cell_type": "code",
   "execution_count": 8,
   "metadata": {
    "collapsed": false,
    "scrolled": true
   },
   "outputs": [
    {
     "data": {
      "text/plain": [
       "(83714, 3)"
      ]
     },
     "execution_count": 8,
     "metadata": {},
     "output_type": "execute_result"
    }
   ],
   "source": [
    "weight_counts.shape"
   ]
  },
  {
   "cell_type": "code",
   "execution_count": 9,
   "metadata": {
    "collapsed": false
   },
   "outputs": [
    {
     "data": {
      "text/html": [
       "<div>\n",
       "<style scoped>\n",
       "    .dataframe tbody tr th:only-of-type {\n",
       "        vertical-align: middle;\n",
       "    }\n",
       "\n",
       "    .dataframe tbody tr th {\n",
       "        vertical-align: top;\n",
       "    }\n",
       "\n",
       "    .dataframe thead th {\n",
       "        text-align: right;\n",
       "    }\n",
       "</style>\n",
       "<table border=\"1\" class=\"dataframe\">\n",
       "  <thead>\n",
       "    <tr style=\"text-align: right;\">\n",
       "      <th></th>\n",
       "      <th>From</th>\n",
       "      <th>To</th>\n",
       "      <th>Count</th>\n",
       "    </tr>\n",
       "  </thead>\n",
       "  <tbody>\n",
       "    <tr>\n",
       "      <th>0</th>\n",
       "      <td>101qi@msn.com</td>\n",
       "      <td>enlvwvz@msn.com</td>\n",
       "      <td>1</td>\n",
       "    </tr>\n",
       "    <tr>\n",
       "      <th>39614</th>\n",
       "      <td>karen.white@csfb.com</td>\n",
       "      <td>klay@enron.com</td>\n",
       "      <td>1</td>\n",
       "    </tr>\n",
       "    <tr>\n",
       "      <th>39615</th>\n",
       "      <td>karen@mpenner.com</td>\n",
       "      <td>jarnold@enron.com</td>\n",
       "      <td>1</td>\n",
       "    </tr>\n",
       "    <tr>\n",
       "      <th>39616</th>\n",
       "      <td>karen@mpenner.com</td>\n",
       "      <td>kenneth.lay@enron.com</td>\n",
       "      <td>1</td>\n",
       "    </tr>\n",
       "    <tr>\n",
       "      <th>39625</th>\n",
       "      <td>kari.oquinn@enron.com</td>\n",
       "      <td>amy.fitzpatrick@enron.com</td>\n",
       "      <td>1</td>\n",
       "    </tr>\n",
       "  </tbody>\n",
       "</table>\n",
       "</div>"
      ],
      "text/plain": [
       "                        From                         To  Count\n",
       "0              101qi@msn.com            enlvwvz@msn.com      1\n",
       "39614   karen.white@csfb.com             klay@enron.com      1\n",
       "39615      karen@mpenner.com          jarnold@enron.com      1\n",
       "39616      karen@mpenner.com      kenneth.lay@enron.com      1\n",
       "39625  kari.oquinn@enron.com  amy.fitzpatrick@enron.com      1"
      ]
     },
     "execution_count": 9,
     "metadata": {},
     "output_type": "execute_result"
    }
   ],
   "source": [
    "weight_counts.sort_values('Count').head()"
   ]
  },
  {
   "cell_type": "code",
   "execution_count": 10,
   "metadata": {
    "collapsed": false
   },
   "outputs": [],
   "source": [
    "thresholded_weight_counts = weight_counts.loc[weight_counts['Count'] > 10]"
   ]
  },
  {
   "cell_type": "code",
   "execution_count": 11,
   "metadata": {
    "collapsed": false
   },
   "outputs": [
    {
     "data": {
      "image/png": "[encoded data removed]",
      "text/plain": [
       "<matplotlib.figure.Figure at 0x7f2a6487f190>"
      ]
     },
     "metadata": {},
     "output_type": "display_data"
    }
   ],
   "source": [
    "fig, ax = plt.subplots()\n",
    "thresholded_weight_counts.hist(ax=ax, column='Count', bins=1000)\n",
    "ax.set_xscale('log')\n",
    "ax.set_yscale('log')"
   ]
  },
  {
   "cell_type": "markdown",
   "metadata": {},
   "source": [
    "Count From messages per email"
   ]
  },
  {
   "cell_type": "code",
   "execution_count": 12,
   "metadata": {
    "collapsed": false
   },
   "outputs": [
    {
     "data": {
      "text/plain": [
       "(12661, 2)"
      ]
     },
     "execution_count": 12,
     "metadata": {},
     "output_type": "execute_result"
    }
   ],
   "source": [
    "from_counts = links.groupby(['From']).size().reset_index(name = 'CountFrom')\n",
    "from_counts.sort_values('CountFrom').shape"
   ]
  },
  {
   "cell_type": "markdown",
   "metadata": {},
   "source": [
    "Get timestamps for each From email"
   ]
  },
  {
   "cell_type": "code",
   "execution_count": 13,
   "metadata": {
    "collapsed": false
   },
   "outputs": [
    {
     "data": {
      "text/plain": [
       "12661"
      ]
     },
     "execution_count": 13,
     "metadata": {},
     "output_type": "execute_result"
    }
   ],
   "source": [
    "from_spikes = links.groupby('From')['Date'].apply(list)\n",
    "from_spikes.size"
   ]
  },
  {
   "cell_type": "markdown",
   "metadata": {},
   "source": [
    "Threshold. Discard emails that are note active"
   ]
  },
  {
   "cell_type": "code",
   "execution_count": 14,
   "metadata": {
    "collapsed": false
   },
   "outputs": [
    {
     "data": {
      "text/plain": [
       "6601"
      ]
     },
     "execution_count": 14,
     "metadata": {},
     "output_type": "execute_result"
    }
   ],
   "source": [
    "from_spikes = from_spikes[from_spikes.str.len() > 3]\n",
    "from_spikes.size"
   ]
  },
  {
   "cell_type": "code",
   "execution_count": 15,
   "metadata": {
    "collapsed": false
   },
   "outputs": [
    {
     "data": {
      "text/plain": [
       "From\n",
       "1800flowers@shop2u.com             [2000-11-21 01:21:00, 2000-11-21 01:21:00, 200...\n",
       "2000greetings@postalmanager.com    [2002-01-08 18:25:48, 2002-01-22 17:53:03, 200...\n",
       "2740741@skytel.com                 [2000-09-06 15:34:00, 2000-09-06 16:33:00, 200...\n",
       "40ees@enron.com                    [2001-10-05 18:45:16, 2001-10-05 18:45:16, 200...\n",
       "40enron@enron.com                  [2001-06-06 18:08:58, 2001-05-03 19:48:48, 200...\n",
       "7409949@skytel.com                 [2001-06-26 17:07:00, 2001-07-18 21:04:00, 200...\n",
       "7409950@skytel.com                 [2001-11-25 20:17:03, 2001-11-25 20:22:26, 200...\n",
       "8774754543@skytel.com              [2001-11-17 17:51:21, 2002-01-17 15:34:43, 200...\n",
       "8777865122@skytel.com              [2002-01-10 19:10:59, 2002-01-10 19:00:10, 200...\n",
       "9069761@skytel.com                 [2001-07-18 20:20:00, 2000-11-07 13:47:00, 200...\n",
       "Name: Date, dtype: object"
      ]
     },
     "execution_count": 15,
     "metadata": {},
     "output_type": "execute_result"
    }
   ],
   "source": [
    "from_spikes[:10]"
   ]
  },
  {
   "cell_type": "markdown",
   "metadata": {},
   "source": [
    "Timerange in the dataset"
   ]
  },
  {
   "cell_type": "code",
   "execution_count": 16,
   "metadata": {
    "collapsed": false
   },
   "outputs": [
    {
     "data": {
      "text/plain": [
       "166316"
      ]
     },
     "execution_count": 16,
     "metadata": {},
     "output_type": "execute_result"
    }
   ],
   "source": [
    "timestamps = list(set(links.Date.tolist()))\n",
    "timestamps = [datetime.strptime(date, '%Y-%m-%d %H:%M:%S') for date in timestamps]\n",
    "len(timestamps)"
   ]
  },
  {
   "cell_type": "code",
   "execution_count": 17,
   "metadata": {
    "collapsed": false
   },
   "outputs": [],
   "source": [
    "timestamps.sort()"
   ]
  },
  {
   "cell_type": "code",
   "execution_count": 18,
   "metadata": {
    "collapsed": false
   },
   "outputs": [],
   "source": [
    "#extract the earliest and the latest dates in the dataset\n",
    "start_time = min(timestamps)\n",
    "end_time = max(timestamps)"
   ]
  },
  {
   "cell_type": "markdown",
   "metadata": {},
   "source": [
    "Extracting spikes"
   ]
  },
  {
   "cell_type": "code",
   "execution_count": 19,
   "metadata": {
    "collapsed": false,
    "scrolled": false
   },
   "outputs": [
    {
     "name": "stderr",
     "output_type": "stream",
     "text": [
      "/usr/local/lib/python2.7/dist-packages/matplotlib/axes/_axes.py:531: UserWarning: No labelled objects found. Use label='...' kwarg on individual plots.\n",
      "  warnings.warn(\"No labelled objects found. \"\n"
     ]
    },
    {
     "data": {
      "image/png": "[encoded data removed]",
      "text/plain": [
       "<matplotlib.figure.Figure at 0x7f2a62bf8fd0>"
      ]
     },
     "metadata": {},
     "output_type": "display_data"
    }
   ],
   "source": [
    "#visualize timeline. Assign random number to each timestamp\n",
    "n = 10\n",
    "# for label, time in zip(from_spikes.keys[:n], from_spikes.values[:n]):\n",
    "for label, time in from_spikes[:].iteritems():\n",
    "    unique_elements, counts_elements = np.unique(time, return_counts=True)\n",
    "#     time = list(set(time))\n",
    "    time = unique_elements\n",
    "    plt.plot_date(time, counts_elements)\n",
    "    plt.legend()"
   ]
  },
  {
   "cell_type": "code",
   "execution_count": 55,
   "metadata": {
    "collapsed": false
   },
   "outputs": [
    {
     "name": "stdout",
     "output_type": "stream",
     "text": [
      "(2221,)\n"
     ]
    }
   ],
   "source": [
    "activations = pd.DataFrame(columns=['address', 'activations'])\n",
    "activations_series = pd.Series()\n",
    "i = 0\n",
    "for label, time in from_spikes[:].iteritems():\n",
    "    unique_elements, counts_elements = np.unique(time, return_counts=True)\n",
    "    counts_elements = np.append(counts_elements, 0)\n",
    "    counts_elements = np.insert(counts_elements, 0, 0)\n",
    "    unique_elements = np.append(unique_elements, end_time)\n",
    "    unique_elements = np.insert(unique_elements, 0, start_time)\n",
    "    d = {'Counts': counts_elements}\n",
    "    df = pd.DataFrame(data = d, index = pd.to_datetime(unique_elements))\n",
    "    df = df.Counts.resample('D').sum()\n",
    "    t = df.values.shape\n",
    "    vals = {k:x for k,x in enumerate(df.values) if x != 0}\n",
    "    activations.loc[i] = [label, vals]\n",
    "    activations_series[label] = vals\n",
    "    i += 1\n",
    "print t # length of a time-series"
   ]
  },
  {
   "cell_type": "code",
   "execution_count": 51,
   "metadata": {
    "collapsed": false,
    "scrolled": true
   },
   "outputs": [
    {
     "data": {
      "text/plain": [
       "1800flowers@shop2u.com                                                                 {1050: 6}\n",
       "2000greetings@postalmanager.com                {1472: 1, 1444: 1, 1477: 1, 1495: 1, 1387: 1, ...\n",
       "2740741@skytel.com                                                              {974: 4, 975: 2}\n",
       "40ees@enron.com                                                      {1368: 4, 1330: 2, 1367: 2}\n",
       "40enron@enron.com                              {1155: 3, 1157: 1, 1158: 2, 1288: 3, 1324: 5, ...\n",
       "7409949@skytel.com                                          {1289: 2, 1290: 1, 1267: 2, 1382: 1}\n",
       "7409950@skytel.com                                          {1384: 2, 1386: 1, 1419: 3, 1391: 1}\n",
       "8774754543@skytel.com                              {1464: 1, 1472: 1, 1411: 1, 1460: 1, 1471: 1}\n",
       "8777865122@skytel.com                          {1476: 3, 1478: 2, 1479: 1, 1485: 1, 1464: 1, ...\n",
       "9069761@skytel.com                             {1346: 2, 1413: 1, 1289: 2, 1290: 1, 1036: 2, ...\n",
       "9069876@skytel.com                             {1296: 1, 1380: 1, 997: 2, 1225: 2, 1295: 2, 1...\n",
       "Alan.Comnes@enron.com                                                                  {1071: 4}\n",
       "Amy_Pittman@timeinc.com                                                                {1025: 9}\n",
       "BEARBennett1@aol.com                                                                   {1404: 4}\n",
       "Benjamin.Rogers@enron.com                      {1057: 3, 1003: 3, 790: 3, 777: 3, 779: 3, 101...\n",
       "Betsy.Carr@dynegy.com                                                                  {1323: 6}\n",
       "Bill.Williams@enron.com                                                                {1206: 6}\n",
       "Bill@bkspeaks.com                              {1382: 1, 1389: 1, 1392: 1, 1401: 1, 1403: 1, ...\n",
       "Bmspeckman@aol.com                                                                      {897: 8}\n",
       "CRAWFNE@kellyservices.com                                                              {1200: 9}\n",
       "Case.Admin@sce.com                                                                     {1343: 6}\n",
       "Chris.Germany@enron.com                                       {1421: 1, 1403: 1, 973: 3, 967: 3}\n",
       "Clint.Dean@enron.com                           {1072: 36, 966: 3, 1071: 9, 912: 3, 1010: 3, 1...\n",
       "CoganJA@aol.com                                             {1393: 1, 1364: 2, 1357: 2, 1381: 1}\n",
       "Dale.Rasmussen@enron.com                                                               {1161: 9}\n",
       "Dana.Davis@enron.com                                        {1009: 3, 1010: 3, 1059: 3, 1015: 3}\n",
       "David_Trice@westsidelexus.com                                                         {1413: 15}\n",
       "Deborah.Fiorito@dynegy.com                                                             {1420: 6}\n",
       "Don.Baughman@enron.com                                                                 {1175: 6}\n",
       "Drew.Fossum@enron.com                                                         {1059: 3, 1051: 3}\n",
       "                                                                     ...                        \n",
       "ygoldfeder@swidlaw.com                                                                  {934: 6}\n",
       "ying.liu@enron.com                                          {1121: 3, 1122: 2, 1059: 5, 1150: 2}\n",
       "yolanda.ford@enron.com                                             {1024: 12, 1407: 6, 1023: 12}\n",
       "yolanda.pena@enron.com                                                        {1280: 3, 1023: 6}\n",
       "yolanda.roberts@enron.com                                                       {976: 2, 981: 6}\n",
       "youyi.feng@enron.com                                                  {976: 3, 1102: 2, 1071: 3}\n",
       "ypoforumsurvey@ypoforumdiagnosticsurvey.com                                   {1322: 2, 1359: 9}\n",
       "yuan.tian@enron.com                                {1536: 3, 1532: 4, 1436: 2, 1534: 2, 1254: 1}\n",
       "yumi.takei@enron.com                                        {1070: 6, 1004: 2, 1038: 2, 1030: 4}\n",
       "yvan.chaxel@enron.com                           {800: 3, 801: 3, 805: 3, 818: 6, 819: 3, 855: 3}\n",
       "yvette.connevey@enron.com                      {897: 9, 770: 8, 772: 6, 918: 6, 876: 6, 778: ...\n",
       "yvette.parker@enron.com                                                        {1043: 2, 988: 6}\n",
       "yvonne.acosta@enron.com                                                         {784: 6, 807: 6}\n",
       "yxg4@pge.com                                                                            {850: 9}\n",
       "zachary.mccarroll@enron.com                                 {1436: 1, 1420: 1, 1414: 1, 1457: 1}\n",
       "zaeza@unplace.com                              {1515: 1, 1478: 1, 1383: 1, 1481: 1, 1514: 1, ...\n",
       "zakia.mcclure@enron.com                                                       {1424: 6, 1421: 1}\n",
       "zakiyyah.mcclure@enron.com                     {1408: 1, 1345: 1, 1381: 3, 1382: 3, 1409: 2, ...\n",
       "zangeles@sempra.com                                 {937: 9, 898: 6, 1228: 6, 1058: 24, 974: 15}\n",
       "zarin.imam@enron.com                           {1220: 3, 1254: 2, 1227: 3, 1234: 2, 1266: 2, ...\n",
       "zelda.paschal@enron.com                        {1441: 3, 1480: 3, 1389: 6, 1358: 1, 1360: 4, ...\n",
       "zhiyong.wei@enron.com                          {1368: 4, 1282: 3, 1283: 1, 1284: 6, 1157: 3, ...\n",
       "zhiyun.yang@enron.com                                       {1472: 2, 1385: 3, 1194: 3, 1371: 2}\n",
       "zimin.lu@enron.com                             {1028: 2, 1029: 3, 1030: 3, 1035: 6, 1036: 3, ...\n",
       "zimmerman@enron.com                                                           {1250: 3, 1245: 3}\n",
       "zionette.vincent@enron.com                                                    {1210: 3, 1221: 3}\n",
       "zipper@enron.com                                                              {1235: 4, 1245: 1}\n",
       "zistlerf@wallacegarcia.com                         {1498: 2, 1515: 2, 1484: 1, 1477: 1, 1471: 1}\n",
       "zulie.flores@enron.com                                                {1385: 6, 941: 9, 1413: 3}\n",
       "zwharton@dawray.com                            {1409: 1, 1385: 2, 1386: 1, 1387: 1, 1388: 1, ...\n",
       "Length: 6601, dtype: object"
      ]
     },
     "execution_count": 51,
     "metadata": {},
     "output_type": "execute_result"
    }
   ],
   "source": [
    "activations_series"
   ]
  },
  {
   "cell_type": "code",
   "execution_count": 56,
   "metadata": {
    "collapsed": true
   },
   "outputs": [],
   "source": [
    "series = activations_series[4]\n",
    "zeros = np.zeros(t[0])\n",
    "\n",
    "for k,v in series.iteritems():\n",
    "    zeros[k] = v"
   ]
  },
  {
   "cell_type": "code",
   "execution_count": 60,
   "metadata": {
    "collapsed": false
   },
   "outputs": [
    {
     "data": {
      "text/plain": [
       "[<matplotlib.lines.Line2D at 0x7f2a55be3a50>]"
      ]
     },
     "execution_count": 60,
     "metadata": {},
     "output_type": "execute_result"
    },
    {
     "data": {
      "image/png": "[encoded data removed]",
      "text/plain": [
       "<matplotlib.figure.Figure at 0x7f2a566839d0>"
      ]
     },
     "metadata": {},
     "output_type": "display_data"
    }
   ],
   "source": [
    "plt.plot(zeros)"
   ]
  },
  {
   "cell_type": "code",
   "execution_count": 64,
   "metadata": {
    "collapsed": false
   },
   "outputs": [],
   "source": [
    "activations_series.to_csv('activations-enron.csv')"
   ]
  },
  {
   "cell_type": "code",
   "execution_count": null,
   "metadata": {
    "collapsed": true
   },
   "outputs": [],
   "source": []
  }
 ],
 "metadata": {
  "kernelspec": {
   "display_name": "Python 2",
   "language": "python",
   "name": "python2"
  },
  "language_info": {
   "codemirror_mode": {
    "name": "ipython",
    "version": 2
   },
   "file_extension": ".py",
   "mimetype": "text/x-python",
   "name": "python",
   "nbconvert_exporter": "python",
   "pygments_lexer": "ipython2",
   "version": "2.7.15rc1"
  }
 },
 "nbformat": 4,
 "nbformat_minor": 1
}
