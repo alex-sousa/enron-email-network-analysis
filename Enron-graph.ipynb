{
 "cells": [
  {
   "cell_type": "code",
   "execution_count": 1,
   "metadata": {
    "collapsed": true
   },
   "outputs": [],
   "source": [
    "import pandas as pd\n",
    "from matplotlib import pyplot as plt\n",
    "from datetime import datetime\n",
    "import numpy as np\n",
    "%matplotlib inline"
   ]
  },
  {
   "cell_type": "code",
   "execution_count": 2,
   "metadata": {
    "collapsed": true
   },
   "outputs": [],
   "source": [
    "links = pd.read_csv('email-links-all.csv')"
   ]
  },
  {
   "cell_type": "code",
   "execution_count": 3,
   "metadata": {
    "collapsed": false
   },
   "outputs": [
    {
     "data": {
      "text/plain": [
       "(614586, 3)"
      ]
     },
     "execution_count": 3,
     "metadata": {},
     "output_type": "execute_result"
    }
   ],
   "source": [
    "links.shape"
   ]
  },
  {
   "cell_type": "code",
   "execution_count": 4,
   "metadata": {
    "collapsed": false
   },
   "outputs": [
    {
     "name": "stderr",
     "output_type": "stream",
     "text": [
      "/usr/local/lib/python2.7/dist-packages/ipykernel/__main__.py:1: UserWarning: Boolean Series key will be reindexed to match DataFrame index.\n",
      "  if __name__ == '__main__':\n"
     ]
    }
   ],
   "source": [
    "links = links[links.Date > '1980-01-01 00:00:00'][links.Date < '2043-12-28 19:34:12']"
   ]
  },
  {
   "cell_type": "code",
   "execution_count": 5,
   "metadata": {
    "collapsed": false,
    "scrolled": true
   },
   "outputs": [
    {
     "data": {
      "text/html": [
       "<div>\n",
       "<style scoped>\n",
       "    .dataframe tbody tr th:only-of-type {\n",
       "        vertical-align: middle;\n",
       "    }\n",
       "\n",
       "    .dataframe tbody tr th {\n",
       "        vertical-align: top;\n",
       "    }\n",
       "\n",
       "    .dataframe thead th {\n",
       "        text-align: right;\n",
       "    }\n",
       "</style>\n",
       "<table border=\"1\" class=\"dataframe\">\n",
       "  <thead>\n",
       "    <tr style=\"text-align: right;\">\n",
       "      <th></th>\n",
       "      <th>Date</th>\n",
       "      <th>From</th>\n",
       "      <th>To</th>\n",
       "    </tr>\n",
       "  </thead>\n",
       "  <tbody>\n",
       "    <tr>\n",
       "      <th>0</th>\n",
       "      <td>2001-05-14 23:39:00</td>\n",
       "      <td>phillip.allen@enron.com</td>\n",
       "      <td>tim.belden@enron.com</td>\n",
       "    </tr>\n",
       "    <tr>\n",
       "      <th>1</th>\n",
       "      <td>2001-05-04 20:51:00</td>\n",
       "      <td>phillip.allen@enron.com</td>\n",
       "      <td>john.lavorato@enron.com</td>\n",
       "    </tr>\n",
       "    <tr>\n",
       "      <th>2</th>\n",
       "      <td>2000-10-18 10:00:00</td>\n",
       "      <td>phillip.allen@enron.com</td>\n",
       "      <td>leah.arsdall@enron.com</td>\n",
       "    </tr>\n",
       "    <tr>\n",
       "      <th>3</th>\n",
       "      <td>2000-10-23 13:13:00</td>\n",
       "      <td>phillip.allen@enron.com</td>\n",
       "      <td>randall.gay@enron.com</td>\n",
       "    </tr>\n",
       "    <tr>\n",
       "      <th>4</th>\n",
       "      <td>2000-08-31 12:07:00</td>\n",
       "      <td>phillip.allen@enron.com</td>\n",
       "      <td>greg.piper@enron.com</td>\n",
       "    </tr>\n",
       "  </tbody>\n",
       "</table>\n",
       "</div>"
      ],
      "text/plain": [
       "                  Date                     From                       To\n",
       "0  2001-05-14 23:39:00  phillip.allen@enron.com     tim.belden@enron.com\n",
       "1  2001-05-04 20:51:00  phillip.allen@enron.com  john.lavorato@enron.com\n",
       "2  2000-10-18 10:00:00  phillip.allen@enron.com   leah.arsdall@enron.com\n",
       "3  2000-10-23 13:13:00  phillip.allen@enron.com    randall.gay@enron.com\n",
       "4  2000-08-31 12:07:00  phillip.allen@enron.com     greg.piper@enron.com"
      ]
     },
     "execution_count": 5,
     "metadata": {},
     "output_type": "execute_result"
    }
   ],
   "source": [
    "links.head()"
   ]
  },
  {
   "cell_type": "markdown",
   "metadata": {},
   "source": [
    "Count the number of contact events between emails. Here, we consider the number of interactions as weights."
   ]
  },
  {
   "cell_type": "code",
   "execution_count": 6,
   "metadata": {
    "collapsed": false
   },
   "outputs": [],
   "source": [
    "weight_counts = links.groupby(['From', 'To']).size().reset_index(name = 'Count')\n",
    "weight_counts.to_csv('weighted_links.csv', index=False)"
   ]
  },
  {
   "cell_type": "code",
   "execution_count": 7,
   "metadata": {
    "collapsed": false,
    "scrolled": true
   },
   "outputs": [
    {
     "data": {
      "text/plain": [
       "(83714, 3)"
      ]
     },
     "execution_count": 7,
     "metadata": {},
     "output_type": "execute_result"
    }
   ],
   "source": [
    "weight_counts.shape"
   ]
  },
  {
   "cell_type": "code",
   "execution_count": 8,
   "metadata": {
    "collapsed": false
   },
   "outputs": [
    {
     "data": {
      "text/html": [
       "<div>\n",
       "<style scoped>\n",
       "    .dataframe tbody tr th:only-of-type {\n",
       "        vertical-align: middle;\n",
       "    }\n",
       "\n",
       "    .dataframe tbody tr th {\n",
       "        vertical-align: top;\n",
       "    }\n",
       "\n",
       "    .dataframe thead th {\n",
       "        text-align: right;\n",
       "    }\n",
       "</style>\n",
       "<table border=\"1\" class=\"dataframe\">\n",
       "  <thead>\n",
       "    <tr style=\"text-align: right;\">\n",
       "      <th></th>\n",
       "      <th>From</th>\n",
       "      <th>To</th>\n",
       "      <th>Count</th>\n",
       "    </tr>\n",
       "  </thead>\n",
       "  <tbody>\n",
       "    <tr>\n",
       "      <th>0</th>\n",
       "      <td>101qi@msn.com</td>\n",
       "      <td>enlvwvz@msn.com</td>\n",
       "      <td>1</td>\n",
       "    </tr>\n",
       "    <tr>\n",
       "      <th>39614</th>\n",
       "      <td>karen.white@csfb.com</td>\n",
       "      <td>klay@enron.com</td>\n",
       "      <td>1</td>\n",
       "    </tr>\n",
       "    <tr>\n",
       "      <th>39615</th>\n",
       "      <td>karen@mpenner.com</td>\n",
       "      <td>jarnold@enron.com</td>\n",
       "      <td>1</td>\n",
       "    </tr>\n",
       "    <tr>\n",
       "      <th>39616</th>\n",
       "      <td>karen@mpenner.com</td>\n",
       "      <td>kenneth.lay@enron.com</td>\n",
       "      <td>1</td>\n",
       "    </tr>\n",
       "    <tr>\n",
       "      <th>39625</th>\n",
       "      <td>kari.oquinn@enron.com</td>\n",
       "      <td>amy.fitzpatrick@enron.com</td>\n",
       "      <td>1</td>\n",
       "    </tr>\n",
       "  </tbody>\n",
       "</table>\n",
       "</div>"
      ],
      "text/plain": [
       "                        From                         To  Count\n",
       "0              101qi@msn.com            enlvwvz@msn.com      1\n",
       "39614   karen.white@csfb.com             klay@enron.com      1\n",
       "39615      karen@mpenner.com          jarnold@enron.com      1\n",
       "39616      karen@mpenner.com      kenneth.lay@enron.com      1\n",
       "39625  kari.oquinn@enron.com  amy.fitzpatrick@enron.com      1"
      ]
     },
     "execution_count": 8,
     "metadata": {},
     "output_type": "execute_result"
    }
   ],
   "source": [
    "weight_counts.sort_values('Count').head()"
   ]
  },
  {
   "cell_type": "code",
   "execution_count": 9,
   "metadata": {
    "collapsed": false
   },
   "outputs": [],
   "source": [
    "thresholded_weight_counts = weight_counts.loc[weight_counts['Count'] > 10]"
   ]
  },
  {
   "cell_type": "code",
   "execution_count": 10,
   "metadata": {
    "collapsed": false
   },
   "outputs": [
    {
     "data": {
      "image/png": "[encoded data removed]",
      "text/plain": [
       "<matplotlib.figure.Figure at 0x7f15cd75b150>"
      ]
     },
     "metadata": {},
     "output_type": "display_data"
    }
   ],
   "source": [
    "fig, ax = plt.subplots()\n",
    "thresholded_weight_counts.hist(ax=ax, column='Count', bins=1000)\n",
    "ax.set_xscale('log')\n",
    "ax.set_yscale('log')"
   ]
  },
  {
   "cell_type": "markdown",
   "metadata": {},
   "source": [
    "Count From messages per email"
   ]
  },
  {
   "cell_type": "code",
   "execution_count": 11,
   "metadata": {
    "collapsed": false
   },
   "outputs": [
    {
     "data": {
      "text/plain": [
       "(12661, 2)"
      ]
     },
     "execution_count": 11,
     "metadata": {},
     "output_type": "execute_result"
    }
   ],
   "source": [
    "from_counts = links.groupby(['From']).size().reset_index(name = 'CountFrom')\n",
    "from_counts.sort_values('CountFrom').shape"
   ]
  },
  {
   "cell_type": "markdown",
   "metadata": {},
   "source": [
    "Get timestamps for each From email"
   ]
  },
  {
   "cell_type": "code",
   "execution_count": 12,
   "metadata": {
    "collapsed": false
   },
   "outputs": [
    {
     "data": {
      "text/plain": [
       "12661"
      ]
     },
     "execution_count": 12,
     "metadata": {},
     "output_type": "execute_result"
    }
   ],
   "source": [
    "from_spikes = links.groupby('From')['Date'].apply(list)\n",
    "from_spikes.size"
   ]
  },
  {
   "cell_type": "markdown",
   "metadata": {},
   "source": [
    "Threshold. Discard emails that are note active"
   ]
  },
  {
   "cell_type": "code",
   "execution_count": 13,
   "metadata": {
    "collapsed": false
   },
   "outputs": [
    {
     "data": {
      "text/plain": [
       "6601"
      ]
     },
     "execution_count": 13,
     "metadata": {},
     "output_type": "execute_result"
    }
   ],
   "source": [
    "from_spikes = from_spikes[from_spikes.str.len() > 3]\n",
    "from_spikes.size"
   ]
  },
  {
   "cell_type": "code",
   "execution_count": 14,
   "metadata": {
    "collapsed": false
   },
   "outputs": [
    {
     "data": {
      "text/plain": [
       "166316"
      ]
     },
     "execution_count": 14,
     "metadata": {},
     "output_type": "execute_result"
    }
   ],
   "source": [
    "timestamps = list(set(links.Date.tolist()))\n",
    "timestamps = [datetime.strptime(date, '%Y-%m-%d %H:%M:%S') for date in timestamps]\n",
    "len(timestamps)"
   ]
  },
  {
   "cell_type": "code",
   "execution_count": 15,
   "metadata": {
    "collapsed": false
   },
   "outputs": [],
   "source": [
    "timestamps.sort()"
   ]
  },
  {
   "cell_type": "code",
   "execution_count": 16,
   "metadata": {
    "collapsed": false
   },
   "outputs": [],
   "source": [
    "start_time = min(timestamps)\n",
    "end_time = max(timestamps)"
   ]
  },
  {
   "cell_type": "code",
   "execution_count": 17,
   "metadata": {
    "collapsed": false
   },
   "outputs": [
    {
     "data": {
      "text/plain": [
       "From\n",
       "1800flowers@shop2u.com             [2000-11-21 01:21:00, 2000-11-21 01:21:00, 200...\n",
       "2000greetings@postalmanager.com    [2002-01-08 18:25:48, 2002-01-22 17:53:03, 200...\n",
       "2740741@skytel.com                 [2000-09-06 15:34:00, 2000-09-06 16:33:00, 200...\n",
       "40ees@enron.com                    [2001-10-05 18:45:16, 2001-10-05 18:45:16, 200...\n",
       "40enron@enron.com                  [2001-06-06 18:08:58, 2001-05-03 19:48:48, 200...\n",
       "7409949@skytel.com                 [2001-06-26 17:07:00, 2001-07-18 21:04:00, 200...\n",
       "7409950@skytel.com                 [2001-11-25 20:17:03, 2001-11-25 20:22:26, 200...\n",
       "8774754543@skytel.com              [2001-11-17 17:51:21, 2002-01-17 15:34:43, 200...\n",
       "8777865122@skytel.com              [2002-01-10 19:10:59, 2002-01-10 19:00:10, 200...\n",
       "9069761@skytel.com                 [2001-07-18 20:20:00, 2000-11-07 13:47:00, 200...\n",
       "Name: Date, dtype: object"
      ]
     },
     "execution_count": 17,
     "metadata": {},
     "output_type": "execute_result"
    }
   ],
   "source": [
    "from_spikes[:10]"
   ]
  },
  {
   "cell_type": "code",
   "execution_count": 41,
   "metadata": {
    "collapsed": false
   },
   "outputs": [
    {
     "name": "stdout",
     "output_type": "stream",
     "text": [
      "[974766060, 974766060, 974766060, 974765760, 974765760, 974765760]\n",
      "[1010510748, 1011718383, 1011284385, 1013270957, 1009538283, 1008839561, 1016089519, 1008353738, 1003896556]\n",
      "[968247240, 968250780, 968321640, 968247240, 968250780, 968321640]\n",
      "[1002300316, 1002300316, 1002300456, 1002300456, 1002213712, 1002213712, 999024662, 999022802]\n",
      "[991843738, 988912128, 988912128, 988912128, 991843520, 991650291, 991650291, 991650291, 983897179, 983897179, 983897179, 984780664, 991340955, 991340955, 991340955, 991135622, 991135622, 991654483, 990794084, 984077177, 995399741, 988056832, 992979594, 992979594, 992979594, 994098629, 1000943185, 985032054, 985183733, 986840944, 990553281, 993232458, 999675066, 999675066, 999675066, 999674409, 999674409, 999674409, 999608141, 999608141, 999608141, 999587261, 999587261, 999587261, 997252431, 997252431, 997252431, 994939882, 994939882, 994939882, 997136433, 999524971, 999524971, 999524971, 999499107, 999499107, 998462344, 998462344, 998462344, 998058557, 998058557, 998058153, 998058153, 998058153, 998058000, 998058000, 998058000, 998035115, 998035115, 998035115, 997967463, 997967463, 997967463, 997343172, 997343172, 997343172, 995873065, 995873065, 995873065, 992031403, 990108443, 985125071, 984161736, 984161736, 990566594, 990566594, 991171596, 991171596, 991171596, 1001524148, 990472041, 992360632, 992360632, 992360632, 993668779, 993744179, 996248830, 991171596, 991171596, 991171596, 987442740, 987442740, 991229174, 991229174, 994963293, 994963293, 994963293, 997969363, 997969363, 997969363, 992031493, 1001071845, 1001071845, 1001071845, 989918217, 991145677, 991145677, 991145677, 995389212, 995389212, 996583202, 996672743, 996763498, 996852996, 997099837, 997367718, 997817663, 998415661, 998485043, 998493468, 998567019, 998918265, 991398772, 992011553, 992011553, 996502684, 989347484, 989426909, 989426909, 989426909, 990016964, 990016964, 990016964, 991823710, 991823710, 991823710, 1001687912, 1001687912, 1001687912, 993499904]\n",
      "[993568020, 995483040, 995519040, 1003517390, 995483040, 993568020]\n",
      "[1006715823, 1006716146, 1006717320, 1003685227, 1003683353, 1003791544, 1004299390]\n"
     ]
    }
   ],
   "source": [
    "for arr in from_spikes.values[:7]:\n",
    "    print [int(datetime.strptime(date, '%Y-%m-%d %H:%M:%S').strftime(\"%s\")) for date in arr]"
   ]
  },
  {
   "cell_type": "code",
   "execution_count": 42,
   "metadata": {
    "collapsed": false
   },
   "outputs": [
    {
     "data": {
      "text/plain": [
       "array([ list(['2000-11-21 01:21:00', '2000-11-21 01:21:00', '2000-11-21 01:21:00', '2000-11-21 01:16:00', '2000-11-21 01:16:00', '2000-11-21 01:16:00']),\n",
       "       list(['2002-01-08 18:25:48', '2002-01-22 17:53:03', '2002-01-17 17:19:45', '2002-02-09 17:09:17', '2001-12-28 12:18:03', '2001-12-20 10:12:41', '2002-03-14 08:05:19', '2001-12-14 19:15:38', '2001-10-24 06:09:16']),\n",
       "       list(['2000-09-06 15:34:00', '2000-09-06 16:33:00', '2000-09-07 12:14:00', '2000-09-06 15:34:00', '2000-09-06 16:33:00', '2000-09-07 12:14:00']),\n",
       "       list(['2001-10-05 18:45:16', '2001-10-05 18:45:16', '2001-10-05 18:47:36', '2001-10-05 18:47:36', '2001-10-04 18:41:52', '2001-10-04 18:41:52', '2001-08-28 20:51:02', '2001-08-28 20:20:02']),\n",
       "       list(['2001-06-06 18:08:58', '2001-05-03 19:48:48', '2001-05-03 19:48:48', '2001-05-03 19:48:48', '2001-06-06 18:05:20', '2001-06-04 12:24:51', '2001-06-04 12:24:51', '2001-06-04 12:24:51', '2001-03-06 17:46:19', '2001-03-06 17:46:19', '2001-03-06 17:46:19', '2001-03-16 23:11:04', '2001-05-31 22:29:15', '2001-05-31 22:29:15', '2001-05-31 22:29:15', '2001-05-29 13:27:02', '2001-05-29 13:27:02', '2001-06-04 13:34:43', '2001-05-25 14:34:44', '2001-03-08 19:46:17', '2001-07-17 21:55:41', '2001-04-23 22:13:52', '2001-06-19 21:39:54', '2001-06-19 21:39:54', '2001-06-19 21:39:54', '2001-07-02 20:30:29', '2001-09-20 01:46:25', '2001-03-19 21:00:54', '2001-03-21 15:08:53', '2001-04-09 20:29:04', '2001-05-22 19:41:21', '2001-06-22 19:54:18', '2001-09-05 09:31:06', '2001-09-05 09:31:06', '2001-09-05 09:31:06', '2001-09-05 09:20:09', '2001-09-05 09:20:09', '2001-09-05 09:20:09', '2001-09-04 14:55:41', '2001-09-04 14:55:41', '2001-09-04 14:55:41', '2001-09-04 09:07:41', '2001-09-04 09:07:41', '2001-09-04 09:07:41', '2001-08-08 08:33:51', '2001-08-08 08:33:51', '2001-08-08 08:33:51', '2001-07-12 14:11:22', '2001-07-12 14:11:22', '2001-07-12 14:11:22', '2001-08-07 00:20:33', '2001-09-03 15:49:31', '2001-09-03 15:49:31', '2001-09-03 15:49:31', '2001-09-03 08:38:27', '2001-09-03 08:38:27', '2001-08-22 08:39:04', '2001-08-22 08:39:04', '2001-08-22 08:39:04', '2001-08-17 16:29:17', '2001-08-17 16:29:17', '2001-08-17 16:22:33', '2001-08-17 16:22:33', '2001-08-17 16:22:33', '2001-08-17 16:20:00', '2001-08-17 16:20:00', '2001-08-17 16:20:00', '2001-08-17 09:58:35', '2001-08-17 09:58:35', '2001-08-17 09:58:35', '2001-08-16 15:11:03', '2001-08-16 15:11:03', '2001-08-16 15:11:03', '2001-08-09 09:46:12', '2001-08-09 09:46:12', '2001-08-09 09:46:12', '2001-07-23 09:24:25', '2001-07-23 09:24:25', '2001-07-23 09:24:25', '2001-06-08 22:16:43', '2001-05-17 16:07:23', '2001-03-20 22:51:11', '2001-03-09 19:15:36', '2001-03-09 19:15:36', '2001-05-22 23:23:14', '2001-05-22 23:23:14', '2001-05-29 23:26:36', '2001-05-29 23:26:36', '2001-05-29 23:26:36', '2001-09-26 19:09:08', '2001-05-21 21:07:21', '2001-06-12 17:43:52', '2001-06-12 17:43:52', '2001-06-12 17:43:52', '2001-06-27 21:06:19', '2001-06-28 18:02:59', '2001-07-27 17:47:10', '2001-05-29 23:26:36', '2001-05-29 23:26:36', '2001-05-29 23:26:36', '2001-04-16 19:39:00', '2001-04-16 19:39:00', '2001-05-30 15:26:14', '2001-05-30 15:26:14', '2001-07-12 20:41:33', '2001-07-12 20:41:33', '2001-07-12 20:41:33', '2001-08-16 15:42:43', '2001-08-16 15:42:43', '2001-08-16 15:42:43', '2001-06-08 22:18:13', '2001-09-21 13:30:45', '2001-09-21 13:30:45', '2001-09-21 13:30:45', '2001-05-15 11:16:57', '2001-05-29 16:14:37', '2001-05-29 16:14:37', '2001-05-29 16:14:37', '2001-07-17 19:00:12', '2001-07-17 19:00:12', '2001-07-31 14:40:02', '2001-08-01 15:32:23', '2001-08-02 16:44:58', '2001-08-03 17:36:36', '2001-08-06 14:10:37', '2001-08-09 16:35:18', '2001-08-14 21:34:23', '2001-08-21 19:41:01', '2001-08-22 14:57:23', '2001-08-22 17:17:48', '2001-08-23 13:43:39', '2001-08-27 15:17:45', '2001-06-01 14:32:52', '2001-06-08 16:45:53', '2001-06-08 16:45:53', '2001-07-30 16:18:04', '2001-05-08 20:44:44', '2001-05-09 18:48:29', '2001-05-09 18:48:29', '2001-05-09 18:48:29', '2001-05-16 14:42:44', '2001-05-16 14:42:44', '2001-05-16 14:42:44', '2001-06-06 12:35:10', '2001-06-06 12:35:10', '2001-06-06 12:35:10', '2001-09-28 16:38:32', '2001-09-28 16:38:32', '2001-09-28 16:38:32', '2001-06-25 22:11:44']),\n",
       "       list(['2001-06-26 17:07:00', '2001-07-18 21:04:00', '2001-07-19 07:04:00', '2001-10-19 20:49:50', '2001-07-18 21:04:00', '2001-06-26 17:07:00']),\n",
       "       list(['2001-11-25 20:17:03', '2001-11-25 20:22:26', '2001-11-25 20:42:00', '2001-10-21 19:27:07', '2001-10-21 18:55:53', '2001-10-23 00:59:04', '2001-10-28 21:03:10'])], dtype=object)"
      ]
     },
     "execution_count": 42,
     "metadata": {},
     "output_type": "execute_result"
    }
   ],
   "source": [
    "from_spikes.values[:7]"
   ]
  },
  {
   "cell_type": "code",
   "execution_count": null,
   "metadata": {
    "collapsed": true
   },
   "outputs": [],
   "source": []
  }
 ],
 "metadata": {
  "kernelspec": {
   "display_name": "Python 2",
   "language": "python",
   "name": "python2"
  },
  "language_info": {
   "codemirror_mode": {
    "name": "ipython",
    "version": 2
   },
   "file_extension": ".py",
   "mimetype": "text/x-python",
   "name": "python",
   "nbconvert_exporter": "python",
   "pygments_lexer": "ipython2",
   "version": "2.7.15rc1"
  }
 },
 "nbformat": 4,
 "nbformat_minor": 1
}
