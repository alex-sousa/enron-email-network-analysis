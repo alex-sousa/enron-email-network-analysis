{
 "cells": [
  {
   "cell_type": "code",
   "execution_count": 1,
   "metadata": {
    "collapsed": true
   },
   "outputs": [],
   "source": [
    "import pandas as pd\n",
    "from matplotlib import pyplot as plt\n",
    "from datetime import datetime\n",
    "import numpy as np\n",
    "%matplotlib inline"
   ]
  },
  {
   "cell_type": "code",
   "execution_count": 2,
   "metadata": {
    "collapsed": true
   },
   "outputs": [],
   "source": [
    "plt.style.use(['dark_background', 'seaborn-talk'])"
   ]
  },
  {
   "cell_type": "code",
   "execution_count": 3,
   "metadata": {
    "collapsed": true
   },
   "outputs": [],
   "source": [
    "links = pd.read_csv('email-links-all.csv')"
   ]
  },
  {
   "cell_type": "code",
   "execution_count": 4,
   "metadata": {
    "collapsed": false
   },
   "outputs": [
    {
     "data": {
      "text/plain": [
       "(614586, 3)"
      ]
     },
     "execution_count": 4,
     "metadata": {},
     "output_type": "execute_result"
    }
   ],
   "source": [
    "links.shape"
   ]
  },
  {
   "cell_type": "code",
   "execution_count": 5,
   "metadata": {
    "collapsed": false
   },
   "outputs": [
    {
     "name": "stderr",
     "output_type": "stream",
     "text": [
      "/usr/local/lib/python2.7/dist-packages/ipykernel/__main__.py:1: UserWarning: Boolean Series key will be reindexed to match DataFrame index.\n",
      "  if __name__ == '__main__':\n"
     ]
    }
   ],
   "source": [
    "links = links[links.Date > '1980-01-01 00:00:00'][links.Date < '2043-12-28 19:34:12']"
   ]
  },
  {
   "cell_type": "code",
   "execution_count": 6,
   "metadata": {
    "collapsed": false,
    "scrolled": true
   },
   "outputs": [
    {
     "data": {
      "text/html": [
       "<div>\n",
       "<style scoped>\n",
       "    .dataframe tbody tr th:only-of-type {\n",
       "        vertical-align: middle;\n",
       "    }\n",
       "\n",
       "    .dataframe tbody tr th {\n",
       "        vertical-align: top;\n",
       "    }\n",
       "\n",
       "    .dataframe thead th {\n",
       "        text-align: right;\n",
       "    }\n",
       "</style>\n",
       "<table border=\"1\" class=\"dataframe\">\n",
       "  <thead>\n",
       "    <tr style=\"text-align: right;\">\n",
       "      <th></th>\n",
       "      <th>Date</th>\n",
       "      <th>From</th>\n",
       "      <th>To</th>\n",
       "    </tr>\n",
       "  </thead>\n",
       "  <tbody>\n",
       "    <tr>\n",
       "      <th>0</th>\n",
       "      <td>2001-05-14 23:39:00</td>\n",
       "      <td>phillip.allen@enron.com</td>\n",
       "      <td>tim.belden@enron.com</td>\n",
       "    </tr>\n",
       "    <tr>\n",
       "      <th>1</th>\n",
       "      <td>2001-05-04 20:51:00</td>\n",
       "      <td>phillip.allen@enron.com</td>\n",
       "      <td>john.lavorato@enron.com</td>\n",
       "    </tr>\n",
       "    <tr>\n",
       "      <th>2</th>\n",
       "      <td>2000-10-18 10:00:00</td>\n",
       "      <td>phillip.allen@enron.com</td>\n",
       "      <td>leah.arsdall@enron.com</td>\n",
       "    </tr>\n",
       "    <tr>\n",
       "      <th>3</th>\n",
       "      <td>2000-10-23 13:13:00</td>\n",
       "      <td>phillip.allen@enron.com</td>\n",
       "      <td>randall.gay@enron.com</td>\n",
       "    </tr>\n",
       "    <tr>\n",
       "      <th>4</th>\n",
       "      <td>2000-08-31 12:07:00</td>\n",
       "      <td>phillip.allen@enron.com</td>\n",
       "      <td>greg.piper@enron.com</td>\n",
       "    </tr>\n",
       "  </tbody>\n",
       "</table>\n",
       "</div>"
      ],
      "text/plain": [
       "                  Date                     From                       To\n",
       "0  2001-05-14 23:39:00  phillip.allen@enron.com     tim.belden@enron.com\n",
       "1  2001-05-04 20:51:00  phillip.allen@enron.com  john.lavorato@enron.com\n",
       "2  2000-10-18 10:00:00  phillip.allen@enron.com   leah.arsdall@enron.com\n",
       "3  2000-10-23 13:13:00  phillip.allen@enron.com    randall.gay@enron.com\n",
       "4  2000-08-31 12:07:00  phillip.allen@enron.com     greg.piper@enron.com"
      ]
     },
     "execution_count": 6,
     "metadata": {},
     "output_type": "execute_result"
    }
   ],
   "source": [
    "links.head()"
   ]
  },
  {
   "cell_type": "markdown",
   "metadata": {},
   "source": [
    "Count the number of contact events between emails. Here, we consider the number of interactions as weights."
   ]
  },
  {
   "cell_type": "code",
   "execution_count": 7,
   "metadata": {
    "collapsed": false
   },
   "outputs": [],
   "source": [
    "weight_counts = links.groupby(['From', 'To']).size().reset_index(name = 'Count')\n",
    "weight_counts.to_csv('weighted_links.csv', index=False)"
   ]
  },
  {
   "cell_type": "code",
   "execution_count": 8,
   "metadata": {
    "collapsed": false,
    "scrolled": true
   },
   "outputs": [
    {
     "data": {
      "text/plain": [
       "(83714, 3)"
      ]
     },
     "execution_count": 8,
     "metadata": {},
     "output_type": "execute_result"
    }
   ],
   "source": [
    "weight_counts.shape"
   ]
  },
  {
   "cell_type": "code",
   "execution_count": 9,
   "metadata": {
    "collapsed": false
   },
   "outputs": [
    {
     "data": {
      "text/html": [
       "<div>\n",
       "<style scoped>\n",
       "    .dataframe tbody tr th:only-of-type {\n",
       "        vertical-align: middle;\n",
       "    }\n",
       "\n",
       "    .dataframe tbody tr th {\n",
       "        vertical-align: top;\n",
       "    }\n",
       "\n",
       "    .dataframe thead th {\n",
       "        text-align: right;\n",
       "    }\n",
       "</style>\n",
       "<table border=\"1\" class=\"dataframe\">\n",
       "  <thead>\n",
       "    <tr style=\"text-align: right;\">\n",
       "      <th></th>\n",
       "      <th>From</th>\n",
       "      <th>To</th>\n",
       "      <th>Count</th>\n",
       "    </tr>\n",
       "  </thead>\n",
       "  <tbody>\n",
       "    <tr>\n",
       "      <th>0</th>\n",
       "      <td>101qi@msn.com</td>\n",
       "      <td>enlvwvz@msn.com</td>\n",
       "      <td>1</td>\n",
       "    </tr>\n",
       "    <tr>\n",
       "      <th>39614</th>\n",
       "      <td>karen.white@csfb.com</td>\n",
       "      <td>klay@enron.com</td>\n",
       "      <td>1</td>\n",
       "    </tr>\n",
       "    <tr>\n",
       "      <th>39615</th>\n",
       "      <td>karen@mpenner.com</td>\n",
       "      <td>jarnold@enron.com</td>\n",
       "      <td>1</td>\n",
       "    </tr>\n",
       "    <tr>\n",
       "      <th>39616</th>\n",
       "      <td>karen@mpenner.com</td>\n",
       "      <td>kenneth.lay@enron.com</td>\n",
       "      <td>1</td>\n",
       "    </tr>\n",
       "    <tr>\n",
       "      <th>39625</th>\n",
       "      <td>kari.oquinn@enron.com</td>\n",
       "      <td>amy.fitzpatrick@enron.com</td>\n",
       "      <td>1</td>\n",
       "    </tr>\n",
       "  </tbody>\n",
       "</table>\n",
       "</div>"
      ],
      "text/plain": [
       "                        From                         To  Count\n",
       "0              101qi@msn.com            enlvwvz@msn.com      1\n",
       "39614   karen.white@csfb.com             klay@enron.com      1\n",
       "39615      karen@mpenner.com          jarnold@enron.com      1\n",
       "39616      karen@mpenner.com      kenneth.lay@enron.com      1\n",
       "39625  kari.oquinn@enron.com  amy.fitzpatrick@enron.com      1"
      ]
     },
     "execution_count": 9,
     "metadata": {},
     "output_type": "execute_result"
    }
   ],
   "source": [
    "weight_counts.sort_values('Count').head()"
   ]
  },
  {
   "cell_type": "code",
   "execution_count": 10,
   "metadata": {
    "collapsed": false
   },
   "outputs": [],
   "source": [
    "thresholded_weight_counts = weight_counts.loc[weight_counts['Count'] > 10]"
   ]
  },
  {
   "cell_type": "code",
   "execution_count": 11,
   "metadata": {
    "collapsed": false
   },
   "outputs": [
    {
     "data": {
      "image/png": "[encoded data removed]",
      "text/plain": [
       "<matplotlib.figure.Figure at 0x7efeb487b1d0>"
      ]
     },
     "metadata": {},
     "output_type": "display_data"
    }
   ],
   "source": [
    "fig, ax = plt.subplots()\n",
    "thresholded_weight_counts.hist(ax=ax, column='Count', bins=1000)\n",
    "ax.set_xscale('log')\n",
    "ax.set_yscale('log')"
   ]
  },
  {
   "cell_type": "markdown",
   "metadata": {},
   "source": [
    "Count From messages per email"
   ]
  },
  {
   "cell_type": "code",
   "execution_count": 12,
   "metadata": {
    "collapsed": false
   },
   "outputs": [
    {
     "data": {
      "text/plain": [
       "(12661, 2)"
      ]
     },
     "execution_count": 12,
     "metadata": {},
     "output_type": "execute_result"
    }
   ],
   "source": [
    "from_counts = links.groupby(['From']).size().reset_index(name = 'CountFrom')\n",
    "from_counts.sort_values('CountFrom').shape"
   ]
  },
  {
   "cell_type": "markdown",
   "metadata": {},
   "source": [
    "Get timestamps for each From email"
   ]
  },
  {
   "cell_type": "code",
   "execution_count": 13,
   "metadata": {
    "collapsed": false
   },
   "outputs": [
    {
     "data": {
      "text/plain": [
       "12661"
      ]
     },
     "execution_count": 13,
     "metadata": {},
     "output_type": "execute_result"
    }
   ],
   "source": [
    "from_spikes = links.groupby('From')['Date'].apply(list)\n",
    "from_spikes.size"
   ]
  },
  {
   "cell_type": "markdown",
   "metadata": {},
   "source": [
    "Threshold. Discard emails that are note active"
   ]
  },
  {
   "cell_type": "code",
   "execution_count": 14,
   "metadata": {
    "collapsed": false
   },
   "outputs": [
    {
     "data": {
      "text/plain": [
       "6601"
      ]
     },
     "execution_count": 14,
     "metadata": {},
     "output_type": "execute_result"
    }
   ],
   "source": [
    "from_spikes = from_spikes[from_spikes.str.len() > 3]\n",
    "from_spikes.size"
   ]
  },
  {
   "cell_type": "code",
   "execution_count": 15,
   "metadata": {
    "collapsed": false
   },
   "outputs": [
    {
     "data": {
      "text/plain": [
       "From\n",
       "1800flowers@shop2u.com             [2000-11-21 01:21:00, 2000-11-21 01:21:00, 200...\n",
       "2000greetings@postalmanager.com    [2002-01-08 18:25:48, 2002-01-22 17:53:03, 200...\n",
       "2740741@skytel.com                 [2000-09-06 15:34:00, 2000-09-06 16:33:00, 200...\n",
       "40ees@enron.com                    [2001-10-05 18:45:16, 2001-10-05 18:45:16, 200...\n",
       "40enron@enron.com                  [2001-06-06 18:08:58, 2001-05-03 19:48:48, 200...\n",
       "7409949@skytel.com                 [2001-06-26 17:07:00, 2001-07-18 21:04:00, 200...\n",
       "7409950@skytel.com                 [2001-11-25 20:17:03, 2001-11-25 20:22:26, 200...\n",
       "8774754543@skytel.com              [2001-11-17 17:51:21, 2002-01-17 15:34:43, 200...\n",
       "8777865122@skytel.com              [2002-01-10 19:10:59, 2002-01-10 19:00:10, 200...\n",
       "9069761@skytel.com                 [2001-07-18 20:20:00, 2000-11-07 13:47:00, 200...\n",
       "Name: Date, dtype: object"
      ]
     },
     "execution_count": 15,
     "metadata": {},
     "output_type": "execute_result"
    }
   ],
   "source": [
    "from_spikes[:10]"
   ]
  },
  {
   "cell_type": "markdown",
   "metadata": {},
   "source": [
    "Timerange in the dataset"
   ]
  },
  {
   "cell_type": "code",
   "execution_count": 16,
   "metadata": {
    "collapsed": false
   },
   "outputs": [
    {
     "data": {
      "text/plain": [
       "166316"
      ]
     },
     "execution_count": 16,
     "metadata": {},
     "output_type": "execute_result"
    }
   ],
   "source": [
    "timestamps = list(set(links.Date.tolist()))\n",
    "timestamps = [datetime.strptime(date, '%Y-%m-%d %H:%M:%S') for date in timestamps]\n",
    "len(timestamps)"
   ]
  },
  {
   "cell_type": "code",
   "execution_count": 17,
   "metadata": {
    "collapsed": false
   },
   "outputs": [],
   "source": [
    "timestamps.sort()"
   ]
  },
  {
   "cell_type": "code",
   "execution_count": 18,
   "metadata": {
    "collapsed": false
   },
   "outputs": [],
   "source": [
    "#extract the earliest and the latest dates in the dataset\n",
    "start_time = min(timestamps)\n",
    "end_time = max(timestamps)"
   ]
  },
  {
   "cell_type": "markdown",
   "metadata": {},
   "source": [
    "Extracting spikes"
   ]
  },
  {
   "cell_type": "code",
   "execution_count": 19,
   "metadata": {
    "collapsed": false,
    "scrolled": false
   },
   "outputs": [
    {
     "name": "stderr",
     "output_type": "stream",
     "text": [
      "/usr/local/lib/python2.7/dist-packages/matplotlib/axes/_axes.py:531: UserWarning: No labelled objects found. Use label='...' kwarg on individual plots.\n",
      "  warnings.warn(\"No labelled objects found. \"\n"
     ]
    },
    {
     "data": {
      "image/png": "[encoded data removed]",
      "text/plain": [
       "<matplotlib.figure.Figure at 0x7efeb476e550>"
      ]
     },
     "metadata": {},
     "output_type": "display_data"
    }
   ],
   "source": [
    "#visualize timeline. Assign random number to each timestamp\n",
    "n = 10\n",
    "# for label, time in zip(from_spikes.keys[:n], from_spikes.values[:n]):\n",
    "for label, time in from_spikes[:].iteritems():\n",
    "    unique_elements, counts_elements = np.unique(time, return_counts=True)\n",
    "#     time = list(set(time))\n",
    "    time = unique_elements\n",
    "    plt.plot_date(time, counts_elements)\n",
    "    plt.legend()"
   ]
  },
  {
   "cell_type": "code",
   "execution_count": 20,
   "metadata": {
    "collapsed": false
   },
   "outputs": [
    {
     "name": "stdout",
     "output_type": "stream",
     "text": [
      "(2221,)\n"
     ]
    }
   ],
   "source": [
    "activations = pd.DataFrame(columns=['address', 'activations'])\n",
    "activations_series = pd.Series()\n",
    "i = 0\n",
    "for label, time in from_spikes[:].iteritems():\n",
    "    unique_elements, counts_elements = np.unique(time, return_counts=True)\n",
    "    counts_elements = np.append(counts_elements, 0)\n",
    "    counts_elements = np.insert(counts_elements, 0, 0)\n",
    "    unique_elements = np.append(unique_elements, end_time)\n",
    "    unique_elements = np.insert(unique_elements, 0, start_time)\n",
    "    d = {'Counts': counts_elements}\n",
    "    df = pd.DataFrame(data = d, index = pd.to_datetime(unique_elements))\n",
    "    df = df.Counts.resample('D').sum()\n",
    "    t = df.values.shape\n",
    "    vals = {k:x for k,x in enumerate(df.values) if x != 0}\n",
    "    activations.loc[i] = [label, vals]\n",
    "    activations_series[label] = vals\n",
    "    i += 1\n",
    "print t # length of a time-series"
   ]
  },
  {
   "cell_type": "code",
   "execution_count": 21,
   "metadata": {
    "collapsed": false,
    "scrolled": true
   },
   "outputs": [
    {
     "data": {
      "text/plain": [
       "1800flowers@shop2u.com                                                                 {1050: 6}\n",
       "2000greetings@postalmanager.com                {1472: 1, 1444: 1, 1477: 1, 1495: 1, 1387: 1, ...\n",
       "2740741@skytel.com                                                              {974: 4, 975: 2}\n",
       "40ees@enron.com                                                      {1368: 4, 1330: 2, 1367: 2}\n",
       "40enron@enron.com                              {1155: 3, 1157: 1, 1158: 2, 1288: 3, 1324: 5, ...\n",
       "7409949@skytel.com                                          {1289: 2, 1290: 1, 1267: 2, 1382: 1}\n",
       "7409950@skytel.com                                          {1384: 2, 1386: 1, 1419: 3, 1391: 1}\n",
       "8774754543@skytel.com                              {1464: 1, 1472: 1, 1411: 1, 1460: 1, 1471: 1}\n",
       "8777865122@skytel.com                          {1476: 3, 1478: 2, 1479: 1, 1485: 1, 1464: 1, ...\n",
       "9069761@skytel.com                             {1346: 2, 1413: 1, 1289: 2, 1290: 1, 1036: 2, ...\n",
       "9069876@skytel.com                             {1296: 1, 1380: 1, 997: 2, 1225: 2, 1295: 2, 1...\n",
       "Alan.Comnes@enron.com                                                                  {1071: 4}\n",
       "Amy_Pittman@timeinc.com                                                                {1025: 9}\n",
       "BEARBennett1@aol.com                                                                   {1404: 4}\n",
       "Benjamin.Rogers@enron.com                      {1057: 3, 1003: 3, 790: 3, 777: 3, 779: 3, 101...\n",
       "Betsy.Carr@dynegy.com                                                                  {1323: 6}\n",
       "Bill.Williams@enron.com                                                                {1206: 6}\n",
       "Bill@bkspeaks.com                              {1382: 1, 1389: 1, 1392: 1, 1401: 1, 1403: 1, ...\n",
       "Bmspeckman@aol.com                                                                      {897: 8}\n",
       "CRAWFNE@kellyservices.com                                                              {1200: 9}\n",
       "Case.Admin@sce.com                                                                     {1343: 6}\n",
       "Chris.Germany@enron.com                                       {1421: 1, 1403: 1, 973: 3, 967: 3}\n",
       "Clint.Dean@enron.com                           {1072: 36, 966: 3, 1071: 9, 912: 3, 1010: 3, 1...\n",
       "CoganJA@aol.com                                             {1393: 1, 1364: 2, 1357: 2, 1381: 1}\n",
       "Dale.Rasmussen@enron.com                                                               {1161: 9}\n",
       "Dana.Davis@enron.com                                        {1009: 3, 1010: 3, 1059: 3, 1015: 3}\n",
       "David_Trice@westsidelexus.com                                                         {1413: 15}\n",
       "Deborah.Fiorito@dynegy.com                                                             {1420: 6}\n",
       "Don.Baughman@enron.com                                                                 {1175: 6}\n",
       "Drew.Fossum@enron.com                                                         {1059: 3, 1051: 3}\n",
       "                                                                     ...                        \n",
       "ygoldfeder@swidlaw.com                                                                  {934: 6}\n",
       "ying.liu@enron.com                                          {1121: 3, 1122: 2, 1059: 5, 1150: 2}\n",
       "yolanda.ford@enron.com                                             {1024: 12, 1407: 6, 1023: 12}\n",
       "yolanda.pena@enron.com                                                        {1280: 3, 1023: 6}\n",
       "yolanda.roberts@enron.com                                                       {976: 2, 981: 6}\n",
       "youyi.feng@enron.com                                                  {976: 3, 1102: 2, 1071: 3}\n",
       "ypoforumsurvey@ypoforumdiagnosticsurvey.com                                   {1322: 2, 1359: 9}\n",
       "yuan.tian@enron.com                                {1536: 3, 1532: 4, 1436: 2, 1534: 2, 1254: 1}\n",
       "yumi.takei@enron.com                                        {1070: 6, 1004: 2, 1038: 2, 1030: 4}\n",
       "yvan.chaxel@enron.com                           {800: 3, 801: 3, 805: 3, 818: 6, 819: 3, 855: 3}\n",
       "yvette.connevey@enron.com                      {897: 9, 770: 8, 772: 6, 918: 6, 876: 6, 778: ...\n",
       "yvette.parker@enron.com                                                        {1043: 2, 988: 6}\n",
       "yvonne.acosta@enron.com                                                         {784: 6, 807: 6}\n",
       "yxg4@pge.com                                                                            {850: 9}\n",
       "zachary.mccarroll@enron.com                                 {1436: 1, 1420: 1, 1414: 1, 1457: 1}\n",
       "zaeza@unplace.com                              {1515: 1, 1478: 1, 1383: 1, 1481: 1, 1514: 1, ...\n",
       "zakia.mcclure@enron.com                                                       {1424: 6, 1421: 1}\n",
       "zakiyyah.mcclure@enron.com                     {1408: 1, 1345: 1, 1381: 3, 1382: 3, 1409: 2, ...\n",
       "zangeles@sempra.com                                 {937: 9, 898: 6, 1228: 6, 1058: 24, 974: 15}\n",
       "zarin.imam@enron.com                           {1220: 3, 1254: 2, 1227: 3, 1234: 2, 1266: 2, ...\n",
       "zelda.paschal@enron.com                        {1441: 3, 1480: 3, 1389: 6, 1358: 1, 1360: 4, ...\n",
       "zhiyong.wei@enron.com                          {1368: 4, 1282: 3, 1283: 1, 1284: 6, 1157: 3, ...\n",
       "zhiyun.yang@enron.com                                       {1472: 2, 1385: 3, 1194: 3, 1371: 2}\n",
       "zimin.lu@enron.com                             {1028: 2, 1029: 3, 1030: 3, 1035: 6, 1036: 3, ...\n",
       "zimmerman@enron.com                                                           {1250: 3, 1245: 3}\n",
       "zionette.vincent@enron.com                                                    {1210: 3, 1221: 3}\n",
       "zipper@enron.com                                                              {1235: 4, 1245: 1}\n",
       "zistlerf@wallacegarcia.com                         {1498: 2, 1515: 2, 1484: 1, 1477: 1, 1471: 1}\n",
       "zulie.flores@enron.com                                                {1385: 6, 941: 9, 1413: 3}\n",
       "zwharton@dawray.com                            {1409: 1, 1385: 2, 1386: 1, 1387: 1, 1388: 1, ...\n",
       "Length: 6601, dtype: object"
      ]
     },
     "execution_count": 21,
     "metadata": {},
     "output_type": "execute_result"
    }
   ],
   "source": [
    "activations_series"
   ]
  },
  {
   "cell_type": "code",
   "execution_count": 23,
   "metadata": {
    "collapsed": true
   },
   "outputs": [],
   "source": [
    "series = activations_series[4]\n",
    "zeros = np.zeros(t[0])\n",
    "\n",
    "for k,v in series.iteritems():\n",
    "    zeros[k] = v"
   ]
  },
  {
   "cell_type": "code",
   "execution_count": 24,
   "metadata": {
    "collapsed": false,
    "scrolled": false
   },
   "outputs": [
    {
     "data": {
      "text/plain": [
       "[<matplotlib.lines.Line2D at 0x7efea6728690>]"
      ]
     },
     "execution_count": 24,
     "metadata": {},
     "output_type": "execute_result"
    },
    {
     "data": {
      "image/png": "[encoded data removed]",
      "text/plain": [
       "<matplotlib.figure.Figure at 0x7efea67d7cd0>"
      ]
     },
     "metadata": {},
     "output_type": "display_data"
    }
   ],
   "source": [
    "plt.plot(zeros)"
   ]
  },
  {
   "cell_type": "code",
   "execution_count": 25,
   "metadata": {
    "collapsed": false
   },
   "outputs": [],
   "source": [
    "# activations_series.to_csv('activations-enron.csv')"
   ]
  },
  {
   "cell_type": "code",
   "execution_count": 26,
   "metadata": {
    "collapsed": false
   },
   "outputs": [],
   "source": [
    "emails_activated = list(activations_series.index)"
   ]
  },
  {
   "cell_type": "code",
   "execution_count": 27,
   "metadata": {
    "collapsed": false
   },
   "outputs": [],
   "source": [
    "weight_counts = weight_counts[weight_counts.From.isin(emails_activated)]"
   ]
  },
  {
   "cell_type": "code",
   "execution_count": 28,
   "metadata": {
    "collapsed": false
   },
   "outputs": [],
   "source": [
    "weight_counts = weight_counts[weight_counts.To.isin(emails_activated)]"
   ]
  },
  {
   "cell_type": "code",
   "execution_count": 29,
   "metadata": {
    "collapsed": false
   },
   "outputs": [
    {
     "data": {
      "text/plain": [
       "(50904, 3)"
      ]
     },
     "execution_count": 29,
     "metadata": {},
     "output_type": "execute_result"
    }
   ],
   "source": [
    "weight_counts.shape"
   ]
  },
  {
   "cell_type": "code",
   "execution_count": 30,
   "metadata": {
    "collapsed": true
   },
   "outputs": [],
   "source": [
    "# weight_counts.to_csv('weighted_links_activated.csv', index=False)"
   ]
  },
  {
   "cell_type": "code",
   "execution_count": 31,
   "metadata": {
    "collapsed": false
   },
   "outputs": [
    {
     "name": "stdout",
     "output_type": "stream",
     "text": [
      "['1800flowers@shop2u.com', '2000greetings@postalmanager.com', '2740741@skytel.com', '40ees@enron.com', '40enron@enron.com', '7409949@skytel.com', '7409950@skytel.com', '8774754543@skytel.com', '8777865122@skytel.com', '9069761@skytel.com', '9069876@skytel.com', 'Alan.Comnes@enron.com', 'Amy_Pittman@timeinc.com', 'BEARBennett1@aol.com', 'Benjamin.Rogers@enron.com', 'Betsy.Carr@dynegy.com', 'Bill.Williams@enron.com', 'Bill@bkspeaks.com', 'Bmspeckman@aol.com', 'CRAWFNE@kellyservices.com', 'Case.Admin@sce.com', 'Chris.Germany@enron.com', 'Clint.Dean@enron.com', 'CoganJA@aol.com', 'Dale.Rasmussen@enron.com', 'Dana.Davis@enron.com', 'David_Trice@westsidelexus.com', 'Deborah.Fiorito@dynegy.com', 'Don.Baughman@enron.com', 'Drew.Fossum@enron.com', 'Editor@civildiscourse.com', 'Eliseg01@aol.com', 'Eric.Gillaspie@enron.com', 'Frank_Frankini@equityoffice.com', 'From:\\tDutch.Quigley@enron.com', 'From:\\tdave_clarke@NavigantConsulting.com', 'Frthis@aol.com', 'Gerald.Nemec@enron.com', 'Gpsdcard@aol.com', 'Jason.Williams@enron.com', 'Jason.Wolfe@enron.com', 'Jeff.Dasovich@enron.com', 'Jeffrey.Miller@enron.com', 'Joan.Quick@enron.com', 'Joe.Stepenovitch@enron.com', 'John.Arnold@enron.com', 'John.Griffith@enron.com', 'John.Malowney@enron.com', 'Kate.Symes@enron.com', 'Kay.Mann@enron.com', 'Kenneth.Lay@enron.com', 'Kenneth.Parkhill@enron.com', 'Kevin.Ruscitti@enron.com', 'Kim.Ward@enron.com', 'Kyle.Kettler@dynegy.com', 'Larry.Campbell@enron.com', 'LeslieWmAdams@aol.com', 'Liez@aol.com', 'Loyallay@aol.com', 'Mark.Greenberg@enron.com', 'Mark.Guzman@enron.com', 'Mark.Taylor@enron.com', 'MarkRsea@aol.com', 'Mary.Hain@enron.com', 'Matt.Pagano@sce.com', 'Matthew.Lenhart@enron.com', 'Max_S_Bulk@calpx.com', 'Melissa.Krzemien@Compaq.com', 'Mike.Fowler@enron.com', 'Mkruse1@aol.com', 'Naesb1@aol.com', 'PLemme@nyiso.com', 'Popfarm@aol.com', 'Rebecca.Walker@enron.com', 'SSher5DUN@aol.com', 'Sally.Beck@enron.com', 'Sara.Shackleton@enron.com', 'Scott.Dieball@enron.com', 'Scott.Hendrickson@enron.com', 'Sheila.Tweed@enron.com', 'Shirley.Crenshaw@enron.com', 'Stelzer@aol.com', 'Stephanie.Miller@enron.com', 'Susan.Scott@enron.com', 'Suzanne.Adams@enron.com', 'Tana.Jones@enron.com', 'TeiglandL@sullcrom.com', 'TruOrange@aol.com', 'VKaminski@aol.com', 'WalterGuru@aol.com', 'a.nichols@enron.com', 'a.taylor@enron.com', 'aalmgren@capstoneturbine.com', 'aarbisser@kayescholer.com', 'aaron.armstrong@enron.com', 'aaron.berutti@enron.com', 'aaron.brown@enron.com', 'aaron.klemm@enron.com', 'aaron.martinsen@enron.com', 'aavalos@pnm.com', 'abaird@lemle.com', 'abannes@amrresearch.com', 'abarnett@mapus.com', 'abb@eslawfirm.com', 'abel@enron.com', 'abillings@knowledgeinenergy.com', 'ablumrosen@aol.com', 'abmcdon@yahoo.com', 'abrock@poloralphlauren.com', 'acahanchian@zdnetonebox.com', 'acbrown@llgm.com', 'accountmanager@shockwave.com', 'accthelp@cooltravelassistant.com', 'accthelp@expedia.com', 'acevedo_pablo@hotmail.com', 'ack@aelaw.com', 'aclark@firstcallassociates.com', 'acomnes@enron.com', 'acrump@dc.com', 'acunningham@technologicp.com', 'adam.bayer@enron.com', 'adam.johnson@enron.com', 'adam.overfield@enron.com', 'adam.siegel@enron.com', 'adam.umanoff@enron.com', 'adamk@nepco.com', 'adamon@deloitte.com', 'adanker@kayescholer.com', 'adarsh.vakharia@enron.com', 'adefelice@ggfcmk.com', 'adel.robinson@enron.com', 'adeller@ercot.com', 'adesell@nyiso.com', 'admin.enron@enron.com', 'adnan.patel@enron.com', 'adonnell@prmllp.com', 'adrial.boals@enron.com', 'adrian.woolcock@enron.com', 'adriana.wynn@enron.com', 'adriane.moratto@enron.com', 'adriane.schultea@enron.com', 'adrianne.engler@enron.com', 'aduncan@kilstock.com', 'advdfeedback@investools.com', 'aepin@aep.com', 'aevanloon@hotmail.com', 'afilas@keyspanenergy.com', 'afinch@iasco.com', 'afontenot@bracepatt.com', 'aforbess@wcenviro.com', 'aftab.saleem@enron.com', 'agatha.tran@enron.com', 'agent.manager@enron.com', 'agustin.perez@enron.com', 'ahebert@akingump.com', 'aherbst@utilisenergy.com', 'aherrera@statoilenergy.com', 'aiaz_kazi@versata.com', 'aiazkazi@hotbot.com', 'aimee.lannou@enron.com', 'airam.arteaga@enron.com', 'akoelemay@cogc.com', 'akorth96@yahoo.com', 'al2@jmbm.com', 'al@friedwire.com', 'alaadin.suliman@enron.com', 'alamonsoff@riskwaters.com', 'alamonsoff@watersinfo.com', 'alan.aronowitz@enron.com', 'alan.bransgrove@xemkt.com', 'alan.chen@enron.com', 'alan.comnes@enron.com', 'alan.engberg@enron.com', 'alan.larsen@enron.com', 'alan@enventure.com', 'albert.escamilla@enron.com', 'albert.meyers@enron.com', 'alberto.gude@enron.com', 'alberto.levy@enron.com', 'alder@enron.com', 'aleck.dadson@enron.com', 'aleck.dadson@ngwi.com', 'alehew@sequentenergy.com', 'alejandra.chavez@enron.com', 'alejandro.hernandez@enron.com', 'aleonard@caiso.com', 'alert@venturewire.com', 'alerts@stockselector.com', 'alex.goldberg@williams.com', 'alex.hernandez@enron.com', 'alex.hidalgo@enron.com', 'alex.huang@enron.com', 'alex.perwich@enron.com', 'alex.saldana@enron.com', 'alex.villarreal@enron.com', 'alex.wong@enron.com', 'alex@pira.com', 'alexandra.saler@enron.com', 'alexandra.villarreal@enron.com', 'alexandre.bueno@enron.com', 'alexanms@sce.com', 'alexia.pearce@enron.com', 'alexios.kollaros@enron.com', 'alexus.rhone@enron.com', 'alfred.pennisi@enron.com', 'alfredo.huertas@enron.com', 'alhamd.alkhayat@enron.com', 'alice.hritz@enron.com', 'alice.johnson@enron.com', 'alice.weekley@enron.com', 'alice.wright@enron.com', 'alicia.goodrow@enron.com', 'alicia.jenkins@enron.com', 'alicia.perkins@enron.com', 'alienenvoy@aol.com', 'alisa.green@enron.com', 'alisha.guerrero@enron.com', 'alisha.mahabir@enron.com', 'alison.keogh@enron.com', 'allan.sommer@enron.com', 'allanori@aol.com', 'allen.joe@enron.com', 'allison.mchenry@enron.com', 'allison.navin@enron.com', 'alltimeqb@hotmail.com', 'allyson.zykorie@enron.com', 'alma.carrillo@enron.com', 'alma.green@enron.com', 'alouison@hunton.com', 'alterson_thomas@jpmorgan.com', 'althea.gordon@enron.com', 'alyse.herasimchuk@enron.com', 'alysia.pickens@enron.com', 'amador.granado@enron.com', 'amanda.curless@enron.com', 'amanda.huble@enron.com', 'amanda.rybarski@enron.com', 'amanda.schultz@enron.com', 'amanda.talbot@enron.com', 'amber.ebow@enron.com', 'amber.keenan@enron.com', 'ameerabuhalimeh@bankunited.com', 'amelia.alder@enron.com', 'amelia.alland@enron.com', 'amelia.williams@enron.com', 'amendels@lehman.com', 'ameytina@bear.com', 'ami.chokshi@enron.com', 'ami.thakkar@enron.com', 'amita.gosalia@enron.com', 'amitava.dhar@enron.com', 'amkilpat@southernco.com', 'amm303@talkmatch.com', 'amr.ibrahim@enron.com', 'amurray@llgm.com', 'amy.baker@enron.com', 'amy.blumrosen@bakerbotts.com', 'amy.brock@halliburton.com', 'amy.bundscho@enron.com', 'amy.cavazos@enron.com', 'amy.clemons@enron.com', 'amy.cooper@enron.com', 'amy.copeland@enron.com', 'amy.degeyter@enron.com', 'amy.fabian@enron.com', 'amy.felling@enron.com', 'amy.fitzpatrick@enron.com', 'amy.gambill@enron.com', 'amy.heffernan@enron.com', 'amy.hood@gs.com', 'amy.lee@enron.com', 'amy.mulligan@enron.com', 'amy.oberg@enron.com', 'amy.quirsfeld@enron.com', 'amy.rios@enron.com', 'amy.siedenburg@gs.com', 'amy.smith@enron.com', 'amy.spoede@enron.com', 'amy@thehallagency.com', 'amyf@review.com', 'an1229@hotmail.com', 'ana.alcantara@enron.com', 'ana.castanon@enron.com', 'anders.ryrfeldt@enron.com', 'andre.templeman@enron.com', 'andrea.bertone@enron.com', 'andrea.calo@enron.com', 'andrea.crump@enron.com', 'andrea.dahlke@enron.com', 'andrea.guillen@enron.com', 'andrea.miller@enron.com', 'andrea.reed@enron.com', 'andrea.richards@enron.com', 'andrea.ring@enron.com', 'andrea.stein@robertwalters.com', 'andrea.woodland@enron.com', 'andrea.yowman@enron.com', 'andreas.simou@garp.com', 'andrew.champion@enron.com', 'andrew.clark@weil.com', 'andrew.cornfield@enron.com', 'andrew.edison@enron.com', 'andrew.fairley@enron.com', 'andrew.fastow@enron.com', 'andrew.greer@enron.com', 'andrew.harting@weil.com', 'andrew.kelemen@enron.com', 'andrew.lewis@enron.com', 'andrew.makk@enron.com', 'andrew.miles@enron.com', 'andrew.parsons@enron.com', 'andrew.schwed@morganstanley.com', 'andrew.wilson@enron.com', 'andrew.wu@enron.com', 'andrewhescock@hotmail.com', 'andrews@calpine.com', 'andria.stevens@enron.com', 'andy.brady@enron.com', 'andy.pace@enron.com', 'andy.rodriquez@enron.com', 'andy.unverzagt@enron.com', 'andy.zipper@enron.com', 'andy@apbenergy.com', 'andy@kalotay.com', 'andy@netconversions.com', 'andy@spectronenergy.com', 'aneela.charania@enron.com', 'angel.esguerra@enron.com', 'angela.barnett@enron.com', 'angela.cadena@enron.com', 'angela.chen@enron.com', 'angela.davis@enron.com', 'angela.mcculloch@enron.com', 'angela.morris@enron.com', 'angela.palmieri@blockbuster.com', 'angela.sprock@enron.com', 'angela.white@enron.com', 'angela.williams@enron.com', 'angela.wilson@enron.com', 'angela@soundmediagroup.com', 'angelic.davis@enron.com', 'angelina.lorio@enron.com', 'angeline.poon@enron.com', 'angelo.miroballi@enron.com', 'angie.buis@enron.com', 'angie.collins@enron.com', 'angie.hueca@enron.com', 'angie.zeman@enron.com', 'angieb46@yahoo.com', 'angiegillikin@hotmail.com', 'angusmcka@aol.com', 'anil.sama@intel.com', 'anita.dupont@enron.com', 'anita.fam@enron.com', 'anita.luong@enron.com', 'anita.martin@enron.com', 'anjam.ahmad@enron.com', 'ankush.sen@enron.com', 'ann.ballard@enron.com', 'ann.brown@enron.com', 'ann.carethers@enron.com', 'ann.chance@enron.com', 'ann.cohn@sce.com', 'ann.eason@enron.com', 'ann.foret@enron.com', 'ann.hill@enron.com', 'ann.matson@enron.com', 'ann.mora@enron.com', 'ann.murphy@enron.com', 'ann.osire@enron.com', 'ann.schmidt@enron.com', 'ann.smith@enron.com', 'ann.vaughn@enron.com', 'ann.white@enron.com', 'anna.allen@blakes.com', 'anna.fox@enron.com', 'anna.mehrer@enron.com', 'anna.santucci@enron.com', 'anne.bike@enron.com', 'anne.duncan@enron.com', 'anne.edgley@enron.com', 'anne.hicks@enron.com', 'anne.koehler@enron.com', 'anne.labbe@enron.com', 'anne.moisan@internationalsos.com', 'anne_heard@ryderscott.com', 'annelouis@dwt.com', 'annemarie.allex@enron.com', 'annemieke.slikker@enron.com', 'annette.schneider@enron.com', 'annieleung@kpmg.com', 'annmarie.tiller@enron.com', 'announcements@provantage.com', 'announcements@welcom', 'annswalton@hotmail.com', 'annualconference@prosrm.com', 'anthony.campos@enron.com', 'anthony.dayao@enron.com', 'anthony.leitner@gs.com', 'anthony.mends@enron.com', 'anthony.tran@enron.com', 'antlulu2@aol.com', 'antonio.paez@bradfordcompany.com', 'anurag.saksena@gmacrfc.com', 'anwar.melethil@enron.com', 'aod@newsdata.com', 'aozols@gmssr.com', 'apacheco@oneok.com', 'apanasko@manfinancial.com', 'aparna.rajaram@enron.com', 'apg@tozzini.com', 'applicationservice@bdcimail.com', 'april.hrach@enron.com', 'aptimusoffers@aptimus.com', 'araceli.romero@enron.com', 'aram.sogomonian@pacificorp.com', 'arfan.aziz@enron.com', 'arfsten@bflassociates.com', 'ariane.saney@caminus.com', 'arlanz@mexis.com', 'army710@msn.com', 'arnie.bailey@enron.com', 'arnold.eisenstein@enron.com', 'aroffwarg@bracepatt.com', 'arquella.hargrove@enron.com', 'arshak.sarkissian@enron.com', 'art.bieser@enron.com', 'arun.balasundaram@enron.com', 'arvel.martin@enron.com', 'arvind.ramanathan@techspan.com', 'asako.takesaki@bakernet.com', 'asama@yahoo.com', 'asem.atta@enron.com', 'asettanni@bracepatt.com', 'ashaw@milbank.com', 'ashleastu@aol.com', 'ashley.baxter@enron.com', 'ashley.landry@enform.com', 'ashley.worthing@enron.com', 'ashu.tewari@enron.com', 'assessmentservices@improvenow.com', 'astorey@nyiso.com', 'athomas80@aol.com', 'athomas@newenergy.com', 'audrey.cook@enron.com', 'audrey.martin@ubsw.com', 'audrey.robertson@enron.com', 'automatedmail@mplanners.com', 'autumn_cartier@eott.com', 'ava.garcia@enron.com', 'avramsiegel@home.com', 'avril.forster@enron.com', 'awagner@kayescholer.com', 'awais.omar@enron.com', 'awalters96@yahoo.com', 'aweller@sel.com', 'awenda2000@cs.com', 'awenner@velaw.com', 'awitness34@aol.com', 'awu@quinnemanuel.com', 'axisteam@enron.com', 'ayesha.kanji@enron.com', 'aysu90@hotmail.com', 'ayudkowsky@stroock.com', 'ayueh@hotmail.com', 'b.jones@enron.com', 'b.palmer@enron.com', 'badranguet@velaw.com', 'bagray@calpx.com', 'balletstar315@msn.com', 'bambi.heckerman@enron.com', 'bamiller@kpmg.com', 'ban.sharma@enron.com', 'barbara.bischoff@enron.com', 'barbara.clancey@ipgdirect.com', 'barbara.dillard@enron.com', 'barbara.gray@enron.com', 'barbara.hankins@enron.com', 'barbara.hueter@enron.com', 'barbara.lewis@enron.com', 'barbara.martinez@enron.com', 'barbara.paige@enron.com', 'barbara.sain@compaq.com', 'barbara.waldrop@cox.com', 'barbaranielsen@dwt.com', 'barbette_watts@i2.com', 'barend.vanderhorst@enron.com', 'barkerde@nmenergy.com', 'barry.pearce@enron.com', 'barry.tycholiz@enron.com', 'barry.vanderhorst@enron.com', 'barshk@gtlaw.com', 'bart.burk@enron.com', 'barton.clark@enron.com', 'basil.karampelas@enron.com', 'bass70@aol.com', 'bat@sshdesign.com', 'batoggero@yahoo.com', 'baveety@pplweb.com', 'bbradsha@skadden.com', 'bbreen@questia.com', 'bbryant@katzlaw.com', 'bburgess@wm.com', 'bcagle@ipcgas.com', 'bcarlton@elwoodbox.com', 'bcherry@sempra.com', 'bcragg@gmssr.com', 'bcrouch@hotmail.com', 'bdailey@milbank.com', 'bdelgadi@kayescholer.com', 'bearbennett1@aol.com', 'beatrice.reyna@enron.com', 'beau@layfam.com', 'beau@rrhinvestments.com', 'becky.bruce@enron.com', 'becky.caudle@enron.com', 'becky.merola@enron.com', 'becky.pham@enron.com', 'becky.pitre@enron.com', 'becky.spencer@enron.com', 'becky.stephens@enron.com', 'becky.tlucek@enron.com', 'becky.young@enron.com', 'becky.zikes@enron.com', 'becky@cqg.com', 'beckynoodl@aol.com', 'beetle9209@aol.com', 'begreen@seiworldwide.com', 'belden@enron.com', 'ben.asante@enron.com', 'ben.bergfelt@painewebber.com', 'ben.bergfelt@ubspainewebber.com', 'ben.freeman@enron.com', 'ben.glisan@enron.com', 'ben.gwaltney@enron.com', 'ben.herman@enron.com', 'ben.jacoby@enron.com', 'ben.pacewic@phs.com', 'ben.parsons@enron.com', 'ben.porath@oatiinc.com', 'ben.thomason@enron.com', 'benjamin.bell@enron.com', 'benjamin.freeman@enron.com', 'benjamin.parsons@enron.com', 'benjamin.rogers@enron.com', 'benjamin.souza@msdw.com', 'benjamin.thomason@enron.com', 'bernadette.etienne@enron.com', 'bernadette.hawkins@enron.com', 'bernardo.andrews@enron.com', 'bernice.rodriguez@enron.com', 'bert.hernandez@enron.com', 'bert.meyers@enron.com', 'bert.stipelcovich@enron.com', 'bes.prod@schwab.com', 'bessik.matchavariani@enron.com', 'beth.apollo@enron.com', 'beth.barrett@ubsw.com', 'beth.cherry@enform.com', 'beth.cowan@enron.com', 'beth.jenkins@enron.com', 'beth.miertschin@enron.com', 'beth.ng@morganstanley.com', 'beth.perlman@enron.com', 'beth.ryan@enron.com', 'beth_garza@fpl.com', 'betty.tauzier@enron.com', 'bettye.langham@excite.com', 'bettynance@dellnet.com', 'beustis@romcapital.com', 'beverley.ashcroft@enron.com', 'beverly.beaty@enron.com', 'beverly.fennessy@enron.com', 'beverly.miller@enron.com', 'beverly.stephens@enron.com', 'bfraser@reliant.com', 'bgabrielson@cdnam.com', 'bgibson50606@yahoo.com', 'bglushko@argentinc.com', 'bgodthing@aol.com', 'bgozz@yahoo.com', 'bgpenn@marathonoil.com', 'bgray@epelectric.com', 'bhansen@lhom.com', 'bharat.khanna@enron.com', 'bharsh@puget.com', 'bhitschel@tesoropetroleum.com', 'bhutt@ankarcapital.com', 'bianca.ornelas@enron.com', 'bidconfirm@ebay.com', 'bilal.bajwa@enron.com', 'biliana.pehlivanova@enron.com', 'bill.berkeland@enron.com', 'bill.brogan@enron.com', 'bill.brown@enron.com', 'bill.cordes@enron.com', 'bill.donovan@enron.com', 'bill.fortney@enron.com', 'bill.gathmann@enron.com', 'bill.haack@haack.com', 'bill.hare@enron.com', 'bill.hatch@enron.com', 'bill.iii@enron.com', 'bill.kyle@enron.com', 'bill.miller@uschamber.com', 'bill.moore@enron.com', 'bill.rapp@enron.com', 'bill.rust@enron.com', 'bill.white@enron.com', 'bill.williams@enron.com', 'bill@beachheadmusic.com', 'bill@friedwire.com', 'bill@katzlaw.com', 'billglushko@hotmail.com', 'billie.akhave@enron.com', 'billstclair@msn.com', 'billwhite@mvalaw.com', 'billy.braddock@enron.com', 'billy.dixon@bp.com', 'billy.dorsey@enron.com', 'billy.lemmons@enron.com', 'binh.pham@enron.com', 'binky.davidson@enron.com', 'bjackson@msspc.com', 'bjackson@sswpc.com', 'bjones5@txu.com', 'bjorn.hagelmann@enron.com', 'bjspringer@jonesday.com', 'bkc7@pge.com', 'black@enron.com', 'blafuze@velaw.com', 'blair.fleming@rbcds.com', 'blair.fleming@royalbank.com', 'blair.lichtenwalter@enron.com', 'blake.walker@enron.com', 'blakew@vividence.com', 'blauderback@soes.com', 'blazersfastbreak@ripcity.com', 'blh@pkns.com', 'block@nisource.com', 'blt12139@aol.com', 'bmspeckman@aol.com', 'bo.barnwell@enron.com', 'bob.ambrocik@enron.com', 'bob.bandel@enron.com', 'bob.bowen@enron.com', 'bob.burleson@enron.com', 'bob.butts@enron.com', 'bob.carter@enron.com', 'bob.chandler@enron.com', 'bob.crane@enron.com', 'bob.hagen@enron.com', 'bob.hall@enron.com', 'bob.hansen@enron.com', 'bob.hillier@enron.com', 'bob.jordan@compaq.com', 'bob.joyce@kvaerner.com', 'bob.klein@enron.com', 'bob.lee@enron.com', 'bob.martinez@enron.com', 'bob.peebler@halliburton.com', 'bob.shults@enron.com', 'bob.stevens@enron.com', 'bob.ward@enron.com', 'bob.williams@elpaso.com', 'bobaymon@aol.com', 'bobbi.kilburn@vynpc.com', 'bobbi.tessandori@enron.com', 'bobbie.campbell@enron.com', 'bobbie.moody@enron.com', 'bobbie.power@enron.com', 'bobby.eberle@gopusa.com', 'bobette.riner@ipgdirect.com', 'bobnovotny@juno.com', 'bodezoffa@hotmail.com', 'body.shop@enron.com', 'bodyshop@enron.com', 'boethia@hotmail.com', 'bonnie.nelson@enron.com', 'bonnie.white@enron.com', 'bournebj@aol.com', 'boxerindy@aol.com', 'boyd_j._springer@jonesday.com', 'boydjas@hotmail.com', 'bparish@kslaw.com', 'bpechersky@velaw.com', 'bperron@columbiaenergygroup.com', 'brad.alford@enron.com', 'brad.blevins@enron.com', 'brad.carey@enron.com', 'brad.harris@enron.com', 'brad.horn@enron.com', 'brad.jones@enron.com', 'brad.king@conoco.com', 'brad.kirchhofer@enron.com', 'brad.lawson@enron.com', 'brad.mckay@enron.com', 'brad.morse@enron.com', 'brad.nebergall@enron.com', 'brad.nelson@nrgenergy.com', 'brad.richter@enron.com', 'brad.romine@enron.com', 'brad.schneider@enron.com', 'bradford.larson@enron.com', 'bradgood@magix.com', 'bradley.diebner@enron.com', 'bradley.holmes@enron.com', 'bradley.jones@enron.com', 'bradmonovich@lockeliddell.com', 'brandee.jackson@enron.com', 'brandi.morris@enron.com', 'brandon.neff@enron.com', 'brandon.oliveira@enron.com', 'brandon.rigney@enron.com', 'brandon.wax@enron.com', 'brandons@calpine.com', 'brant.reves@enron.com', 'brenda.anderson@enron.com', 'brenda.bonhame@enron.com', 'brenda.crabtree@sabre.com', 'brenda.fletcher@enron.com', 'brenda.funk@enron.com', 'brenda.herod@enron.com', 'brenda.johnston@enron.com', 'brenda.whitehead@enron.com', 'brendan.connellan@morganstanley.com', 'brendan.devlin@enron.com', 'brendan.fitzsimmons@enron.com', 'brenna.neves@enron.com', 'brent.hendry@enron.com', 'brent.price@enron.com', 'brent.spiller@enron.com', 'brent.vasconcellos@enron.com', 'brent.wahl@jpmorgan.com', 'brent4king@hotmail.com', 'bret.reich@enron.com', 'brett.pate@enron.com', 'brett.schulick@enron.com', 'brett.wiggs@enron.com', 'brettlawler@hotmail.com', 'brewery@saintarnold.com', 'brian.barto@enron.com', 'brian.bierbach@enron.com', 'brian.dawson@enron.com', 'brian.flaherty@enron.com', 'brian.gillis@enron.com', 'brian.gore@reliant.com', 'brian.heinrich@enron.com', 'brian.hendon@enron.com', 'brian.hoskins@enron.com', 'brian.kerrigan@enron.com', 'brian.kolle@enron.com', 'brian.kristjansen@enron.com', 'brian.redmond@enron.com', 'brian.ripley@enron.com', 'brian.schaffer@enron.com', 'brian.schwertner@enron.com', 'brian.skruch@reddotsolutions.com', 'brian.spector@enron.com', 'brian.vass@enron.com', 'brian.verm@enron.com', 'brianc@saltgrass.com', 'brianp@aiglincoln.com', 'briant.baker@enron.com', 'bridget.maronge@enron.com', 'bridgette.anderson@enron.com', 'brinconsult@aol.com', 'britaldo.soares@enron.com', 'britt.davis@enron.com', 'britt.whitman@enron.com', 'brooklyn.couch@enron.com', 'bruce.bowden@williams.com', 'bruce.garner@enron.com', 'bruce.golden@enron.com', 'bruce.harris@enron.com', 'bruce.lundstrom@enron.com', 'bruce.mills@enron.com', 'bruce.rudy@enron.com', 'bruce.smith@enron.com', 'bruce.sukaly@enron.com', 'bruce_kohrs@keyspancanada.com', 'brueningt@tsainc.com', 'bruno.gaillard@enron.com', 'bruzinsky@jw.com', 'bryan.garrett@enron.com', 'bryan.gottfredson@enron.com', 'bryan.gottredson@enron.com', 'bryan.hull@enron.com', 'bryan.kimzey@csfb.com', 'bryan.reinecke@enron.com', 'bryan.seyfried@enron.com', 'bryan6110@msn.com', 'bryan@oklobbyist.com', 'bryant.frihart@enron.com', 'bryce.baxter@enron.com', 'bryce.schneider@enron.com', 'bstephen@academicplanet.com', 'bswaldrop@aol.com', 'bswanstrom@lockeliddell.com', 'bthedinger@mastio.com', 'bthoskins@hotmail.com', 'btyndall@beattylaw.com', 'bubbatram1@aol.com', 'buckley@enron.com', 'budanski@hotmail.com', 'bungalowlife@yahoo.com', 'burkee@cts.com', 'burrosale@hotmail.com', 'burton.mcintyre@enron.com', 'bushnews@georgewbush.com', 'butch.russell@enron.com', 'butler@enron.com', 'bwallace@zahrsecurities.com', 'bwanarol@hotmail.com', 'bwhalen@sppc.com', 'bwoertz@caiso.com', 'byoung@llgm.com', 'byron.rance@enron.com', 'c.griffin@enron.com', 'c.jozwiak@enron.com', 'c.measom@tjmhou.com', 'caboom46@hotmail.com', 'cacorcoran@mindspring.com', 'caisomktops@caiso.com', 'calger@enron.com', 'callas@tcwgroup.com', 'calvin.eakins@enron.com', 'cam@pjm.com', 'cameron@perfect.com', 'camille.gerard@enron.com', 'camille@technologylaw.com', 'camp2scott@aol.com', 'candace.bywaters@enron.com', 'canhle13@hotmail.com', 'cantekin.dincerler@enron.com', 'cara.semperger@enron.com', 'cara.vaughan@enron.com', 'careed@aep.com', 'carey.metz@enron.com', 'carin.nersesian@enron.com', 'carl.carter@enron.com', 'carl.tricoli@enron.com', 'carla.galvan@enron.com', 'carla.hoffman@enron.com', 'carla.nguyen@enron.com', 'carlee.gawiuk@enron.com', 'carlos.alatorre@enron.com', 'carlos.azevedo@enron.com', 'carlos.giron@psiusa.com', 'carlos.rodriguez@enron.com', 'carlos.sole@enron.com', 'carlos.torres@enron.com', 'carmella.jones@enron.com', 'carmen.chavira@enron.com', 'carmen.ferrer@csfb.com', 'carmen.perez@enron.com', 'carmstrong@spragueenergy.com', 'carol.barcus@enron.com', 'carol.clair@enron.com', 'carol.coats@enron.com', 'carol.essig@enron.com', 'carol.lapsley@enron.com', 'carol.moffett@enron.com', 'carol.north@enron.com', 'carol@iepa.com', 'carol_benter@mckinsey.com', 'carole.frank@enron.com', 'caroline.abramo@enron.com', 'caroline.barnes@enron.com', 'caroline.emmert@enron.com', 'caroline.nugent@enron.com', 'carolyn.cooney@enron.com', 'carolyn.george@enron.com', 'carolyn.gilley@enron.com', 'carolyn.graham@enron.com', 'carolyn.green@enron.com', 'carolyn.wedel@enron.com', 'carolyn.winowitch@enron.com', 'carolyn_winowitch@pgn.com', 'carrd2@tdcibg.com', 'carrfuturesenergy@carrfut.com', 'carrie.hollomon@enron.com', 'carrie.larkworthy@enron.com', 'carrie.richardson@enron.com', 'carrie.robert@enron.com', 'carrie.slagle@enron.com', 'carrie.southard@enron.com', 'carries@tradefairgroup.com', 'carter.hachman@marchfirst.com', 'carter.miles@enron.com', 'cary.carrabine@enron.com', 'caschwalbe@hotmail.com', 'casey.evans@enron.com', 'casey.loveland@williams.com', 'cashley@poha.com', 'cassandra.schultz@enron.com', 'cassi.wallace@enron.com', 'castlen.moore@enron.com', 'catalina.cardenas@enron.com', 'catherine.clark@enron.com', 'catherine.huynh@enron.com', 'cathy.deleonardis@enron.com', 'cathy.moehlman@enron.com', 'cathy.phillips@enron.com', 'cathy.sprowls@enron.com', 'cathy@pira.com', 'cathy_morse@foleys.com', 'catrina.lucero@enron.com', 'catsag@aol.com', 'cbburrell@juno.com', 'cbciiivent@aol.com', 'cboyd@localok.com', 'cbroussard@harveybuilders.com', 'cbulf@oneok.com', 'cburreson@hotmail.com', 'ccaldwell@velaw.com', 'ccampbell@akingump.com', 'ccampbell@kslaw.com', 'ccarley@reliant.com', 'ccerria@hess.com', 'ccgrooves@aol.com', 'cch@cchinckley.com', 'cchurchill@oldcastleglass.com', 'ccvevents@aol.com', 'cdalpho@columbiaenergygroup.com', 'cdeleon@bracepatt.com', 'cdorland@hotmail.com', 'ceci.twachtman@enron.com', 'cecil.john@enron.com', 'cecilia.cheung@enron.com', 'cecilia.olvera@enron.com', 'cedric.burgher@enron.com', 'ceilbeck@yahoo.com', 'celeste.roberts@enron.com', 'celestine.hollan@enron.com', 'celise_clevenger@hotmail.com', 'cengelbrecht@bracepatt.com', 'center.ets@enron.com', 'ceo@ofoto.com', 'cerratoc@sullcrom.com', 'cesherman@hahnlaw.com', 'cew@sportslynx.com', 'cferguson@stephenstephenson.com', 'cfishkin@kpmg.com', 'cgiron@mindspring.com', 'cgoering@nyiso.com', 'cgrant@caiso.com', 'cgribblego@hotmail.com', 'cgt_customer_services@nisource.com', 'cgtpscontracts@pge.com', 'cguarino@dow.com', 'chad.landry@enron.com', 'chad.starnes@enron.com', 'chadhmuir@yahoo.com', 'chance.rabon@enron.com', 'chancewood@hotmail.com', 'chaney@enron.com', 'chang@enron.com', 'chantelle.villanueva@enron.com', 'charla.reese@enron.com', 'charla.stuart@enron.com', 'charlene.jackson@enron.com', 'charlene.richmond@enron.com', 'charles.alvarez@enron.com', 'charles.cheek@enron.com', 'charles.jacobs@enron.com', 'charles.mathis@elpaso.com', 'charles.muzzy@enron.com', 'charles.smith@alcoa.com', 'charles.vetters@enron.com', 'charles.ward@enron.com', 'charles.weldon@enron.com', 'charles.yeung@enron.com', 'charles200064@aol.com', 'charles@capstoneenergy.com', 'charlesshen8@yahoo.com', 'charleswilliams@chaswil.com', 'charlie.graham@enron.com', 'charlie.hoang@enron.com', 'charlie.thompson@enron.com', 'charliecoyote@compuserve.com', 'charlotte.banks@enron.com', 'charlotte.hawkins@enron.com', 'charlotte.kraham@enron.com', 'chartman@nbsrealtors.com', 'chase.untermeyer@compaq.com', 'chauncey.hood@enron.com', 'chaundra.woods@enron.com', 'chayes@stc.com', 'chealey@luce.com', 'cheryl.costa@enron.com', 'cheryl.dudley@enron.com', 'cheryl.gaines@enron.com', 'cheryl.johnson@enron.com', 'cheryl.kondo@enron.com', 'cheryl.kuehl@enron.com', 'cheryl.lindeman@enron.com', 'cheryl.marshall@enron.com', 'cheryl.nelson@enron.com', 'cheryl.oliver@enron.com', 'cheryl.perchal@enron.com', 'cherylbach@hotmail.com', 'cherylene.westbrook@enron.com', 'chet_fenner@bmc.com', 'chi325@hotmail.com', 'chiba_chi@nikkei.com', 'chiefphotoofficer@ofoto.com', 'childerj@hotmail.com', 'chill@lrmlaw.com', 'chip.cox@enron.com', 'chip.schneider@enron.com', 'chj@aelaw.com', 'choirmats@aol.com', 'chonawee.supatgiat@enron.com', 'chris.abel@enron.com', 'chris.behney@enron.com', 'chris.benham@enron.com', 'chris.booth@enron.com', 'chris.bowling@enron.com', 'chris.connelly@enron.com', 'chris.cramer@enron.com', 'chris.dorland@enron.com', 'chris.edmonds@truequote.com', 'chris.foster@enron.com', 'chris.gaffney@enron.com', 'chris.gaskill@enron.com', 'chris.germany@enron.com', 'chris.greaney@enron.com', 'chris.hanz@enron.com', 'chris.hendrix@enron.com', 'chris.herron@enron.com', 'chris.hilgert@enron.com', 'chris.holmes@enron.com', 'chris.hulls@enron.com', 'chris.hyde@enron.com', 'chris.keahey@elpaso.com', 'chris.lambert@enron.com', 'chris.lambie@enron.com', 'chris.lenartowicz@enron.com', 'chris.long@enron.com', 'chris.mahoney@enron.com', 'chris.mallory@enron.com', 'chris.meyer@enron.com', 'chris.norris@enron.com', 'chris.nowak@enron.com', 'chris.ordway@enron.com', 'chris.schomer@enron.com', 'chris.sebesta@enron.com', 'chris.sonneborn@enron.com', 'chris.stokley@enron.com', 'chris.thrall@enron.com', 'chris.townsend@piperrudnick.com', 'chris.walker@enron.com', 'chris.wiebe@enron.com', 'chris.williams@enron.com', 'chris@dahlelectric.com', 'chris@lacimagroup.com', 'chris_germany61@hotmail.com', 'chris_strickland@compuserve.com', 'chrisboehler@akllp.com', 'chriscobb@akllp.com', 'chrisjneale@hotmail.com', 'chriskrecek@akllp.com', 'chrisl@technologylaw.com', 'chrissy.grove@enron.com', 'christa.aguilar@enron.com', 'christa.winfrey@enron.com', 'christa@crossborderenergy.com', 'christi.culwell@enron.com', 'christi.nicolay@enron.com', 'christi.smith@lrinet.com', 'christian.werner@enron.com', 'christian.yoder@enron.com', 'christie.patrick@enron.com', 'christina.finelli@enron.com', 'christina.jasso@enron.com', 'christina.sanchez@enron.com', 'christina.valdez@enron.com', 'christina.yeung@enron.com', 'christina_122367@hotmail.com', 'christina_sanchez88@yahoo.com', 'christine.agnew@weil.com', 'christine.mcevoy@enron.com', 'christine.piesco@oracle.com', 'christine.stokes@enron.com', 'christopher.ahn@enron.com', 'christopher.calger@enron.com', 'christopher.larson@enron.com', 'christopher.lewis@accenture.com', 'christopher.smith@enron.com', 'christopher.spears@enron.com', 'christopher.watts@enron.com', 'christopher_knudsen@hotmail.com', 'christy.chapman@enron.com', 'christy.lobusch@enron.com', 'christy.sweeney@enron.com', 'christy.wire@enron.com', 'chuck.ames@enron.com', 'chuck.kaniuka@ipgdirect.com', 'chyde@sark.com', 'cindy.buckley@enron.com', 'cindy.derecskey@enron.com', 'cindy.horn@enron.com', 'cindy.hunt@enron.com', 'cindy.justice@enron.com', 'cindy.long@enron.com', 'cindy.olson@enron.com', 'cindy.richardson@enron.com', 'cindy.stark@enron.com', 'cindy.stokes@enron.com', 'cindy_lynn@hines.com', 'citicard@citicorp.com', 'cjrob23@msn.com', 'ckalau@hotmail.com', 'ckmadi@aol.com', 'ckooken@xonex.com', 'claire.broido@enron.com', 'claire.dunnett@enron.com', 'claire.harvey@enron.com', 'claire.soares@enron.com', 'clara.carrington@enron.com', 'clare.godson@allenovery.com', 'claref@marcusevansch.com', 'clarissa.garcia@enron.com', 'clatspud@clatskanie.com', 'claude.tellis@enron.com', 'claudette.harvey@enron.com', 'claudia.clark@enron.com', 'claudia.guerra@enron.com', 'claudia.robinson@ubsw.com', 'claudio.ribeiro@enron.com', 'clay.harris@enron.com', 'clay.spears@enron.com', 'clay@dfj.com', 'clayton.rondeau@enron.com', 'clayton.seigle@enron.com', 'clayton.vernon@enron.com', 'clem.cernosek@enron.com', 'clement.abrams@enron.com', 'clement.lau@enron.com', 'cleo_center@calpx.com', 'click.home@enron.com', 'clickathome@enron.com', 'clickathomepilot3@enron.com', 'client.service@schwab.com', 'clientrelations@ercot.com', 'cliff.mcpherson@enron.com', 'cliff.shedd@enron.com', 'clifford.bourgeois@enron.com', 'clifford.nash@enron.com', 'clint.dean@enron.com', 'clint.freeland@enron.com', 'clinton.anderson@enron.com', 'clinton.kripki@gfinet.com', 'cmcdonal@mtpower.com', 'cmcwhert@bankunited.com', 'cmicheli@carpentersnodgrass.com', 'cmontgomery@kmg.com', 'cmorris@mdck.com', 'cmoseley@ercot.com', 'cms.router@enron.com', 'cneal@bluegate.com', 'coates@keytech.com', 'coats@enron.com', 'coganja@aol.com', 'cole.brown@enron.com', 'cole@enron.com', 'colette.dow@ubsw.com', 'colin.tonks@enron.com', 'colleen.hood@enron.com', 'colleen.koenig@enron.com', 'colleen.sullivan@enron.com', 'colleenfsilva@yahoo.com', 'collonges@enron.com', 'comments@bargaindog.com', 'communications@enron.com', 'community.relations@enron.com', 'communityrelations@enron.com', 'conal.tackney@enron.com', 'confadmin@ziffenergy.com', 'confirm@paypal.com', 'confirmit@enron.com', 'connection.hr@enron.com', 'connie.blackwood@enron.com', 'connie.brown@nepco.com', 'connie.hook@enron.com', 'connie.lee@enron.com', 'connie.sutton@enron.com', 'connieargento@paulhastings.com', 'console.security@enron.com', 'constance.charles@enron.com', 'contactus@jamesgalleryhouston.com', 'contest@sportingbetusa.com', 'continental@coair.com', 'conway77@vision1mm.com', 'cooper.richey@enron.com', 'cooper@enron.com', 'cora.pendergrass@enron.com', 'coralina.rivera@enron.com', 'corey.grindal@elpaso.com', 'corey.hollander@enron.com', 'corey@enron.com', 'corina.taylor@enron.com', 'corinna.bolender@enron.com', 'corinna.johnston@intria.com', 'corman@enron.com', 'cormanerb@cs.com', 'corporate.benefits@enron.com', 'corry.bentley@enron.com', 'coupon500@hotmail.com', 'courtkoe@yahoo.com', 'courtney.barker@enron.com', 'courtney.campbell@enron.com', 'courtney.votaw@enron.com', 'courtney_abernathy@yahoo.com', 'courtnie.parker@enron.com', 'cpa@brain2002.com', 'cpa@vertcoms.com', 'cpapish@sempratrading.com', 'cpmccart@llgm.com', 'cptdougie@aol.com', 'craig.breslau@enron.com', 'craig.brown@enron.com', 'craig.buehler@enron.com', 'craig.chaney@enron.com', 'craig.dean@enron.com', 'craig.dean@ey.com', 'craig.schneider@enron.com', 'craig.taylor@enron.com', 'craig.young@enron.com', 'craig_vinson@cmicro.com', 'craigc@calpine.com', 'craiggannett@dwt.com', 'craigjefferies@ckbenergy.com', 'craigl@calpine.com', 'cramer@cadvision.com', 'crb0@pge.com', 'crcommunications@caiso.com', 'creilly@columbiaenergygroup.com', 'crenshaw@enron.com', 'crenshaw_newton_f@lilly.com', 'cris.sherman@enron.com', 'crissy.collett@enron.com', 'cristal.metz@enron.com', 'cristina.zavala@enron.com', 'critical.notice@enron.com', 'cromwell@sullcrom.com', 'crushmaster@crushlink.com', 'crystal.hyde@enron.com', 'crystal.reyna@enron.com', 'cschwartz@velaw.com', 'cschwartz_vitoltvl@yahoo.com', 'cscott_korea@yahoo.com', 'csellers@gunder.com', 'csfbdirect@csfbdirect.com', 'csilva@redsky.com', 'csklarin@prioritycall.com', 'cstone1@txu.com', 'cswaringam@carlson.com', 'cswart@coair.com', 'ctetrault@velaw.com', 'curtis.smith@enron.com', 'customer.care@dynegy.com', 'customer_service@footlocker.com', 'customercare@match.com', 'customercare@merckmedco.com', 'customers@travelnow.com', 'customerservice@1800flowers.com', 'customerservice@ameritrade.com', 'customerservice@betanything.com', 'customerservice@giftbaskets.com', 'customerservice@industrialinfo.com', 'customerservice@photoworks.com', 'customerservice@qwikfliks.com', 'customerservice@sierratradingpost.com', 'customerservice@walgreens.com', 'custserv@bananarepublic.com', 'custserv@gap.com', 'custservice@1800flowers.com', 'cuttings.enron@enron.com', 'cutty.cunningham@enron.com', 'cvarela@lockeliddell.com', 'cvavrek@deloitte.com', 'cvavrek@dttus.com', 'cwarre1@entergy.com', 'cwcarso@yahoo.com', 'cwhite@viviance.com', 'cwlipke@czn.com', 'cxm2@pge.com', 'cynthia.barrow@enron.com', 'cynthia.biggs@travelpark.com', 'cynthia.franklin@enron.com', 'cynthia.hakemack@enron.com', 'cynthia.harkness@enron.com', 'cynthia.morrow@enron.com', 'cynthia.sandherr@enron.com', 'cynthia.warner@eds.com', 'd.alexander@enron.com', 'd.hall@enron.com', 'd.hunsucker@enron.com', 'd.smith@enron.com', 'dab@sprintmail.com', 'dabraver@aol.com', 'daemon.extra@enron.com', 'dahlia.hernandez@enron.com', 'daily@iexpect.com', 'daily@restructuringtoday.com', 'dakotaleg@aol.com', 'dale.eldridge@enron.com', 'dale.furrow@enron.com', 'dale.nesbitt@marketpointinc.com', 'dale.neuner@enron.com', 'dale.onrait@rbcinvestments.com', 'dale.rasmussen@enron.com', 'dale.ratliff@enron.com', 'dale.surbey@enron.com', 'daltom@mglconsulting.com', 'damon.harvey@enron.com', 'dan.boyle@enron.com', 'dan.bruce@enron.com', 'dan.bump@enron.com', 'dan.bunch@enron.com', 'dan.connally@enron.com', 'dan.dietrich@enron.com', 'dan.dorland@enron.com', 'dan.fancler@enron.com', 'dan.fournier@blakes.com', 'dan.hyvl@enron.com', 'dan.junek@enron.com', 'dan.leff@enron.com', 'dan.lyons@enron.com', 'dan.masters@enron.com', 'dan.minter@enron.com', 'dan.pribble@enron.com', 'dan.rittgers@enron.com', 'dan.staines@enron.com', 'dan.thibaut@enron.com', 'dan.wall@lw.com', 'dan@lcook.com', 'dan_marcontell@mckinsey.com', 'dana.bryant@enron.com', 'dana.davis@enron.com', 'dana.gibbs@enron.com', 'dana.jones@enron.com', 'dana@gablegroup.com', 'dana_gibbs@eott.com', 'danesmommy0702@msn.com', 'daniel.allegretti@enron.com', 'daniel.brown@enron.com', 'daniel.castagnola@enron.com', 'daniel.diamond@enron.com', 'daniel.falcone@enron.com', 'daniel.harris@gs.com', 'daniel.kang@enron.com', 'daniel.lisk@enron.com', 'daniel.muschar@enron.com', 'daniel.quezada@enron.com', 'daniel.reck@enron.com', 'daniel.rogers@enron.com', 'daniel_jenuwine@quickenloans.com', 'danielle.marcinkowski@enron.com', 'danielle.stephens@enron.com', 'danielle@wscc.com', 'danielyergin@cera.com', 'danny.clark@enron.com', 'danny.conner@enron.com', 'danny.lee@enron.com', 'danny.mccarty@enron.com', 'dansmith@utilicorp.com', 'daphne@katzlaw.com', 'daphneco64@bigplanet.com', 'daphneco64@yahoo.com', 'darcilla@viviance.com', 'darciteo@aol.com', 'daren.farmer@enron.com', 'dari.dornan@enron.com', 'darin.schmidt@enron.com', 'darin.talley@enron.com', 'dario_bravo@tgs.com', 'darla.saucier@enron.com', 'darlene.forsyth@enron.com', 'darnellmo@aol.com', 'daronoff@greylock.com', 'darran.binns@enron.com', 'darrell.schoolcraft@enron.com', 'darren.adamik@enron.com', 'darren.cavanaugh@enron.com', 'darren.cross@enron.com', 'darren.delage@enron.com', 'darren.espey@enron.com', 'darren.maloney@enron.com', 'darren.vanek@enron.com', 'darron.giron@enron.com', 'daryll.fuentes@enron.com', 'dasovich63@hotmail.com', 'dasovichd@aol.com', 'daughes@pjm.com', 'dave.darnell@systrends.com', 'dave.fuller@enron.com', 'dave.guzman@fluor.com', 'dave.kellermeyer@enron.com', 'dave.martinez@enron.com', 'dave.neubauer@enron.com', 'dave.nommensen@enron.com', 'dave.perrino@enron.com', 'dave.samuels@enron.com', 'dave.schafer@enron.com', 'dave.scott@enron.com', 'dave.waymire@enron.com', 'dave.wei@enron.com', 'daveandsuecorp@dellnet.com', 'david.allan@enron.com', 'david.ayers@enron.com', 'david.baumbach@enron.com', 'david.blankenship@enron.com', 'david.burns@bakerbotts.com', 'david.butters@home.com', 'david.cromley@enron.com', 'david.cummings@enron.com', 'david.delainey@enron.com', 'david.draper@enron.com', 'david.dronet@enron.com', 'david.dupre@enron.com', 'david.duran@enron.com', 'david.fairley@enron.com', 'david.fisher@enron.com', 'david.forster@enron.com', 'david.foster@enron.com', 'david.foti@enron.com', 'david.garrett@enron.com', 'david.gorte@enron.com', 'david.grant@enron.com', 'david.grevelle@enron.com', 'david.hardy@enron.com', 'david.haug@enron.com', 'david.hoog@enron.com', 'david.hultsman@enron.com', 'david.hutchinson@enron.com', 'david.jones@enron.com', 'david.koogler@enron.com', 'david.leboe@enron.com', 'david.lilley@enron.com', 'david.mally@enron.com', 'david.marcus@everypath.com', 'david.marshall@enron.com', 'david.martin@enron.com', 'david.maxwell@enron.com', 'david.merrill@enron.com', 'david.mims@enron.com', 'david.minns@enron.com', 'david.mitchell@cwt.com', 'david.morris@lehman.com', 'david.oliver@enron.com', 'david.owen@enron.com', 'david.oxley@enron.com', 'david.parquet@enron.com', 'david.patton@enron.com', 'david.perlman@powersrc.com', 'david.port@enron.com', 'david.porter@enron.com', 'david.portz@enron.com', 'david.poston@enron.com', 'david.redmond@enron.com', 'david.roensch@enron.com', 'david.roland@enron.com', 'david.rosenberg@enron.com', 'david.shine@ubspainewebber.com', 'david.shine@ubspw.com', 'david.stadnick@enron.com', 'david.steiner@enron.com', 'david.sztroin@enron.com', 'david.tagliarino@enron.com', 'david.vitrella@enron.com', 'david.wall@enron.com', 'david.wise@enron.com', 'david.woodstrom@enron.com', 'david.yeres@cliffordchance.com', 'david@macynewman.com', 'david_kinder@kindermorgan.com', 'david_paris@instinet.com', 'david_teece@lecg.com', 'david_trice@westsidelexus.com', 'davidflowers@txu.com', 'davidlu@nepco.com', 'davidrunnels@akllp.com', 'davies@enron.com', 'davila1@txu.com', 'davis.thames@enron.com', 'dawn.derr@enron.com', 'dawn.doucet@enron.com', 'dawn.kenne@enron.com', 'dawn.mcdonald@enron.com', 'dawn.rodriguez@enron.com', 'dax.sanders@enron.com', 'dbaughm@yahoo.com', 'dberg13046@aol.com', 'dbf@vitol.com', 'dbmcvick@srpnet.com', 'dcabello@questia.com', 'dcarroll@dbsr.com', 'dcasse@whwg.com', 'dcastro@pkns.com', 'dclearfield@wolfblock.com', 'dcongel@nyiso.com', 'ddaniels@bracepatt.com', 'ddavis@hollandhart.com', 'ddechiaro@nyiso.com', 'ddelain@aol.com', 'ddellacona@hess.com', 'ddotson@aglresources.com', 'ddrumm@foleylaw.com', 'deals@bestfares.com', 'dean.laurent@enron.com', 'dean.sacerdote@enron.com', 'dean.urbanik@hansonamerica.com', 'deanrodgers@kaseco.com', 'deanrogers@energyclasses.com', 'deb.cappiello@enron.com', 'deb.gebhardt@enron.com', 'deb.korkmas@enron.com', 'deb@aelaw.com', 'debbie.brackett@enron.com', 'debbie.doyle@enron.com', 'debbie.flores@enron.com', 'debbie.moseley@enron.com', 'debbie.nowak@enron.com', 'debe@fsddatasvc.com', 'debi.vanwey@enron.com', 'debner@jpi.com', 'deborah.asmus@enron.com', 'deborah.cappiello@enron.com', 'deborah.culver@enron.com', 'deborah.edison@enron.com', 'deborah.flores@enron.com', 'deborah.long@enron.com', 'deborah.shahmoradi@enron.com', 'deborahlowe@akllp.com', 'debra.bailey@enron.com', 'debra.davidson@enron.com', 'debra.hicks@enron.com', 'debra.perlingiere@enron.com', 'debra.thompson@enron.com', 'debra.young@enron.com', 'dee.espinoza@travelpark.com', 'dee.svatos@enron.com', 'deepak.sitlani@enron.com', 'deirdre.mccaffrey@enron.com', 'dejoun.windless@enron.com', 'delainey@enron.com', 'delene.travella@funb.com', 'delivers@amazon.com', 'denae.umbower@enron.com', 'denis.tu@enron.com', 'denise.furey@enron.com', 'denise.lagesse@enron.com', 'denise.williams@enron.com', 'denne@enron.com', 'dennis.alters@enron.com', 'dennis.benevides@enron.com', 'dennis.brown@enron.com', 'dennis.lee@enron.com', 'dennis.sidbury@prudential.com', 'dennis.vegas@enron.com', 'denny@dsourceva.com', 'denver.plachy@enron.com', 'denys.watson@enron.com', 'derek.bailey@enron.com', 'derek.davies@enron.com', 'derek.lee@enron.com', 'derek.wilson@enron.com', 'derryl.cleaveland@enron.com', 'deshonda.hamilton@enron.com', 'destey@tqcap.com', 'dfranklin@hanovermeasurement.com', 'dft1@pge.com', 'dfuller@caiso.com', 'dgagliardi@reliant.com', 'dgagliardi@reliantenergy.com', 'dgioffre@hotmail.com', 'dgreen@clausman.com', 'dharvin@velaw.com', 'dhashaw@reliant.com', 'dheineke@corustuscaloosa.com', 'dheineke@tsteel.com', 'dhunter@smithandkempton.com', 'diana.parker@enron.com', 'diana.perez@enron.com', 'diana.peters@enron.com', 'diana.scholtes@enron.com', 'diana.seifert@enron.com', 'diana.willigerod@enron.com', 'diane.anderson@enron.com', 'diane.bazelides@enron.com', 'diane.becker@enron.com', 'diane.cook@enron.com', 'diane.cutsforth@enron.com', 'diane.eckels@enron.com', 'diane.goode@enron.com', 'diane.salcido@enron.com', 'diane.taylor@enron.com', 'diane@gcvideo.com', 'diann.huddleson@enron.com', 'dianne.seib@enron.com', 'dianne.swiber@enron.com', 'dick.jenkins@enron.com', 'dina.snow@enron.com', 'dinah.schlecht@enron.com', 'ding.yuan@enron.com', 'diomedes@cumulouscapital.com', 'dipak.agarwalla@enron.com', 'dirk.vanulden@enron.com', 'distribution@pira.com', 'dizzieeee@aol.com', 'djenergy@dowjones.com', 'djones1@columbiaenergygroup.com', 'djstephens@aep.com', 'djunek@aeglobalmarkets.com', 'djunk_epc@yahoo.com', 'djunus2000@yahoo.com', 'djw@kwi.com', 'dkasler@sacbee.com', 'dkg@enernetok.com', 'dking@bracepatt.com', 'dkinney@columbiaenergygroup.com', 'dkirken@columbiaenergygroup.com', 'dkobierowski@forrester.com', 'dkoya@mwe.com', 'dla6138201@aol.com', 'dlacen@pnm.com', 'dlawrence@nyiso.com', 'dleon@bracepatt.com', 'dlevine@caiso.com', 'dlocascio@bracepatt.com', 'dloon@uschamber.com', 'dlsmith@pplweb.com', 'dmartin@imperialcapital.com', 'dmcgown@gotoandlearn.com', 'dmitchel@cwt.com', 'dmorris@bracepatt.com', 'dmusslewhite@sterlingmccalltoyota.com', 'dodle@ercot.com', 'doggettmark@hotmail.com', 'dolores.muzzy@enron.com', 'dolores.sustaita@enron.com', 'dolph.selten@enron.com', 'domestications@domestications.com', 'domingo.drakes@enron.com', 'don.baldridge@enron.com', 'don.baughman@enron.com', 'don.black@enron.com', 'don.hammond@enron.com', 'don.hawkins@enron.com', 'don.miller@enron.com', 'don.powell@enron.com', 'dona.carmony@ourclub.com', 'donald.black@enron.com', 'donald.herrick@enron.com', 'donald.lassere@enron.com', 'donald.miller@enron.com', 'donald.reid@enron.com', 'donald.reinhardt@enron.com', 'donald.robinson@enron.com', 'donald.vignaroli@enron.com', 'donna.consemiu@enron.com', 'donna.dye@enron.com', 'donna.fulton@enron.com', 'donna.greif@enron.com', 'donna.johnson@enron.com', 'donna.jones@enron.com', 'donna.lowry@enron.com', 'donna.martens@enron.com', 'donna.scott@enron.com', 'donna.slatten@enron.com', 'donna.teal@enron.com', 'donna.titley@enron.com', 'donna.wackerle@enron.com', 'donna_j_mullen@dom.com', 'donnie.myers@enron.com', 'dooleys@coned.com', 'dora.trevino@enron.com', 'dorie.hitchcock@enron.com', 'doris_foster@eott.com', 'dorothy.barnes@enron.com', 'dorothy.dalton@enron.com', 'dorothy.mccoppin@enron.com', 'dorothy.youngblood@enron.com', 'dorsey@enron.com', 'dortha.gray@enron.com', 'doug.arnell@enron.com', 'doug.block@halliburton.com', 'doug.cebryk@enron.com', 'doug.imrie@enron.com', 'doug.leach@enron.com', 'doug.nelson@enron.com', 'doug.sewell@enron.com', 'doug.thomas@bellcold.com', 'doug.wood@enron.com', 'douglas.condon@enron.com', 'douglas.friedman@enron.com', 'douglas.fuehne@enron.com', 'douglas.gunthert@enron.com', 'douglas.nichols@enron.com', 'douglas.porter@sce.com', 'douglas_nichols@pgn.com', 'douglass@arterhadden.com', 'douglass@energyattorney.com', 'dovie.keprta@enron.com', 'dpedigo@intergen.com', 'dpef@home.com', 'dplflan@aol.com', 'drew.fossum@enron.com', 'drew.lynch@enron.com', 'drew.ries@enron.com', 'drew.tingleaf@enron.com', 'drew_a_brabb@calpx.com', 'drewbeckman@hotmail.com', 'drlittle77@msn.com', 'drmahl@erols.com', 'droark@velaw.com', 'drobe90@entergy.com', 'drobin1962@aol.com', 'drosser@velaw.com', 'druke@neosoft.com', 'drusso@reliant.com', 'drusso@reliantenergy.com', 'dsanchez@tradespark.com', 'dschultz@hollandhart.com', 'dschumeister@shearman.com', 'dscott1@columbiaenergygroup.com', 'dshah@levi.com', 'dskyler@chartertitle.com', 'dsweetser@llspc.com', 'dtang@cinergy.com', 'dtmusselman@aep.com', 'dtorkelson@snwsc.com', 'dtran2149@yahoo.com', 'dtucker@bracepatt.com', 'duane.konen@enron.com', 'dukais@aol.com', 'dune.thorne@oracle.com', 'duong.luu@enron.com', 'dustin.collins@enron.com', 'dutch.quigley@enron.com', 'dvogel@powellbrewer.com', 'dwa3@pge.com', 'dwatkiss@bracepatt.com', 'dwight.beach@enron.com', 'dwight.larson@enron.com', 'dyergin@cera.com', 'dyomogida@hesinet.com', 'dzolkin@milbank.com', 'e.bulletin@schwab.com', 'e.sullo@enron.com', 'e.taylor@enron.com', 'ealvittor@yahoo.com', 'earl.bouse@hansonamerica.com', 'earl.chanley@enron.com', 'earl.tisdale@enron.com', 'earlene.ackley@enron.com', 'earline.kendall@enron.com', 'ebass@enron.com', 'ebiz@enron.com', 'eblastoff@rocketball.com', 'ecarmetsc@aep.com', 'ecenter@energynewslive.com', 'ect.admin@enron.com', 'ect.announcement@enron.com', 'ect.security@enron.com', 'ed.agner@enron.com', 'ed.cattigan@enron.com', 'ed.giblin@enron.com', 'ed.hlopak@enron.com', 'ed.iii@enron.com', 'ed.mcmichael@enron.com', 'ed.quinn@enron.com', 'ed.robinson@enron.com', 'eddie.janzen@enron.com', 'eddie.sera@enron.com', 'eddie.zhang@enron.com', 'eddy.daniels@enron.com', 'edelivery@salomonsmithbarney.com', 'edgeconstruct@aol.com', 'edgillespie@quinngillespie.com', 'edie.leschber@enron.com', 'edismail@incident.com', 'edith.cross@enron.com', 'edith.terry@enron.com', 'edith.turnipseed@enron.com', 'editorconsensus@aol.com', 'edmund.cooper@enron.com', 'edmundg@manfinancial.com', 'edo711@hotmail.com', 'edotson@nymex.com', 'eduardo.robles@enron.com', 'eduncan2@arterhadden.com', 'edward.attanasio@enron.com', 'edward.baughman@enron.com', 'edward.brady@enron.com', 'edward.gottlob@enron.com', 'edward.hamb@enron.com', 'edward.sacks@enron.com', 'edward.terry@enron.com', 'edwin.essandoh@enron.com', 'edwinfitts@hotmail.com', 'eellwanger@triumphboats.com', 'efeo@milbank.com', 'eharris@insightpartners.com', 'ehillegeist@hotmail.com', 'ehvaughan@vnsm.com', 'eigcirculation@networkats.com', 'eileen.buerkert@enron.com', 'eileen.ogrady@dowjones.com', 'eileen@pira.com', 'eireland@foleylaw.com', 'ejbutler28@hotmail.com', 'ejenkins@kelleydrye.com', 'eke@aelaw.com', 'eklavya.sareen@enron.com', 'ekrapels@esaibos.com', 'elaina5@hotmail.com', 'elaine.concklin@enron.com', 'elaine.overturf@enron.com', 'elaine.schield@enron.com', 'elder@wscc.com', 'eldon@direcpc.com', 'eldonsellers@hotmail.com', 'electronic.delivery@schwab.com', 'elena.chilkina@enron.com', 'elena.kapralova@enron.com', 'elisa.donovan@enron.com', 'elisabeth.mccabe@enron.com', 'elisabeth_a_ruscitti@reliantenergy.com', 'elise.clark@enron.com', 'elizabeth.boudreaux@enron.com', 'elizabeth.brown@enron.com', 'elizabeth.davis@compaq.com', 'elizabeth.grant@enron.com', 'elizabeth.guffy@bakerbotts.com', 'elizabeth.hernandez@enron.com', 'elizabeth.johnston@enron.com', 'elizabeth.jones@enron.com', 'elizabeth.labanowski@enron.com', 'elizabeth.lay@enron.com', 'elizabeth.linnell@enron.com', 'elizabeth.moore@enron.com', 'elizabeth.peters@enron.com', 'elizabeth.rivera@enron.com', 'elizabeth.sager@enron.com', 'elizabeth.serralheiro@enron.com', 'elizabeth.shim@enron.com', 'elizabeth.soto@enron.com', 'elizabeth.tilney@enron.com', 'elizabeth.webb@enron.com', 'ellen.clardy@ipgdirect.com', 'ellen.fowler@enron.com', 'ellen.konsdorf@enron.com', 'ellen.su@enron.com', 'ellen.wallumrod@enron.com', 'elliot.bonner@enron.com', 'elliot.mainzer@enron.com', 'ellis.stern@enron.com', 'elopez@bracepatt.com', 'elove@coair.com', 'elsa.piekielniak@enron.com', 'elsa.villarreal@enron.com', 'elspeth.inglis@enron.com', 'elvisthompson@aol.com', 'elyse.kalmans@enron.com', 'email@martindale.com', 'emainzer@attbi.com', 'emca@yahoogroups.com', 'emetz@snl.com', 'emilio.vicens@enron.com', 'emily.butler@enron.com', 'emily.sellers@enron.com', 'emma.welsch@enron.com', 'emmanuel.mangin@enron.com', 'emmye@dracospring.com', 'emoler@velaw.com', 'employee.services@enron.com', 'emy.geraldo@enron.com', 'ena.relations@enron.com', 'endofauction@ebay.com', 'enelson@socalgas.com', 'enerfax1@aol.com', 'enerfax@msn.com', 'enerfaxdaily@enerfax.com', 'enerfaxenergy@modernmediaohio.com', 'enerfaxtext@enerfax.com', 'energy_list@spencerstuart.com', 'energyreleases@excite.com', 'enernetenergy@excite.com', 'enron.action@enron.com', 'enron.administration@enron.com', 'enron.announcement@enron.com', 'enron.announcements@enron.com', 'enron.chairman@enron.com', 'enron.cuttings@enron.com', 'enron.experience@enron.com', 'enron.expertfinder@enron.com', 'enron.gss@enron.com', 'enron.payroll@enron.com', 'enron.security@enron.com', 'enron@avenueb2e.com', 'enron@easymatch.com', 'enron_update@concureworkplace.com', 'enronanywhere@enron.com', 'enronmediacuttings@enron.com', 'enronsato@hotmail.com', 'enronsigshop@calltsc.com', 'enronsportsbook@yahoo.com', 'eoria@nebar.com', 'epadill@pnm.com', 'epao3@yahoo.com', 'epr@pipeline.com', 'epsa@mindspring.com', 'erb@apple.com', 'erequest@enron.com', 'erewards@erewards.com', 'eric.bass@enron.com', 'eric.benson@enron.com', 'eric.booth@enron.com', 'eric.boyt@enron.com', 'eric.ellwanger@elpaso.com', 'eric.faucheaux@enron.com', 'eric.gadd@enron.com', 'eric.gillaspie@enron.com', 'eric.gonzales@enron.com', 'eric.groves@enron.com', 'eric.le@enron.com', 'eric.ledain@enron.com', 'eric.letke@enron.com', 'eric.linder@enron.com', 'eric.mcmurry@elpaso.com', 'eric.moon@enron.com', 'eric.saibi@enron.com', 'eric.schneider@enron.com', 'eric.shaw@enron.com', 'eric.thode@enron.com', 'eric.wardle@enron.com', 'eric@ehirst.com', 'erica.bess@enron.com', 'erica.braden@enron.com', 'erica.fields@enron.com', 'erica.garcia@enron.com', 'erica.gut@enron.com', 'erica.harris@enron.com', 'erica.mestre@enron.com', 'ericf@prestongates.com', 'erichardson@sarofim.com', 'erick_johnson@pngc.com', 'erika.dupre@enron.com', 'erika.vaughan@enron.com', 'erin.copeland@enron.com', 'erin.hall@enron.com', 'erin.rice@enron.com', 'erin.willis@enron.com', 'erin@fea.com', 'ernest.onukogu@dowjones.com', 'ernie@enron.com', 'erodenbu@utilicorp.com', 'errol.mclaughlin@enron.com', 'eruscitti@reliant.com', 'erwin.landivar@enron.com', 'erwollam@hotmail.com', 'esaver@usairways.com', 'esavers@usairways.com', 'eserver@enron.com', 'eservices@tdwaterhouse.com', 'esimien@columbiaenergygroup.com', 'esimien@nisource.com', 'esmeralda.gonzalez@enron.com', 'esmeralda.hinojosa@enron.com', 'esource@enron.com', 'esproull@aol.com', 'essie.locklear@enron.com', 'estalee.russi@enron.com', 'esther.buckley@enron.com', 'esther.dasilva@enron.com', 'esther.gerratt@enron.com', 'estrickland@mieco.com', 'etelvina.guerra@enron.com', 'ethics_integrity@hotmail.com', 'ethink@enron.com', 'eticketonline@coair.com', 'ets.announcement@enron.com', 'ets.center@enron.com', 'etsbud@aol.com', 'etterk@valero.com', 'eua@coair.com', 'eubusinessweek@eubusiness.com', 'eugenio.perez@enron.com', 'euromoney@euromoney.com', 'europe.eol@enron.com', 'eva.neufeld@enron.com', 'eva.rainer@enron.com', 'eva.tow@enron.com', 'evans_r_mark@yahoo.com', 'eve.puckett@enron.com', 'evelyn.aucoin@enron.com', 'evelyn.metoyer@enron.com', 'evening@ino.com', 'events2001@enron.com', 'events@eyefoenergy.com', 'events@eyeforenergy.com', 'events@technologicp.com', 'evillanueva@industrialinfo.com', 'ewo@jmbm.com', 'exchange.administrator@enron.com', 'exchangeinfo@nymex.com', 'exclusive_ofers@sportsline.com', 'exclusive_offers@sportsline.com', 'exec.jones@enron.com', 'executiveadvice@aol.com', 'experience.enron@enron.com', 'fabian.lipp@lgeenergy.com', 'facundo.caminos@enron.com', 'faith.killen@enron.com', 'faizs@texaco.com', 'fali@adaytum.com', 'fang.chang@enron.com', 'farouk.lalji@enron.com', 'fasttake@fastcompany.com', 'fatimapr@softcom', 'faye.ellis@enron.com', 'fciani@nyiso.com', 'fdjn@aol.com', 'federico.cerisoli@enron.com', 'feedback@travelocity.com', 'felecia.acevedo@enron.com', 'felecia.fitzgerald@enron.com', 'felicia.doan@enron.com', 'felicia.solis@enron.com', 'felinewoman@msn.com', 'felipe.ibarra@enron.com', 'felix.buitron@enron.com', 'fermis@hotmail.com', 'fernley.dyson@enron.com', 'fgetman@baycorpholdings.com', 'fgetman@houstonstreet.com', 'fhayden@kpmg.com', 'fhelme@avaya.com', 'fhill@epelectric.com', 'fildesd@phibro.com', 'fiona.grant@enron.com', 'fiona.mcnaught@enron.com', 'fishkinc@hotmail.com', 'flack@copn.com', 'flbusot@tecoenergy.com', 'fletcher.sturm@enron.com', 'flex_customer_service@aoncons.com', 'flygrl8998@aol.com', 'fmackin@aol.com', 'fool@motleyfool.com', 'foolboards@fool.com', 'football@cnnsi.com', 'foothillservices@mindspring.com', 'forbess@coned.com', 'ford.cooper@enron.com', 'fortem@coned.com', 'fortugno3@aol.com', 'foster.smith@elpaso.com', 'fpam_@hotmail.com', 'fparra@swbanktx.com', 'fraisy.george@enron.com', 'fran.chang@enron.com', 'fran.fagan@enron.com', 'fran.mayes@enron.com', 'francis.lim@enron.com', 'francisco.dejesus@enron.com', 'francisco.leite@enron.com', 'frank.billington@oatiinc.com', 'frank.carriere@enron.com', 'frank.cernosek@enron.com', 'frank.davis@enron.com', 'frank.de@enron.com', 'frank.economou@enron.com', 'frank.ermis@enron.com', 'frank.hayden@enron.com', 'frank.jesus@enron.com', 'frank.oldenhuis@enron.com', 'frank.prejean@enron.com', 'frank.rishe@enron.com', 'frank.sayre@enron.com', 'frank.semin@enron.com', 'frank.vickers@enron.com', 'frank.wanderski@enron.com', 'frank_telemaque@flexitallic.com', 'franklevy@fairair.com', 'franky.sulistio@enron.com', 'frazier.king@enron.com', 'fred.boas@enron.com', 'fred.kelly@enron.com', 'fred.lagrasta@enron.com', 'fred.mitro@enron.com', 'fred.philipson@enron.com', 'fredinvt@juno.com', 'frl3@pge.com', 'front.desk@enron.com', 'frthis@aol.com', 'fsmith008@aol.com', 'fun@infobeat.com', 'futureprospects@aol.com', 'fvehon@dillonserv.com', 'fwic@chevron.com', 'fwinston@caiso.com', 'fwolgel@azurix.com', 'fxhall@yahoo.com', 'fzerilli@powermerchants.com', 'g.aarti@enron.com', 'g.campbell@pecorp.com', 'gabriel.matus@weil.com', 'gabriella.cigarroa@enron.com', 'gaby.adamek@enron.com', 'gael.doar@enron.com', 'gail.brownfeld@enron.com', 'gail.francis@enron.com', 'gail.kettenbrink@enron.com', 'gail.shanley@gs.com', 'gail@teleport.com', 'gaildavid@akllp.com', 'gailg@morgangroup.com', 'galea@mcgown.com', 'galen.coon@enron.com', 'ganapathy.ramesh@enron.com', 'gardner@enron.com', 'gareth.bahlmann@enron.com', 'gareth.davies@enron.com', 'garpny1@home.com', 'garrett.tripp@enron.com', 'garrett@jobmenu.com', 'garrick.hill@enron.com', 'garth.ripton@enron.com', 'gary.bryan@enron.com', 'gary.buck@enron.com', 'gary.choquette@enron.com', 'gary.fitch@enron.com', 'gary.foster@enron.com', 'gary.hanks@enron.com', 'gary.hickerson@enron.com', 'gary.justice@enron.com', 'gary.kane@enron.com', 'gary.kenagy@enron.com', 'gary.lamphier@enron.com', 'gary.mirich@enron.com', 'gary.monk@enron.com', 'gary.nelson@enron.com', 'gary.payne@enron.com', 'gary.peng@enron.com', 'gary.smith@enron.com', 'gary.spraggins@enron.com', 'gary.stadler@enron.com', 'gary.taylor@enron.com', 'gary.waxman@enron.com', 'gary.zahn@enron.com', 'gascontrol@aglresources.com', 'gasmart@gasmart.com', 'gasoilliquidsdaily@yahoo.com', 'gaurav.babbar@enron.com', 'gauri.khokha@enron.com', 'gautam.gupta@enron.com', 'gavin.dillingham@enron.com', 'gay.arnold@enron.com', 'gay.mayeux@enron.com', 'gayla.seiter@enron.com', 'gaylenh@questar.com', 'gaynel.henley@enron.com', 'gberry@solutionsco.com', 'gbrandon@tr.com', 'gdahlke@painehamblen.com', 'gdavid@mdck.com', 'gdrake@nyiso.com', 'geec2000@aol.com', 'geir.solberg@enron.com', 'gelliott@industrialinfo.com', 'gemanix@aol.com', 'gene.humphrey@enron.com', 'gene.morris@enron.com', 'gene.simpson@ipgdirect.com', 'general.announcement@enron.com', 'geneva.davis@enron.com', 'geneva.holland@enron.com', 'genia.fitzgerald@enron.com', 'genmgr@technology4attorneys.com', 'gennaro.contella@chase.com', 'geoff.anderson@twa.com', 'geoff.pollard@enron.com', 'geoff.storey@enron.com', 'georganne.hodges@enron.com', 'george.grant@enron.com', 'george.hope@enron.com', 'george.hopley@enron.com', 'george.huan@enron.com', 'george.mcclellan@enron.com', 'george.mccormick@enron.com', 'george.phillips@enron.com', 'george.robinson@enron.com', 'george.waidelich@enron.com', 'george.wasaff@enron.com', 'george.weissman@enron.com', 'george.wood@enron.com', 'georgeanne.hodges@enron.com', 'georgen@epenergy.com', 'georgene.moore@enron.com', 'georgette@hawkespeers.com', 'georgi.landau@enron.com', 'georgia.fogo@enron.com', 'georgia.ward@enron.com', 'gerald.gilbert@enron.com', 'gerald.nemec@enron.com', 'geraldine.irvine@enron.com', 'geri.greenall@elpaso.com', 'geriann.warner@enron.com', 'gerri.gosnell@enron.com', 'gerry.hrap@enron.com', 'gerry.medeles@enron.com', 'gerry.willis@enron.com', 'gerspamer@mofo.com', 'geynille.dillingham@enron.com', 'gfergus@brobeck.com', 'gfoster@antigenics.com', 'ggreen2@txu.com', 'gia.maisashvili@enron.com', 'gibner@enron.com', 'gift@amazon.com', 'gil.muhl@enron.com', 'gilbergd@sullcrom.com', 'gilbert@amerexenergy.com', 'gillian.johnson@enron.com', 'gillian.lockwood@enron.com', 'gina.corteselli@enron.com', 'gina.taylor@enron.com', 'ginger.dernehl@enron.com', 'ginger.sinclair@enron.com', 'ginger_b_gamble@reliantenergy.com', 'gisb1@aol.com', 'gisb4@aol.com', 'gjb2@pge.com', 'gkansagor@tr.com', 'gkutzschbach@fulbright.com', 'glaguarta@cadencemcshane.com', 'glander@skippingstone.com', 'glen.hass@enron.com', 'glenda.wagner@enron.com', 'glenn.leslie@blakes.com', 'glenn@pira.com', 'glockhart@newpower.com', 'gloria.barkowsky@enron.com', 'gloria.cruz@enron.com', 'gloria.ogenyi@enron.com', 'gloria.solis@enron.com', 'gmarmol@gmarmol.com', 'gmcmahon@btuwatch.com', 'gminor4@home.com', 'goliasbj@bipc.com', 'goliver569@aol.com', 'gonzalez@enron.com', 'gordon.heaney@enron.com', 'gordon.mckillop@enron.com', 'gorny@enron.com', 'gossett@enron.com', 'gpg.announcement@enron.com', 'gpw2002@hotmail.com', 'grace.rodriguez@enron.com', 'grace.taylor@enron.com', 'grace.trent@compaq.com', 'gracie.presas@enron.com', 'gramlr@pjm.com', 'grant.masson@enron.com', 'grant.oh@enron.com', 'grant.zimmerman@enron.com', 'grantoregonrains@hotmail.com', 'gray.calvert@enron.com', 'greek.rice@enron.com', 'greg.blair@enron.com', 'greg.blue@dynegy.com', 'greg.brazaitis@enron.com', 'greg.cordell@enron.com', 'greg.couch@enron.com', 'greg.frers@enron.com', 'greg.hermans@enron.com', 'greg.hibbert@enron.com', 'greg.johnston@enron.com', 'greg.krause@enron.com', 'greg.malcolm@ontariopowergeneration.com', 'greg.mann@enron.com', 'greg.martin@enron.com', 'greg.mcclendon@enron.com', 'greg.mcmahon@enron.com', 'greg.nikkel@enron.com', 'greg.piper@enron.com', 'greg.trefz@enron.com', 'greg.whalley@enron.com', 'greg.whiting@enron.com', 'greg.wolfe@enron.com', 'greg.woulfe@enron.com', 'greg@apbenergy.com', 'greg_hathaway@dom.com', 'greg_j_ball@hotmail.com', 'gregg.lenart@enron.com', 'gregg.penman@enron.com', 'gregory.adams@enron.com', 'gregory.carraway@enron.com', 'gregory.mausser@enron.com', 'gregory.porter@enron.com', 'gregory.schockling@enron.com', 'gregorylang@paulhastings.com', 'gretchen.hardeway@enron.com', 'gretchen.jennings@enron.com', 'gretel.smith@enron.com', 'griff.gray@enron.com', 'griff@odessapumps.com', 'grindal.corey@epenergy.com', 'grinotice@itiliti.com', 'grisela.escamilla@enron.com', 'grocerywor@processrequest.com', 'gschockl@sequentenergy.com', 'gsmith3@keyspanenergy.com', 'gsnapka@eadslink.com', 'gstorey_71@yahoo.com', 'gsullivan@sempra.com', 'guenther.klar@enron.com', 'guillaume.dedalmas@csfb.com', 'guillermo.canovas@enron.com', 'guinara@hotmail.com', 'gus.eghneim@enron.com', 'gus.perez@enron.com', 'guy.dayvault@enron.com', 'gwadsworth@midf.com', 'gwdorsey@aol.com', 'gwendolyn.gray@enron.com', 'gwendolyn.petteway@enron.com', 'gwyn.koepke@enron.com', 'hadix.susan@epenergy.com', 'hai.chen@enron.com', 'hal.elrod@enron.com', 'hal.mckinney@enron.com', 'halbromm@hotmail.com', 'hanhsmith@aol.com', 'hannon@enron.com', 'hao@quinnemanuel.com', 'hap.boyd@enron.com', 'harald.jensen@enron.com', 'hardie.davis@enron.com', 'harlan.murphy@enron.com', 'harris_jennifer_r@lilly.com', 'harry.arora@enron.com', 'harry.bucalo@enron.com', 'harry.collins@enron.com', 'harry.gregory@elpaso.com', 'harry.grubbs@enron.com', 'harry.kingerski@enron.com', 'harry.woodson@enron.com', 'hartsoe@enron.com', 'hartz@zapmedia.com', 'harvey.kaura@enron.com', 'hasan.kedwaii@enron.com', 'hayden@enron.com', 'haysletr@txucom', 'hboyd@columbiaenergygroup.com', 'hbrown@bracepatt.com', 'health.center@enron.com', 'heath.schiesser@enron.com', 'heath@idealab.com', 'heather.alon@enron.com', 'heather.choate@enron.com', 'heather.dunton@enron.com', 'heather.garratt@enron.com', 'heather.johnson@enron.com', 'heather.kroll@enron.com', 'heather.mathis@enron.com', 'heathman@enron.com', 'hector.campos@enron.com', 'hector.mcloughlin@enron.com', 'hector.ruiz@enron.com', 'heddamcallister@aol.com', 'heidi.dubose@enron.com', 'heidi.griffith@enron.com', 'heidi.mason@enron.com', 'heidi.schrab@greenmountain.com', 'heidi.withers@enron.com', 'helen.taylor@enron.com', 'help@trafficschooltogo.com', 'helpdesk.hottap@enron.com', 'hema@izhuta.com', 'hemery@firstunion1.com', 'henry.baker@enron.com', 'henry.emery@painewebber.com', 'henry.emery@ubspainewebber.com', 'henry.means@enron.com', 'henry.safety@enron.com', 'henry.terech@enron.com', 'henry.van@enron.com', 'herbert_molina@juno.com', 'herbl@amerexenergy.com', 'herman.manis@enron.com', 'herndon@enron.com', 'hes@vnf.com', 'hgovenar@govadv.com', 'hherzog@columbiaenergygroup.com', 'hill8314@aol.com', 'hillary.mack@enron.com', 'hillis@enron.com', 'hkjii@erols.com', 'hmlangetx@aol.com', 'hoang.vo@enron.com', 'hocampos@hotmail.com', 'hoguta@msn.com', 'holden.salisbury@enron.com', 'holiday2@amazon.com', 'holli.krebs@enron.com', 'hollis.kimbrough@enron.com', 'holly.fuller@elpaso.com', 'holly.heath@enron.com', 'holly.keiser@enron.com', 'hollymitchell@dwt.com', 'homer.lin@enron.com', 'hope.vargas@enron.com', 'horton@enron.com', 'hostmaster@register.com', 'hotline.isc@enron.com', 'hottoday@ctstrader.com', 'hotwanger@hotmail.com', 'houstonbroadwayseries@clearchannel.com', 'howard.camp@enron.com', 'howard.fromer@enron.com', 'howard@wrightlaw.com', 'hoyt.ivey@enron.com', 'hr.taylor@enron.com', 'hreasoner@velaw.com', 'hrgim@enron.com', 'hrobertson@hbk.com', 'htebs@huber.com', 'huang@enron.com', 'huberf@goalamo.com', 'hudsonr@teai.com', 'hugh.connett@enron.com', 'hughes@enron.com', 'hunaid.engineer@enron.com', 'hunter.shively@enron.com', 'huntertd@sce.com', 'huy.dinh@enron.com', 'hweg@pgwlaw.com', 'hwillmert@cilco.com', 'iain.russell@enron.com', 'ian.brungs@enron.com', 'ian.cooke@enron.com', 'ibuyit.payables@enron.com', 'ibuyit@enron.com', 'ic@enron.com', 'icehelpdesk@intcx.com', 'iceoperations@intcx.com', 'iepa@iepa.com', 'ignacio.taveras@enron.com', 'igoldsmith@natsourcetulletteurope.com', 'ilan.caplan@enron.com', 'imelda.frayre@enron.com', 'imelda.trevino@enron.com', 'imqasqas@nyiso.com', 'ina.rangel@enron.com', 'inez.dauterive@enron.com', 'info@1800contacts.com', 'info@amazon.com', 'info@attorneysed.com', 'info@avalonwine.com', 'info@cera.com', 'info@clubhyperia.com', 'info@colonize.com', 'info@coolsavings.com', 'info@designzine.com', 'info@electionintegrity2000.com', 'info@energyclasses.com', 'info@forexnews.com', 'info@highschoolalumni.com', 'info@hoopitup.com', 'info@millionsofamericans.com', 'info@pmaconference.com', 'info@votenet.com', 'info@winebid.com', 'information.management@enron.com', 'inga.latson@enron.com', 'ingrid.immer@williams.com', 'inja.chun@enron.com', 'insidenytimes@nytimes.com', 'insider@businessweek.com', 'insideralerts@thomsonfn.com', 'instructions@freejokesforyou.com', 'intelligentxmailbag@flowgo.com', 'internal.communications@enron.com', 'investinme@enron.com', 'invision@invisioncs.com', 'invoice@register.com', 'iol_administrator@iroquois.com', 'iona.maclean@enron.com', 'iona@garygreene.com', 'ipayit@enron.com', 'irena.hogan@enron.com', 'irene.flynn@enron.com', 'iris.mack@enron.com', 'iris.waser@enron.com', 'irismmack@hotmail.com', 'irma.alvarez@enron.com', 'isabel.parker@freshfields.com', 'isabel.resendez@enron.com', 'isc.hotline@enron.com', 'isc.registrar@enron.com', 'israel.estrada@enron.com', 'isullivan@perfect.com', 'itrezzo.agent@enron.com', 'ivonne.brown@enron.com', 'ivy_kao@iroquois.com', 'j.fields@argentinc.com', 'j.harris@enron.com', 'j.kaminski@enron.com', 'j.metts@enron.com', 'j.nassos@pecorp.com', 'j.slechta@pecorp.com', 'j.wirick@pecorp.com', 'jack.boatman@enron.com', 'jack.falconi@guarantygroup.com', 'jack.netek@enron.com', 'jackh@rmdfw.com', 'jackie.gentle@enron.com', 'jackie.henry@enron.com', 'jackie.hewett@enron.com', 'jackie.martin@enron.com', 'jackie.morgan@enron.com', 'jackie.young@enron.com', 'jacklyn.anderson@csfb.com', 'jackson.logan@enron.com', 'jacqueline.coleman@enron.com', 'jacqueline.didier@csfb.com', 'jacqueline.kelly@schwab.com', 'jacqueline.richard@enron.com', 'jacquelinelindo@akllp.com', 'jacquelyn.matthews@enron.com', 'jad.doan@enron.com', 'jae.black@enron.com', 'jaime.alatorre@enron.com', 'jaime.gualy@enron.com', 'jaime.sanabria@enron.com', 'jaime.williams@enron.com', 'jaisinghani@enron.com', 'jake.staffel@enron.com', 'jake.thomas@enron.com', 'jaki_l._hawkins@jonesday.com', 'james.bannantine@enron.com', 'james.barker@enron.com', 'james.bouillion@enron.com', 'james.brown@enron.com', 'james.bruce@enron.com', 'james.centilli@enron.com', 'james.collins@enron.com', 'james.copeland@enron.com', 'james.derrick@enron.com', 'james.foster@enron.com', 'james.gillespie@robertwalters.com', 'james.ginty@enron.com', 'james.grace@enron.com', 'james.hachen@enron.com', 'james.heckler@csfb.com', 'james.hoff@enron.com', 'james.hughes@enron.com', 'james.hungerford@enron.com', 'james.javins@enron.com', 'james.keller@enron.com', 'james.lewis@enron.com', 'james.mcmillan@enron.com', 'james.new@enron.com', 'james.prentice@enron.com', 'james.saunders@enron.com', 'james.scribner@enron.com', 'james.simpson@enron.com', 'james.steffes@enron.com', 'james.studdert@enron.com', 'james.studebaker@enron.com', 'james.wood@enron.com', 'james_pelland@dell.com', 'james_r_easter@reliantenergy.com', 'jami.horton@enron.com', 'jamie.ginsberg@enron.com', 'jamie.lynn@enron.com', 'jamie.wachel@enron.com', 'jan.cobden@enron.com', 'jan.cooley@enron.com', 'jan.dobernecker@enron.com', 'jan.haizmann@enron.com', 'jan.johnson@enron.com', 'jan.king@enron.com', 'jan.moore@enron.com', 'jan_levine@travisintl.com', 'jana.giovannini@enron.com', 'jana.mills@enron.com', 'jana.morse@enron.com', 'jana.paxton@enron.com', 'jane.allen@enron.com', 'jane.blizzard@travelpark.com', 'jane.joyce@enron.com', 'jane.mcbride@enron.com', 'jane.tholt@enron.com', 'jane.wilhite@enron.com', 'jane.wilson@enron.com', 'janel.guerrero@enron.com', 'janell_dye@hotmail.com', 'janelle.scheuer@enron.com', 'janet.butler@enron.com', 'janet.cones@enron.com', 'janet.de@enron.com', 'janet.dietrich@enron.com', 'janet.edwards@enron.com', 'janet.mcdaniel@enron.com', 'janet.moore@enron.com', 'janet.mulero@ubsw.com', 'janet.paz@enron.com', 'janet.place@enron.com', 'janet.wallis@enron.com', 'janet@dtahou.com', 'janet@thwaits.com', 'janetgj@erols.com', 'janette.elbertson@enron.com', 'janette.oquendo@enron.com', 'janice.christianson@enron.com', 'janice.hollaway@enron.com', 'janice.moore@enron.com', 'janie.aguayo@enron.com', 'janie.bonnard@enron.com', 'janine.juggins@enron.com', 'janine.migden@enron.com', 'janine_watson@transcanada.com', 'janmorency@paulhastings.com', 'janspecials@ino.com', 'jared.kaiser@enron.com', 'jarek.astramowicz@enron.com', 'jarrod.cyprow@enron.com', 'jarx@pge.com', 'jas@beggslane.com', 'jason.bass2@compaq.com', 'jason.berlin@enron.com', 'jason.choate@enron.com', 'jason.jennaro@enron.com', 'jason.leopold@dowjones.com', 'jason.mcmahon@enron.com', 'jason.mcnair@enron.com', 'jason.moore@enron.com', 'jason.panos@enron.com', 'jason.peters@enron.com', 'jason.rios@enron.com', 'jason.seigal@enron.com', 'jason.sherman@enron.com', 'jason.sokolov@enron.com', 'jason.wiesepape@enron.com', 'jason.williams@enron.com', 'jason.wolfe@enron.com', 'jasonpeters@akllp.com', 'jastone@southernco.com', 'javier.chavarria@enron.com', 'javier.espinoza@enron.com', 'jay.blaine@enron.com', 'jay.boudreaux@enron.com', 'jay.dudley@enron.com', 'jay.ferry@enron.com', 'jay.fitzgerald@enron.com', 'jay.godfrey@enron.com', 'jay.hawthorn@enron.com', 'jay.knoblauh@enron.com', 'jay.reitmeyer@enron.com', 'jay.webb@enron.com', 'jay.yparraguirre@enron.com', 'jayant.krishnaswamy@enron.com', 'jayshree.desai@enron.com', 'jbass@stdauto.com', 'jbelcher@chemweek.com', 'jbennett@gmssr.com', 'jblackwell@luce.com', 'jblatchford@caiso.com', 'jbraterm@cwt.com', 'jbreeden@psp.com', 'jbrewer.LEATHERCENTER@leathercenter.com', 'jbrewer.leathercenter@leathercenter.com', 'jbrunini@brunini.com', 'jbuffing@westerngas.com', 'jbyron@aol.com', 'jbyron@calpine.com', 'jcchilders@hotmail.com', 'jcharlton@nyiso.com', 'jchen@brobeck.com', 'jcja@chevron.com', 'jcjcal02@aol.com', 'jcoiley@wfw.com', 'jconto@ercot.com', 'jcrespo@hess.com', 'jd.buss@enron.com', 'jdahl@mrportland.com', 'jdasovic@enron.com', 'jdavies@nyiso.com', 'jdeason@chbh.com', 'jdilg@velaw.com', 'jdixon@calpine.com', 'jdodd@mdck.com', 'jdoering@rcgroup.com', 'jdoerr@kpcb.com', 'jdquillen@yahoo.com', 'jdupuy@swagroup.com', 'jean.adams@enron.com', 'jean.bell@enron.com', 'jean.blair@enron.com', 'jean.mcfarland@enron.com', 'jean.mrha@enron.com', 'jean.ryall@enron.com', 'jeanette.doll@enron.com', 'jeanie.slone@enron.com', 'jeanne.licciardo@enron.com', 'jeannie.mandelker@enron.com', 'jeaster@reliant.com', 'jeb.ligums@enron.com', 'jebert@eadslink.com', 'jeff.andrews@enron.com', 'jeff.bartlett@enron.com', 'jeff.blumenthal@enron.com', 'jeff.brown@enron.com', 'jeff.dasovich@enron.com', 'jeff.davis@enron.com', 'jeff.donahue@enron.com', 'jeff.duff@enron.com', 'jeff.forbis@enron.com', 'jeff.gilliam@enron.com', 'jeff.golden@enron.com', 'jeff.gollomp@cinergy.com', 'jeff.gray@enron.com', 'jeff.harbert@enron.com', 'jeff.hoover@enron.com', 'jeff.huo@enron.com', 'jeff.johnson@enron.com', 'jeff.kabel@enron.com', 'jeff.keeler@enron.com', 'jeff.king@enron.com', 'jeff.kinneman@enron.com', 'jeff.lenamon@dresdner.com', 'jeff.maack@ipgdirect.com', 'jeff.marecic@enron.com', 'jeff.maurer@enron.com', 'jeff.mcclellan@enron.com', 'jeff.merola@enron.com', 'jeff.nieland@enron.com', 'jeff.nielsen@enron.com', 'jeff.nogid@enron.com', 'jeff.pearson@enron.com', 'jeff.richter@enron.com', 'jeff.royed@enron.com', 'jeff.shields@enron.com', 'jeff.skilling@enron.com', 'jeff.smith@enron.com', 'jeff.westover@enron.com', 'jeff.whippo@enron.com', 'jeff.young@paconsulting.com', 'jeff.youngflesh@enron.com', 'jeff_hines@hines.com', 'jeff_l._huston@dom.com', 'jeff_sadler@fac.com', 'jeff_walker@i2.com', 'jeffb@tpt.com', 'jefferid@kochind.com', 'jefferson.sorenson@enron.com', 'jeffery.fawcett@enron.com', 'jefflowney@aol.com', 'jeffn@subutil.com', 'jeffrey.gossett@enron.com', 'jeffrey.hodge@enron.com', 'jeffrey.jackson@enron.com', 'jeffrey.keeler@enron.com', 'jeffrey.keenan@enron.com', 'jeffrey.mcmahon@enron.com', 'jeffrey.miller@enron.com', 'jeffrey.oh@enron.com', 'jeffrey.porter@enron.com', 'jeffrey.shankman@enron.com', 'jeffrey.sherrick@enron.com', 'jeffrey.snyder@enron.com', 'jeffrey.soo@enron.com', 'jeffrey.wilson@enron.com', 'jeffsmirin@txu.com', 'jeffsok@juno.com', 'jennieh@tvlon.com', 'jennifer.bagwell@enron.com', 'jennifer.ballas@enron.com', 'jennifer.basinski@enron.com', 'jennifer.blay@enron.com', 'jennifer.blevins@enron.com', 'jennifer.burns@enron.com', 'jennifer.cronin@enron.com', 'jennifer.cutaia@enron.com', 'jennifer.denny@enron.com', 'jennifer.fraser@enron.com', 'jennifer.jordan@enron.com', 'jennifer.mcquade@enron.com', 'jennifer.medcalf@enron.com', 'jennifer.mendez@enron.com', 'jennifer.newbrough@enron.com', 'jennifer.nguyen@enron.com', 'jennifer.reed@enron.com', 'jennifer.rosado@enron.com', 'jennifer.rudolph@enron.com', 'jennifer.sabine@enron.com', 'jennifer.stewart@enron.com', 'jennifer.thome@enron.com', 'jennifer.velasco@enron.com', 'jennifer.walker@enron.com', 'jennifer.white@oceanenergy.com', 'jennifer_ballas@pgn.com', 'jennifer_lamprecht@oxy.com', 'jennifersmith@kaseco.com', 'jenny.helton@enron.com', 'jenny.latham@enron.com', 'jenny.rub@enron.com', 'jens.gobel@enron.com', 'jensminger@msn.com', 'jenwhite7@zdnetonebox.com', 'jeremiahdeberry@paulhastings.com', 'jeremy.blachman@enron.com', 'jeremy.morris@enron.com', 'jeremy.wong@enron.com', 'jeri.fish@enron.com', 'jerome_alder@dell.com', 'jerry.britain@enron.com', 'jerry.graves@enron.com', 'jerry.martin@enron.com', 'jerry.peters@enron.com', 'jerry.wilkens@enron.com', 'jerry_berean@hotmail.com', 'jerrybowyer@home.com', 'jeshett@yahoo.com', 'jespulliam@aol.com', 'jess.hewitt@enron.com', 'jesse.bryson@enron.com', 'jesse.morris@enron.com', 'jessica.burry@enron.com', 'jessica.presas@enron.com', 'jessica.uhl@enron.com', 'jessica.wentworth@enron.com', 'jessica.white@enron.com', 'jessica@teamgolf.com', 'jessie.patterson@enron.com', 'jesus.guerra@enron.com', 'jesus.melendrez@enron.com', 'jewel.meeks@enron.com', 'jez.peters@enron.com', 'jfarley@reliant.com', 'jfawcett@sempra.com', 'jfbosu@hotmail.com', 'jfichera@saberpartners.com', 'jfields@argentinc.com', 'jfine@kilstock.com', 'jg77063@aol.com', 'jgalvan@kpmg.com', 'jgoldblatt@agsk.com', 'jgosar@pcez.com', 'jhairsmd@aol.com', 'jhanley@riskwaters.com', 'jhartmann@ercot.com', 'jharwood@mindspring.com', 'jhavila@firstunion1.com', 'jhawker@petersco.com', 'jhdiv@binswanger.com', 'jhduncan@aol.com', 'jhooley@siebel.com', 'jhunt_vitoltvl@yahoo.com', 'jilallen@deloitte.com', 'jill.chatterton@enron.com', 'jill.erwin@enron.com', 'jill.zivley@enron.com', 'jilld@cnrl.com', 'jim.armogida@enron.com', 'jim.buerkle@enron.com', 'jim.cashion@enron.com', 'jim.coen@enron.com', 'jim.coffey@enron.com', 'jim.cole@enron.com', 'jim.curry@enron.com', 'jim.fallon@enron.com', 'jim.goughary@enron.com', 'jim.griffin@compaq.com', 'jim.homco@enron.com', 'jim.little@enron.com', 'jim.meyer@enron.com', 'jim.meyn@enron.com', 'jim.peterson@enron.com', 'jim.piro@enron.com', 'jim.pond@enron.com', 'jim.reyes@enron.com', 'jim.roth@enron.com', 'jim.sandt@enron.com', 'jim.schwieger@enron.com', 'jim.talcott@enron.com', 'jim.willis@enron.com', 'jim.wiltfong@enron.com', 'jim_barnes@pgn.com', 'jimboman@bigfoot.com', 'jimbomania@hotmail.com', 'jimhoffa@hotmail.com', 'jimmy.chandler@enron.com', 'jimmy.manguba@enron.com', 'jimmy.mogal@enron.com', 'jimmystorey@fbcc.com', 'jinsung.myung@enron.com', 'jjames@nui.com', 'jjjsmd@aol.com', 'jjohns@lemle.com', 'jjw@ziplip.com', 'jkbowles@hotmail.com', 'jkeffer@kslaw.com', 'jkelly@fairisaac.com', 'jking100@aol.com', 'jkjstegall@aol.com', 'jklauber@llgm.com', 'jkmurphy@jonesday.com', 'jknight@oneok.com', 'jkriendler@yahoo.com', 'jleslie@luce.com', 'jlhawkins@jonesday.com', 'jlhuemoe@llgm.com', 'jlietz@calpine.com', 'jlokay@4quest.com', 'jlpnymex@aol.com', 'jls@fullenweider.com', 'jmaas@llgm.com', 'jmaciasheard@hotmail.com', 'jmandelker@aol.com', 'jmathes@nbchamber.com', 'jmccormack@sternstewart.com', 'jmckechnie@cabotlng.com', 'jmctarnaghan@gmssr.com', 'jmjaked@mindspring.com', 'jmontehooey@hotmail.com', 'jmoore@mcguirewoods.com', 'jmpa@dynegy.com', 'jmunoz@mcnallytemple.com', 'jmwatson@tecoenergy.com', 'jnaughto@cwt.com', 'jnickel@caiso.com', 'jnugent@purchasepooling.com', 'jo.hill@enron.com', 'jo.matson@enron.com', 'jo.williams@enron.com', 'joan.collins@enron.com', 'joan.quick@enron.com', 'joan.stransky@enron.com', 'joan.veselack@enron.com', 'joana.bekerman@enron.com', 'joanie.ngo@enron.com', 'joann.collins@enron.com', 'joanne.bennett@blakes.com', 'joanne.harris@enron.com', 'joanne.rozycki@enron.com', 'joannie.williamson@enron.com', 'jodi.coulter@enron.com', 'jodi.dziadek@enron.com', 'jodie.floyd@enron.com', 'jodis@questar.com', 'jody.blackburn@enron.com', 'jody.crook@enron.com', 'jody.pierce@enron.com', 'jody.warner@enron.com', 'joe.casas@enron.com', 'joe.chandrapala@enron.com', 'joe.chapman@enron.com', 'joe.connor@enron.com', 'joe.darensbourg@enron.com', 'joe.errigo@enron.com', 'joe.gold@enron.com', 'joe.hartsoe@enron.com', 'joe.hillings@enron.com', 'joe.hunter@enron.com', 'joe.kirkpatrick@nrgenergy.com', 'joe.kishkill@enron.com', 'joe.linhart@enron.com', 'joe.parks@enron.com', 'joe.paul@dynegy.com', 'joe.quenet@enron.com', 'joe.richards@enron.com', 'joe.s@my2way.com', 'joe.stepenovitch@enron.com', 'joe.thorpe@enron.com', 'joe.wong@enron.com', 'joe.wright@truequote.com', 'joe@joewhite.com', 'joe_lardy@cargill.com', 'joego@calpine.com', 'joehillings@aol.com', 'joel.ephross@enron.com', 'joel.henenberg@enron.com', 'joemar40@msn.com', 'joemc5cent@hotmail.com', 'joeminniece@gumps.com', 'joeminniece@mindspring.com', 'joer@calpine.com', 'joey.olivier@ac.com', 'joey.taylor@enron.com', 'johan.louw@ubspainewebber.com', 'johan.zaayman@enron.com', 'john.ale@enron.com', 'john.allario@enron.com', 'john.allison@enron.com', 'john.ambler@enron.com', 'john.anderson@enron.com', 'john.arnold@enron.com', 'john.baker@daniel.com', 'john.ballentine@enron.com', 'john.boguslawski@vynpc.com', 'john.borenius@gfinet.com', 'john.brindle@enron.com', 'john.buchanan@enron.com', 'john.chambers@bisys.com', 'john.cobb@enron.com', 'john.coyle@enron.com', 'john.cummings@enron.com', 'john.dunn@enform.com', 'john.dushinske@enron.com', 'john.echols@enron.com', 'john.enerson@enron.com', 'john.fiscus@enron.com', 'john.ford@enron.com', 'john.forney@enron.com', 'john.fowler@sun.com', 'john.gillespie@enron.com', 'john.godbold@enron.com', 'john.goodpasture@enron.com', 'john.gordon@enron.com', 'john.grass@enron.com', 'john.greene@enron.com', 'john.griffith@enron.com', 'john.hardy@enron.com', 'john.henderson@enron.com', 'john.hodge@enron.com', 'john.house@enron.com', 'john.keiser@enron.com', 'john.kiani@enron.com', 'john.king@enron.com', 'john.kinser@enron.com', 'john.knock@elpaso.com', 'john.laborde@enron.com', 'john.lavorato@enron.com', 'john.llodra@enron.com', 'john.long@enron.com', 'john.malowney@enron.com', 'john.massey@enron.com', 'john.millar@enron.com', 'john.neslage@enron.com', 'john.norden@enron.com', 'john.novak@enron.com', 'john.nowlan@enron.com', 'john.oh@enron.com', 'john.oliver@enron.com', 'john.palmisano@enron.com', 'john.pavetto@enron.com', 'john.peyton@enron.com', 'john.postlethwaite@enron.com', 'john.protzel@cambira.com', 'john.rigby@enron.com', 'john.ruiz@enron.com', 'john.schwartzenburg@enron.com', 'john.shafer@enron.com', 'john.shelk@enron.com', 'john.sherriff@enron.com', 'john.shoobridge@enron.com', 'john.singer@enron.com', 'john.sorrells@enron.com', 'john.spitz@enron.com', 'john.sturn@enron.com', 'john.suarez@enron.com', 'john.suttle@enron.com', 'john.swafford@enron.com', 'john.sweney@brookwoods.com', 'john.swinney@enron.com', 'john.taylor@enron.com', 'john.valdes@enron.com', 'john.vickers@enron.com', 'john.viverito@enron.com', 'john.williams@enron.com', 'john.woodman@enron.com', 'john.zufferli@enron.com', 'john.zurita@enron.com', 'john@lonestarmedical.com', 'john@pgsenergy.com', 'john_mable@dom.com', 'john_riches@msn.com', 'johnb@borrowmanbaker.com', 'johncameron@dwt.com', 'johnj@bcjlaw.com', 'johnl@review.com', 'johnny.palmer@enron.com', 'johnny.ross@enron.com', 'johnposton@postonyoder.com', 'johns@scudderpublishing.com', 'johnson.marc@lycos.com', 'johnsoncb@aol.com', 'johnstaikos@paulhastings.com', 'johnston@enron.com', 'johnw@fsgllc.com', 'jokrejci@hotmail.com', 'jolly@enron.com', 'jon.barrett@enron.com', 'jon.cathers@enron.com', 'jon.chapman@enron.com', 'jon.trevelise@enron.com', 'jonalan.page@enron.com', 'jonathan.anderson@enron.com', 'jonathan.hoff@enron.com', 'jonathan.le@enron.com', 'jonathan.mckay@enron.com', 'jonathan.whitehead@enron.com', 'jonathan@gersten.com', 'jonathon.pielop@enron.com', 'jonesday@jonesday.com', 'jons@amerexenergy.com', 'jordan.mintz@enron.com', 'jorge.garcia@enron.com', 'jose.bestard@enron.com', 'jose.favela@enron.com', 'jose.marquez@enron.com', 'joseph.alamo@enron.com', 'joseph.capasso@enron.com', 'joseph.deffner@enron.com', 'joseph.delaney@morganstanley.com', 'joseph.graham@enron.com', 'joseph.hirl@enron.com', 'joseph.hrgovcic@enron.com', 'joseph.lippeatt@enron.com', 'joseph.macaione@gs.com', 'joseph.sutton@enron.com', 'joseph.wagner@enron.com', 'josephtambornino@yahoo.com', 'joshua.wooten@enron.com', 'josie.call@enron.com', 'joy.werner@enron.com', 'joya.davis@enron.com', 'joya.williams@enron.com', 'joyce.dorsey@enron.com', 'jozef.lieskovsky@enron.com', 'jpainter@igservice.com', 'jpenney@hollandlessard.com', 'jperl@sempratrading.com', 'jpesot@gaoptions.com', 'jpetriello@prebon.com', 'jpm913@aol.com', 'jporte1@columbiaenergygroup.com', 'jramirez@othon.com', 'jrbonica@bonica.com', 'jrevans@pplweb.com', 'jrogers@cinergy.com', 'jrogers@mofo.com', 'jross@pira.com', 'jross@susmangodfrey.com', 'jrutkows@llgm.com', 'jrw@partnersinwealth.com', 'js@verner.com', 'jsavitt@nyiso.com', 'jscheib@rc.com', 'jsemenza@nymex.com', 'jshneer@interlog.com', 'jshohet@graycary.com', 'jshorter@txu.com', 'jskoog_vitoltvl@yahoo.com', 'jsmollon@newwestenergy.com', 'jsonnenberg@bracepatt.com', 'jsqueri@gmssr.com', 'jsteele@pira.com', 'jstuart@luce.com', 'jtatum@genescosports.com', 'jtobin@mofo.com', 'jtp497@rcn.com', 'juan.barba@enron.com', 'juan.hernandez@enron.com', 'juan.padron@enron.com', 'juana.fayett@enron.com', 'juanita.andrade@enron.com', 'juanita.marchand@enron.com', 'juantongia.calvin@enron.com', 'jubran.whalan@enron.com', 'judgecw@aol.com', 'judith.schlesinger@enron.com', 'judy.dyer@enron.com', 'judy.hernandez@enron.com', 'judy.kudym@enron.com', 'judy.martinez@enron.com', 'judy.pearson@enron.com', 'judy.thorne@enron.com', 'judy.timson@enron.com', 'judy.townsend@enron.com', 'judy.walters@enron.com', 'judy.zoch@enron.com', 'juhani.aalto@enron.com', 'juli.salvagio@enron.com', 'julia.chin@enron.com', 'julia.murray@enron.com', 'julia.sudduth@enron.com', 'julia.white@enron.com', 'juliann.kemp@enron.com', 'julianna.grisham@halliburton.com', 'julie.armstrong@enron.com', 'julie.braly@enron.com', 'julie.brewer@enron.com', 'julie.clyatt@enron.com', 'julie.cobb@enron.com', 'julie.davidson@enron.com', 'julie.ferrara@enron.com', 'julie.flahaven@enron.com', 'julie.gomez@enron.com', 'julie.green@enron.com', 'julie.haviland@painewebber.com', 'julie.hernandez@enron.com', 'julie.kearney@enron.com', 'julie.mccoy@enron.com', 'julie.meyers@enron.com', 'julie.nickell@enron.com', 'julie.pechersky@enron.com', 'julie.sarnowski@enron.com', 'julie@lacimagroup.com', 'julieg@qualcomm.com', 'julissa.marron@enron.com', 'julius.zajda@enron.com', 'jun.wang@enron.com', 'jungsuk.suh@enron.com', 'just4hams@aol.com', 'justatip@processrequest.com', 'justin.boyd@enron.com', 'justin.fernandez@enron.com', 'justin.rostant@enron.com', 'justin.timothy@enron.com', 'jverner@vernerbrumley.com', 'jvulpes@banamex.com', 'jw1000mac@yahoo.com', 'jwatson@nwdiagnostic.com', 'jwatson@velaw.com', 'jwdean@aol.com', 'jwells@nbsrealtors.com', 'jwg101@aol.com', 'jwhodge@columbiaenergygroup.com', 'jwilkerson@reliant.com', 'jwnolan0216@yahoo.com', 'jwright@smithandkempton.com', 'jwu@apx.com', 'jwwd@pge.com', 'kacee.downey@enron.com', 'kal.shah@enron.com', 'kalen.pieper@enron.com', 'kalmeida@caiso.com', 'kam.keiser@enron.com', 'kaminski@enron.com', 'kaplan@iepa.com', 'kara.boudreau@enron.com', 'kara.knop@enron.com', 'kara.lauer@enron.com', 'karen.brostad@enron.com', 'karen.buckley@enron.com', 'karen.clapper@enron.com', 'karen.cordova@enron.com', 'karen.cutler@enron.com', 'karen.davis@enron.com', 'karen.denne@enron.com', 'karen.gruesen@enron.com', 'karen.heathman@enron.com', 'karen.huang@enron.com', 'karen.jones@enron.com', 'karen.lambert@enron.com', 'karen.lindley@enron.com', 'karen.marshall@enron.com', 'karen.moore@enron.com', 'karen.myer@enron.com', 'karen.owens@enron.com', 'karen.phillips@enron.com', 'karen.snow@enron.com', 'karen.way@piperrudnick.com', 'karen_e._richardson@dom.com', 'karenfitzgerald@bigfoot.com', 'kareng@accessrelocation.com', 'kari.oquinn@enron.com', 'karie.hastings@enron.com', 'karim@karimrashid.com', 'karima.husain@enron.com', 'karin.levin@enron.com', 'karina.prizont@enron.com', 'karla.compean@enron.com', 'karla.feldman@enron.com', 'karolina.moran@enron.com', 'karolyn.criado@enron.com', 'karry.kendall@enron.com', 'karthik.rajan@enron.com', 'kasey.davis@enron.com', 'kaseywalker@mindspring.com', 'kassandra.banks@enron.com', 'kastorri@elektro.com', 'kate.agnew@enron.com', 'kate.cole@enron.com', 'kate.fraser@enron.com', 'kate.hollis@enron.com', 'kate.joslyn@enron.com', 'kate.lucas@enron.com', 'kate.symes@enron.com', 'katesymes@microsoft.com', 'katherine.benedict@enron.com', 'katherine.brown@enron.com', 'katherine.chisley@enron.com', 'katherine.crosswhite@enron.com', 'katherine.herrera@enron.com', 'katherine.kelly@enron.com', 'kathi.morrissey@compaq.com', 'kathie.grabstald@enron.com', 'kathleen.carnahan@enron.com', 'kathleen.clark@enron.com', 'kathleen.hardeman@enron.com', 'kathleen.magruder@enron.com', 'kathleen.mcpherson@enron.com', 'kathlene.mosley@enron.com', 'kathryn.bussell@enron.com', 'kathryn.corbally@enron.com', 'kathryn.cordes@enron.com', 'kathryn.schultea@enron.com', 'kathryn.sheppard@enron.com', 'kathryn.thomas@enron.com', 'kathy.axford@enron.com', 'kathy.bass@enron.com', 'kathy.campos@enron.com', 'kathy.dodgen@enron.com', 'kathy.gibbins@enron.com', 'kathy.kokas@enron.com', 'kathy.link@enron.com', 'kathy.mayfield@enron.com', 'kathy.mcmahon@enron.com', 'kathy.moore@enron.com', 'kathy.reeves@enron.com', 'kathy.ringblom@enron.com', 'kathy.sturr@enron.com', 'kathy.willard@enron.com', 'kathy@loudcloud.com', 'kathy_janeway@eogresources.com', 'katie.spencer@enron.com', 'katie.stowers@enron.com', 'katie.trullinger@wfsg.com', 'katina.smith@enron.com', 'katrina.burton@enron.com', 'katrina_sumey@platts.com', 'katy.lomax@enron.com', 'katyhester@hotmail.com', 'kay.chapman@enron.com', 'kay.mann@enron.com', 'kay.miller@enron.com', 'kay.quigley@enron.com', 'kay.threet@enron.com', 'kay.young@enron.com', 'kaye.ellis@enron.com', 'kayla.harmon@enron.com', 'kayla.heitmeyer@enron.com', 'kayla.ruiz@enron.com', 'kayne.coulter@enron.com', 'kayquigs@yahoo.com', 'kb@quinnemanuel.com', 'kbates@sequentenergy.com', 'kbeniga@schwabe.com', 'kbergman@ercot.com', 'kberry@ocregister.com', 'kbishop@bracepatt.com', 'kbosley@reliant.com', 'kculotta@kslaw.com', 'kcurry@bracepatt.com', 'kdautenh@lehman.com', 'kdavis2075@aol.com', 'kdean1943@juno.com', 'kdenne@enron.com', 'kdestep@columbiaenergygroup.com', 'kdonohoo@ercot.com', 'kdoris@corelab.com', 'kdpearce@aep.com', 'kdrouet@molecularelectronics.com', 'keegan.farrell@enron.com', 'keith.comeaux@enron.com', 'keith.considine@enron.com', 'keith.dodson@enron.com', 'keith.dziadek@enron.com', 'keith.holst@enron.com', 'keith.miceli@enron.com', 'keith.petersen@enron.com', 'keith.power@enron.com', 'keith.robinson@ourclub.com', 'keith.simper@enron.com', 'keith_larney@i2.com', 'kelbarker@aol.com', 'keller.mayeaux@enron.com', 'kelli.little@enron.com', 'kelly.allen@enron.com', 'kelly.higgason@enron.com', 'kelly.holman@enron.com', 'kelly.johnson@enron.com', 'kelly.kimberly@enron.com', 'kelly.lombardi@enron.com', 'kelly.loocke@enron.com', 'kelly.mccain@enron.com', 'kelly.templeton@enron.com', 'kelly@ecogas.com', 'kelly@truequote.com', 'kelly_p_davis@yahoo.com', 'kelmo3@hotmail.com', 'ken.adams@intcx.com', 'ken.choyce@enron.com', 'ken.lewchuk@enron.com', 'ken.loch@enron.com', 'ken.powers@enron.com', 'ken.rice@enron.com', 'ken.rubeli@enron.com', 'ken.shulklapper@enron.com', 'ken.skilling@enron.com', 'ken@kdscommunications.com', 'kendra.dromgoole@enron.com', 'kendra.hayman@enron.com', 'kenneth.cessac@enron.com', 'kenneth.harmon@enron.com', 'kenneth.kaase@enron.com', 'kenneth.krasny@enron.com', 'kenneth.lay@enron.com', 'kenneth.lee@enron.com', 'kenneth.parkhill@enron.com', 'kenneth.seaman@enron.com', 'kenneth.shulklapper@enron.com', 'kenneth.thibodeaux@enron.com', 'kenneth.walther@enron.com', 'kenny.foo@ngx.com', 'kenny.ha@enron.com', 'kenny.nicoll@enron.com', 'kenny.soignet@enron.com', 'kenny_maltby@eott.com', 'kenrcars@aol.com', 'kent.miller@enron.com', 'kent.morrison@enron.com', 'kenton.erwin@enron.com', 'kerri.thompson@enron.com', 'kerry.roper@enron.com', 'kerry.stroup@enron.com', 'kerrymcelroy@dwt.com', 'ketchekl@bp.com', 'kevin.brady@enron.com', 'kevin.cline@enron.com', 'kevin.cousineau@enron.com', 'kevin.garland@enron.com', 'kevin.gaunt@kornferry.com', 'kevin.hannon@enron.com', 'kevin.heal@enron.com', 'kevin.hyatt@enron.com', 'kevin.jolly@enron.com', 'kevin.joyce@enron.com', 'kevin.kindall@enron.com', 'kevin.may@enron.com', 'kevin.mcgowan@enron.com', 'kevin.meredith@enron.com', 'kevin.montagne@enron.com', 'kevin.moore@enron.com', 'kevin.murray@enron.com', 'kevin.presto@enron.com', 'kevin.radous@enron.com', 'kevin.ruscitti@enron.com', 'kevin.sweeney@enron.com', 'kevin.whitehurst@enron.com', 'kfiglioli@novocorp.com', 'kgough@calpine.com', 'khara@avistaenergy.com', 'khoffman@caiso.com', 'khristina.griffin@enron.com', 'khymberly.booth@enron.com', 'kieranmurray@compuserve.com', 'kikumi.kishigami@enron.com', 'kim.detiveaux@enron.com', 'kim.godfrey@enron.com', 'kim.kouri@enron.com', 'kim.ladish@enron.com', 'kim.melodick@enron.com', 'kim.nguyen@enron.com', 'kim.pattison@enron.com', 'kim.stanley@enron.com', 'kim.theriot@enron.com', 'kim.ward@enron.com', 'kim.weldon@enron.com', 'kimat.singla@enron.com', 'kimberlee.bennick@enron.com', 'kimberley.nelson@enron.com', 'kimberly.allen@enron.com', 'kimberly.banner@enron.com', 'kimberly.bates@enron.com', 'kimberly.bragg@enron.com', 'kimberly.brown@enron.com', 'kimberly.carter@enron.com', 'kimberly.hillis@enron.com', 'kimberly.hundl@enron.com', 'kimberly.indelicato@enron.com', 'kimberly.parrish@enron.com', 'kimberly.rizzi@enron.com', 'kimberly.shoaf@enron.com', 'kimberly.smith@morganstanley.com', 'kimberly.soulant@wcom.com', 'kimberly.vaughn@enron.com', 'kimberly.watson@enron.com', 'kimberly_kirkwood@hotmail.com', 'kingwoodcove.golf@ourclub.com', 'kingwoodcove@ttimeonline.com', 'kirit.purbhoo@enron.com', 'kirk.mcdaniel@enron.com', 'kirk.stevens@enron.com', 'kirk@ceaconsulting.com', 'kirstee.hewitt@enron.com', 'kirti.patel@enron.com', 'kishkill@enron.com', 'kit.blair@enron.com', 'kitchen@enron.com', 'kitty.colgin@compaq.com', 'kjurica@syntexsolutions.com', 'kkeefer@ajilon.com', 'kkennedy@cinergy.com', 'kkennedy@dynastymotorcar.com', 'kkranz@nyiso.com', 'kkupiecki@arpartners.com', 'klaus.holtel@enron.com', 'klaus.obel@enron.com', 'klbwebb@aol.com', 'klietzan@columbiaenergygroup.com', 'klparker@kslaw.com', 'kmills@cfbf.com', 'knipe3@aol.com', 'knipe3@msn.com', 'knotestine@littler.com', 'kolombatovich@blackstone.com', 'kontko@home.com', 'kori.loibl@enron.com', 'kortney.brown@enron.com', 'kourtney.nelson@enron.com', 'kpatrick@reliant.com', 'kpeterso@epelectric.com', 'kpolozie@mwe.com', 'krifisher@hotmail.com', 'krishna.lattupally@enron.com', 'krishnarao@enron.com', 'krisjohnson@cogentrix.com', 'kristann.shireman@enron.com', 'kriste.sullivan@enron.com', 'kristen.hanson@enron.com', 'kristen.jurgens@enron.com', 'kristenm@jschmid.com', 'kristi.birdsall@eprime.com', 'kristi.demaiolo@enron.com', 'kristi.louthan@enron.com', 'kristian.lande@enron.com', 'kristin.albrecht@enron.com', 'kristin.gandy@enron.com', 'kristin.harrelson@enron.com', 'kristin.stathis@enron.com', 'kristin.walsh@enron.com', 'kristina.mordaunt@enron.com', 'kristine.best@enron.com', 'kristiwallis@sprintmail.com', 'krobb@hunton.com', 'kroum.kroumov@enron.com', 'kruscitti@aol.com', 'kscully@hushmail.com', 'ksiles@hotmail.com', 'ksluder@optimark.com', 'ksmalek@aep.com', 'kss@overlandpartners.com', 'kstalker@risklimited.com', 'ksu93@aol.com', 'ksu93dlv@aol.com', 'ksumey@ftenergy.com', 'kswett@tmvgas.com', 'ktgotts@aol.com', 'ktruscitti@hotmail.com', 'kuldeep.chana@enron.com', 'kulvinder.fowler@enron.com', 'kurt.anderson@enron.com', 'kurt.lindahl@elpaso.com', 'kurt.lindahl@enron.com', 'kwebster@eprod.com', 'kweido@questia.com', 'kwiemer@milbank.com', 'kyle.etter@enron.com', 'kyle.jones@radianz.com', 'kyle.kitagawa@enron.com', 'kyle.lilly@enron.com', 'kyle.roblee@enron.com', 'kyle_etter@hotmail.com', 'kysa.alport@enron.com', 'kytreasurer@aol.com', 'l_jester@yahoo.com', 'la.rose@enron.com', 'laallen@aep.com', 'labbe@enron.com', 'lacrecia.davenport@enron.com', 'lacye.trevino@enron.com', 'laine.borgman@enron.com', 'laine.lobban@elpaso.com', 'laine.powell@enron.com', 'laird.dyer@enron.com', 'lalfaro@gibsondunn.com', 'lance.cunningham@enron.com', 'lance.jameson@enron.com', 'lang1@lhom.com', 'laquitta.washington@enron.com', 'lara.berry@enron.com', 'lara.fields@enron.com', 'lara.leibman@enron.com', 'lara.mckinney@enron.com', 'larry.bautista@elpaso.com', 'larry.berger@enron.com', 'larry.bevans@elpaso.com', 'larry.bishop@enron.com', 'larry.campbell@enron.com', 'larry.ciscon@enron.com', 'larry.dallman@enron.com', 'larry.decker@enron.com', 'larry.gleffe@enron.com', 'larry.hunter@enron.com', 'larry.izzo@enron.com', 'larry.jester@enron.com', 'larry.lawyer@enron.com', 'larry.marcus@enron.com', 'larry.may@enron.com', 'larry.pardue@enron.com', 'larry.pavlou@enron.com', 'larrywolfe@ezeeweb.com', 'latrisha.allen@enron.com', 'laura.aldis@enron.com', 'laura.bosek@enron.com', 'laura.ewald@enron.com', 'laura.giambrone@enron.com', 'laura.glenn@enron.com', 'laura.harder@enron.com', 'laura.hernandez@trw.com', 'laura.howenstine@enron.com', 'laura.jewett@bakerbotts.com', 'laura.johnson@enron.com', 'laura.kinningham@enron.com', 'laura.levy@enron.com', 'laura.luce@enron.com', 'laura.osman@travelpark.com', 'laura.podurgiel@enron.com', 'laura.schwartz@enron.com', 'laura.scott@enron.com', 'laura.valencia@enron.com', 'laura.vuittonet@enron.com', 'laura.wente@enron.com', 'laura.wilkinson@enron.com', 'lauragammell@hotmail.com', 'laurajahnke@hotmail.com', 'laurel.adams@enron.com', 'laurel.bolt@enron.com', 'lauren.goldblatt@enron.com', 'lauren.hagerty@enron.com', 'lauren.urquhart@enron.com', 'lauren@prescottlegal.com', 'lauri.allen@enron.com', 'lauri.goodwyn@sgfimat.com', 'laurie.ellis@enron.com', 'laurie.knight@enron.com', 'laurie.mayer@enron.com', 'laurie.miller@enron.com', 'lavorato@enron.com', 'lawfeder@msn.com', 'lawrence.clayton@enron.com', 'lawrence.foutz@enron.com', 'lawrence_clayton@eott.com', 'lawrencelawyer@aol.com', 'lawyer4428@aol.com', 'lawyerclr@aol.com', 'laymand@gtlaw.com', 'laynie.east@enron.com', 'lazydaytrader@eudoramail.com', 'lazydaytrader@hotmail.com', 'lb_electronic_orders@dell.com', 'lbracken@summitenergy.com', 'lbullock@nyiso.com', 'lcurry@kineticres.com', 'ld.stephens@enron.com', 'leaf.harasin@enron.com', 'leandro.ibasco@enron.com', 'leann.walton@enron.com', 'leanne@integrityrs.com', 'leary@timeinc.com', 'leasa.lopez@enron.com', 'lech.kalembka@cwt.com', 'lee.baker@enron.com', 'lee.carrier@enron.com', 'lee.fascetti@enron.com', 'lee.ferrell@enron.com', 'lee.huber@enron.com', 'lee.jackson@enron.com', 'lee.martin@enron.com', 'lee.munden@enron.com', 'lee.papayoti@enron.com', 'lee.wright@enron.com', 'lee@enron.com', 'leena.mathews@enron.com', 'leesa.hutcherson@enron.com', 'leesa.white@enron.com', 'legal.1@enron.com', 'legal.3@enron.com', 'legal.4@enron.com', 'lenine.jeganathan@enron.com', 'lenny.hochschild@enron.com', 'leo.nichols@enron.com', 'leonard.daily@enron.com', 'leonardo.pacheco@enron.com', 'leopoldo_marcial@hotmail.com', 'lerea.pharr@enron.com', 'les.webber@enron.com', 'les@lacimagroup.com', 'les_clewlow@compuserve.com', 'lesley.ayers@enron.com', 'lesleycm@hotmail.com', 'lesli.campbell@enron.com', 'leslie.hansen@enron.com', 'leslie.hiltabrand@enron.com', 'leslie.lawner@enron.com', 'leslie.linares@enron.com', 'leslie.moore@compaq.com', 'leslie.reeves@enron.com', 'leslie.robinson@enron.com', 'leslie.smith@enron.com', 'lesliewmadams@aol.com', 'lester.rawson@enron.com', 'leticia.botello@enron.com', 'leticia.flores@enron.com', 'lettusb@yahoo.com', 'lex.carroll@enron.com', 'lexi.elliott@enron.com', 'lfeusi@caiso.com', 'lfrank@vignette.com', 'lfrederick@ingenieros.com', 'lgaertner@evansgrp.com', 'lgasparini@simpletel.com', 'lgibson@ogwb.com', 'lgras91577@aol.com', 'lhand@lemle.com', 'lhandli1@txu.com', 'lharpold@lrmlaw.com', 'lhayman@skadden.com', 'lhazzard@firstam.com', 'lhenderson@sapient.com', 'lhenneberry@ssd.com', 'lhinson@allianceworldwide.com', 'li.sun@enron.com', 'libasco@netvigator.com', 'lillahmay@aol.com', 'lillian.bailey@enron.com', 'lillian.carroll@enron.com', 'lillian.villarreal@enron.com', 'limonej@merchantenergy.com', 'limor.nissan@enron.com', 'linda.auwers@compaq.com', 'linda.bryan@enron.com', 'linda.guinn@enron.com', 'linda.hallmark@enron.com', 'linda.hawkins@enron.com', 'linda.lawrence@enron.com', 'linda.ng@enron.com', 'linda.noske@enron.com', 'linda.roberts@enron.com', 'linda.robertson@enron.com', 'linda.sietzema@enron.com', 'linda.simmons@enron.com', 'linda.stepenovitch@bankofamerica.com', 'linda.stewart@powersrc.com', 'linda.trevino@enron.com', 'linda.vargo@enron.com', 'linda.wehring@dynegy.com', 'linda.wehring@enron.com', 'linda.zhou@enron.com', 'linda_l_foster@calpx.com', 'lindon.chiu@enron.com', 'lindsay.culotta@enron.com', 'lindsay.long@enron.com', 'lindsay.renaud@enron.com', 'lindy.donoho@enron.com', 'linux@bdcimail.com', 'lippmanc@aol.com', 'lipsen@cisco.com', 'lisa.bills@enron.com', 'lisa.burnett@enron.com', 'lisa.connolly@enron.com', 'lisa.costello@enron.com', 'lisa.cousino@enron.com', 'lisa.csikos@enron.com', 'lisa.druzbik@enron.com', 'lisa.fair@enron.com', 'lisa.gang@enron.com', 'lisa.gillette@enron.com', 'lisa.hesse@enron.com', 'lisa.hobbs@enron.com', 'lisa.iannotti@enron.com', 'lisa.jacobson@enron.com', 'lisa.jones@enron.com', 'lisa.kang@enron.com', 'lisa.kinsey@enron.com', 'lisa.lees@enron.com', 'lisa.lunz@enron.com', 'lisa.mellencamp@enron.com', 'lisa.nemec@enron.com', 'lisa.obrien@freshfields.com', 'lisa.petruszka@enron.com', 'lisa.polk@enron.com', 'lisa.sawyer@enron.com', 'lisa.shoemake@enron.com', 'lisa.sutton@enron.com', 'lisa.upchurch@enron.com', 'lisa.yoho@enron.com', 'lisa_clifford@i2.com', 'lisakaykay@hotmail.com', 'list@fibtrader.com', 'lists@u2.com', 'livia_zufferli@monitor.com', 'liz.alvarado@enron.com', 'liz.bellamy@enron.com', 'liz.hillman@enron.com', 'liz.legros@enron.com', 'liz.mendiola@travelpark.com', 'liz.prior@enron.com', 'liz.taylor@enron.com', 'liz@luntz.com', 'lizard_ar@yahoo.com', 'lizzette.palmer@enron.com', 'ljahnke@aerotek.com', 'ljnorwood@calpine.com', 'll_mwdaily@yahoo.com', 'llaidlaw@cera.com', 'llawson@ftenergy.com', 'llewelyn.hughes@enron.com', 'llmaser@degeurinrealty.com', 'lloyd.fleming@enron.com', 'lloyd.will@enron.com', 'lmfoust@aol.com', 'lodgesarah@hotmail.com', 'lokay@bigfoot.com', 'lola.willis@enron.com', 'loleary@riskwaters.com', 'lon.stanton@enron.com', 'london.brown@enron.com', 'looksee@rocketmail.com', 'lora.sullivan@enron.com', 'loretta.brelsford@enron.com', 'loretta.brooks@enron.com', 'lori.haney@enron.com', 'lori.pinder@enron.com', 'loric@questar.com', 'lorie.hernandez@enron.com', 'lorie.leigh@enron.com', 'lorinlenhart@hotmail.com', 'lorna.brennan@enron.com', 'lorna.jones@enron.com', 'lorraine.becker@enron.com', 'lorraine.lindberg@enron.com', 'loshiro@cantor.com', 'losi@pbworld.com', 'lou.casari@enron.com', 'louis.allen@enron.com', 'louis.dicarlo@enron.com', 'louis.eber@ubsw.com', 'louis.iaconetti@csfb.com', 'louis.martinez@compaq.com', 'louis.soldano@enron.com', 'louis@lfcompany.com', 'louise.kitchen@enron.com', 'lourine.saxton@enron.com', 'lowry@enron.com', 'lpc@masterdata.com', 'lpeters@pacifier.com', 'lpinto@calpine.com', 'lqcolombo@aol.com', 'lreichel@calpine.com', 'lsachs@perseusllc.com', 'lschiffm@jonesday.com', 'lstavinoha@themedlehgroup.com', 'lsutaylor@hotmail.com', 'ltaylor@cysive.com', 'ltownsend@lglawfirm.com', 'lu@enron.com', 'luanne.giessen@gs.com', 'luchas.johnson@enron.com', 'lucie@jhmedia.com', 'lucy.marshall@enron.com', 'lucy.ortiz@enron.com', 'luis.gonzales@enron.com', 'luis.mena@enron.com', 'luismena@yahoo.com', 'luiz.maurer@enron.com', 'luiz.watanabe@enron.com', 'lukee@infocastinc.com', 'lwbthemarine@bigplanet.com', 'lwin@gbmdc.com', 'lydia.cannon@enron.com', 'lydia.delgado@enron.com', 'lyn.malina@enron.com', 'lynda.laferla@enron.com', 'lynette.crawford@enron.com', 'lynn.aven@enron.com', 'lynn.blair@enron.com', 'lynn.mcconnell@williams.com', 'lynn.pikofsky@enron.com', 'lynne.ruffer@enron.com', 'lynnette.barnes@enron.com', 'lysa.akin@enron.com', 'lysa.tracy@enron.com', 'm.hall@enron.com', 'm_besch@yahoo.com', 'mac.mcclelland@enron.com', 'mack@enron.com', 'madeleine@madeleinetodd.com', 'madhup.kumar@enron.com', 'madhur.dayal@enron.com', 'magdelena.cruz@enron.com', 'magee@enron.com', 'maggie.matheson@enron.com', 'maggie.ortiz@enron.com', 'maggie.schroeder@enron.com', 'maggie_timmins@cdnoxy.com', 'maggiemschf@yahoo.com', 'mahesh.lakhani@enron.com', 'mail@1travel.com', 'mail@joesdesk.com', 'mail@onetravel.com', 'mail@playersonly.com', 'mail@sportsbook.com', 'mailbot@datek.com', 'mailings@cnn.com', 'mainerdj@compuserve.com', 'mainesa@natfuel.com', 'maiser@wscc.com', 'majed.nachawati@enron.com', 'majordomo@nerc.com', 'make_up_pro@yahoo.com', 'makfots@aol.com', 'malbright@nyiso.com', 'mam@teamlead.com', 'management.ets@enron.com', 'manager@cdnow.com', 'mandy.mackinnon@enron.com', 'manretz@msn.com', 'mansoor.abdmoulaie@enron.com', 'mappling@chematch.com', 'mara.bronstein@enron.com', 'mara_alexander@cargill.com', 'marc.eichmann@enron.com', 'marc.janichen@enron.com', 'marc.manly@enron.com', 'marc.pederson@enron.com', 'marc.phillips@enron.com', 'marc.roche@enron.com', 'marc_cutler@bmc.com', 'marcello.romano@enron.com', 'marcelo.meira@enron.com', 'marcelo_cosma@ml.com', 'marchris.robinson@enron.com', 'marci.kelly@enron.com', 'marci.mansfield@enron.com', 'marcia.linton@enron.com', 'marcia_brammer@mckinsey.com', 'marcie.milner@enron.com', 'marcus.dotson@enron.com', 'marcus.edmonds@enron.com', 'marcus.nettelton@enron.com', 'marde.driscoll@enron.com', 'margalith@elektro.com', 'margaret.allen@enron.com', 'margaret.carson@enron.com', 'margaret.daffin@enron.com', 'margaret.dhont@enron.com', 'margaret.doucette@enron.com', 'margaret.hall@enron.com', 'margarite.cunningham@enron.com', 'marge.nadasky@enron.com', 'margie.nguyen@enron.com', 'margo.reyna@enron.com', 'margy2001@yahoo.com', 'mari.capestany@enron.com', 'maria.barnet@myhomekey.com', 'maria.beccaccini@enron.com', 'maria.chiodi@csfb.com', 'maria.garcia@enron.com', 'maria.garza@enron.com', 'maria.mitchell@enron.com', 'maria.nartey@enron.com', 'maria.pavlou@enron.com', 'maria.perales@enron.com', 'maria.rutella@cwt.com', 'maria.salazar@enron.com', 'maria.sandoval@enron.com', 'maria.tefel@enron.com', 'maria.valdes@enron.com', 'marian.bryant@enron.com', 'marianne.castano@enron.com', 'marianne.wilkins@enron.com', 'maribel.monterrey@enron.com', 'maricela.trevino@enron.com', 'marie.heard@enron.com', 'marie.hejka@enron.com', 'marie.newhouse@enron.com', 'marie.taylor@enron.com', 'marie.westin@enron.com', 'mariella.mahan@enron.com', 'marilene.listrom@om.com', 'marilene.listrom@omgroup.com', 'marilyn.baker@enron.com', 'marilyn.chalmers@compaq.com', 'marilyn.colbert@enron.com', 'marilyn.rice@compaq.com', 'mario.cardoso@enron.com', 'marion.sczykutowicz@enron.com', 'marisa.rapacioli@enron.com', 'maritta.mullet@enron.com', 'mark.austin@enron.com', 'mark.bernstein@enron.com', 'mark.brand@enron.com', 'mark.breese@enron.com', 'mark.bridges@ubsw.com', 'mark.castiglione@enron.com', 'mark.confer@enron.com', 'mark.courtney@enron.com', 'mark.crowther@enron.com', 'mark.davidson@enron.com', 'mark.davis@enron.com', 'mark.dickin@enron.com', 'mark.diedrich@enron.com', 'mark.dilworth@enron.com', 'mark.dupuy@enron.com', 'mark.eilers@enron.com', 'mark.ellenberg@cwt.com', 'mark.ellenberg@enron.com', 'mark.elliott@enron.com', 'mark.evans@enron.com', 'mark.feldman@enron.com', 'mark.ferguson@enron.com', 'mark.fillinger@enron.com', 'mark.fischer@enron.com', 'mark.fisher@enron.com', 'mark.frank@enron.com', 'mark.frevert@enron.com', 'mark.friedman@enron.com', 'mark.gershon@piperrudnick.com', 'mark.greenberg@enron.com', 'mark.guinney@watsonwyatt.com', 'mark.guzman@enron.com', 'mark.hackney@aps.com', 'mark.haedicke@enron.com', 'mark.hall@enron.com', 'mark.holsworth@enron.com', 'mark.hudgens@enron.com', 'mark.jackson@enron.com', 'mark.knippa@enron.com', 'mark.koenig@enron.com', 'mark.lavine@enron.com', 'mark.lay@enron.com', 'mark.lay@solutioncompany.com', 'mark.mcclure@enron.com', 'mark.mcconnell@enron.com', 'mark.mccoy@enron.com', 'mark.metts@enron.com', 'mark.mixon@enron.com', 'mark.muller@enron.com', 'mark.ng@enron.com', 'mark.palmer@enron.com', 'mark.pickering@enron.com', 'mark.powell@enron.com', 'mark.rodriguez@enron.com', 'mark.ruane@enron.com', 'mark.schlueter@enron.com', 'mark.schrab@enron.com', 'mark.schroeder@enron.com', 'mark.shea@bankofamerica.com', 'mark.smith@enron.com', 'mark.suchman@bakerpetrolite.com', 'mark.tawney@enron.com', 'mark.taylor@enron.com', 'mark.thibodeaux@enron.com', 'mark.thorne@enron.com', 'mark.wadlington@enron.com', 'mark.walker@enron.com', 'mark.whitt@enron.com', 'mark.wilson@enron.com', 'mark.woita@fhlbtopeka.com', 'mark_guinney@watsonwyatt.com', 'markcmo@aol.com', 'market_relations@nyiso.com', 'marketing@firstdownsports.com', 'marketing@nymex.com', 'marketing@welcom', 'marketopshourahead@caiso.com', 'marketopsrealtimebeep@caiso.com', 'marketrelations@nyiso.com', 'marketwire@dtn.com', 'markm@cajunusa.com', 'markskilling@hotmail.com', 'markus.fiala@enron.com', 'marla.barnard@enron.com', 'marlene.hilliard@enron.com', 'marlo.james@enron.com', 'marly.didizian@linklaters.com', 'marnie.lamb@enron.com', 'marsha.shepherd@enron.com', 'marshall.brown@robertwalters.com', 'martha.benner@enron.com', 'martha.janousek@enron.com', 'martha.keesler@enron.com', 'martha.stevens@enron.com', 'martha.utley@enron.com', 'martha@scottpaul.com', 'martier@cpchem.com', 'martin.bucknell@enron.com', 'martin.cuilla@enron.com', 'martin.kovacs@travelpark.com', 'martin.lin@enron.com', 'martin.penkwitz@enron.com', 'martin.rosell@enron.com', 'martin.stanley@enron.com', 'martin@electrapartners.com', 'martina.angelova@enron.com', 'marty.sunde@enron.com', 'marty_oelmann@cargill.com', 'marussel@srpnet.com', 'marvia.jefferson@enron.com', 'mary.bailey@enron.com', 'mary.barker@ubsw.com', 'mary.botello@enron.com', 'mary.cilia@enron.com', 'mary.clark@enron.com', 'mary.comello@enron.com', 'mary.cook@enron.com', 'mary.coombe@enron.com', 'mary.darveaux@enron.com', 'mary.draemer@enron.com', 'mary.ellenberger@enron.com', 'mary.fischer@enron.com', 'mary.franklin@enron.com', 'mary.gosnell@enron.com', 'mary.gray@enron.com', 'mary.grisaffi@enron.com', 'mary.hain@enron.com', 'mary.hannusch@enron.com', 'mary.heinitz@enron.com', 'mary.johnson@enron.com', 'mary.joyce@enron.com', 'mary.kimball@enron.com', 'mary.lessor@enron.com', 'mary.miller@enron.com', 'mary.moore@enron.com', 'mary.ogden@enron.com', 'mary.perkins@enron.com', 'mary.poorman@enron.com', 'mary.rose@enron.com', 'mary.ruffer@enron.com', 'mary.schoen@enron.com', 'mary.smith@enron.com', 'mary.solmonson@enron.com', 'mary.tudon@enron.com', 'mary.weatherstone@enron.com', 'maryann.long@enron.com', 'maryhelen.martinez@enron.com', 'marykay.manning@enron.com', 'marys@tvapdx.com', 'mason.hamlin@enron.com', 'massimo.marolo@enron.com', 'mathew.gimble@enron.com', 'matilda.machado@enron.com', 'matt.allsup@enron.com', 'matt.anderson@enron.com', 'matt.gillaspie@brentonbank.com', 'matt.harris@enron.com', 'matt.hsu@interwoven.com', 'matt.hughes@enron.com', 'matt.lorenz@enron.com', 'matt.maxwell@enron.com', 'matt.mcdonald@enron.com', 'matt.motley@enron.com', 'matt.motsinger@enron.com', 'matt.pena@enron.com', 'matt.sample@enform.com', 'matt.smith@enron.com', 'matt.wilson@weyerhaeuser.com', 'mattcook@velaw.com', 'matthew.adams@enron.com', 'matthew.allan@enron.com', 'matthew.arnold@enron.com', 'matthew.berry@enron.com', 'matthew.dawson@enron.com', 'matthew.duffy@enron.com', 'matthew.fleming@enron.com', 'matthew.flett@msdw.com', 'matthew.frank@enron.com', 'matthew.gockerman@enron.com', 'matthew.lenhart@enron.com', 'matthew.meyers@enron.com', 'matthew.scrimshaw@enron.com', 'matthew.tezyk@enron.com', 'matthew_faunce@raytheon.com', 'matthias.lee@enron.com', 'maureen.mcvicker@enron.com', 'maureen.raymond@enron.com', 'maureen.smith@enron.com', 'maurice.gilbert@enron.com', 'maurice.winter@enron.com', 'mauricio.guevara@enron.com', 'mauricio.mora@enron.com', 'mawhitt@aol.com', 'max.brown@enron.com', 'max.doner@enron.com', 'max.sonnonstine@enron.com', 'max.yzaguirre@enron.com', 'maxine.levingston@enron.com', 'mbaldwin@igservice.com', 'mballases@hotmail.com', 'mbass@spencerstuart.com', 'mbauer@keyspanenergy.com', 'mbeckworth@velaw.com', 'mbergonia@edfman.com', 'mbiggar@bdo.com', 'mbkuntz@aol.com', 'mbtos@tozzini.com', 'mbx_expertfinder@enron.com', 'mbx_iscinfra@enron.com', 'mcausholli@hotmail.com', 'mcbarnes@kslaw.com', 'mccue@mdcsystems.com', 'mcdonalr@talgov.com', 'mcduff6@dellepro.com', 'mcesario@ormet.com', 'mcintyrk@sullcrom.com', 'mcmahonm@kochind.com', 'mcominsky@aol.com', 'mcontant@cypressasset.com', 'mcook@utilicorp.com', 'mcortez@govadv.com', 'mcrobbro@cba.com', 'mcurran@riskcare.com', 'mcyrus@cinergy.com', 'mday@gmssr.com', 'mdenney@nortelnetworks.com', 'mdidriksen@llgm.com', 'mdunn1@milbank.com', 'mechelle.atwood@enron.com', 'mechelle.stevens@enron.com', 'medleyb@gtlaw.com', 'megan.angelos@enron.com', 'megan.duffill@msdw.com', 'megan.la@aspentech.com', 'megan.parker@enron.com', 'megrogers_99@yahoo.com', 'meiling.chen@enron.com', 'melanie.gray@weil.com', 'melanie.king@enron.com', 'melba.bowen@enron.com', 'melba.lozano@enron.com', 'melba.trevino@enron.com', 'melf116@aol.com', 'melinda.gallishaw@enron.com', 'melinda.mccarty@enron.com', 'melinda.pharms@enron.com', 'melinda.whalen@enron.com', 'melinda.winn@enron.com', 'melissa.becker@enron.com', 'melissa.graves@enron.com', 'melissa.jones@enron.com', 'melissa.murphy@enron.com', 'melissa.prihoda@enron.com', 'melissa.ratnala@enron.com', 'melissa.rodriguez@enron.com', 'melissa.solis@enron.com', 'melissa.videtto@enron.com', 'meliza.evanson@enron.com', 'melodick@enron.com', 'melody.gray@enron.com', 'members@realmoney.com', 'members@thestreet.com', 'memberservices@travelocity.com', 'mercy.gil@enron.com', 'meredith.eggleston@enron.com', 'meredith.philipp@enron.com', 'meredith@enron.com', 'merle.glen@enron.com', 'messaging.agent@enron.com', 'messenger@smartreminders.com', 'mexico@carloslara.com', 'meyer06@hotmail.com', 'meyn@enron.com', 'mflewellyn@columbiaenergygroup.com', 'mfortugno@poseidon1.com', 'mfowler2@aol.com', 'mgermany@ch2m.com', 'mgh9999@aol.com', 'mgillaspie02@pjc.com', 'mharris@rcgroup.com', 'mhealy@cgsh.com', 'mheffner@carrfut.com', 'mherring@myfamilyinc.com', 'mhoran@shb.com', 'mhughes@paincarecenter.com', 'mich888@aol.com', 'michael.alexander@sce.com', 'michael.anderson@enron.com', 'michael.barone@enron.com', 'michael.benien@enron.com', 'michael.bilberry@enron.com', 'michael.bledsoe@ca.com', 'michael.bodnar@enron.com', 'michael.bridges@enron.com', 'michael.brown@enron.com', 'michael.burke@enron.com', 'michael.capellas@compaq.com', 'michael.cazaubon@exeloncorp.com', 'michael.danielson@enron.com', 'michael.eiben@enron.com', 'michael.etringer@enron.com', 'michael.flanigan@enron.com', 'michael.frazier@enron.com', 'michael.gapinski@ubspainewebber.com', 'michael.garberding@enron.com', 'michael.garred@enron.com', 'michael.gerosimo@lehman.com', 'michael.gorman@bnsf.com', 'michael.green@enron.com', 'michael.grimes@enron.com', 'michael.guadarrama@enron.com', 'michael.guerriero@enron.com', 'michael.harris@enron.com', 'michael.hayes@beachfire.com', 'michael.hicks@enron.com', 'michael.horning@enron.com', 'michael.hutchinson@enron.com', 'michael.jacobson@enron.com', 'michael.kass@enron.com', 'michael.kenneally@enron.com', 'michael.legler@enron.com', 'michael.mann@enron.com', 'michael.mattox@enron.com', 'michael.mauboussin@csfb.com', 'michael.miller@enron.com', 'michael.mitcham@enron.com', 'michael.moran@enron.com', 'michael.morris@enron.com', 'michael.moscoso@enron.com', 'michael.neves@enron.com', 'michael.nguyen@enron.com', 'michael.norden@enron.com', 'michael.norris@enron.com', 'michael.olsen@enron.com', 'michael.payne@enron.com', 'michael.ratner@enron.com', 'michael.roan@enron.com', 'michael.robison@enron.com', 'michael.rosen@enron.com', 'michael.salinas@enron.com', 'michael.savidant@enron.com', 'michael.schilmoeller@enron.com', 'michael.schuh@enron.com', 'michael.seely@enron.com', 'michael.simmons@enron.com', 'michael.slade@enron.com', 'michael.smith@enron.com', 'michael.spruiell@enron.com', 'michael.sullivan@enron.com', 'michael.swaim@enron.com', 'michael.terraso@enron.com', 'michael.trahan@ubspainewebber.com', 'michael.tribolet@enron.com', 'michael.tully@enron.com', 'michael.walters@enron.com', 'michael.wong@enron.com', 'michael.yambrach@enron.com', 'michael@eeg.com', 'michael_burke@eott.com', 'michaelm@morgangroup.com', 'michel.decnop@enron.com', 'michel.nelson@enron.com', 'michele.beffer@enron.com', 'michele.farrell@enron.com', 'michele.marvin@enron.com', 'michele.raque@enron.com', 'michele.winckowski@dynegy.com', 'michele.winckowski@enron.com', 'michele.word@enron.com', 'michele_yoskovich@mckinsey.com', 'michelle.blaine@enron.com', 'michelle.bruce@enron.com', 'michelle.cash@enron.com', 'michelle.cisneros@enron.com', 'michelle.foust@enron.com', 'michelle.hargrave@enron.com', 'michelle.hicks@enron.com', 'michelle.lawless@enron.com', 'michelle.leblanc@enron.com', 'michelle.lee@enron.com', 'michelle.lokay@enron.com', 'michelle.maynard@enron.com', 'michelle.muniz@enron.com', 'michelle.nelson@enron.com', 'michelle.parks@enron.com', 'michelle.robichaux@enron.com', 'michelle.sheehan@enron.com', 'michelle.thomason@enron.com', 'michelle.vitrella@enron.com', 'michelle.zhang@enron.com', 'michelle_dorsett@dell.com', 'michklin@wincom', 'miguel.garcia@enron.com', 'miguel.maltes@enron.com', 'miguel.vasquez@enron.com', 'mihipolito@juno.com', 'mika.watanabe@enron.com', 'mike.abbott@enron.com', 'mike.altendorf@conchango.com', 'mike.barry@enron.com', 'mike.bryant@enron.com', 'mike.carson@enron.com', 'mike.coleman@enron.com', 'mike.cowan@enron.com', 'mike.croucher@enron.com', 'mike.curry@enron.com', 'mike.dahlke@enron.com', 'mike.deville@enron.com', 'mike.fowler@enron.com', 'mike.gough@naes.com', 'mike.grigsby@enron.com', 'mike.haney@enron.com', 'mike.harris@enron.com', 'mike.horning@enron.com', 'mike.indivero@nepco.com', 'mike.jordan@enron.com', 'mike.kelly@enron.com', 'mike.kotubey@enron.com', 'mike.maggi@enron.com', 'mike.mazowita@enron.com', 'mike.mcclain@enron.com', 'mike.mcconnell@enron.com', 'mike.mccracken@enron.com', 'mike.mcgowan@enron.com', 'mike.miller@enron.com', 'mike.nelson@enron.com', 'mike.purcell@enron.com', 'mike.riedel@enron.com', 'mike.roberts@enron.com', 'mike.shannon@enron.com', 'mike.sheedy@enron.com', 'mike.smith@enron.com', 'mike.swerzbin@enron.com', 'mike.thack@bea.com', 'mike.train@emrsn.com', 'mike.triem@compaq.com', 'mike.van@enron.com', 'mike.wellings@enron.com', 'mike@perfect.com', 'mikeb@baselice.com', 'mikestubbe@hotmail.com', 'miki.bode@williams.com', 'miller@advlaser.com', 'millicent.miller@piperrudnick.com', 'millie.gautam@enron.com', 'millie.smaardyk@ourclub.com', 'milnthorp@enron.com', 'min.zheng@enron.com', 'mina.miyakawa@enron.com', 'minako.yamada@enron.com', 'minal.dalia@enron.com', 'mingcheng.lian@enron.com', 'minnich@imarkets.com', 'miranda.southard@enron.com', 'misha.siegel@enron.com', 'missy.stevens@enron.com', 'missy.sturgeon@cinergy.com', 'misti.day@enron.com', 'misty.barrett@enron.com', 'mitch.robinson@enron.com', 'mitch.taylor@enron.com', 'mitchell.hurt@enron.com', 'mitchell.taylor@enron.com', 'miyung.buster@enron.com', 'mjb94123@yahoo.com', 'mjillard@beaconelectric.com', 'mjmiller23@hotmail.com', 'mjones7@txu.com', 'mle@fulbright.com', 'mleslie@amgen.com', 'mlk@pkns.com', 'mlpdgrace@yahoo.com', 'mmcclel4@csc.com', 'mmcgown@velaw.com', 'mmellman@natsource.com', 'mmf4@pge.com', 'mmilazzo@sidley.com', 'mmmarcantel@equiva.com', 'mmolland@brobeck.com', 'mmorales@arnel.com', 'mneeley@caiso.com', 'mnelson@pricegroup.com', 'mnewman@reliant.com', 'mnewsletter@mtlnh.com', 'mnlevy@swidlaw.com', 'mnw@cockrell.com', 'mo.elafandi@enron.com', 'moazzam.khoja@enron.com', 'mobleypa@bipc.com', 'mog.heu@enron.com', 'mollie.gustafson@enron.com', 'molly.harris@enron.com', 'molly.johnson@enron.com', 'molly.lafuze@enron.com', 'molly.magee@enron.com', 'molly.sample@enron.com', 'molly.sumrow@enron.com', 'molly_sample@eott.com', 'mollycoffin@hotmail.com', 'mona.petrochko@enron.com', 'monica.clay@enron.com', 'monica.hwang@enron.com', 'monica.lande@enron.com', 'monica.reasoner@enron.com', 'monica.richards@enron.com', 'monika.causholli@enron.com', 'monika.mckay@enron.com', 'monique.sanchez@enron.com', 'monte.jones@enron.com', 'moore@enron.com', 'morela.hernandez@enron.com', 'morgan.gottsponer@enron.com', 'morisjr@selectenergy.com', 'morning@ino.com', 'morpheus@inyouremail.com', 'morris.brassfield@enron.com', 'morris.clark@enron.com', 'morris@enron.com', 'morrisjhd@aol.com', 'moshuffle@hotmail.com', 'mpatronella@williamsbailey.com', 'mpiekos@academicplanet.com', 'mpieniazek@nyiso.com', 'mpierce446@aol.com', 'mr@michaelrosenfeldglry.com', 'mreese@cmsenergy.com', 'mreid@socalgas.com', 'mrensink@riskcare.com', 'mreuter@kslaw.com', 'mrgelnett@nyseg.com', 'mrha@enron.com', 'mrmslane@aol.com', 'mroger3@entergy.com', 'mrslinda@lplpi.com', 'mrudula.gadade@enron.com', 'mryantaber@nyiso.com', 'msagel@home.com', 'mschaefer@nymex.com', 'msheehan@adventis.com', 'msimpkins@winstead.com', 'msipe@conninc.com', 'msmith@sapient.com', 'mspradling@velaw.com', 'msternberg@aeglobalmarkets.com', 'mswadmin@elpaso.com', 'mtaylor587@aol.com', 'mtelle@velaw.com', 'muaa@mizzou.com', 'mukesh_bajaj@lecg.com', 'mukunah@winstim.com', 'mullinsl@gtlaw.com', 'munder_weekly@blast.com', 'murielmcfarling@akllp.com', 'murli.nagwani@enron.com', 'murphy@investorplace.com', 'murphymicha@coned.com', 'mustafa.cochinwala@enron.com', 'mvianna@tradespark.com', 'mwilczek@nyiso.com', 'mwilson@pstrategies.com', 'mwoita@home.com', 'mwomack@tristargas.com', 'mwood@stoel.com', 'mwright@prebon.com', 'myates@paradigmgeo.com', 'myorder@landsend.com', 'myrecords@etrade.com', 'myrna.salinas@enron.com', 'mytractor@yahoo.com', 'mzeleanor@juno.com', 'nadine.costanzo@enron.com', 'nagill@hotmail.com', 'nagwa.elkachouty@enron.com', 'nailia.dindarova@enron.com', 'namuathome@aol.com', 'nan.whatley@enron.com', 'nancy.bagot@dynegy.com', 'nancy.bagot@enron.com', 'nancy.bastida@enron.com', 'nancy.callans@enron.com', 'nancy.carpenter@enron.com', 'nancy.hernandez@enron.com', 'nancy.hetrick@enron.com', 'nancy.hilton@enron.com', 'nancy.morales@enron.com', 'nancy.muchmore@enron.com', 'nancy.oehring@enron.com', 'nancy.sellers@robertmondavi.com', 'naomi.bourg@enron.com', 'naomi.connell@enron.com', 'napedersen@jonesday.com', 'naquinscott@yahoo.com', 'narsimha.misra@enron.com', 'natalie.bondareva@enron.com', 'natalie.wells@enron.com', 'natalie@layfamily.com', 'natbond@lycos.com', 'nateken@aol.com', 'naveed.ahmed@enron.com', 'naveen.andrews@enron.com', 'navellier@investorplace.com', 'navigator@columbiaenergygroup.com', 'navigator@nisource.com', 'nbartlo@columbiaenergygroup.com', 'nbutler@susmangodfrey.com', 'nco1@pge.com', 'ncunningham@mclarty.com', 'neal.gerstandt@enron.com', 'neale@enron.com', 'ned.higgins@enron.com', 'nedre.strambler@enron.com', 'neil.bresnan@enron.com', 'neil.davies@enron.com', 'neil.leininger@enron.com', 'neil.tarling@enron.com', 'neil@kelley.com', 'nell.browning@enron.com', 'nella.cappelletto@enron.com', 'nelson.ferries@enron.com', 'nelson.neale@enron.com', 'neubauer@enron.com', 'new@ticketsupport.com', 'newgallery@sprynet.com', 'news@completecrafts.com', 'news@eyeforenergy.com', 'news@framesd.com', 'news@gossipflash.com', 'news@luxurylink.com', 'news@neteller.com', 'news@oxfordprinceton.com', 'news@prosrm.com', 'news@rciinfo.com', 'newsletter@ashford.com', 'newsletter@hickoryfarms.com', 'newsletter@investorama.com', 'newsletter@paperloop.com', 'newsletter@quickinspirations.com', 'newsletter@rigzone.com', 'newsletter@sunfinder.com', 'newsletters@123jump.com', 'newsletters@fansonly.com', 'nhernandez@cera.com', 'nicholas.warner@enron.com', 'nicholechristoph@yahoo.com', 'nicholle.henry@enron.com', 'nick.cocavessis@enron.com', 'nick.elms@enron.com', 'nick.hiemstra@enron.com', 'nick.mooney@enron.com', 'nick.moshou@enron.com', 'nick.politis@enron.com', 'nick.west@linklaters.com', 'nicki.daw@enron.com', 'nicola.beales@enron.com', 'nicole.alvino@enron.com', 'nicole.cortez@enron.com', 'nicole.hunter@enron.com', 'nicole.la@enron.com', 'nicole.laporte@enron.com', 'nicole.lauzier@enron.com', 'nicole.mendez@enron.com', 'nicole.palczer@enron.com', 'nicole.pineda@enron.com', 'nicole.schwartz@enron.com', 'nicole.scott@enron.com', 'nidia.mendoza@enron.com', 'nidllc@aol.com', 'nikep@edelmanmexico.com', 'nikita.varma@enron.com', 'nikki.johnson@enron.com', 'nikole.jackson@enron.com', 'nikole.vander@enron.com', 'nina.edmonds@enron.com', 'nina.garcia@enron.com', 'nita.garcia@enron.com', 'nkelley@tqcap.com', 'nmann@erac.com', 'nmanne@susmangodfrey.com', 'nmiyagi@reedwasden.com', 'no.address@enron.com', 'nobody@sfgate.com', 'noel.petterson@enron.com', 'noel.ryan@enron.com', 'nony.flores@enron.com', 'nora.dobin@enron.com', 'norma.petry@enron.com', 'norma.tidrow@enron.com', 'norma.villarreal@enron.com', 'norman.lee@enron.com', 'norman.levine@enron.com', 'norman_a._pedersen@jonesday.com', 'nosheen.ali@enron.com', 'novellnetware@bdcimail.com', 'novspecials@ino.com', 'npickover@bracepatt.com', 'nshaw@usenergyservices.com', 'nthomas@utilicorp.com', 'ntillett@reliant.com', 'ntrask@pwrteam.com', 'nwodka@bracepatt.com', 'nxb@allegrodevelopment.com', 'nyadmin@intcx.com', 'nyfeders@msn.com', 'nyree.chanaba@enron.com', 'nytasha.sims@dynegy.com', 'nytdirect@nytimes.com', 'oasis502@apsc.com', 'oasissuport@entergy.com', 'oasissupport@entergy.com', 'oasissvcs@apsc.com', 'oatu@dynegy.com', 'office.chairman@enron.com', 'officename1234@aol.com', 'ofotofocus@ofoto.com', 'ofsrep.wfwgw@wellsfargo.com', 'ohaseeb@ustcs.com', 'omaha.helpdesk@enron.com', 'onica.lewis@enron.com', 'online.customerservice@wellsfargo.com', 'online.service@schwab.com', 'onlinebill@swbell.com', 'operations5@etoyotas.com', 'operations@paypal.com', 'opinionjournal@wsj.com', 'ora_l._ash@dom.com', 'ordercenter@radioshack.com', 'orderdetails@buy.com', 'orderreply@patagonia.com', 'orders@acteva.com', 'orders@amazon.com', 'orders@imagestation.com', 'orderwatch@dell.com', 'orjan.agdesteen@enron.com', 'orlando.gonzalez@enron.com', 'orshefskyd@gtlaw.com', 'orsi@tconl.com', 'oscar.dalton@enron.com', 'oscar.rivera@enron.com', 'oshaugws@bp.com', 'osman.sezgen@enron.com', 'osmdirector@yahoo.com', 'ospbc@egroups.com', 'otto@fool.com', 'ourternrbb@aol.com', 'outbidnotice@ebay.com', 'outlook.team@enron.com', 'oxley@enron.com', 'ozlem.mahmood@enron.com', 'ozzie.pagan@enron.com', 'pablo.acevedo@arnet.com', 'paige.cox@enron.com', 'paige.grumulaitis@enron.com', 'pallavi.goradia@enron.com', 'pallen70@hotmail.com', 'palmer.letzerich@enron.com', 'pam.becton@enron.com', 'pam.benson@enron.com', 'pam.butler@enron.com', 'pam.metoyer@enron.com', 'pam.wilson@enron.com', 'pam_macaul@bmc.com', 'pamela.carter@enron.com', 'pamela.chambers@enron.com', 'pamela.daily@enron.com', 'pamela.lesh@enron.com', 'pamela.milano@enron.com', 'pamela.perry@enron.com', 'paramfjord@stoel.com', 'park.account@enron.com', 'parker.janice@epenergy.com', 'parking.transportation@enron.com', 'participateinfo@postfuture.com', 'partner_announcements@mp3.com', 'pat.anderson@southernunionco.com', 'pat.clynes@enron.com', 'pat.jefferson@enron.com', 'pat.johnson@enron.com', 'pat.radford@enron.com', 'pat.scarborough@enron.com', 'pat.scatena@intel.com', 'pat.shortridge@enron.com', 'patrice.mims@enron.com', 'patricia.cini@enron.com', 'patricia.henry@enron.com', 'patricia.hunter@enron.com', 'patricia.lee@enron.com', 'patricia.rivera@enron.com', 'patricia.tlapek@enron.com', 'patricia.villalobos@enron.com', 'patricia.wiederholt@enron.com', 'patricia_cuero@dell.com', 'patrick.brennan@enron.com', 'patrick.cagney@enron.com', 'patrick.conner@enron.com', 'patrick.hanse@enron.com', 'patrick.hansen@enron.com', 'patrick.johnson@enron.com', 'patrick.keene@enron.com', 'patrick.maloy@enron.com', 'patrick.mulvany@enron.com', 'patrick.ryder@enron.com', 'patrick.tucker@enron.com', 'patrick.wade@enron.com', 'patrickalan@compuserve.com', 'patrycja.dalecka@destia.com', 'patti.sullivan@enron.com', 'patti.thompson@enron.com', 'patti.ucci@enron.com', 'patty.donahue@chase.com', 'paty1040@aol.com', 'paul.bieniawski@enron.com', 'paul.burgener@enron.com', 'paul.canha@enron.com', 'paul.cherry@enron.com', 'paul.chivers@enron.com', 'paul.choi@enron.com', 'paul.couvillon@enron.com', 'paul.darmitzel@enron.com', 'paul.dawson@enron.com', 'paul.devries@enron.com', 'paul.donnelly@bakeratlas.com', 'paul.drexelius@cinergy.com', 'paul.finken@enron.com', 'paul.garcia@enron.com', 'paul.goddard@enron.com', 'paul.gregory@enron.com', 'paul.henking@enron.com', 'paul.hennemeyer@enron.com', 'paul.jordan@enron.com', 'paul.kane@enron.com', 'paul.kaufman@enron.com', 'paul.leanza@enron.com', 'paul.lebeau@enron.com', 'paul.lewis@enron.com', 'paul.lucci@enron.com', 'paul.miller@enron.com', 'paul.parrish@enron.com', 'paul.pfeffer@bakerbotts.com', 'paul.pizzolato@enron.com', 'paul.puchot@enron.com', 'paul.quilkey@enron.com', 'paul.racicot@enron.com', 'paul.radous@enron.com', 'paul.rice@pacificorp.com', 'paul.schiavone@enron.com', 'paul.simons@enron.com', 'paul.smith@enron.com', 'paul.stehr@standardregister.com', 'paul.thomas@enron.com', 'paul.trieschman@enron.com', 'paul.waine@enron.com', 'paul_jonathan_thomas@yahoo.com', 'paula.corey@enron.com', 'paula.forsyth@enron.com', 'paula.harris@enron.com', 'paula.hix@enron.com', 'paula.lee@enron.com', 'paula.rieker@enron.com', 'paulette.obrecht@enron.com', 'pauline.brady@enron.com', 'pauljudy82@cs.com', 'paulo.issler@enron.com', 'pavel.zadorozhny@enron.com', 'payables.ibuyit@enron.com', 'payroll.enron@enron.com', 'pbragan@luntz.com', 'pbrandt@lrci.com', 'pbristow@riskwaters.com', 'pbsp@feargreed.com', 'pbukowski@acex.com', 'pclark@alleghenyenergy.com', 'pdrexel@columbiaenergygroup.com', 'pederleifkjeseth@hotmail.com', 'peggy.alix@enron.com', 'peggy.banczak@enron.com', 'peggy.determeyer@enron.com', 'peggy.hedstrom@enron.com', 'peggy.mahoney@enron.com', 'peggy.mccurley@enron.com', 'peitulsa@aol.com', 'penny.mccarran@enron.com', 'people@venturewire.com', 'per.sekse@enron.com', 'perfmgmt@enron.com', 'perry.frazier@enron.com', 'perry.roberts@enron.com', 'pete.davis@enron.com', 'pete.gohm@enron.com', 'pete.heintzelman@enron.com', 'pete.mccormick@enron.com', 'peter.bennett@enron.com', 'peter.berger@enron.com', 'peter.berzins@enron.com', 'peter.blackmore@compaq.com', 'peter.bray@enron.com', 'peter.crilly@enron.com', 'peter.del@enron.com', 'peter.esposito@dynegy.com', 'peter.feltman@enron.com', 'peter.goebel@enron.com', 'peter.hoyt@enron.com', 'peter.keavey@enron.com', 'peter.keohane@enron.com', 'peter.makkai@enron.com', 'peter.scantalides@aspentech.com', 'peter.styles@enron.com', 'peter.traung@enron.com', 'peter.vecchio@enron.com', 'peter.weidler@enron.com', 'peterthompson@akllp.com', 'petroleumworldnews11@hotmail.com', 'petroleumworldnews1@hotmail.com', 'pfranz@lehman.com', 'pfrayne@aol.com', 'pgarlinger@rcocpa.com', 'pgboylston@stoel.com', 'pgerman@ong.com', 'pgg4@pge.com', 'pgraff@reliantenergy.com', 'pgriffin@site59.com', 'pgroetzinger@brentbroker.com', 'pham.arnold@enron.com', 'phil.demoes@enron.com', 'phil.lowry@enron.com', 'phil.polsky@enron.com', 'philip.davies@enron.com', 'philip.mayor@enron.com', 'philip.polsky@enron.com', 'philippe.bibi@enron.com', 'philippe.giguere@enron.com', 'philippe.penet@enron.com', 'phillip.allen@enron.com', 'phillip.love@enron.com', 'phillip.platter@enron.com', 'phillip.randle@enron.com', 'phillip.taylor@enron.com', 'phillip_fantle@cargill.com', 'phillips@enron.com', 'phototalk@shopwolfcamera.com', 'phyllis.fuller@enron.com', 'pichitphon.eammongkolchai@linklaters.com', 'pierre.aury@enron.com', 'pilar.ramirez@enron.com', 'pinnamaneni.krishnarao@enron.com', 'pinto.leite@enron.com', 'piper.cole@sun.com', 'piro@enron.com', 'pixxxievixxxen@aol.com', 'pj@austingrp.com', 'pjamea@aol.com', 'pjpowerlaw@aol.com', 'pkdaigle@neosoft.com', 'pkginfo@ups.com', 'pksinghji@hotmail.com', 'pkuykendall@wm.com', 'pla@marval.com', 'plemme@nyiso.com', 'plove570@cs.com', 'plove@enron.com', 'pma@powermarketers.com', 'pmadison@lexfurniture.com', 'pmains@n2h2.com', 'pmar@mofo.com', 'pmclaughlin@aep.com', 'pmelera@calpine.com', 'pmeringolo@brobeck.com', 'pmodlin@fbm.com', 'pmohler@hewm.com', 'port@enron.com', 'postke755@yahoo.com', 'postmaster@choiceenergy.com', 'postmaster@deloitte.com', 'postmaster@enron.com', 'postmaster@epelectric.com', 'postmaster@fullenweider.com', 'postmaster@lawseminars.com', 'postmaster@marval.com', 'postmaster@oceanicrealty.com', 'postmaster@pwcglobal.com', 'postmaster@tfsbrokers.com', 'postmaster@ucarb.com', 'postmaster@uschamber.com', 'postoffice@bluemountain.com', 'powerprices@amerexenergy.com', 'poxford@bracepatt.com', 'ppantano@mwe.com', 'pperezalonso@rhm.com', 'ppmsvcmg@passport.com', 'ppryzant@chematch.com', 'pr.id@enron.com', 'prashant.bhairgond@enron.com', 'preilly@velaw.com', 'press.release@enron.com', 'presto@enron.com', 'prestojj@aol.com', 'preston.ochsner@enron.com', 'preston.roobaert@enron.com', 'primlmates@aol.com', 'prior15@home.com', 'priscilla.hamic@enron.com', 'priya.jaisinghani@enron.com', 'pro@venturewire.com', 'productreview@bdcimail.com', 'project.gem@enron.com', 'promotions@sportingbetusa.com', 'promotions@usairways.com', 'prosica@lehman.com', 'prosnews@prosrm.com', 'pspk@yahoo.com', 'pthompson@akllp.com', 'public.relations@enron.com', 'pugezmum@aol.com', 'pulhamus@aol.com', 'punit.rawal@enron.com', 'purvi.patel@enron.com', 'pushkar.shahi@enron.com', 'pverleger@compuserve.com', 'pvillag@columbiaenergygroup.com', 'pwareing@aol.com', 'pwhobby@hobbycomm.com', 'pyoung@cliverunnells.com', 'qiana.nolly@enron.com', 'queen28cmh@aol.com', 'quelnunes@hotmail.com', 'questions@dillards.com', 'quicknewsmail@cnn.com', 'rab9@pge.com', 'rab@beggslane.com', 'rabi.de@enron.com', 'rabi.sahoo@enron.com', 'racer91@aol.com', 'rachel.cady@enron.com', 'rachel.crowell@enron.com', 'rae.meadows@enron.com', 'raetta.zadow@enron.com', 'rafael.rangel@enron.com', 'ragan.bond@enron.com', 'ragayle.pellum@enron.com', 'rahil.jafry@enron.com', 'rahul.seksaria@enron.com', 'raimund.grube@enron.com', 'rainier.cockrell@enron.com', 'rainj@tklaw.com', 'raislerk@sullcrom.com', 'raj.mahajan@kiodex.com', 'raj.thapar@enron.com', 'rajaram.jamadagni@enron.com', 'rajen.shah@enron.com', 'rajneesh.salhotra@enron.com', 'rajneeshsalhotra@yahoo.com', 'rakesh.bharati@enron.com', 'rakhi.israni@enron.com', 'ralph.blakemore@enron.com', 'ralph@censtrat.com', 'ram7@pge.com', 'ramanarao.tamma@enron.com', 'ramesh.rao@enron.com', 'ramon.pizarro@enron.com', 'ramona.betancourt@enron.com', 'ramona.perkins@enron.com', 'ramona.rodriguez@enron.com', 'ranabir.dutt@enron.com', 'randa.karkour@compaq.com', 'randal.maffett@enron.com', 'randall.curry@enron.com', 'randall.gay@enron.com', 'randel.dalgleish@enron.com', 'randimc@aol.com', 'randy.bhatia@enron.com', 'randy.bryan@enron.com', 'randy.janzen@enron.com', 'randy.lebeau@enron.com', 'randy.lord@enron.com', 'randy.otto@enron.com', 'randy.pais@enron.com', 'randy.petersen@enron.com', 'randy.young@enron.com', 'randy_hoyle@fpl.com', 'ranelle.paladino@enron.com', 'raquel.buentello@enron.com', 'ras1119@hotmail.com', 'rastin@velaw.com', 'ratewatch@eloan.com', 'raustin@alleghenypower.com', 'ravi.thuraisingham@enron.com', 'ray.alvarez@enron.com', 'ray.noseff@enron.com', 'ray.stelly@enron.com', 'raymond.bowen@enron.com', 'raymond.depillo@pseg.com', 'raymond.yeow@enron.com', 'raymond@enron.com', 'rbaird@velaw.com', 'rbhattacharya@velaw.com', 'rbillbrough@yahoo.com', 'rbowers@nyiso.com', 'rboyle@nyiso.com', 'rbw@mrwassoc.com', 'rbweis@dnai.com', 'rcarroll@bracepatt.com', 'rch8@pge.com', 'rcjosephson@stoel.com', 'rcosentino@milbank.com', 'rdonoghue@mphlegal.com', 'reactions@euromoneyplc.com', 'reactions@reactionsnet.com', 'ready2go@enron.com', 'reagan.mathews@enron.com', 'reagan.rorschach@enron.com', 'rebecca.bell@enron.com', 'rebecca.cantrell@enron.com', 'rebecca.carter@enron.com', 'rebecca.fite@enron.com', 'rebecca.grace@enron.com', 'rebecca.griffin@enron.com', 'rebecca.mcdonald@enron.com', 'rebecca.miles@enron.com', 'rebecca.phillips@enron.com', 'rebecca.quenet@eds.com', 'rebecca.sanchez@enron.com', 'rebecca.serwin@enron.com', 'rebecca.torres@enron.com', 'rebecca.walker@enron.com', 'rebecca.watkins@enron.com', 'rebekah.rushing@enron.com', 'reedc@coned.com', 'reese.trejo@enron.com', 'reetzr@gtlaw.com', 'referrals@referrals.com', 'reg@ebay.com', 'regan.grice@wachovia.com', 'regan.smith@enron.com', 'reggie.stotts@enron.com', 'regina.blackshear@enron.com', 'regina.karsolich@enron.com', 'regina.perkins@enron.com', 'reginald.hart@enron.com', 'register@washingtonpost.com', 'registrar.isc@enron.com', 'registrations@newpower.com', 'reliantenergy@ebillcare.com', 'remi.collonges@enron.com', 'rena.mobley@elpaso.com', 'renata.maziarz@enron.com', 'rene.bisono@enron.com', 'rene.garza@enron.com', 'renee.alfaro@enron.com', 'renee.ingram@enron.com', 'reports@reedwasden.com', 'reservations@goalamo.com', 'reservations@marriott.com', 'resources@enron.com', 'returnaddr659@yahoo.com', 'rewards_newsletter@sportsline.com', 'rex.rogers@enron.com', 'rex.shelby@enron.com', 'reyna.cabrera@enron.com', 'rfranksen@lwsupply.com', 'rgibbs@boldwaterlp.com', 'rgladstein@aol.com', 'rgloistein@orrick.com', 'rglover@halff.com', 'rhackman@lehman.com', 'rharris@credit2b.com', 'rhawki1@epelectric.com', 'rhaygood@darbylaw.com', 'rhett.jackson@enron.com', 'rhonda.denton@enron.com', 'rhonda.smith@enron.com', 'rhoni.glynn@enron.com', 'rhonna.palmer@enron.com', 'rhrabal@tractebelusa.com', 'ricardo.charvel@enron.com', 'ricardo.lisboa@enron.com', 'rice@enron.com', 'rich.dimichele@enron.com', 'rich.jolly@enron.com', 'richard.abramowicz@enron.com', 'richard.amabile@enron.com', 'richard.black@enron.com', 'richard.blandford@enron.com', 'richard.broussard@enron.com', 'richard.burchfield@enron.com', 'richard.causey@enron.com', 'richard.connor@enron.com', 'richard.deming@enron.com', 'richard.dimichele@enron.com', 'richard.dix@gm.com', 'richard.elwood@enron.com', 'richard.friedman@enron.com', 'richard.hanagriff@enron.com', 'richard.hrabal@enron.com', 'richard.ingersoll@enron.com', 'richard.jones@enron.com', 'richard.lammers@enron.com', 'richard.lauer@enron.com', 'richard.lewis@enron.com', 'richard.lydecker@enron.com', 'richard.melton@enron.com', 'richard.pinion@enron.com', 'richard.riehm@enron.com', 'richard.ring@enron.com', 'richard.sage@enron.com', 'richard.sanders@enron.com', 'richard.shapiro@enron.com', 'richard.tomaski@enron.com', 'richard.weeks@enron.com', 'richard.zdunkewicz@enron.com', 'richardson@copn.com', 'rick.antonoff@cwt.com', 'rick.bergsieker@enron.com', 'rick.borden@macleoddixon.com', 'rick.buy@enron.com', 'rick.carson@enron.com', 'rick.cates@enron.com', 'rick.counihan@greenmountain.com', 'rick.dietz@enron.com', 'rick.johnson@enron.com', 'rick.loveless@enron.com', 'rick.sierra@enron.com', 'rick.smith@enron.com', 'rick.suderman@enron.com', 'rick.wadle@southernenergy.com', 'rick.willson@enron.com', 'rick@osubeavers.com', 'rick_krejci@kindermorgan.com', 'rick_suderman@eott.com', 'rickdipersio@yahoo.com', 'ricki.winters@enron.com', 'ricky.ellis@enron.com', 'rickya@calpine.com', 'riddell@iolok.com', 'riddles@riddlesandmore.com', 'rika.imai@enron.com', 'rishi.modi@csfb.com', 'riskmetricsgroup@riskmetrics.com', 'rita.bianchi@enron.com', 'rita.hartfield@enron.com', 'rita.hennessy@enron.com', 'rita.morales@exolink.com', 'rita.wynne@enron.com', 'rivest@gmpvt.com', 'rjl9@pge.com', 'rkampmann@aol.com', 'rkampmann@yahoo.com', 'rking@hess.com', 'rkosecki@mieco.com', 'rlarson@caiso.com', 'rlawrence@milbank.com', 'rleibow@kayescholer.com', 'rlevine@fce.com', 'rlevy@mcguire.com', 'rloeffler@mofo.com', 'rlopezv@lvha.com', 'rmatthews@velaw.com', 'rmcnally@cwo.com', 'rnuschler@akingump.com', 'rnussbaum@lrsolutions.com', 'rob.bradley@enron.com', 'rob.brown@enron.com', 'rob.cole@enron.com', 'rob.cone@enron.com', 'rob.gay@enron.com', 'rob.gennarini@conectiv.com', 'rob.krotee@enron.com', 'rob.milnthorp@enron.com', 'rob.walls@enron.com', 'rob.wheeler@enron.com', 'robary@cs.com', 'robbi.rossi@enron.com', 'robbie.lewis@enron.com', 'robbin.stewart@enron.com', 'robert.aicher@kmz.com', 'robert.allwein@enron.com', 'robert.badeer@enron.com', 'robert.benningfield@enron.com', 'robert.benson@enron.com', 'robert.bruce@enron.com', 'robert.cass@enron.com', 'robert.cothran@enron.com', 'robert.cotten@enron.com', 'robert.crockett@enron.com', 'robert.eickenroht@enron.com', 'robert.frank@enron.com', 'robert.fuller@enron.com', 'robert.george@enron.com', 'robert.gerry@enron.com', 'robert.hayes@enron.com', 'robert.hemstock@enron.com', 'robert.hermann@enron.com', 'robert.hill@enron.com', 'robert.johnston@enron.com', 'robert.jones@enron.com', 'robert.kilmer@enron.com', 'robert.knight@enron.com', 'robert.lloyd@enron.com', 'robert.mason@enron.com', 'robert.neustaedter@enron.com', 'robert.poole@atmosenergy.com', 'robert.quick@enron.com', 'robert.ramirez@enron.com', 'robert.rose@enron.com', 'robert.saltiel@enron.com', 'robert.sevitz@enron.com', 'robert.stalford@enron.com', 'robert.superty@enron.com', 'robert.vote@enron.com', 'robert.walker@enron.com', 'robert.williams@enron.com', 'robert.yeo@enron.com', 'robert_proffitt@kindermorgan.com', 'robert_wheeler@dell.com', 'roberta.staehlin@enron.com', 'roberto.martinez@enron.com', 'roberts@enron.com', 'robin.barbe@enron.com', 'robin.hill@enron.com', 'robin.jordan@enron.com', 'robin.kittel@enron.com', 'robin.rodrigue@enron.com', 'robin.veariel@enron.com', 'robin_zaleski@iroquois.com', 'robot@cigaraficionado.com', 'robr@starsupply.com', 'robrogowski@yahoo.com', 'robtaylor@akllp.com', 'robyn.zivic@enron.com', 'robyn@layfam.com', 'rockford.meyer@enron.com', 'rockhonz@cs.com', 'rod.hayslett@enron.com', 'rod.kennedy@rbc.com', 'rod.nelson@enron.com', 'rod@canion.com', 'roderick.nelson@enron.com', 'rodney.faldyn@enron.com', 'rodney.malcolm@enron.com', 'rodolfo.freyre@enron.com', 'rodrigo.lamas@enron.com', 'rodriguezgm@hotmail.com', 'roger.balog@enron.com', 'roger.pelote@williams.com', 'roger.ponce@enron.com', 'roger.westbrook@enron.com', 'roger.yang@enron.com', 'rogers.herndon@enron.com', 'ron.baker@enron.com', 'ron.coker@enron.com', 'ron.matthews@enron.com', 'ron.nightingale@enron.com', 'ron.nolte@enron.com', 'ron.tapscott@enron.com', 'ronald.brzezinski@enron.com', 'ronald.matthews@enron.com', 'ronald_brown@kindermorgan.com', 'ronk@pennenergy.com', 'ronnie.morse@enron.com', 'ronniem@morgangroup.com', 'rory.calhoun@enron.com', 'rory@carmelnet.com', 'rosalee.fleming@enron.com', 'rosalyn.lum@enron.com', 'rosanna.migliaccio@robertwalters.com', 'rosario.carbone@enron.com', 'rose.liu@moorecap.com', 'roseann.engeldorf@enron.com', 'rosemary.gracey@enron.com', 'rosenthal@heaneyrosenthal.com', 'rosie.castillo@enron.com', 'rositza.smilenova@enron.com', 'ross.koller@enron.com', 'ross.mesquita@enron.com', 'ross.newlin@enron.com', 'ross.prevatt@enron.com', 'ross_berthelot@bankone.com', 'rowleyjanet@hotmail.com', 'roxanne.saldana@enron.com', 'roy.boston@enron.com', 'roy.hartstein@enron.com', 'roy.rodriguez@enron.com', 'rozmusg@coned.com', 'rpacheco@westerngas.com', 'rpearson@oilstates.com', 'rqk65@aol.com', 'rrcs_98@yahoo.com', 'rrich@bracepatt.com', 'rrichards@milbank.com', 'rrlee@bizserve.com', 'rrosenberg@westportdallas.com', 'rrs5@pge.com', 'rrussell@fontheiminternational.com', 'rs1119@aol.com', 'rschlanert@electric.com', 'rschwartz@treesoft.com', 'rstephens@bracepatt.com', 'rtellis@milbank.com', 'rubena.buerger@enron.com', 'ruby.kyser@enron.com', 'rudi.zipter@enron.com', 'rudwell.johnson@enron.com', 'rudy.acevedo@enron.com', 'rudy.sutherland@enron.com', 'rufino.doroteo@enron.com', 'rugdoctor2002@yahoo.com', 'rumaldo.lopez@enron.com', 'rushingmk@surfmk.com', 'russ.porter@enron.com', 'russ.severson@enron.com', 'russell.ballato@enron.com', 'russell.diamond@enron.com', 'russell.dyk@enron.com', 'russell.murrell@enron.com', 'russell.tucker@enron.com', 'russellmurrell@hotmail.com', 'russellt@cottonrestorationinc.com', 'rusty.belflower@enron.com', 'rusty.stevens@enron.com', 'ruth.brown@enron.com', 'ruth.concannon@enron.com', 'ruth.jensen@enron.com', 'ruth.mann@enron.com', 'ruth.schonfeld@macleoddixon.com', 'ruthann.frausto@enron.com', 'rvicens@deltapower.com', 'rvujtech@carrfut.com', 'rweiss@lehman.com', 'rwolkwitz@powermerchants.com', 'ryan.deane@enron.com', 'ryan.donovan@ubsw.com', 'ryan.hinze@enron.com', 'ryan.langan@ripcity.com', 'ryan.ruppert@exxonmobil.com', 'ryan.seleznov@enron.com', 'ryan.sheeren@enron.com', 'ryan.siurek@enron.com', 'ryan.slinger@enron.com', 'ryan.watt@enron.com', 'ryan.williams@enron.com', 'ryanb@gosfgiants.com', 'rykomai@sempra.com', 'sabina@msn.com', 'sabra.dinari@enron.com', 'sabrae.zajac@enron.com', 'sabrina.whaley@enron.com', 'sachin.gandhi@enron.com', 'saeed.raja@enron.com', 'sahamrx@yahoo.com', 'saima.qadir@enron.com', 'sales@tejastoyota.com', 'salleyoo@dwt.com', 'sally.alvarez@enron.com', 'sally.beck@enron.com', 'sally.keepers@enron.com', 'sam.kemp@enron.com', 'sam.romero@enron.com', 'samantha.boyd@enron.com', 'samantha.ferguson@enron.com', 'samantha.law@enron.com', 'samantha_smith@transcanada.com', 'samberkovits@yahoo.com', 'samchawk@aol.com', 'samer.takriti@enron.com', 'sami.arap@enron.com', 'samira.ravagnani@enron.com', 'samon_corinne@jpmorgan.com', 'sample@enron.com', 'samuel.schott@enron.com', 'sande@pira.com', 'sandeep.kohli@enron.com', 'sandi.braband@enron.com', 'sandi_j._thompson@calpx.com', 'sandra.brawner@enron.com', 'sandra.dial@enron.com', 'sandra.freeman@enron.com', 'sandra.lighthill@enron.com', 'sandra.mccubbin@enron.com', 'sandra.mcnichols@enron.com', 'sandra.rodriguez@enron.com', 'sandramcgregor@paulhastings.com', 'sandy.chen@enron.com', 'sandy.hackman@compaq.com', 'sandy.haldeman@enron.com', 'sandy.mccary@enron.com', 'sandy.sheffield@enron.com', 'sandy.stone@enron.com', 'sandy.zhao@enron.com', 'sandyteb@aol.com', 'sangle@velaw.com', 'sanjay.bhatnagar@enron.com', 'sanjay.gupta@enron.com', 'sanjeev.gupta@enron.com', 'sanjeev.khanna@enron.com', 'sanjiv_sidhu@i2.com', 'santiago.garcia@enron.com', 'sap.hotline@enron.com', 'sap.security@enron.com', 'sap_security@enron.com', 'sara.davidson@enron.com', 'sara.shackleton@enron.com', 'sarabeth.smith@enron.com', 'sarah.davis@enron.com', 'sarah.haden@enron.com', 'sarah.mcconnell@compaq.com', 'sarah.novosel@enron.com', 'sarah.palmer@enron.com', 'sarah.reyna@enron.com', 'sarah.taylor@enron.com', 'sarah.walker@excelergy.com', 'sarah.wesner@enron.com', 'sarah.zarkowsky@enron.com', 'sarah_c_buck@hotmail.com', 'sarahberry819@yahoo.com', 'sarahreneehughes@hotmail.com', 'sarita.garza@enron.com', 'sarlowe@tr.com', 'sasha.divelbiss@enron.com', 'sasha.jacob@gpcinternational.com', 'savagep@gtlaw.com', 'savings@overstock.com', 'savita.puthigai@enron.com', 'sbailey@crusescott.com', 'sbardes@nisource.com', 'sbarrick@questia.com', 'sberman@hewm.com', 'sbramlet@utilicorp.com', 'sbreen@czn.com', 'sbuchanan@mwe.com', 'sburke@cera.com', 'sc@alliancerto.com', 'scano@velaw.com', 'scasey@tfsbrokers.com', 'sccobb@srpnet.com', 'scenictx@neosoft.com', 'scenicvu@neosoft.com', 'schernick@bear.com', 'schneider_michael@jpmorgan.com', 'scholarshipdeadlines@fastwebmail.com', 'schwabalerts.marketupdates@schwab.com', 'schwarfa@bp.com', 'schwerdtfegerm@kindermorgan.com', 'sclittlechild@hotmail.com', 'scofer@llgm.com', 'scot.chambers@enron.com', 'scott.abshire@enron.com', 'scott.bolton@enron.com', 'scott.campbell@enron.com', 'scott.coburn@enron.com', 'scott.connelly@mirant.com', 'scott.dieball@enron.com', 'scott.dozier@enron.com', 'scott.earnest@enron.com', 'scott.franck@enron.com', 'scott.gahn@enron.com', 'scott.gardner@enron.com', 'scott.gilchrist@enron.com', 'scott.goodell@enron.com', 'scott.griffin@enron.com', 'scott.healy@enron.com', 'scott.hendrickson@enron.com', 'scott.hibbard@enron.com', 'scott.josey@enron.com', 'scott.laidlaw@enron.com', 'scott.manuel@enron.com', 'scott.maxfield@dynegy.com', 'scott.mills@enron.com', 'scott.monson@enron.com', 'scott.neal@enron.com', 'scott.palmer@enron.com', 'scott.pleus@enron.com', 'scott.reblitz@enron.com', 'scott.salmon@enron.com', 'scott.sefton@enron.com', 'scott.sitter@enron.com', 'scott.stoness@enron.com', 'scott.tackett@enron.com', 'scott.tanner@truequote.com', 'scott.tholan@enron.com', 'scott.vonderheide@enron.com', 'scott.werneburg@enron.com', 'scott@scottpaul.com', 'scott_gardner@pgn.com', 'scott_jones@eott.com', 'scottgovenar@home.com', 'scottiemckeogh@hotmail.com', 'scottsmith@masterword.com', 'scottwl@hotmail.com', 'scotty.gilbert@enron.com', 'sctc@77002.com', 'sdulie12@aol.com', 'sdunn@dlj.com', 'seabron.adamson@frontiereconomics.com', 'sean.black@enron.com', 'sean.boyle@enron.com', 'sean.crandall@enron.com', 'sean.grady@enron.com', 'sean.keenan@enron.com', 'sean.long@enron.com', 'sean.riordan@enron.com', 'sean.yang@enron.com', 'sean.zurbrick@enron.com', 'seanbunk@akllp.com', 'seareel@neosoft.com', 'seckas@cwt.com', 'security.console@enron.com', 'security.sap@enron.com', 'selma.reyna@enron.com', 'serena.bishop@enron.com', 'serena.bishop@merant.com', 'sergai.daigre@enron.com', 'sergio.assad@enron.com', 'sergio.loewenberg@enron.com', 'service@barnesandnoble.com', 'service@dunns.com', 'service@energycentral.com', 'service@etrade.com', 'service@herters.com', 'service@paypal.com', 'sevil.yaman@enron.com', 'sewilliams@mcguirewoods.com', 'sfertitta@haysmcconn.com', 'sfink@knowledgeu.com', 'sfogel@cantor.com', 'sgilles@columbiaenergygroup.com', 'sgm@steelhector.com', 'sgoodel@columbiaenergygroup.com', 'sgovenar@govadv.com', 'sgreenberg@glocap.com', 'sgussett@bracepatt.com', 'sgussett@reliant.com', 'shahnaz.lakho@enron.com', 'shalesh.ganjoo@enron.com', 'shaneyegirl@hotmail.com', 'shanna.boudreaux@enron.com', 'shanna.funkhouser@enron.com', 'shanna.husser@enron.com', 'shannaboudreaux@hotmail.com', 'shannon.adlong@enron.com', 'shannon.daffern@enron.com', 'shannon.groenewold@enron.com', 'shannon.mcpearson@enron.com', 'shannon.rodgers@enron.com', 'shapp@caiso.com', 'sharad.agnihotri@enron.com', 'sharee.payne@compaq.com', 'sharen.cason@enron.com', 'shari.mao@enron.com', 'shari.stack@enron.com', 'shari.wicks@enron.com', 'shari_stack@reliantenergy.com', 'sharon.brown@enron.com', 'sharon.butcher@enron.com', 'sharon.crawford@enron.com', 'sharon.dick@enron.com', 'sharon.farrell@enron.com', 'sharon.killey@enron.com', 'sharon.purswell@enron.com', 'sharon.solon@enron.com', 'sharon@travelpark.com', 'sharonda.stephens@enron.com', 'sharonward@akllp.com', 'sharperimageoffers@sharperimage.com', 'sharpj@dsmo.com', 'sharron.cathey@compaq.com', 'sharron.westbrook@enron.com', 'shase@aesc.com', 'shauncy.mathews@enron.com', 'shawn.anderson@enron.com', 'shawn.cumberland@enron.com', 'shawn.grady@enron.com', 'shawn.kilchrist@enron.com', 'shawn@apbenergy.com', 'shawna.flynn@enron.com', 'shawna.johnson@enron.com', 'shawne@harmony.com', 'shea.mollere@elpaso.com', 'shea_dugger@i2.com', 'sheetal.patel@enron.com', 'sheila.chang@enron.com', 'sheila.glover@enron.com', 'sheila.howard@enron.com', 'sheila.knudsen@enron.com', 'sheila.nacey@enron.com', 'sheila.tweed@enron.com', 'sheila.walton@enron.com', 'sheila_kelly@cdnoxy.com', 'shelby.malkemes@enron.com', 'shelley.corman@enron.com', 'shelley.johnson@enron.com', 'shelly.butler@enron.com', 'shelly.jones@enron.com', 'shelly.mansfield@enron.com', 'shelly.stubbs@enron.com', 'shelly.worrell@enron.com', 'shemeika.landry@enron.com', 'sheminproctor@akllp.com', 'sheri.cromwell@enron.com', 'sheri.luong@enron.com', 'sheri.thomas@enron.com', 'sherlyn.schumack@enron.com', 'sherri.reinartz@enron.com', 'sherri.sera@enron.com', 'sherron.watkins@enron.com', 'sherry.anastas@enron.com', 'sherry.dawson@enron.com', 'sherry.forbish@enron.com', 'sherry@radack.com', 'sherryl.stone@enron.com', 'sheryl.lara@enron.com', 'sheryl_gussett@reliantenergy.com', 'shieldsenron@aol.com', 'shifali.sharma@enron.com', 'shines@gtlaw.com', 'shipping@cdnow.com', 'shirleen.glasin@enron.com', 'shirley.birch@enron.com', 'shirley.crenshaw@enron.com', 'shirley.mcdowell@enron.com', 'shirley.oliver@enron.com', 'shirley.peters@enron.com', 'shirley.tijerina@enron.com', 'shively@enron.com', 'shona.wilson@enron.com', 'shonnie.daniel@enron.com', 'shood@manfinancial.com', 'shouan.tang@enron.com', 'showard@agsk.com', 'showard@milbank.com', 'showtimes@amazon.com', 'showy@lycos.com', 'shubh.shrivastava@enron.com', 'simon.hemsley@enron.com', 'simon.shih@enron.com', 'simone.la@enron.com', 'simone.lewis@enron.com', 'simone.rose@enron.com', 'sitara@enron.com', 'sivakumar.govindasamy@enron.com', 'sjbtu@aol.com', 'skaczenski@velaw.com', 'skelley@bracepatt.com', 'skmaloney@yahoo.com', 'slafontaine@globalp.com', 'slava.brin@chase.com', 'slayerlin@hotmail.com', 'slc.nwpsched@williams.com', 'sloanconsulting@aol.com', 'smaloney@freshlatitudes.com', 'smaloney@worldwrapps.com', 'smester@cwt.com', 'smiller5@cinergy.com', 'smiller@bracepatt.com', 'smith.day@enron.com', 'smith@enron.com', 'smitsh@akllp.com', 'smitter@smitter.com', 'smmayers@attbi.com', 'smmayers@home.com', 'sneal12@mindspring.com', 'snoonan@intergen.com', 'soblander@carrfut.com', 'socrskibum@aol.com', 'soldbydj@aol.com', 'soma.ghosh@enron.com', 'sonderfan@hotmail.com', 'sonia.hennessy@enron.com', 'sonia.perez@enron.com', 'sonnet.edmonds@mirant.com', 'sonya.johnson@enron.com', 'sophie.kingsley@enron.com', 'sophie.martin@enron.com', 'sophiedavenport@hotmail.com', 'souad.mahmassani@enron.com', 'spatti@ensr.com', 'special@flowgo.com', 'specialoffers@iexpect.com', 'specialoffers@stoneage.com', 'specials@fitrx.com', 'specs@wineisit.com', 'speterson@seade.com', 'spierce@uss.com', 'sportsline_newsletters@sportsline.com', 'spowers@nyiso.com', 'sproctor@akllp.com', 'sryan@aesc.com', 'sryerson@nui.com', 'sscott5@enron.com', 'ssher5dun@aol.com', 'ssmgranmayeh@msn.com', 'sstack@reliant.com', 'ssusman@susmangodfrey.com', 'stacey.bolton@enron.com', 'stacey.burnett@enron.com', 'stacey.dempsey@enron.com', 'stacey.neuweiler@enron.com', 'stacey.richardson@enron.com', 'stacey.vallejo@enron.com', 'stacey.wales@enron.com', 'stacey.white@enron.com', 'staci.holtzman@enron.com', 'stacy.dickson@enron.com', 'stacy.guidroz@enron.com', 'stacy.runswick@enron.com', 'stacy.walker@enron.com', 'staff@energyjobsnetwork.com', 'stanford.lin@reuters.com', 'stanley.cocke@enron.com', 'stanley.farmer@enron.com', 'stanley.horton@enron.com', 'stanmarek@marekbros.com', 'starting@ameritrade.com', 'status_updates@concureworkplace.com', 'staylor@sde.com', 'steepsavers@vailresorts.com', 'steffes@enron.com', 'steinunn.thordardottir@enron.com', 'stella.chan@enron.com', 'stella.morris@enron.com', 'stelzer@aol.com', 'stephane.brodeur@enron.com', 'stephanie.cody@enron.com', 'stephanie.erwin@enron.com', 'stephanie.gardner@enron.com', 'stephanie.gomes@enron.com', 'stephanie.harris@enron.com', 'stephanie.hopkins@enron.com', 'stephanie.mcginnis@enron.com', 'stephanie.miller@enron.com', 'stephanie.olszewski@enron.com', 'stephanie.panus@enron.com', 'stephanie.piwetz@enron.com', 'stephanie.segura@enron.com', 'stephanie.sever@enron.com', 'stephanie.strong@enron.com', 'stephanie.summers@enron.com', 'stephanie.taylor@enron.com', 'stephanie.truss@enron.com', 'stephen.abbanat@enron.com', 'stephen.allen@enron.com', 'stephen.bennett@enron.com', 'stephen.brown@rbcdain.com', 'stephen.burns@enron.com', 'stephen.douglas@enron.com', 'stephen.dowd@enron.com', 'stephen.evans@enron.com', 'stephen.perich@enron.com', 'stephen.plauche@enron.com', 'stephen.schwarz@enron.com', 'stephen.schwarzbach@enron.com', 'stephen.stock@enron.com', 'stephen.swain@enron.com', 'stephen.swisher@enron.com', 'stephen.thome@enron.com', 'stephen.wood@enron.com', 'stephen_kruft@swissre.com', 'stephenc@manfinancial.com', 'steve.beck@enron.com', 'steve.cinelli@enron.com', 'steve.duffy@enron.com', 'steve.gilbert@enron.com', 'steve.gillespie@enron.com', 'steve.hall@enron.com', 'steve.hooser@enron.com', 'steve.hotte@enron.com', 'steve.howarth@bea.com', 'steve.irvin@enron.com', 'steve.iyer@enron.com', 'steve.jackson@enron.com', 'steve.january@enron.com', 'steve.jernigan@enron.com', 'steve.kim@enron.com', 'steve.kirk@enron.com', 'steve.kleb@enron.com', 'steve.klimesh@enron.com', 'steve.lafontaine@bankofamerica.com', 'steve.leppard@enron.com', 'steve.mccarrel@enron.com', 'steve.montovano@enron.com', 'steve.nagy@enron.com', 'steve.nat@enron.com', 'steve.olinde@enron.com', 'steve.pearlman@enron.com', 'steve.pruett@enron.com', 'steve.ross@enron.com', 'steve.schneider@enron.com', 'steve.stock@enron.com', 'steve.swain@enron.com', 'steve.thomas@enron.com', 'steve.van@enron.com', 'steve.venturatos@enron.com', 'steve.walton@enron.com', 'steve.wang@enron.com', 'steve.weller@enron.com', 'steve.wood@enron.com', 'steve.young@enron.com', 'steven.bailey@enron.com', 'steven.curlee@enron.com', 'steven.ehrig@enron.com', 'steven.fisher@enron.com', 'steven.harris@enron.com', 'steven.january@enron.com', 'steven.kean@enron.com', 'steven.kessler@db.com', 'steven.krimsky@enron.com', 'steven.leppard@enron.com', 'steven.luong@enron.com', 'steven.merris@enron.com', 'steven.south@enron.com', 'steven@iepa.com', 'steven_t_sweet@calpx.com', 'stevenc@pandaenergy.com', 'stevet@amerexenergy.com', 'stewart.rosman@enron.com', 'stewart.seeligson@enron.com', 'stewart@mallia.com', 'sthompson47@hotmail.com', 'stinson.gibner@enron.com', 'stock.alert@crmems.com', 'stocktalk@netstocks.com', 'storage@bdcimail.com', 'stouchstone@natsource.com', 'stoverron1@aol.com', 'stp@sierratradingpost.com', 'strat_alert@hotmail.com', 'strawberry29@juno.com', 'stu.staley@enron.com', 'stuart.fieldhouse@enron.com', 'stuart.ogg@weil.com', 'stuart.sheldrick@enron.com', 'stuart.staley@enron.com', 'stuart.zisman@enron.com', 'stuart@friedwire.com', 'stuartw17@hotmail.com', 'stubblefield@enron.com', 'subscriptions@intelligencepress.com', 'sue.ford@enron.com', 'sue.frusco@enron.com', 'sue.neville@enron.com', 'sue.nord@enron.com', 'sue.vasan@enron.com', 'sue.wadsworth@enron.com', 'suew2@aol.com', 'suhernan@llgm.com', 'sumitb23@hotmail.com', 'suneet.sharma@enron.com', 'sunita.katyal@enron.com', 'sunitha.kongara@enron.com', 'sunjay.arya@enron.com', 'supatgiat@enron.com', 'support@clubphoto.com', 'support@datek.com', 'support@hotwire.com', 'support@newpower.com', 'support@sportsline.com', 'suresh.raghavan@enron.com', 'surfn.go@americawest.com', 'suryan.simunovic@enron.com', 'susan.amador@enron.com', 'susan.bailey@enron.com', 'susan.bellinghausen@enron.com', 'susan.carrera@enron.com', 'susan.elledge@enron.com', 'susan.fallon@enron.com', 'susan.fernandez@enron.com', 'susan.flynn@enron.com', 'susan.garcia@enron.com', 'susan.hadix@elpaso.com', 'susan.hadix@enron.com', 'susan.harrison@enron.com', 'susan.hopkinson@lovells.com', 'susan.landwehr@enron.com', 'susan.lindberg@enron.com', 'susan.lopez@enron.com', 'susan.mara@enron.com', 'susan.mayher@elpaso.com', 'susan.musch@enron.com', 'susan.pereira@enron.com', 'susan.ralph@enron.com', 'susan.rance@enron.com', 'susan.runkel@enron.com', 'susan.scott@enron.com', 'susan.skarness@enron.com', 'susan.smith@enron.com', 'susan.trevino@enron.com', 'susan.wadle@enron.com', 'susan.wimberley@enron.com', 'susan.worthen@enron.com', 'susan_j_neel@reliantenergy.com', 'susan_m_scott@hotmail.com', 'susan_s_edwards@yahoo.com', 'susanc@katzlaw.com', 'susanchow@paulhastings.com', 'susie.wilson@enron.com', 'susie_lejune@kindermorgan.com', 'suzanna.strangmeier@ipgdirect.com', 'suzanne.adams@enron.com', 'suzanne.brown@enron.com', 'suzanne.calcagno@enron.com', 'suzanne.christiansen@enron.com', 'suzanne.danz@enron.com', 'suzanne.franco@enron.com', 'suzanne.kelly@enron.com', 'suzanne.nicholie@enron.com', 'suzanne.vann@enron.com', 'suzanne_nimocks@mckinsey.com', 'suzannepepe@paulhastings.com', 'suzette.emmons@enron.com', 'svarga@kudlow.com', 'swalker2@csc.com', 'swatson@socalgas.com', 'sweepsclub@sweepsclub.com', 'sweetdeals@streetmail.com', 'swf5@pge.com', 'swhyte@mindspring.com', 'swilliams@iconconsultants.com', 'swl@winelibrary.com', 'swoasis@srpnet.com', 'syamane@marathon-com', 'sybille.lilienthal@enron.com', 'sylvia.campos@enron.com', 'sylvia.hu@enron.com', 'sylvia.sauseda@enron.com', 'sylvia.thomas@enron.com', 'syntrade@hotmail.com', 'syoung@bracepatt.com', 'system.administrator@enron.com', 'syw1@pge.com', 'tabish.rizvi@capco.com', 'tackleshop1@eangler.com', 'taffy.milligan@enron.com', 'tajmajulie@aol.com', 'tallen@mclarty.com', 'tamara.black@enron.com', 'tamara.carter@enron.com', 'tamara.davis@enron.com', 'tamara.howarth@blakes.com', 'tamara.johnson@enron.com', 'tamika.hebert@enron.com', 'tammi.depaolis@enron.com', 'tammie.schoppe@enron.com', 'tammy.anderson@enron.com', 'tammy.barta@enron.com', 'tammy.jaquet@enron.com', 'tammy.kovalcik@enron.com', 'tammy.shepperd@enron.com', 'tana.cashion@enron.com', 'tana.jones@enron.com', 'tangie.dykes@enron.com', 'tani.nath@enron.com', 'tantra.invedy@enron.com', 'tanya.rohauer@enron.com', 'tanya.tamarchenko@enron.com', 'tara.piazze@enron.com', 'tara.rafter@enron.com', 'tara.rozen@enron.com', 'tara.soyal@enron.com', 'tara.sweitzer@enron.com', 'tarawayne@hotmail.com', 'taria.reed@enron.com', 'tasha.lair@enron.com', 'taylor@enron.com', 'tazzato@keyspanenergy.com', 'tb.exnet@erols.com', 'tbockius@aol.com', 'tbrassard@hhsi.com', 'tbuffington@hollandhart.com', 'tchristensen@anpower.com', 'tco_commercial_services@nisource.com', 'tconstan@llgm.com', 'tcssunsurvey@burke.com', 'tcy@travelocity.com', 'tdelelli@westerngas.com', 'tdickers@westerngas.com', 'team.cunningham@enron.com', 'team.flagstaff@enron.com', 'team@gradfinder.com', 'teb.lokey@enron.com', 'technology.enron@enron.com', 'ted.bland@enron.com', 'ted.bockius@ivita.com', 'ted.chavez@enron.com', 'ted.evans@enron.com', 'ted.leh@gs.com', 'ted.murphy@enron.com', 'ted.noble@enron.com', 'tedchin@hotmail.com', 'teiglandl@sullcrom.com', 'tenacity94@yahoo.com', 'tera.moss@enron.com', 'terence.thorn@enron.com', 'teresa.bien@enron.com', 'teresa.bosien@enron.com', 'teresa.bushman@enron.com', 'teresa.callahan@enron.com', 'teresa.mandola@enron.com', 'teresa.mcomber@enron.com', 'teresa.mihalik@enron.com', 'teresa.rascon@enron.com', 'teresa.smith@enron.com', 'teresa.wood@enron.com', 'teresa.wright@enron.com', 'teri.ashley@enron.com', 'teri.whitcomb@enron.com', 'terrell.benke@enron.com', 'terri.austin@enron.com', 'terri.bachand@enron.com', 'terri.clynes@enron.com', 'terri.greenlee@enron.com', 'terri.hamby@elpaso.com', 'terri.harlan@enron.com', 'terri.miller@enron.com', 'terri_l_ponce_de_leon@calpx.com', 'terrie.james@enron.com', 'terrie.wheeler@enron.com', 'terry.kowalke@enron.com', 'terry.lehn@enron.com', 'terry.sanvido@enron.com', 'terry.west@enron.com', 'tess.ray@enron.com', 'tess133@123india.com', 'tfr@browndrew.com', 'tgarza@onr.com', 'tgh09998cf@restructuringtoday.com', 'tgh4@pge.com', 'tgorski@madisonenergy.com', 'tgroup@compaq.com', 'thackett@ensr.com', 'thailu@ercot.com', 'thane.twiggs@enron.com', 'thanks@amazon.com', 'tharsilla.broussard@enron.com', 'the.buzz@enron.com', 'theindividualinvestor@tdwaterhouse.com', 'thejulles@msn.com', 'themarshalls1@hotmail.com', 'theresa.brogan@enron.com', 'theresa.franklin@enron.com', 'theresa.hess@enron.com', 'theresa.staab@enron.com', 'theresa.villeggiante@enron.com', 'theresa.vos@enron.com', 'theresa.wiesmann@enron.com', 'theresa.zucha@enron.com', 'therese.candella@enron.com', 'thescoop@bluemountain.com', 'thetherington@bracepatt.com', 'thibodeaux@enron.com', 'thinkguzman@yahoo.com', 'thode@enron.com', 'thomas.bennett@enron.com', 'thomas.donovan@enron.com', 'thomas.engel@enron.com', 'thomas.gros@enron.com', 'thomas.keavey@vistacomp.com', 'thomas.martin@enron.com', 'thomas.meers@enron.com', 'thomas.myers@enron.com', 'thomas.nestor@enron.com', 'thomas.padron@gfinet.com', 'thomas.reichelderfer@enron.com', 'thomas.rosendahl@ubspw.com', 'thomas.suffield@enron.com', 'thomas.underwood@enron.com', 'thomasandkaren@home.com', 'thor.lien@enron.com', 'thresa.allen@enron.com', 'thu.nguyen@enron.com', 'tidwellgreer@bfusa.com', 'tiffany.miller@enron.com', 'tiffany.williams@enron.com', 'tim.belden@enron.com', 'tim.bowler@enron.com', 'tim.carter@enron.com', 'tim.cooper@enron.com', 'tim.despain@enron.com', 'tim.detmering@enron.com', 'tim.heizenrader@enron.com', 'tim.johanson@enron.com', 'tim.kissner@enron.com', 'tim.mckone@enron.com', 'tim.mohammed@enron.com', 'tim.proffitt@enron.com', 'tim@apbenergy.com', 'tim@l2systems.com', 'timesheets@iconconsultants.com', 'timmy.ng@enron.com', 'timothy.bayles@enron.com', 'timothy.blanchard@enron.com', 'timothy.callahan@enron.com', 'timothy.hamilton@enron.com', 'timothy.jones@enron.com', 'timothy.ray@enron.com', 'timpowell@txu.com', 'tina.rode@enron.com', 'tina.spiller@enron.com', 'tina.tennant@enron.com', 'tina.valadez@enron.com', 'tina_leavy@msn.com', 'tirwin@alleghenyenergy.com', 'tjfarmer@juno.com', 'tjlynch@nyseg.com', 'tk.lohman@enron.com', 'tkent@kayescholer.com', 'tkirchman@nyiso.com', 'tkreller@milbank.com', 'tlbrassard@aol.com', 'tlenhart@corealty.com', 'tlester@firstunion1.com', 'tmartin@nymex.com', 'tmcmorrow@manatt.com', 'tmeyers@nisource.com', 'tobias.munk@enron.com', 'tobin.carlson@enron.com', 'toby.kuehl@enron.com', 'tod.lindholm@enron.com', 'todb@metretekfl.com', 'todd.burke@enron.com', 'todd.busby@enron.com', 'todd.creek@truequote.com', 'todd.decook@enron.com', 'todd.hall@enron.com', 'todd.ingalls@enron.com', 'todd.migliore@enron.com', 'todd.peikert@enron.com', 'todd.perry@enron.com', 'todd.peterson@enron.com', 'todd.richards@enron.com', 'todd.warwick@enron.com', 'todd@mrienergy.com', 'todoc1@aol.com', 'tom.acton@enron.com', 'tom.allen@mirant.com', 'tom.alonso@enron.com', 'tom.barkley@enron.com', 'tom.briggs@enron.com', 'tom.chapman@enron.com', 'tom.delaney@enron.com', 'tom.donohoe@enron.com', 'tom.doukas@enron.com', 'tom.gros@enron.com', 'tom.hahn@apbenergy.com', 'tom.halliburton@enron.com', 'tom.hoatson@enron.com', 'tom.may@enron.com', 'tom.moran@enron.com', 'tom.nemila@enron.com', 'tom.riley@enron.com', 'tom.shelton@enron.com', 'tom.siekman@compaq.com', 'tom.swank@enron.com', 'tom.victorio@enron.com', 'tom.wilbeck@enron.com', 'tomas.valnek@enron.com', 'tomb@crossborderenergy.com', 'tomd@amerexenergy.com', 'tomicamachouston@aol.com', 'tommy.garza@enron.com', 'tommy.yanowski@enron.com', 'tommy@mossonline.com', 'tomskilljr@aol.com', 'tomskilljr@enron.com', 'tonai.lehr@enron.com', 'toni.graham@enron.com', 'tony.dugger@enron.com', 'tony.harris@enron.com', 'tony.marquez@enron.com', 'tony.pryor@enron.com', 'tonya.dennis@enron.com', 'tori.kuykendall@enron.com', 'tori.wells@enron.com', 'torrey.moorer@enron.com', 'tory.bracy@enron.com', 'tporteous@lemle.com', 'tracey.green@enron.com', 'tracey.irvin@enron.com', 'tracey.kozadinos@enron.com', 'traci.warner@enron.com', 'tracy.arthur@enron.com', 'tracy.cooper@enron.com', 'tracy.foy@enron.com', 'tracy.geaccone@enron.com', 'tracy.greene@enron.com', 'tracy.mclaughlin@enron.com', 'tracy.minter@enron.com', 'tracy.ngo@enron.com', 'tracy.ralston@enron.com', 'tracy.ramsey@enron.com', 'tracy.ross@royalbank.com', 'tracy.scott@enron.com', 'tracy@texexenergy.com', 'tradersummary@syncrasy.com', 'trang.dinh@enron.com', 'transportation.parking@enron.com', 'travel@expedia.com', 'travelercare@orbitz.com', 'travellingchick@talkmatch.com', 'travieso74@hotmail.com', 'travis.mccullough@enron.com', 'treasa.kirby@enron.com', 'trecina.steadham@enron.com', 'tremainewright@paulhastings.com', 'trena.mcfarland@enron.com', 'trevor.woods@enron.com', 'trey.cash@enron.com', 'trey.hardy@enron.com', 'tricia.bowen@enron.com', 'tricia.spence@enron.com', 'trish.lindloff@weil.com', 'trish_garant@perrygas.com', 'trisha@ncpa.com', 'trnews@tr.com', 'trogg522@aol.com', 'tross@mcnallytemple.com', 'troy.black@enron.com', 'troy.denetsosie@enron.com', 'truong.vu@enron.com', 'truorange@aol.com', 'tsanthon@southernco.com', 'tshuba@sheagardner.com', 'tskilling@tribune.com', 'tstockbridge@velaw.com', 'tstraws@qwest.com', 'tstrawser@vitria.com', 'ttotten@nyiso.com', 'tuckiejeff@hotmail.com', 'turnergerry@bek.com', 'tushar.dhruv@enron.com', 'twaggoner@ercot.com', 'twanda.sweet@enron.com', 'twayne@waynedirect.com', 'tweathersbee@txu.com', 'twomarshalls@hotmail.com', 'twyla_s._strogen@dom.com', 'txbarnesj@aol.com', 'txdave661@mailexcel.com', 'tyler.theobald@enron.com', 'tyrell.harrison@enron.com', 'uhenning@foxboro.com', 'uhenningsen@hotmail.com', 'uhsammy@hotmail.com', 'updates@send4fun.com', 'urbanr@neosoft.com', 'ursula.brenner@enron.com', 'us_epp_marketing@dell.com', 'users.livelink@enron.com', 'v.dickerson@enron.com', 'v.mcadoo@enron.com', 'v.weldon@enron.com', 'val.generes@accenture.com', 'valarie.barnes@enron.com', 'valarie.sabo@enron.com', 'valencia@enron.com', 'valerie.dewille@infocus.com', 'valerie.ramsower@enron.com', 'valerie.ridinger@alcoa.com', 'valerie.vela@enron.com', 'valeried@timberline.com', 'valeriedewille@hotmail.com', 'values@weatherbug.com', 'vanaya_vitoltvl@yahoo.com', 'vance.holtzman@enron.com', 'vance.meyer@enron.com', 'vance.taylor@enron.com', 'vanessa.berrios@enron.com', 'vanessa.bob@enron.com', 'vanessa.griffin@enron.com', 'vanessa.groscrand@enron.com', 'vanessa.kerr@enron.com', 'vanessa.schulte@enron.com', 'vasant.shanbhogue@enron.com', 'vbrawne@nicor.com', 'vcferraz@elektro.com', 'venturewire@venturewire.com', 'venus@match.com', 'vera.jones@enron.com', 'vern.vallejo@enron.com', 'vernon.mercaldo@enron.com', 'veronica.espinoza@enron.com', 'veronica.gonzalez@enron.com', 'veronica.hill@enron.com', 'veronica.medrano@enron.com', 'veronica.parra@enron.com', 'veronica.valdez@enron.com', 'veronicapiatigorsky@economist.com', 'vertcare@verticalnet.com', 'vhuntley@kayescholer.com', 'viacheslav.danilov@enron.com', 'vicki.nimmo@healthcareins.com', 'vicki.sharp@enron.com', 'vickistorey@yahoo.com', 'vicky.ha@enron.com', 'vicky.martinez@enron.com', 'vicky@hoganinvestment.com', 'victor.browner@enron.com', 'victor.guggenheim@enron.com', 'victor.lamadrid@enron.com', 'victor.vega@enron.com', 'victoria.versen@enron.com', 'video@amazon.com', 'vijay.suchdev@funb.com', 'vikas.dwivedi@enron.com', 'vikki.gates@scgo.com', 'vikram.singh@enron.com', 'villcats@aol.com', 'vince.crescenzi@gfinet.com', 'vince.kaminski@enron.com', 'vince.lagrange@aprimo.com', 'vince.middleton@enron.com', 'vincent.strohmeyer@enron.com', 'vincent.tang@enron.com', 'virawan.yawapongsiri@enron.com', 'virginia.cavazos@enron.com', 'virginia.long@enron.com', 'virginia.thompson@enron.com', 'virginia@clarkfineart.com', 'vishwanatha.venkataswami@enron.com', 'vito.iaia@enron.com', 'vivian.hart@enron.com', 'vivian.nguyen@enron.com', 'vivld@yahoo.com', 'vjwindsor@hotmail.com', 'vkaminski@aol.com', 'vkerridge@riskwaters.com', 'vkholod1@txu.com', 'vladi.pimenov@enron.com', 'vladimir.gorny@enron.com', 'vmartinez@winstead.com', 'vonderheide@enron.com', 'vpetrov@vpetrov.com', 'vpokhleb@ideaus.com', 'vshanbh@yahoo.com', 'vtapia@pulsar.com', 'vwatkins@pira.com', 'w.duran@enron.com', 'wade.cline@enron.com', 'wade.price@enron.com', 'wade.stubblefield@enron.com', 'wade.wells@enron.com', 'wade_a_hoefling@reliantenergy.com', 'wagerlist@onlinebettor.com', 'wall_street_journal@xmr3.com', 'walsh@enron.com', 'walt.serrano@enron.com', 'walt.zimmerman@enron.com', 'walter.guidroz@enron.com', 'waltm@wheatstoneinvestments.com', 'walton.agnew@enron.com', 'wam@mrwassoc.com', 'wanda.curry@enron.com', 'wanda.holloway@compaq.com', 'ward_h@houworks.com', 'warren.nishimura@blakes.com', 'warren.prihoda@enron.com', 'warren.schick@enron.com', 'wayne.franklin@enron.com', 'wayne.gardner@enron.com', 'wayne.gresham@enron.com', 'wayne.herndon@enron.com', 'wayne.morter@austinenergy.com', 'wayne.perry@enron.com', 'wayne.reed@xemkt.com', 'wayne.vinson@enron.com', 'wbalson@crai.com', 'wbalson@opt4.com', 'wbrown@apx.com', 'wcasso@zeusdevelopment.com', 'wcemailerrors@fds.com', 'wchiume@nyiso.com', 'wcp@quinnemanuel.com', 'wdgermanyjr@dow.com', 'wdulle@amerenenergy.com', 'web@diginsite.com', 'web@theatlantic.com', 'webadmin@novator.com', 'webb.david@epenergy.com', 'webb.jennings@enron.com', 'webhost@interliant.com', 'webinfo@iijournals.com', 'webmaster@cera.com', 'webmaster@dealbench.com', 'webmaster@earnings.com', 'webmaster@evomarkets.com', 'webmaster@fastweb.com', 'webmaster@u2.com', 'webserver@insiderscores.com', 'webstudentservices@review.com', 'webtrading@schwab.com', 'weekend@ino.com', 'welcome@mp3.com', 'weldonvc@hotmail.com', 'wendi.lebrocq@enron.com', 'wendy.conwell@enron.com', 'wendy.fincher@enron.com', 'wendy.koh@enron.com', 'wentapb@sprintmail.com', 'wes.colwell@enron.com', 'wes.kida@williams.com', 'westdesksupport@enron.com', 'wgang@enron.com', 'wgphou.customernotices@williams.com', 'whalley@enron.com', 'whederman@columbiaenergygroup.com', 'whitepapers@bdcimail.com', 'whittneyskinner@hotmail.com', 'whogan@greerherz.com', 'wiegert@internetni.com', 'wietze.dingeldein@enron.com', 'wiley.cauthen@enron.com', 'will.smith@enron.com', 'will.zamer@enron.com', 'williakh@bp.com', 'william.abler@enron.com', 'william.bradford@enron.com', 'william.crooks@enron.com', 'william.fleenor@enron.com', 'william.frederking@enron.com', 'william.gang@enron.com', 'william.giuliani@enron.com', 'william.kasemervisz@enron.com', 'william.keeney@enron.com', 'william.kelly@enron.com', 'william.kendrick@enron.com', 'william.krenz@enron.com', 'william.nealy@enron.com', 'william.smith@enron.com', 'william.stuart@enron.com', 'william_f_henze@jonesday.com', 'williamsj@iconus.com', 'willie.harrell@enron.com', 'willis.philip@enron.com', 'wilma.williams@enron.com', 'wilson.kriegel@enron.com', 'wincash@play4keeps.com', 'winston.goodbody@enron.com', 'winston.jia@enron.com', 'wjharmon@jonesday.com', 'wjsymes@home.com', 'wkaseme@enron.com', 'wmcgov1047@aol.com', 'wmontg6626@aol.com', 'wmontjoy@brunini.com', 'wms@kainon.com', 'wmthursland@hotmail.com', 'wnissen@sidley.com', 'wolphguy@aol.com', 'workshops@businessweek.com', 'wpboswel@mwbb.com', 'wsandberg3@attbi.com', 'wsnyder@saylid.com', 'wthom25746@aol.com', 'wtoriello@brookvillestaffing.com', 'xafira.mendonsa@enron.com', 'xi.xi@enron.com', 'y.martin@enron.com', 'yan.wang@enron.com', 'yana.kristal@enron.com', 'yannis.tzamouranis@enron.com', 'yao.apasu@enron.com', 'yardeni@yardeni.com', 'yeomansw@niagaramohawk.com', 'yevgeny.frolov@enron.com', 'ygoldfeder@swidlaw.com', 'ying.liu@enron.com', 'yolanda.ford@enron.com', 'yolanda.pena@enron.com', 'yolanda.roberts@enron.com', 'youyi.feng@enron.com', 'ypoforumsurvey@ypoforumdiagnosticsurvey.com', 'yuan.tian@enron.com', 'yumi.takei@enron.com', 'yvan.chaxel@enron.com', 'yvette.connevey@enron.com', 'yvette.parker@enron.com', 'yvonne.acosta@enron.com', 'yxg4@pge.com', 'zachary.mccarroll@enron.com', 'zaeza@unplace.com', 'zakia.mcclure@enron.com', 'zakiyyah.mcclure@enron.com', 'zangeles@sempra.com', 'zarin.imam@enron.com', 'zelda.paschal@enron.com', 'zhiyong.wei@enron.com', 'zhiyun.yang@enron.com', 'zimin.lu@enron.com', 'zimmerman@enron.com', 'zionette.vincent@enron.com', 'zipper@enron.com', 'zistlerf@wallacegarcia.com', 'zulie.flores@enron.com', 'zwharton@dawray.com']\n"
     ]
    }
   ],
   "source": [
    "print emails_activated"
   ]
  },
  {
   "cell_type": "code",
   "execution_count": 34,
   "metadata": {
    "collapsed": true
   },
   "outputs": [],
   "source": [
    "ids = {x:i for i,x in enumerate(emails_activated)}"
   ]
  },
  {
   "cell_type": "code",
   "execution_count": 35,
   "metadata": {
    "collapsed": false
   },
   "outputs": [
    {
     "data": {
      "text/plain": [
       "{'dan.connally@enron.com': 1322,\n",
       " 'winston.jia@enron.com': 6544,\n",
       " 'brianp@aiglincoln.com': 762,\n",
       " 'crissy.collett@enron.com': 1242,\n",
       " 'tom.chapman@enron.com': 6245,\n",
       " 'jhavila@firstunion1.com': 2860,\n",
       " 'jason.mcnair@enron.com': 2642,\n",
       " 'scott.hendrickson@enron.com': 5569,\n",
       " 'bart.burk@enron.com': 492,\n",
       " 'poxford@bracepatt.com': 4995,\n",
       " 'sandy.sheffield@enron.com': 5494,\n",
       " 'dave.fuller@enron.com': 1398,\n",
       " 'dave.guzman@fluor.com': 1399,\n",
       " 'aram.sogomonian@pacificorp.com': 415,\n",
       " 'rita.hennessy@enron.com': 5249,\n",
       " 'mark.mccoy@enron.com': 4056,\n",
       " 'laura.glenn@enron.com': 3628,\n",
       " 'brianc@saltgrass.com': 761,\n",
       " 'tani.nath@enron.com': 6058,\n",
       " 'brian.kolle@enron.com': 751,\n",
       " 'e.bulletin@schwab.com': 1751,\n",
       " 'chris.sebesta@enron.com': 1047,\n",
       " 'chi325@hotmail.com': 1004,\n",
       " 'kevin.hannon@enron.com': 3443,\n",
       " 'mullinsl@gtlaw.com': 4561,\n",
       " 'sunitha.kongara@enron.com': 5956,\n",
       " 'cmoseley@ercot.com': 1159,\n",
       " 'paul.hennemeyer@enron.com': 4838,\n",
       " 'amy.degeyter@enron.com': 263,\n",
       " 'jess.hewitt@enron.com': 2832,\n",
       " 'miyung.buster@enron.com': 4474,\n",
       " 'kruscitti@aol.com': 3557,\n",
       " 'faith.killen@enron.com': 2017,\n",
       " 'michelle.robichaux@enron.com': 4396,\n",
       " 'marge.nadasky@enron.com': 3971,\n",
       " 'donna.lowry@enron.com': 1669,\n",
       " 'mailbot@datek.com': 3924,\n",
       " 'tom.allen@mirant.com': 6241,\n",
       " 'mwood@stoel.com': 4573,\n",
       " 'joe.kishkill@enron.com': 2973,\n",
       " 'tiffany.williams@enron.com': 6179,\n",
       " 'vwatkins@pira.com': 6442,\n",
       " 'don.hammond@enron.com': 1650,\n",
       " 'bbreen@questia.com': 500,\n",
       " 'beth_garza@fpl.com': 565,\n",
       " 'matt.motley@enron.com': 4173,\n",
       " 'rs1119@aol.com': 5402,\n",
       " 'sheila.walton@enron.com': 5694,\n",
       " 'randy.janzen@enron.com': 5081,\n",
       " 'brenda.anderson@enron.com': 717,\n",
       " 'carrie.slagle@enron.com': 885,\n",
       " 'savings@overstock.com': 5529,\n",
       " 'terri.greenlee@enron.com': 6117,\n",
       " 'ed.giblin@enron.com': 1770,\n",
       " 'web@diginsite.com': 6481,\n",
       " 'vanessa.berrios@enron.com': 6373,\n",
       " 'jkbowles@hotmail.com': 2908,\n",
       " 'lindsay.long@enron.com': 3773,\n",
       " 'jeffrey.soo@enron.com': 2778,\n",
       " 'stephen.swain@enron.com': 5860,\n",
       " 'jennifer.fraser@enron.com': 2792,\n",
       " 'bgpenn@marathonoil.com': 581,\n",
       " 'suzanne.franco@enron.com': 6010,\n",
       " 'steve.wang@enron.com': 5901,\n",
       " 'andre.templeman@enron.com': 284,\n",
       " 'sarlowe@tr.com': 5525,\n",
       " 'erin.hall@enron.com': 1954,\n",
       " 'bkc7@pge.com': 628,\n",
       " 'charles.ward@enron.com': 970,\n",
       " 'james.brown@enron.com': 2549,\n",
       " 'geir.solberg@enron.com': 2173,\n",
       " 'y.martin@enron.com': 6563,\n",
       " 'rhonda.smith@enron.com': 5179,\n",
       " 'carries@tradefairgroup.com': 887,\n",
       " 'kbishop@bracepatt.com': 3360,\n",
       " 'colleen.sullivan@enron.com': 1171,\n",
       " 'foothillservices@mindspring.com': 2056,\n",
       " 'joel.ephross@enron.com': 2988,\n",
       " 'david@macynewman.com': 1477,\n",
       " 'tim.proffitt@enron.com': 6191,\n",
       " 'mreid@socalgas.com': 4537,\n",
       " 'john.echols@enron.com': 3017,\n",
       " 'sheri.cromwell@enron.com': 5706,\n",
       " 'jpenney@hollandlessard.com': 3139,\n",
       " 'georgen@epenergy.com': 2202,\n",
       " 'registrar.isc@enron.com': 5149,\n",
       " 'steve.wood@enron.com': 5903,\n",
       " 'dirk.vanulden@enron.com': 1610,\n",
       " 'jo.matson@enron.com': 2941,\n",
       " 'mary.grisaffi@enron.com': 4136,\n",
       " 'kontko@home.com': 3527,\n",
       " 'epsa@mindspring.com': 1915,\n",
       " 'sarah.haden@enron.com': 5512,\n",
       " 'grace.taylor@enron.com': 2264,\n",
       " 'shubh.shrivastava@enron.com': 5740,\n",
       " 'valarie.sabo@enron.com': 6360,\n",
       " 'hgovenar@govadv.com': 2398,\n",
       " 'doug.thomas@bellcold.com': 1695,\n",
       " 'whalley@enron.com': 6510,\n",
       " 'facundo.caminos@enron.com': 2016,\n",
       " 'chris.schomer@enron.com': 1046,\n",
       " 'michelle.bruce@enron.com': 4382,\n",
       " 'eric.le@enron.com': 1929,\n",
       " 'claudia.robinson@ubsw.com': 1129,\n",
       " 'heather.dunton@enron.com': 2366,\n",
       " 'mark.elliott@enron.com': 4029,\n",
       " 'eblastoff@rocketball.com': 1762,\n",
       " 'gretel.smith@enron.com': 2309,\n",
       " 'federico.cerisoli@enron.com': 2027,\n",
       " 'serena.bishop@merant.com': 5618,\n",
       " 'kyle.etter@enron.com': 3578,\n",
       " 'adonnell@prmllp.com': 135,\n",
       " 'william.krenz@enron.com': 6532,\n",
       " 'steve.hooser@enron.com': 5872,\n",
       " 'angela.barnett@enron.com': 328,\n",
       " 'beverly.stephens@enron.com': 574,\n",
       " 'jim.piro@enron.com': 2886,\n",
       " 'mcausholli@hotmail.com': 4220,\n",
       " 'ron.nolte@enron.com': 5361,\n",
       " 'jason.berlin@enron.com': 2637,\n",
       " 'lisa.hobbs@enron.com': 3790,\n",
       " 'ejbutler28@hotmail.com': 1814,\n",
       " 'mbeckworth@velaw.com': 4213,\n",
       " 'tamara.black@enron.com': 6042,\n",
       " 'matthew.arnold@enron.com': 4182,\n",
       " 'frank.hayden@enron.com': 2078,\n",
       " 'diane.cook@enron.com': 1594,\n",
       " 'edo711@hotmail.com': 1791,\n",
       " 'eklavya.sareen@enron.com': 1817,\n",
       " 'gregg.lenart@enron.com': 2299,\n",
       " 'rex.shelby@enron.com': 5166,\n",
       " 'parking.transportation@enron.com': 4781,\n",
       " 'tera.moss@enron.com': 6098,\n",
       " 'mark.guinney@watsonwyatt.com': 4041,\n",
       " 'sgm@steelhector.com': 5634,\n",
       " 'corey.hollander@enron.com': 1200,\n",
       " 'craig.young@enron.com': 1229,\n",
       " 'roger.balog@enron.com': 5351,\n",
       " 'gascontrol@aglresources.com': 2155,\n",
       " 'thresa.allen@enron.com': 6175,\n",
       " 'meyn@enron.com': 4283,\n",
       " 'jennifer.cronin@enron.com': 2789,\n",
       " 'maria.valdes@enron.com': 3989,\n",
       " 'tricia.spence@enron.com': 6316,\n",
       " 'ben.bergfelt@painewebber.com': 530,\n",
       " 'gay.arnold@enron.com': 2162,\n",
       " 'erica.gut@enron.com': 1945,\n",
       " 'jay.yparraguirre@enron.com': 2667,\n",
       " 'john_riches@msn.com': 3084,\n",
       " 'brewery@saintarnold.com': 740,\n",
       " 'tammy.shepperd@enron.com': 6054,\n",
       " 'mgillaspie02@pjc.com': 4289,\n",
       " 'dave.martinez@enron.com': 1401,\n",
       " 'limonej@merchantenergy.com': 3749,\n",
       " 'values@weatherbug.com': 6368,\n",
       " 'rfranksen@lwsupply.com': 5168,\n",
       " 'enron.cuttings@enron.com': 1897,\n",
       " 'scott.bolton@enron.com': 5555,\n",
       " 'hardie.davis@enron.com': 2343,\n",
       " 'mrha@enron.com': 4541,\n",
       " 'bungalowlife@yahoo.com': 805,\n",
       " 'pauline.brady@enron.com': 4870,\n",
       " 'jane.wilson@enron.com': 2601,\n",
       " 'richard.ingersoll@enron.com': 5203,\n",
       " 'rose.liu@moorecap.com': 5375,\n",
       " 'katie.trullinger@wfsg.com': 3337,\n",
       " 'janet.edwards@enron.com': 2609,\n",
       " 'lex.carroll@enron.com': 3726,\n",
       " 'mike.nelson@enron.com': 4436,\n",
       " 'dkg@enernetok.com': 1621,\n",
       " 'max.yzaguirre@enron.com': 4207,\n",
       " 'lillahmay@aol.com': 3745,\n",
       " 'saeed.raja@enron.com': 5456,\n",
       " 'arfan.aziz@enron.com': 416,\n",
       " 'chadhmuir@yahoo.com': 953,\n",
       " 'valencia@enron.com': 6361,\n",
       " 'john.baker@daniel.com': 3005,\n",
       " 'joe.hunter@enron.com': 2971,\n",
       " 'valerie.vela@enron.com': 6365,\n",
       " 'livia_zufferli@monitor.com': 3812,\n",
       " 'shari.mao@enron.com': 5656,\n",
       " 'chris.bowling@enron.com': 1018,\n",
       " 'thinkguzman@yahoo.com': 6157,\n",
       " 'theresa.brogan@enron.com': 6145,\n",
       " 'paty1040@aol.com': 4820,\n",
       " 'front.desk@enron.com': 2098,\n",
       " 'catalina.cardenas@enron.com': 898,\n",
       " 'joseph.alamo@enron.com': 3119,\n",
       " 'lech.kalembka@cwt.com': 3682,\n",
       " 'mark.guzman@enron.com': 4042,\n",
       " 'robert.williams@enron.com': 5319,\n",
       " 'team@gradfinder.com': 6085,\n",
       " 'cindy.stark@enron.com': 1108,\n",
       " 'tedchin@hotmail.com': 6095,\n",
       " 'tshuba@sheagardner.com': 6328,\n",
       " 'smith.day@enron.com': 5762,\n",
       " 'georgi.landau@enron.com': 2205,\n",
       " 'reactions@euromoneyplc.com': 5115,\n",
       " 'paul.dawson@enron.com': 4829,\n",
       " 'marlo.james@enron.com': 4096,\n",
       " 'dberg13046@aol.com': 1495,\n",
       " 'keith.comeaux@enron.com': 3374,\n",
       " 'jeffrey.keeler@enron.com': 2769,\n",
       " 'gary.stadler@enron.com': 2151,\n",
       " 'pwhobby@hobbycomm.com': 5030,\n",
       " 'margaret.daffin@enron.com': 3966,\n",
       " 'apacheco@oneok.com': 407,\n",
       " 'shannon.groenewold@enron.com': 5649,\n",
       " 'eric.moon@enron.com': 1934,\n",
       " 'ellen.wallumrod@enron.com': 1857,\n",
       " 'michelle.maynard@enron.com': 4392,\n",
       " 'miki.bode@williams.com': 4452,\n",
       " 'orsi@tconl.com': 4746,\n",
       " 'william.bradford@enron.com': 6522,\n",
       " 'tsanthon@southernco.com': 6327,\n",
       " 'art.bieser@enron.com': 426,\n",
       " 'willis.philip@enron.com': 6539,\n",
       " 'tom.briggs@enron.com': 6244,\n",
       " 'madhur.dayal@enron.com': 3910,\n",
       " 'newsletter@ashford.com': 4643,\n",
       " 'susan.bellinghausen@enron.com': 5969,\n",
       " 'anne_heard@ryderscott.com': 385,\n",
       " 'crushmaster@crushlink.com': 1247,\n",
       " 'cheryl.dudley@enron.com': 991,\n",
       " 'hema@izhuta.com': 2384,\n",
       " 'pfrayne@aol.com': 4924,\n",
       " 'lauren.hagerty@enron.com': 3650,\n",
       " 'lisa.upchurch@enron.com': 3806,\n",
       " 'tharsilla.broussard@enron.com': 6140,\n",
       " 'david.forster@enron.com': 1426,\n",
       " 'todd.richards@enron.com': 6236,\n",
       " 'deborah.culver@enron.com': 1531,\n",
       " 'megan.duffill@msdw.com': 4243,\n",
       " 'jesus.melendrez@enron.com': 2843,\n",
       " 'johnw@fsgllc.com': 3097,\n",
       " 'darcilla@viviance.com': 1372,\n",
       " 'brad.horn@enron.com': 691,\n",
       " 'majed.nachawati@enron.com': 3929,\n",
       " 'dee.espinoza@travelpark.com': 1543,\n",
       " 'loshiro@cantor.com': 3853,\n",
       " 'larry.jester@enron.com': 3616,\n",
       " 'yana.kristal@enron.com': 6565,\n",
       " 'liz.legros@enron.com': 3816,\n",
       " 'soblander@carrfut.com': 5770,\n",
       " 'lisa.cousino@enron.com': 3783,\n",
       " 'ellen.clardy@ipgdirect.com': 1853,\n",
       " 'pixxxievixxxen@aol.com': 4958,\n",
       " 'oasissuport@entergy.com': 4718,\n",
       " 'michel.decnop@enron.com': 4371,\n",
       " 'rickdipersio@yahoo.com': 5238,\n",
       " 'liz.mendiola@travelpark.com': 3817,\n",
       " 'robert.mason@enron.com': 5307,\n",
       " 'paul.goddard@enron.com': 4835,\n",
       " 'chris.sonneborn@enron.com': 1048,\n",
       " 'dorothy.youngblood@enron.com': 1685,\n",
       " 'dari.dornan@enron.com': 1375,\n",
       " 'marie.westin@enron.com': 3999,\n",
       " 'gary.hickerson@enron.com': 2139,\n",
       " 'bryant.frihart@enron.com': 793,\n",
       " 'chris.hyde@enron.com': 1034,\n",
       " 'elizabeth.peters@enron.com': 1845,\n",
       " 'sarah.zarkowsky@enron.com': 5520,\n",
       " 'cheryl.kuehl@enron.com': 995,\n",
       " 'jana.morse@enron.com': 2593,\n",
       " 'stephanie.erwin@enron.com': 5831,\n",
       " 'steve.ross@enron.com': 5893,\n",
       " 'laura.johnson@enron.com': 3633,\n",
       " 'wagerlist@onlinebettor.com': 6449,\n",
       " 'schwarfa@bp.com': 5549,\n",
       " 'jeff.bartlett@enron.com': 2717,\n",
       " 'benjamin.freeman@enron.com': 542,\n",
       " 'ben.freeman@enron.com': 532,\n",
       " 'terry.west@enron.com': 6127,\n",
       " 'dan.bruce@enron.com': 1319,\n",
       " 'wanda.holloway@compaq.com': 6459,\n",
       " 'therese.candella@enron.com': 6153,\n",
       " 'pverleger@compuserve.com': 5027,\n",
       " 'collonges@enron.com': 1173,\n",
       " 'ddechiaro@nyiso.com': 1506,\n",
       " 'jhduncan@aol.com': 2863,\n",
       " 'steve.howarth@bea.com': 5874,\n",
       " 'abannes@amrresearch.com': 101,\n",
       " 'pyoung@cliverunnells.com': 5031,\n",
       " 'donna_j_mullen@dom.com': 1676,\n",
       " 'edwin.essandoh@enron.com': 1802,\n",
       " 'tanya.rohauer@enron.com': 6060,\n",
       " 'viacheslav.danilov@enron.com': 6396,\n",
       " 'mike.croucher@enron.com': 4415,\n",
       " 'g.campbell@pecorp.com': 2110,\n",
       " 'laurie.miller@enron.com': 3658,\n",
       " 'crcommunications@caiso.com': 1237,\n",
       " 'aaron.klemm@enron.com': 97,\n",
       " 'michelle.hicks@enron.com': 4387,\n",
       " 'arfsten@bflassociates.com': 417,\n",
       " 'carl.tricoli@enron.com': 841,\n",
       " 'joe.chapman@enron.com': 2964,\n",
       " 'pamela.perry@enron.com': 4777,\n",
       " 'gretchen.jennings@enron.com': 2308,\n",
       " 'bill@katzlaw.com': 612,\n",
       " 'cassandra.schultz@enron.com': 895,\n",
       " 'lisa.kang@enron.com': 3794,\n",
       " 'lisa.obrien@freshfields.com': 3800,\n",
       " 'deborah.shahmoradi@enron.com': 1535,\n",
       " 'jennifer.blay@enron.com': 2786,\n",
       " 'deb.korkmas@enron.com': 1519,\n",
       " 'steve.young@enron.com': 5904,\n",
       " 'cecil.john@enron.com': 928,\n",
       " 'mnw@cockrell.com': 4496,\n",
       " 'sarah.taylor@enron.com': 5517,\n",
       " 'dooleys@coned.com': 1678,\n",
       " 'rhaygood@darbylaw.com': 5176,\n",
       " 'acomnes@enron.com': 117,\n",
       " 'robtaylor@akllp.com': 5336,\n",
       " 'michael.brown@enron.com': 4305,\n",
       " 'debi.vanwey@enron.com': 1527,\n",
       " 'jose.favela@enron.com': 3117,\n",
       " 'estalee.russi@enron.com': 1976,\n",
       " 'lucy.marshall@enron.com': 3881,\n",
       " 'rosanna.migliaccio@robertwalters.com': 5373,\n",
       " 'majordomo@nerc.com': 3930,\n",
       " 'lynn.blair@enron.com': 3897,\n",
       " 'jolly@enron.com': 3099,\n",
       " 'beverly.miller@enron.com': 573,\n",
       " 'bryan.gottfredson@enron.com': 785,\n",
       " 'eric.gillaspie@enron.com': 1926,\n",
       " 'Drew.Fossum@enron.com': 29,\n",
       " 'brandon.neff@enron.com': 711,\n",
       " 'david.koogler@enron.com': 1439,\n",
       " 'jeff.lenamon@dresdner.com': 2737,\n",
       " 'kate.hollis@enron.com': 3294,\n",
       " 'sophie.martin@enron.com': 5780,\n",
       " 'debra.thompson@enron.com': 1541,\n",
       " 'marcie.milner@enron.com': 3958,\n",
       " 'sally.alvarez@enron.com': 5461,\n",
       " 'mrmslane@aol.com': 4542,\n",
       " 'patrick.tucker@enron.com': 4812,\n",
       " 'vito.iaia@enron.com': 6426,\n",
       " 'amy.clemons@enron.com': 260,\n",
       " 'ryan.ruppert@exxonmobil.com': 5442,\n",
       " 'james.prentice@enron.com': 2569,\n",
       " 'novellnetware@bdcimail.com': 4703,\n",
       " 'rob.walls@enron.com': 5277,\n",
       " 'chris.norris@enron.com': 1043,\n",
       " 'brent.hendry@enron.com': 729,\n",
       " 'robert.knight@enron.com': 5305,\n",
       " 'eric@ehirst.com': 1940,\n",
       " 'robert.eickenroht@enron.com': 5293,\n",
       " 'goliver569@aol.com': 2255,\n",
       " 'management.ets@enron.com': 3935,\n",
       " 'sarah.novosel@enron.com': 5514,\n",
       " 'mark.lavine@enron.com': 4051,\n",
       " 'harlan.murphy@enron.com': 2344,\n",
       " 'nicole.lauzier@enron.com': 4670,\n",
       " 'pbrandt@lrci.com': 4877,\n",
       " 'connie.sutton@enron.com': 1187,\n",
       " 'marilyn.rice@compaq.com': 4006,\n",
       " 'alberto.gude@enron.com': 177,\n",
       " 'denver.plachy@enron.com': 1564,\n",
       " 'lucy.ortiz@enron.com': 3882,\n",
       " 'eric.groves@enron.com': 1928,\n",
       " 'chris.stokley@enron.com': 1049,\n",
       " 'gary.hanks@enron.com': 2138,\n",
       " 'robert.neustaedter@enron.com': 5308,\n",
       " 'venturewire@venturewire.com': 6382,\n",
       " 'john.cobb@enron.com': 3012,\n",
       " 'john.nowlan@enron.com': 3049,\n",
       " 'kdoris@corelab.com': 3370,\n",
       " 'david.dronet@enron.com': 1421,\n",
       " 'jespulliam@aol.com': 2831,\n",
       " 'colleen.koenig@enron.com': 1170,\n",
       " 'ect.admin@enron.com': 1765,\n",
       " 'members@realmoney.com': 4271,\n",
       " 'david_teece@lecg.com': 1480,\n",
       " 'gpg.announcement@enron.com': 2261,\n",
       " 'jeffsmirin@txu.com': 2780,\n",
       " 'john.kiani@enron.com': 3035,\n",
       " 'lloyd.fleming@enron.com': 3830,\n",
       " 'shirley.peters@enron.com': 5729,\n",
       " 'carolyn.gilley@enron.com': 873,\n",
       " 'steve.gillespie@enron.com': 5870,\n",
       " 'bruce.sukaly@enron.com': 779,\n",
       " 'larry.campbell@enron.com': 3609,\n",
       " 'fzerilli@powermerchants.com': 2108,\n",
       " 'greg.krause@enron.com': 2283,\n",
       " 'nagwa.elkachouty@enron.com': 4583,\n",
       " 'chris.abel@enron.com': 1014,\n",
       " 'kaye.ellis@enron.com': 3349,\n",
       " 'mary.barker@ubsw.com': 4122,\n",
       " 'service@barnesandnoble.com': 5622,\n",
       " 'jeff.skilling@enron.com': 2750,\n",
       " 'alaadin.suliman@enron.com': 165,\n",
       " 'massimo.marolo@enron.com': 4161,\n",
       " 'nella.cappelletto@enron.com': 4628,\n",
       " 'osman.sezgen@enron.com': 4750,\n",
       " 'preston.ochsner@enron.com': 5006,\n",
       " 'george.huan@enron.com': 2192,\n",
       " 'richard.lydecker@enron.com': 5208,\n",
       " 'jack.falconi@guarantygroup.com': 2519,\n",
       " 'conal.tackney@enron.com': 1178,\n",
       " 'wayne.morter@austinenergy.com': 6468,\n",
       " 'donna.martens@enron.com': 1670,\n",
       " 'accountmanager@shockwave.com': 111,\n",
       " 'larry.pardue@enron.com': 3620,\n",
       " 'scott.tholan@enron.com': 5587,\n",
       " 'jdoering@rcgroup.com': 2699,\n",
       " 'genia.fitzgerald@enron.com': 2182,\n",
       " 'brandee.jackson@enron.com': 709,\n",
       " 'karen.huang@enron.com': 3261,\n",
       " 'jim.talcott@enron.com': 2892,\n",
       " 'mzeleanor@juno.com': 4580,\n",
       " 'maria.rutella@cwt.com': 3985,\n",
       " 'loretta.brelsford@enron.com': 3841,\n",
       " 'michelle.parks@enron.com': 4395,\n",
       " 'peter.crilly@enron.com': 4906,\n",
       " 'ksu93@aol.com': 3564,\n",
       " 'elliot.mainzer@enron.com': 1859,\n",
       " 'jana.paxton@enron.com': 2594,\n",
       " 'mhoran@shb.com': 4294,\n",
       " 'keith_larney@i2.com': 3384,\n",
       " 'sandra.rodriguez@enron.com': 5488,\n",
       " 'greg.couch@enron.com': 2278,\n",
       " 'charles.muzzy@enron.com': 967,\n",
       " 'hocampos@hotmail.com': 2406,\n",
       " 'angie.buis@enron.com': 344,\n",
       " 'esther.buckley@enron.com': 1977,\n",
       " 'blakew@vividence.com': 635,\n",
       " 'avramsiegel@home.com': 450,\n",
       " 'sean.black@enron.com': 5602,\n",
       " 'itrezzo.agent@enron.com': 2508,\n",
       " 'sharon.purswell@enron.com': 5666,\n",
       " 'twyla_s._strogen@dom.com': 6342,\n",
       " 'john.laborde@enron.com': 3039,\n",
       " 'scott.earnest@enron.com': 5561,\n",
       " 'scott.dieball@enron.com': 5559,\n",
       " 'paul.cherry@enron.com': 4824,\n",
       " 'duane.konen@enron.com': 1737,\n",
       " 'amy.fabian@enron.com': 264,\n",
       " 'michael.green@enron.com': 4319,\n",
       " 'ray.alvarez@enron.com': 5096,\n",
       " 'pgraff@reliantenergy.com': 4929,\n",
       " 'frthis@aol.com': 2099,\n",
       " 'clint.dean@enron.com': 1150,\n",
       " 'nancy.carpenter@enron.com': 4591,\n",
       " 'gerri.gosnell@enron.com': 2213,\n",
       " 'rob.cone@enron.com': 5272,\n",
       " 'wincash@play4keeps.com': 6542,\n",
       " 'heidi.mason@enron.com': 2378,\n",
       " 'hemery@firstunion1.com': 2385,\n",
       " 'mariella.mahan@enron.com': 4000,\n",
       " 'tim@apbenergy.com': 6192,\n",
       " 'tina_leavy@msn.com': 6207,\n",
       " 'rob.krotee@enron.com': 5275,\n",
       " 'john.valdes@enron.com': 3074,\n",
       " 'johnny.ross@enron.com': 3090,\n",
       " 'roger.pelote@williams.com': 5352,\n",
       " 'brooklyn.couch@enron.com': 770,\n",
       " 'eileen.ogrady@dowjones.com': 1811,\n",
       " 'shannon.adlong@enron.com': 5647,\n",
       " 'melinda.pharms@enron.com': 4256,\n",
       " 'kevin.may@enron.com': 3449,\n",
       " 'jaki_l._hawkins@jonesday.com': 2545,\n",
       " 'susan_s_edwards@yahoo.com': 5999,\n",
       " 'trisha@ncpa.com': 6319,\n",
       " 'a.nichols@enron.com': 90,\n",
       " 'judy.hernandez@enron.com': 3181,\n",
       " 'maria.chiodi@csfb.com': 3978,\n",
       " 'jeff.nieland@enron.com': 2743,\n",
       " 'stacey.white@enron.com': 5808,\n",
       " 'les.webber@enron.com': 3707,\n",
       " 'ets.announcement@enron.com': 1985,\n",
       " 'rebecca.miles@enron.com': 5127,\n",
       " 'sandeep.kohli@enron.com': 5479,\n",
       " 'brian.hoskins@enron.com': 749,\n",
       " 'ed.mcmichael@enron.com': 1773,\n",
       " 'anita.dupont@enron.com': 352,\n",
       " 'joe.darensbourg@enron.com': 2966,\n",
       " 'georgene.moore@enron.com': 2203,\n",
       " 'la.rose@enron.com': 3587,\n",
       " 'biliana.pehlivanova@enron.com': 591,\n",
       " 'sunjay.arya@enron.com': 5957,\n",
       " 'mike.altendorf@conchango.com': 4409,\n",
       " 'customerservice@walgreens.com': 1275,\n",
       " 'orders@imagestation.com': 4741,\n",
       " 'jennifer.white@oceanenergy.com': 2807,\n",
       " 'steve.stock@enron.com': 5895,\n",
       " 'stuart@friedwire.com': 5941,\n",
       " 'kathy.moore@enron.com': 3328,\n",
       " 'michael.flanigan@enron.com': 4312,\n",
       " 'ellen.konsdorf@enron.com': 1855,\n",
       " 'mary.rose@enron.com': 4149,\n",
       " 'joanie.ngo@enron.com': 2948,\n",
       " 'julie.mccoy@enron.com': 3211,\n",
       " 'pam.benson@enron.com': 4767,\n",
       " 'bob.peebler@halliburton.com': 660,\n",
       " 'philippe.giguere@enron.com': 4940,\n",
       " 'rudwell.johnson@enron.com': 5410,\n",
       " 'eric.boyt@enron.com': 1922,\n",
       " 'cedric.burgher@enron.com': 931,\n",
       " 'raymond.yeow@enron.com': 5101,\n",
       " 'jeff.nogid@enron.com': 2745,\n",
       " 'zistlerf@wallacegarcia.com': 6598,\n",
       " 'jblatchford@caiso.com': 2674,\n",
       " 'vince.lagrange@aprimo.com': 6416,\n",
       " 'robot@cigaraficionado.com': 5333,\n",
       " 'christy.wire@enron.com': 1096,\n",
       " 'invoice@register.com': 2491,\n",
       " 'scofer@llgm.com': 5552,\n",
       " 'tomskilljr@aol.com': 6269,\n",
       " 'derryl.cleaveland@enron.com': 1570,\n",
       " 'greg.mcmahon@enron.com': 2288,\n",
       " 'eric.shaw@enron.com': 1937,\n",
       " 'gerspamer@mofo.com': 2217,\n",
       " 'glenn@pira.com': 2245,\n",
       " 'fred.mitro@enron.com': 2094,\n",
       " 'roberts@enron.com': 5325,\n",
       " 'douglass@energyattorney.com': 1705,\n",
       " 'nikita.varma@enron.com': 4679,\n",
       " 'bodyshop@enron.com': 676,\n",
       " 'amy.bundscho@enron.com': 258,\n",
       " 'tracy.minter@enron.com': 6293,\n",
       " 'dennis.brown@enron.com': 1559,\n",
       " 'michael.garred@enron.com': 4316,\n",
       " 'jim.curry@enron.com': 2877,\n",
       " 'jshorter@txu.com': 3160,\n",
       " 'larry.bautista@elpaso.com': 3605,\n",
       " 'lpc@masterdata.com': 3866,\n",
       " 'leo.nichols@enron.com': 3702,\n",
       " 'laine.borgman@enron.com': 3592,\n",
       " 'jim.buerkle@enron.com': 2872,\n",
       " 'edie.leschber@enron.com': 1783,\n",
       " 'jamie.lynn@enron.com': 2581,\n",
       " 'dana.bryant@enron.com': 1340,\n",
       " 'ourternrbb@aol.com': 4754,\n",
       " 'jerome_alder@dell.com': 2822,\n",
       " 'shelly.butler@enron.com': 5699,\n",
       " 'reg@ebay.com': 5140,\n",
       " 'tkent@kayescholer.com': 6212,\n",
       " 'rcosentino@milbank.com': 5113,\n",
       " 'susan.hopkinson@lovells.com': 5979,\n",
       " 'stephen.abbanat@enron.com': 5847,\n",
       " 'lenny.hochschild@enron.com': 3701,\n",
       " 'pham.arnold@enron.com': 4932,\n",
       " 'tb.exnet@erols.com': 6072,\n",
       " 'rlevy@mcguire.com': 5262,\n",
       " 'charlene.richmond@enron.com': 962,\n",
       " 'john.chambers@bisys.com': 3011,\n",
       " 'john.oliver@enron.com': 3051,\n",
       " 'david.patton@enron.com': 1456,\n",
       " 'lisa.druzbik@enron.com': 3785,\n",
       " 'tom.doukas@enron.com': 6248,\n",
       " 'rgloistein@orrick.com': 5171,\n",
       " 'james.saunders@enron.com': 2570,\n",
       " 'susan.carrera@enron.com': 5970,\n",
       " 'doug.imrie@enron.com': 1691,\n",
       " 'sherri.sera@enron.com': 5711,\n",
       " 'diane.bazelides@enron.com': 1592,\n",
       " 'preston.roobaert@enron.com': 5007,\n",
       " 'william.giuliani@enron.com': 6527,\n",
       " 'debbie.doyle@enron.com': 1522,\n",
       " 'monica.clay@enron.com': 4511,\n",
       " 'kimberlee.bennick@enron.com': 3480,\n",
       " 'mary.heinitz@enron.com': 4139,\n",
       " 'leonardo.pacheco@enron.com': 3704,\n",
       " 'list@fibtrader.com': 3810,\n",
       " 'brad.king@conoco.com': 693,\n",
       " 'yeomansw@niagaramohawk.com': 6569,\n",
       " 'mdidriksen@llgm.com': 4237,\n",
       " 'gloria.barkowsky@enron.com': 2247,\n",
       " '8777865122@skytel.com': 8,\n",
       " 'Benjamin.Rogers@enron.com': 14,\n",
       " 'gus.perez@enron.com': 2326,\n",
       " 'annette.schneider@enron.com': 389,\n",
       " 'jhawker@petersco.com': 2861,\n",
       " 'mary.solmonson@enron.com': 4153,\n",
       " 'lgibson@ogwb.com': 3733,\n",
       " 'mark.ellenberg@cwt.com': 4027,\n",
       " 'stephanie.mcginnis@enron.com': 5836,\n",
       " 'erin@fea.com': 1957,\n",
       " 'mnewman@reliant.com': 4493,\n",
       " 'christi.culwell@enron.com': 1068,\n",
       " 'mpierce446@aol.com': 4534,\n",
       " 'info@forexnews.com': 2472,\n",
       " 'marci.kelly@enron.com': 3954,\n",
       " 'slayerlin@hotmail.com': 5754,\n",
       " 'info@designzine.com': 2469,\n",
       " 'jorge.garcia@enron.com': 3115,\n",
       " 'Clint.Dean@enron.com': 22,\n",
       " 'kristian.lande@enron.com': 3546,\n",
       " 'lori.haney@enron.com': 3843,\n",
       " 'jnaughto@cwt.com': 2937,\n",
       " 'jason.sokolov@enron.com': 2649,\n",
       " 'stouchstone@natsource.com': 5930,\n",
       " 'blauderback@soes.com': 636,\n",
       " 'kit.blair@enron.com': 3508,\n",
       " 'jim.griffin@compaq.com': 2880,\n",
       " 'begreen@seiworldwide.com': 527,\n",
       " 'kent.morrison@enron.com': 3431,\n",
       " 'diane.anderson@enron.com': 1591,\n",
       " 'support@hotwire.com': 5961,\n",
       " 'todd.warwick@enron.com': 6237,\n",
       " 'patrick.maloy@enron.com': 4809,\n",
       " 'chayes@stc.com': 988,\n",
       " 'jared.kaiser@enron.com': 2631,\n",
       " 'george.wasaff@enron.com': 2198,\n",
       " 'tom.acton@enron.com': 6240,\n",
       " 'kate.fraser@enron.com': 3293,\n",
       " 'naveen.andrews@enron.com': 4610,\n",
       " 'david.gorte@enron.com': 1430,\n",
       " 'dawn.rodriguez@enron.com': 1492,\n",
       " 'william.fleenor@enron.com': 6524,\n",
       " 'jgoldblatt@agsk.com': 2854,\n",
       " 'robert.saltiel@enron.com': 5313,\n",
       " 'theresa.villeggiante@enron.com': 6149,\n",
       " 'cgribblego@hotmail.com': 947,\n",
       " 'eellwanger@triumphboats.com': 1804,\n",
       " 'jdeason@chbh.com': 2695,\n",
       " 'asettanni@bracepatt.com': 433,\n",
       " 'customerservice@betanything.com': 1269,\n",
       " 'michael.legler@enron.com': 4331,\n",
       " 'earline.kendall@enron.com': 1759,\n",
       " 'ayudkowsky@stroock.com': 463,\n",
       " 'fishkinc@hotmail.com': 2046,\n",
       " 'rick.johnson@enron.com': 5228,\n",
       " 'rick_krejci@kindermorgan.com': 5236,\n",
       " 'kristen.hanson@enron.com': 3540,\n",
       " 'andy@netconversions.com': 324,\n",
       " 'lisa.connolly@enron.com': 3781,\n",
       " 'veronicapiatigorsky@economist.com': 6393,\n",
       " 'luis.gonzales@enron.com': 3883,\n",
       " 'dana.davis@enron.com': 1341,\n",
       " 'rusty.stevens@enron.com': 5427,\n",
       " 'daltom@mglconsulting.com': 1316,\n",
       " 'rodolfo.freyre@enron.com': 5348,\n",
       " 'adesell@nyiso.com': 132,\n",
       " 'postmaster@uschamber.com': 4992,\n",
       " 'briant.baker@enron.com': 763,\n",
       " 'kathy.dodgen@enron.com': 3322,\n",
       " 'linda.stewart@powersrc.com': 3764,\n",
       " 'marykay.manning@enron.com': 4158,\n",
       " 'hasan.kedwaii@enron.com': 2356,\n",
       " 'dax.sanders@enron.com': 1493,\n",
       " 'johnposton@postonyoder.com': 3091,\n",
       " 'dan.masters@enron.com': 1331,\n",
       " 'postoffice@bluemountain.com': 4993,\n",
       " 'simone.rose@enron.com': 5745,\n",
       " 'bradmonovich@lockeliddell.com': 708,\n",
       " 'julie.sarnowski@enron.com': 3215,\n",
       " 'tamara.howarth@blakes.com': 6045,\n",
       " 'dmitchel@cwt.com': 1637,\n",
       " 'mike.riedel@enron.com': 4438,\n",
       " 'roy.hartstein@enron.com': 5389,\n",
       " 'delene.travella@funb.com': 1549,\n",
       " 'henry.safety@enron.com': 2390,\n",
       " 'chris.thrall@enron.com': 1050,\n",
       " 'earl.bouse@hansonamerica.com': 1755,\n",
       " 'kathryn.bussell@enron.com': 3313,\n",
       " 'abb@eslawfirm.com': 103,\n",
       " 'mvianna@tradespark.com': 4568,\n",
       " 'maria.tefel@enron.com': 3988,\n",
       " 'john.swinney@enron.com': 3072,\n",
       " 'legal.4@enron.com': 3699,\n",
       " 'brian.barto@enron.com': 741,\n",
       " 'zipper@enron.com': 6597,\n",
       " 'timothy.callahan@enron.com': 6198,\n",
       " 'jfine@kilstock.com': 2851,\n",
       " 'flack@copn.com': 2047,\n",
       " 'elvisthompson@aol.com': 1866,\n",
       " 'richard.hrabal@enron.com': 5202,\n",
       " 'claref@marcusevansch.com': 1122,\n",
       " 'dplflan@aol.com': 1709,\n",
       " 'syamane@marathon-com': 6027,\n",
       " 'urbanr@neosoft.com': 6351,\n",
       " 'customers@travelnow.com': 1266,\n",
       " 'pro@venturewire.com': 5012,\n",
       " 'dan.boyle@enron.com': 1318,\n",
       " 'kkennedy@cinergy.com': 3513,\n",
       " 'c.griffin@enron.com': 818,\n",
       " 'rgibbs@boldwaterlp.com': 5169,\n",
       " 'paul.garcia@enron.com': 4834,\n",
       " 'ivonne.brown@enron.com': 2509,\n",
       " 'michael.cazaubon@exeloncorp.com': 4308,\n",
       " 'justin.rostant@enron.com': 3226,\n",
       " 'elizabeth.labanowski@enron.com': 1841,\n",
       " 'hal.elrod@enron.com': 2335,\n",
       " 'dipak.agarwalla@enron.com': 1609,\n",
       " 'becky.pham@enron.com': 517,\n",
       " 'mpiekos@academicplanet.com': 4532,\n",
       " 'employee.services@enron.com': 1879,\n",
       " 'joyce.dorsey@enron.com': 3136,\n",
       " 'jhartmann@ercot.com': 2858,\n",
       " 'bobbi.tessandori@enron.com': 667,\n",
       " 'rosenthal@heaneyrosenthal.com': 5378,\n",
       " 'jeff.gilliam@enron.com': 2725,\n",
       " 'Don.Baughman@enron.com': 28,\n",
       " 'doug.sewell@enron.com': 1694,\n",
       " 'tammy.anderson@enron.com': 6050,\n",
       " 'peitulsa@aol.com': 4890,\n",
       " 'jilallen@deloitte.com': 2866,\n",
       " 'mihipolito@juno.com': 4406,\n",
       " 'pat.shortridge@enron.com': 4791,\n",
       " 'kimberly.shoaf@enron.com': 3493,\n",
       " 'tobin.carlson@enron.com': 6222,\n",
       " 'cfishkin@kpmg.com': 943,\n",
       " 'cristina.zavala@enron.com': 1244,\n",
       " 'waltm@wheatstoneinvestments.com': 6455,\n",
       " 'millicent.miller@piperrudnick.com': 4454,\n",
       " 'kevin.cline@enron.com': 3439,\n",
       " 'mark.crowther@enron.com': 4019,\n",
       " 'deborah.long@enron.com': 1534,\n",
       " 'rrich@bracepatt.com': 5396,\n",
       " 'patty.donahue@chase.com': 4819,\n",
       " 'rboyle@nyiso.com': 5107,\n",
       " 'houstonbroadwayseries@clearchannel.com': 2423,\n",
       " 'mcortez@govadv.com': 4231,\n",
       " 'georganne.hodges@enron.com': 2188,\n",
       " 'brian.redmond@enron.com': 753,\n",
       " 'kurt.anderson@enron.com': 3572,\n",
       " 'peggy.banczak@enron.com': 4885,\n",
       " 'thomas.martin@enron.com': 6164,\n",
       " 'awitness34@aol.com': 458,\n",
       " 'ashleastu@aol.com': 435,\n",
       " 'vicky.ha@enron.com': 6400,\n",
       " 'wsandberg3@attbi.com': 6557,\n",
       " 'hillis@enron.com': 2402,\n",
       " 'xi.xi@enron.com': 6562,\n",
       " 'rivest@gmpvt.com': 5252,\n",
       " 'gary.kenagy@enron.com': 2142,\n",
       " 'luiz.watanabe@enron.com': 3887,\n",
       " 'kevin.presto@enron.com': 3455,\n",
       " 'cdeleon@bracepatt.com': 925,\n",
       " 'doggettmark@hotmail.com': 1641,\n",
       " 'ann.brown@enron.com': 359,\n",
       " 'karen.buckley@enron.com': 3253,\n",
       " 'wade.cline@enron.com': 6444,\n",
       " 'jeffrey.gossett@enron.com': 2766,\n",
       " 'larry.bishop@enron.com': 3608,\n",
       " 'michklin@wincom': 4402,\n",
       " 'sylvia.hu@enron.com': 6030,\n",
       " 'cdalpho@columbiaenergygroup.com': 924,\n",
       " 'melissa.prihoda@enron.com': 4263,\n",
       " 'dhashaw@reliant.com': 1581,\n",
       " 'mbkuntz@aol.com': 4216,\n",
       " 'wchiume@nyiso.com': 6477,\n",
       " 'teresa.rascon@enron.com': 6107,\n",
       " '7409950@skytel.com': 6,\n",
       " 'bernice.rodriguez@enron.com': 550,\n",
       " 'marsha.shepherd@enron.com': 4099,\n",
       " 'charles200064@aol.com': 973,\n",
       " 'blazersfastbreak@ripcity.com': 637,\n",
       " 'iris.waser@enron.com': 2499,\n",
       " 'karen.moore@enron.com': 3266,\n",
       " 'kristina.mordaunt@enron.com': 3552,\n",
       " 'jay.godfrey@enron.com': 2662,\n",
       " 'emilio.vicens@enron.com': 1872,\n",
       " 'shirley.tijerina@enron.com': 5730,\n",
       " 'binh.pham@enron.com': 621,\n",
       " 'anthony.tran@enron.com': 400,\n",
       " 'dan.fancler@enron.com': 1325,\n",
       " 'kerry.stroup@enron.com': 3435,\n",
       " 'julie.cobb@enron.com': 3202,\n",
       " 'stoverron1@aol.com': 5931,\n",
       " 'ronald.matthews@enron.com': 5364,\n",
       " 'kathryn.thomas@enron.com': 3318,\n",
       " 'carrie.larkworthy@enron.com': 882,\n",
       " 'james.bouillion@enron.com': 2548,\n",
       " 'destey@tqcap.com': 1572,\n",
       " 'pkdaigle@neosoft.com': 4962,\n",
       " 'maria.mitchell@enron.com': 3981,\n",
       " 'clare.godson@allenovery.com': 1121,\n",
       " 'erica.garcia@enron.com': 1944,\n",
       " 'kss@overlandpartners.com': 3562,\n",
       " 'laura.giambrone@enron.com': 3627,\n",
       " 'laallen@aep.com': 3588,\n",
       " 'hill8314@aol.com': 2400,\n",
       " 'kim.ward@enron.com': 3477,\n",
       " 'vance.taylor@enron.com': 6372,\n",
       " 'david.rosenberg@enron.com': 1465,\n",
       " 'timothy.hamilton@enron.com': 6199,\n",
       " 'amanda.rybarski@enron.com': 236,\n",
       " 'john.griffith@enron.com': 3029,\n",
       " 'j.kaminski@enron.com': 2513,\n",
       " 'lizard_ar@yahoo.com': 3821,\n",
       " 'customercare@merckmedco.com': 1265,\n",
       " 'bgray@epelectric.com': 582,\n",
       " 'jean.mrha@enron.com': 2707,\n",
       " 'benjamin.souza@msdw.com': 545,\n",
       " 'john.sherriff@enron.com': 3062,\n",
       " 'aforbess@wcenviro.com': 149,\n",
       " 'questions@dillards.com': 5035,\n",
       " 'eva.rainer@enron.com': 1995,\n",
       " 'lauragammell@hotmail.com': 3645,\n",
       " 'arshak.sarkissian@enron.com': 425,\n",
       " 'promotions@usairways.com': 5016,\n",
       " 'william_f_henze@jonesday.com': 6536,\n",
       " 'andy.rodriquez@enron.com': 319,\n",
       " 'drew.ries@enron.com': 1712,\n",
       " 'CRAWFNE@kellyservices.com': 19,\n",
       " 'tstockbridge@velaw.com': 6330,\n",
       " 'franky.sulistio@enron.com': 2089,\n",
       " 'brent.spiller@enron.com': 731,\n",
       " 'james.steffes@enron.com': 2573,\n",
       " 'zaeza@unplace.com': 6586,\n",
       " 'randel.dalgleish@enron.com': 5077,\n",
       " 'wes.kida@williams.com': 6506,\n",
       " 'bgozz@yahoo.com': 580,\n",
       " 'evening@ino.com': 2001,\n",
       " 'John.Malowney@enron.com': 47,\n",
       " 'robert.hill@enron.com': 5301,\n",
       " 'jscheib@rc.com': 3156,\n",
       " 'contest@sportingbetusa.com': 1192,\n",
       " 'john.dunn@enform.com': 3015,\n",
       " 'elise.clark@enron.com': 1832,\n",
       " 'kyle.kitagawa@enron.com': 3580,\n",
       " 'jessie.patterson@enron.com': 2841,\n",
       " 'ktruscitti@hotmail.com': 3569,\n",
       " 'becky.spencer@enron.com': 519,\n",
       " 'mainesa@natfuel.com': 3927,\n",
       " 'lisa.csikos@enron.com': 3784,\n",
       " 'dan.leff@enron.com': 1329,\n",
       " 'mac.mcclelland@enron.com': 3906,\n",
       " 'sitara@enron.com': 5746,\n",
       " 'timothy.bayles@enron.com': 6196,\n",
       " 'mary.hannusch@enron.com': 4138,\n",
       " 'schernick@bear.com': 5545,\n",
       " 'cindy.long@enron.com': 1105,\n",
       " 'cheryl.costa@enron.com': 990,\n",
       " 'marketwire@dtn.com': 4090,\n",
       " 'esproull@aol.com': 1974,\n",
       " 'afontenot@bracepatt.com': 148,\n",
       " 'mlpdgrace@yahoo.com': 4482,\n",
       " 'vincent.tang@enron.com': 6419,\n",
       " 'kdonohoo@ercot.com': 3369,\n",
       " 'brent.price@enron.com': 730,\n",
       " 'purvi.patel@enron.com': 5025,\n",
       " 'susan.hadix@elpaso.com': 5976,\n",
       " 'lydia.delgado@enron.com': 3892,\n",
       " 'dsweetser@llspc.com': 1731,\n",
       " 'daniel.brown@enron.com': 1348,\n",
       " 'david.woodstrom@enron.com': 1475,\n",
       " '1800flowers@shop2u.com': 0,\n",
       " 'jmpa@dynegy.com': 2934,\n",
       " 'ramona.betancourt@enron.com': 5069,\n",
       " 'glenn.leslie@blakes.com': 2244,\n",
       " 'dorie.hitchcock@enron.com': 1680,\n",
       " 'shelby.malkemes@enron.com': 5696,\n",
       " 'thanks@amazon.com': 6139,\n",
       " 'seabron.adamson@frontiereconomics.com': 5601,\n",
       " 'brendan.devlin@enron.com': 726,\n",
       " 'tom.victorio@enron.com': 6260,\n",
       " 'steve.thomas@enron.com': 5897,\n",
       " 'jtatum@genescosports.com': 3167,\n",
       " 'patricia.cini@enron.com': 4793,\n",
       " 'reagan.mathews@enron.com': 5118,\n",
       " 'lauren@prescottlegal.com': 3652,\n",
       " 'esaver@usairways.com': 1965,\n",
       " 'kdautenh@lehman.com': 3364,\n",
       " 'scasey@tfsbrokers.com': 5541,\n",
       " 'steven.ehrig@enron.com': 5907,\n",
       " 'elizabeth.brown@enron.com': 1834,\n",
       " 'erica.mestre@enron.com': 1947,\n",
       " 'eoria@nebar.com': 1911,\n",
       " 'david.draper@enron.com': 1420,\n",
       " 'muaa@mizzou.com': 4558,\n",
       " 'janet@dtahou.com': 2616,\n",
       " 'kulvinder.fowler@enron.com': 3571,\n",
       " 'nbartlo@columbiaenergygroup.com': 4614,\n",
       " 'kareng@accessrelocation.com': 3274,\n",
       " 'nicole.scott@enron.com': 4675,\n",
       " 'john.coyle@enron.com': 3013,\n",
       " 'kscully@hushmail.com': 3558,\n",
       " 'zionette.vincent@enron.com': 6596,\n",
       " 'vanessa.groscrand@enron.com': 6376,\n",
       " 'ccerria@hess.com': 919,\n",
       " 'kevin.mcgowan@enron.com': 3450,\n",
       " 'thu.nguyen@enron.com': 6176,\n",
       " 'sryerson@nui.com': 5795,\n",
       " 'teresa.smith@enron.com': 6108,\n",
       " 'denis.tu@enron.com': 1552,\n",
       " 'glenda.wagner@enron.com': 2243,\n",
       " 'jim.coffey@enron.com': 2875,\n",
       " 'futureprospects@aol.com': 2102,\n",
       " 'customer_service@footlocker.com': 1263,\n",
       " 'catsag@aol.com': 908,\n",
       " 'monica.richards@enron.com': 4515,\n",
       " 'mdunn1@milbank.com': 4238,\n",
       " 'sherry@radack.com': 5716,\n",
       " 'grant.zimmerman@enron.com': 2270,\n",
       " 'fernley.dyson@enron.com': 2037,\n",
       " 'julie.kearney@enron.com': 3210,\n",
       " 'Bmspeckman@aol.com': 18,\n",
       " 'kfiglioli@novocorp.com': 3460,\n",
       " 'jenny.helton@enron.com': 2811,\n",
       " 'sarah.wesner@enron.com': 5519,\n",
       " 'susan.bailey@enron.com': 5968,\n",
       " 'tdickers@westerngas.com': 6082,\n",
       " 'harris_jennifer_r@lilly.com': 2345,\n",
       " 'hartz@zapmedia.com': 2354,\n",
       " 'jay.fitzgerald@enron.com': 2661,\n",
       " 'ingrid.immer@williams.com': 2481,\n",
       " 'marketing@firstdownsports.com': 4084,\n",
       " 'mark.mixon@enron.com': 4058,\n",
       " 'bob.ward@enron.com': 663,\n",
       " 'trey.hardy@enron.com': 6314,\n",
       " 'greg.johnston@enron.com': 2282,\n",
       " 'phototalk@shopwolfcamera.com': 4949,\n",
       " 'martin.cuilla@enron.com': 4109,\n",
       " 'kay.threet@enron.com': 3347,\n",
       " 'naomi.bourg@enron.com': 4599,\n",
       " 'sara.davidson@enron.com': 5508,\n",
       " 'derek.wilson@enron.com': 1569,\n",
       " 'sbramlet@utilicorp.com': 5535,\n",
       " 'dyomogida@hesinet.com': 1749,\n",
       " 'lsutaylor@hotmail.com': 3874,\n",
       " 'Frthis@aol.com': 36,\n",
       " 'kay.miller@enron.com': 3345,\n",
       " 'kevin.hyatt@enron.com': 3445,\n",
       " 'michele.raque@enron.com': 4376,\n",
       " 'tim.cooper@enron.com': 6183,\n",
       " 'jerry.wilkens@enron.com': 2827,\n",
       " 'clarissa.garcia@enron.com': 1123,\n",
       " 'greg_hathaway@dom.com': 2297,\n",
       " 'david.vitrella@enron.com': 1472,\n",
       " 'kathleen.magruder@enron.com': 3310,\n",
       " 'jason.jennaro@enron.com': 2639,\n",
       " 'morela.hernandez@enron.com': 4521,\n",
       " 'paul.miller@enron.com': 4846,\n",
       " 'bill.berkeland@enron.com': 592,\n",
       " 'bwallace@zahrsecurities.com': 812,\n",
       " 'mary.clark@enron.com': 4125,\n",
       " 'jls@fullenweider.com': 2923,\n",
       " 'tyrell.harrison@enron.com': 6346,\n",
       " 'jim.goughary@enron.com': 2879,\n",
       " 'kaseywalker@mindspring.com': 3288,\n",
       " 'lawrencelawyer@aol.com': 3664,\n",
       " 'clem.cernosek@enron.com': 1137,\n",
       " 'wayne.perry@enron.com': 6469,\n",
       " 'nancy.morales@enron.com': 4595,\n",
       " 'jean.blair@enron.com': 2705,\n",
       " 'paul.quilkey@enron.com': 4851,\n",
       " 'etterk@valero.com': 1988,\n",
       " 'magee@enron.com': 3912,\n",
       " 'lukee@infocastinc.com': 3888,\n",
       " 'kevin.kindall@enron.com': 3448,\n",
       " 'dora.trevino@enron.com': 1679,\n",
       " 'eserver@enron.com': 1967,\n",
       " 'ram7@pge.com': 5065,\n",
       " 'kevin.radous@enron.com': 3456,\n",
       " 'gelliott@industrialinfo.com': 2174,\n",
       " 'matthew.dawson@enron.com': 4184,\n",
       " 'mpieniazek@nyiso.com': 4533,\n",
       " 'vivian.nguyen@enron.com': 6428,\n",
       " 'michele.word@enron.com': 4379,\n",
       " 'ken.lewchuk@enron.com': 3403,\n",
       " 'ross.mesquita@enron.com': 5382,\n",
       " 'brad.kirchhofer@enron.com': 694,\n",
       " 'postmaster@lawseminars.com': 4986,\n",
       " 'francisco.leite@enron.com': 2070,\n",
       " 'sharon.butcher@enron.com': 5661,\n",
       " 'quelnunes@hotmail.com': 5034,\n",
       " 'Mark.Guzman@enron.com': 60,\n",
       " 'elsa.piekielniak@enron.com': 1863,\n",
       " 'billie.akhave@enron.com': 614,\n",
       " 'bryan.seyfried@enron.com': 790,\n",
       " 'mark.holsworth@enron.com': 4046,\n",
       " 'marketing@welcom': 4086,\n",
       " 'wade.price@enron.com': 6445,\n",
       " 'julie.braly@enron.com': 3199,\n",
       " 'gracie.presas@enron.com': 2266,\n",
       " 'rkampmann@aol.com': 5254,\n",
       " 'jacqueline.richard@enron.com': 2533,\n",
       " 'stacey.burnett@enron.com': 5802,\n",
       " 'veronica.espinoza@enron.com': 6387,\n",
       " 'jsavitt@nyiso.com': 3155,\n",
       " 'Sheila.Tweed@enron.com': 79,\n",
       " 'robert.vote@enron.com': 5317,\n",
       " 'charles.alvarez@enron.com': 963,\n",
       " 'jshneer@interlog.com': 3158,\n",
       " 'amy.siedenburg@gs.com': 275,\n",
       " 'carol.clair@enron.com': 858,\n",
       " 'christa@crossborderenergy.com': 1067,\n",
       " 'wpboswel@mwbb.com': 6556,\n",
       " 'debra.bailey@enron.com': 1537,\n",
       " 'liz.taylor@enron.com': 3819,\n",
       " 'info@hoopitup.com': 2474,\n",
       " 'aduncan@kilstock.com': 142,\n",
       " 'exclusive_ofers@sportsline.com': 2010,\n",
       " 'avril.forster@enron.com': 451,\n",
       " 'jwnolan0216@yahoo.com': 3238,\n",
       " 'tmartin@nymex.com': 6218,\n",
       " 'martha@scottpaul.com': 4106,\n",
       " 'travel@expedia.com': 6303,\n",
       " 'mark.knippa@enron.com': 4049,\n",
       " 'system.administrator@enron.com': 6035,\n",
       " 'chip.schneider@enron.com': 1010,\n",
       " 'mary.ruffer@enron.com': 4150,\n",
       " 'jan.king@enron.com': 2588,\n",
       " 'kim.nguyen@enron.com': 3473,\n",
       " 'swilliams@iconconsultants.com': 6024,\n",
       " 'alex@pira.com': 196,\n",
       " 'jacqueline.coleman@enron.com': 2530,\n",
       " ...}"
      ]
     },
     "execution_count": 35,
     "metadata": {},
     "output_type": "execute_result"
    }
   ],
   "source": [
    "ids"
   ]
  },
  {
   "cell_type": "code",
   "execution_count": null,
   "metadata": {
    "collapsed": true
   },
   "outputs": [],
   "source": []
  }
 ],
 "metadata": {
  "kernelspec": {
   "display_name": "Python 2",
   "language": "python",
   "name": "python2"
  },
  "language_info": {
   "codemirror_mode": {
    "name": "ipython",
    "version": 2
   },
   "file_extension": ".py",
   "mimetype": "text/x-python",
   "name": "python",
   "nbconvert_exporter": "python",
   "pygments_lexer": "ipython2",
   "version": "2.7.15rc1"
  }
 },
 "nbformat": 4,
 "nbformat_minor": 1
}
